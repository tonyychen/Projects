{
 "cells": [
  {
   "cell_type": "markdown",
   "metadata": {},
   "source": [
    "### In this project, we would use breast cancer wisconsin dataset from Scikit-Learn to demostrate/review the basic workflows on Data Analysis. Examples steps include understanding and cleaning the data, training and evaluating the data, tuning performance, etc."
   ]
  },
  {
   "cell_type": "markdown",
   "metadata": {},
   "source": [
    "#### First, we would like to import the data"
   ]
  },
  {
   "cell_type": "code",
   "execution_count": 1,
   "metadata": {},
   "outputs": [],
   "source": [
    "from sklearn.datasets import load_breast_cancer\n",
    "import numpy as np\n",
    "import pandas as pd"
   ]
  },
  {
   "cell_type": "code",
   "execution_count": 2,
   "metadata": {},
   "outputs": [],
   "source": [
    "breat_cancer = load_breast_cancer()"
   ]
  },
  {
   "cell_type": "code",
   "execution_count": 3,
   "metadata": {},
   "outputs": [
    {
     "name": "stdout",
     "output_type": "stream",
     "text": [
      "The breat cancer dataset includes the following elements: dict_keys(['data', 'target', 'target_names', 'DESCR', 'feature_names', 'filename'])\n"
     ]
    }
   ],
   "source": [
    "print(f'The breat cancer dataset includes the following elements: {breat_cancer.keys()}')"
   ]
  },
  {
   "cell_type": "markdown",
   "metadata": {},
   "source": [
    "#### Let's further explore by selecting some data samples from each element"
   ]
  },
  {
   "cell_type": "code",
   "execution_count": 4,
   "metadata": {},
   "outputs": [
    {
     "data": {
      "text/plain": [
       "array([1.799e+01, 1.038e+01, 1.228e+02, 1.001e+03, 1.184e-01, 2.776e-01,\n",
       "       3.001e-01, 1.471e-01, 2.419e-01, 7.871e-02, 1.095e+00, 9.053e-01,\n",
       "       8.589e+00, 1.534e+02, 6.399e-03, 4.904e-02, 5.373e-02, 1.587e-02,\n",
       "       3.003e-02, 6.193e-03, 2.538e+01, 1.733e+01, 1.846e+02, 2.019e+03,\n",
       "       1.622e-01, 6.656e-01, 7.119e-01, 2.654e-01, 4.601e-01, 1.189e-01])"
      ]
     },
     "execution_count": 4,
     "metadata": {},
     "output_type": "execute_result"
    }
   ],
   "source": [
    "breat_cancer['data'][0] #all numeric"
   ]
  },
  {
   "cell_type": "code",
   "execution_count": 5,
   "metadata": {},
   "outputs": [
    {
     "data": {
      "text/plain": [
       "array([0, 1])"
      ]
     },
     "execution_count": 5,
     "metadata": {},
     "output_type": "execute_result"
    }
   ],
   "source": [
    "np.unique(breat_cancer['target']) #We have two classes, what those classes represents?"
   ]
  },
  {
   "cell_type": "code",
   "execution_count": 6,
   "metadata": {},
   "outputs": [
    {
     "data": {
      "text/plain": [
       "array(['malignant', 'benign'], dtype='<U9')"
      ]
     },
     "execution_count": 6,
     "metadata": {},
     "output_type": "execute_result"
    }
   ],
   "source": [
    "breat_cancer['target_names'] #We still do not know if 0 means malignant or benign..."
   ]
  },
  {
   "cell_type": "markdown",
   "metadata": {},
   "source": [
    "#### To find out what do 0, 1 represent in the target, we would try the following"
   ]
  },
  {
   "cell_type": "code",
   "execution_count": 7,
   "metadata": {},
   "outputs": [
    {
     "name": "stdout",
     "output_type": "stream",
     "text": [
      ".. _breast_cancer_dataset:\n",
      "\n",
      "Breast cancer wisconsin (diagnostic) dataset\n",
      "--------------------------------------------\n",
      "\n",
      "**Data Set Characteristics:**\n",
      "\n",
      "    :Number of Instances: 569\n",
      "\n",
      "    :Number of Attributes: 30 numeric, predictive attributes and the class\n",
      "\n",
      "    :Attribute Information:\n",
      "        - radius (mean of distances from center to points on the perimeter)\n",
      "        - texture (standard deviation of gray-scale values)\n",
      "        - perimeter\n",
      "        - area\n",
      "        - smoothness (local variation in radius lengths)\n",
      "        - compactness (perimeter^2 / area - 1.0)\n",
      "        - concavity (severity of concave portions of the contour)\n",
      "        - concave points (number of concave portions of the contour)\n",
      "        - symmetry \n",
      "        - fractal dimension (\"coastline approximation\" - 1)\n",
      "\n",
      "        The mean, standard error, and \"worst\" or largest (mean of the three\n",
      "        largest values) of these features were computed for each image,\n",
      "        resulting in 30 features.  For instance, field 3 is Mean Radius, field\n",
      "        13 is Radius SE, field 23 is Worst Radius.\n",
      "\n",
      "        - class:\n",
      "                - WDBC-Malignant\n",
      "                - WDBC-Benign\n",
      "\n",
      "    :Summary Statistics:\n",
      "\n",
      "    ===================================== ====== ======\n",
      "                                           Min    Max\n",
      "    ===================================== ====== ======\n",
      "    radius (mean):                        6.981  28.11\n",
      "    texture (mean):                       9.71   39.28\n",
      "    perimeter (mean):                     43.79  188.5\n",
      "    area (mean):                          143.5  2501.0\n",
      "    smoothness (mean):                    0.053  0.163\n",
      "    compactness (mean):                   0.019  0.345\n",
      "    concavity (mean):                     0.0    0.427\n",
      "    concave points (mean):                0.0    0.201\n",
      "    symmetry (mean):                      0.106  0.304\n",
      "    fractal dimension (mean):             0.05   0.097\n",
      "    radius (standard error):              0.112  2.873\n",
      "    texture (standard error):             0.36   4.885\n",
      "    perimeter (standard error):           0.757  21.98\n",
      "    area (standard error):                6.802  542.2\n",
      "    smoothness (standard error):          0.002  0.031\n",
      "    compactness (standard error):         0.002  0.135\n",
      "    concavity (standard error):           0.0    0.396\n",
      "    concave points (standard error):      0.0    0.053\n",
      "    symmetry (standard error):            0.008  0.079\n",
      "    fractal dimension (standard error):   0.001  0.03\n",
      "    radius (worst):                       7.93   36.04\n",
      "    texture (worst):                      12.02  49.54\n",
      "    perimeter (worst):                    50.41  251.2\n",
      "    area (worst):                         185.2  4254.0\n",
      "    smoothness (worst):                   0.071  0.223\n",
      "    compactness (worst):                  0.027  1.058\n",
      "    concavity (worst):                    0.0    1.252\n",
      "    concave points (worst):               0.0    0.291\n",
      "    symmetry (worst):                     0.156  0.664\n",
      "    fractal dimension (worst):            0.055  0.208\n",
      "    ===================================== ====== ======\n",
      "\n",
      "    :Missing Attribute Values: None\n",
      "\n",
      "    :Class Distribution: 212 - Malignant, 357 - Benign\n",
      "\n",
      "    :Creator:  Dr. William H. Wolberg, W. Nick Street, Olvi L. Mangasarian\n",
      "\n",
      "    :Donor: Nick Street\n",
      "\n",
      "    :Date: November, 1995\n",
      "\n",
      "This is a copy of UCI ML Breast Cancer Wisconsin (Diagnostic) datasets.\n",
      "https://goo.gl/U2Uwz2\n",
      "\n",
      "Features are computed from a digitized image of a fine needle\n",
      "aspirate (FNA) of a breast mass.  They describe\n",
      "characteristics of the cell nuclei present in the image.\n",
      "\n",
      "Separating plane described above was obtained using\n",
      "Multisurface Method-Tree (MSM-T) [K. P. Bennett, \"Decision Tree\n",
      "Construction Via Linear Programming.\" Proceedings of the 4th\n",
      "Midwest Artificial Intelligence and Cognitive Science Society,\n",
      "pp. 97-101, 1992], a classification method which uses linear\n",
      "programming to construct a decision tree.  Relevant features\n",
      "were selected using an exhaustive search in the space of 1-4\n",
      "features and 1-3 separating planes.\n",
      "\n",
      "The actual linear program used to obtain the separating plane\n",
      "in the 3-dimensional space is that described in:\n",
      "[K. P. Bennett and O. L. Mangasarian: \"Robust Linear\n",
      "Programming Discrimination of Two Linearly Inseparable Sets\",\n",
      "Optimization Methods and Software 1, 1992, 23-34].\n",
      "\n",
      "This database is also available through the UW CS ftp server:\n",
      "\n",
      "ftp ftp.cs.wisc.edu\n",
      "cd math-prog/cpo-dataset/machine-learn/WDBC/\n",
      "\n",
      ".. topic:: References\n",
      "\n",
      "   - W.N. Street, W.H. Wolberg and O.L. Mangasarian. Nuclear feature extraction \n",
      "     for breast tumor diagnosis. IS&T/SPIE 1993 International Symposium on \n",
      "     Electronic Imaging: Science and Technology, volume 1905, pages 861-870,\n",
      "     San Jose, CA, 1993.\n",
      "   - O.L. Mangasarian, W.N. Street and W.H. Wolberg. Breast cancer diagnosis and \n",
      "     prognosis via linear programming. Operations Research, 43(4), pages 570-577, \n",
      "     July-August 1995.\n",
      "   - W.H. Wolberg, W.N. Street, and O.L. Mangasarian. Machine learning techniques\n",
      "     to diagnose breast cancer from fine-needle aspirates. Cancer Letters 77 (1994) \n",
      "     163-171.\n"
     ]
    }
   ],
   "source": [
    "print(breat_cancer['DESCR']) \n",
    "#From the description, we come to know that Class Distribution: 212 - Malignant, 357 - Benign"
   ]
  },
  {
   "cell_type": "code",
   "execution_count": 8,
   "metadata": {},
   "outputs": [
    {
     "data": {
      "text/plain": [
       "{0: 212, 1: 357}"
      ]
     },
     "execution_count": 8,
     "metadata": {},
     "output_type": "execute_result"
    }
   ],
   "source": [
    "#If we try to get the value counts:\n",
    "cl, cl_counts = np.unique(breat_cancer['target'], return_counts = True)\n",
    "dict(zip(cl, cl_counts))"
   ]
  },
  {
   "cell_type": "markdown",
   "metadata": {},
   "source": [
    "#### So we come into a conclusion that 0 means malignant, 1 means benign. This is countrary to our(or my) common belief that 1 means malignant"
   ]
  },
  {
   "cell_type": "markdown",
   "metadata": {},
   "source": [
    "#### Lastly, let's look at feature names"
   ]
  },
  {
   "cell_type": "code",
   "execution_count": 9,
   "metadata": {},
   "outputs": [
    {
     "data": {
      "text/plain": [
       "array(['mean radius', 'mean texture', 'mean perimeter', 'mean area',\n",
       "       'mean smoothness', 'mean compactness', 'mean concavity',\n",
       "       'mean concave points', 'mean symmetry', 'mean fractal dimension',\n",
       "       'radius error', 'texture error', 'perimeter error', 'area error',\n",
       "       'smoothness error', 'compactness error', 'concavity error',\n",
       "       'concave points error', 'symmetry error',\n",
       "       'fractal dimension error', 'worst radius', 'worst texture',\n",
       "       'worst perimeter', 'worst area', 'worst smoothness',\n",
       "       'worst compactness', 'worst concavity', 'worst concave points',\n",
       "       'worst symmetry', 'worst fractal dimension'], dtype='<U23')"
      ]
     },
     "execution_count": 9,
     "metadata": {},
     "output_type": "execute_result"
    }
   ],
   "source": [
    "breat_cancer['feature_names']"
   ]
  },
  {
   "cell_type": "markdown",
   "metadata": {},
   "source": [
    "#### Feature names are useful for interpreting the results. However, since we are focusing on making best predictions in this project, we would not use feature_names. So the part of understanding the data is complete"
   ]
  },
  {
   "cell_type": "markdown",
   "metadata": {},
   "source": [
    "---------------------------------------------------------"
   ]
  },
  {
   "cell_type": "markdown",
   "metadata": {},
   "source": [
    "#### Next we would check if the data is complete by checking for NA values, first, we would assign the data to X and y"
   ]
  },
  {
   "cell_type": "code",
   "execution_count": 10,
   "metadata": {},
   "outputs": [],
   "source": [
    "X = breat_cancer['data']\n",
    "y = breat_cancer['target']"
   ]
  },
  {
   "cell_type": "code",
   "execution_count": 11,
   "metadata": {},
   "outputs": [
    {
     "name": "stdout",
     "output_type": "stream",
     "text": [
      "X contains NA values: False\n",
      "y contains NA values: False\n"
     ]
    }
   ],
   "source": [
    "#Check for NA values\n",
    "print(f'X contains NA values: {np.isnan(X).any()}')\n",
    "print(f'y contains NA values: {np.isnan(y).any()}')"
   ]
  },
  {
   "cell_type": "markdown",
   "metadata": {},
   "source": [
    "#### Great, we do not have any NA values, we would move on to the next step"
   ]
  },
  {
   "cell_type": "markdown",
   "metadata": {},
   "source": [
    "---------------"
   ]
  },
  {
   "cell_type": "markdown",
   "metadata": {},
   "source": [
    "#### Next, we would try to select a model to predict whether the breast cancer is malignant or benign. We would start from Support Vector Machines (SVM), since it generally has good performance and there are some hyper-parameters we could tune for demonstration"
   ]
  },
  {
   "cell_type": "code",
   "execution_count": 12,
   "metadata": {},
   "outputs": [],
   "source": [
    "from sklearn.svm import SVC"
   ]
  },
  {
   "cell_type": "markdown",
   "metadata": {},
   "source": [
    "#### Start by spliting the data into Training and Testing sets"
   ]
  },
  {
   "cell_type": "code",
   "execution_count": 13,
   "metadata": {},
   "outputs": [],
   "source": [
    "from sklearn.model_selection import train_test_split\n",
    "X_train, X_test, y_train, y_test = \\\n",
    "    train_test_split(X, y, test_size = 0.1, random_state = 1, stratify = y)"
   ]
  },
  {
   "cell_type": "markdown",
   "metadata": {},
   "source": [
    "#### We stratify by y so that we have the same class proportions in train, test as well as the full sets"
   ]
  },
  {
   "cell_type": "markdown",
   "metadata": {},
   "source": [
    "#### Next we would standardize our data to make sure SVM works properly"
   ]
  },
  {
   "cell_type": "code",
   "execution_count": 14,
   "metadata": {},
   "outputs": [],
   "source": [
    "from sklearn.preprocessing import StandardScaler\n",
    "scaler = StandardScaler()\n",
    "X_train_std = scaler.fit_transform(X_train)\n",
    "X_test_std = scaler.transform(X_test)"
   ]
  },
  {
   "cell_type": "markdown",
   "metadata": {},
   "source": [
    "#### Combining above and SVM model, we can actually make a pipeline for ease of use"
   ]
  },
  {
   "cell_type": "code",
   "execution_count": 15,
   "metadata": {},
   "outputs": [],
   "source": [
    "from sklearn.pipeline import make_pipeline\n",
    "pipe_svm = make_pipeline(StandardScaler(), SVC(kernel = 'linear', probability = True, random_state = 1))"
   ]
  },
  {
   "cell_type": "markdown",
   "metadata": {},
   "source": [
    "#### Next, we would actually further divide the training set into a sub_training and cross_validation set, because we would like to hold out the test set for final testing"
   ]
  },
  {
   "cell_type": "code",
   "execution_count": 16,
   "metadata": {
    "scrolled": true
   },
   "outputs": [],
   "source": [
    "X_train_sub, X_cv, y_train_sub, y_cv = train_test_split(X_train, y_train, test_size = 0.2, random_state = 1, stratify = y_train)"
   ]
  },
  {
   "cell_type": "markdown",
   "metadata": {},
   "source": [
    "#### So we are ready to move on and fit the pipeline once and evaluate the result"
   ]
  },
  {
   "cell_type": "code",
   "execution_count": 17,
   "metadata": {},
   "outputs": [],
   "source": [
    "pipe_svm.fit(X_train_sub, y_train_sub)\n",
    "pred_cv = pipe_svm.predict(X_cv)\n",
    "predprob_cv = pipe_svm.predict_proba(X_cv)"
   ]
  },
  {
   "cell_type": "code",
   "execution_count": 18,
   "metadata": {},
   "outputs": [
    {
     "data": {
      "text/html": [
       "<div>\n",
       "<style scoped>\n",
       "    .dataframe tbody tr th:only-of-type {\n",
       "        vertical-align: middle;\n",
       "    }\n",
       "\n",
       "    .dataframe tbody tr th {\n",
       "        vertical-align: top;\n",
       "    }\n",
       "\n",
       "    .dataframe thead th {\n",
       "        text-align: right;\n",
       "    }\n",
       "</style>\n",
       "<table border=\"1\" class=\"dataframe\">\n",
       "  <thead>\n",
       "    <tr style=\"text-align: right;\">\n",
       "      <th>y_pred</th>\n",
       "      <th>0</th>\n",
       "      <th>1</th>\n",
       "    </tr>\n",
       "    <tr>\n",
       "      <th>y_actual</th>\n",
       "      <th></th>\n",
       "      <th></th>\n",
       "    </tr>\n",
       "  </thead>\n",
       "  <tbody>\n",
       "    <tr>\n",
       "      <td>0</td>\n",
       "      <td>36</td>\n",
       "      <td>2</td>\n",
       "    </tr>\n",
       "    <tr>\n",
       "      <td>1</td>\n",
       "      <td>2</td>\n",
       "      <td>63</td>\n",
       "    </tr>\n",
       "  </tbody>\n",
       "</table>\n",
       "</div>"
      ],
      "text/plain": [
       "y_pred     0   1\n",
       "y_actual        \n",
       "0         36   2\n",
       "1          2  63"
      ]
     },
     "execution_count": 18,
     "metadata": {},
     "output_type": "execute_result"
    }
   ],
   "source": [
    "y_pred = pd.Series(pred_cv, name = 'y_pred').reset_index(drop = True)\n",
    "y_actual = pd.Series(y_cv, name = 'y_actual').reset_index(drop = True)\n",
    "pd.crosstab(y_actual, y_pred)"
   ]
  },
  {
   "cell_type": "markdown",
   "metadata": {},
   "source": [
    "#### It seems the result is already pretty good by looking at the number of TP and TN"
   ]
  },
  {
   "cell_type": "markdown",
   "metadata": {},
   "source": [
    "#### For evaluation metrics, we would use f1 score and recall - f1 score is useful when we have unbalanced classes and recall is used to evaluate that out of all people who have breast cancer, how many we accurately captured."
   ]
  },
  {
   "cell_type": "code",
   "execution_count": 19,
   "metadata": {},
   "outputs": [
    {
     "name": "stdout",
     "output_type": "stream",
     "text": [
      "the f1 score is 0.9473684210526315\n",
      "the recall score is 0.9473684210526315\n"
     ]
    }
   ],
   "source": [
    "from sklearn.metrics import f1_score, recall_score\n",
    "print(f'the f1 score is {f1_score(y_cv, pred_cv, pos_label = 0)}')\n",
    "print(f'the recall score is {recall_score(y_cv, pred_cv, pos_label = 0)}')"
   ]
  },
  {
   "cell_type": "markdown",
   "metadata": {},
   "source": [
    "#### Another evaluation method is the ROC curve, ROC curve plot the FPR vs TPR while changing cutoff measures"
   ]
  },
  {
   "cell_type": "code",
   "execution_count": 20,
   "metadata": {},
   "outputs": [
    {
     "data": {
      "text/plain": [
       "<Figure size 640x480 with 1 Axes>"
      ]
     },
     "metadata": {},
     "output_type": "display_data"
    }
   ],
   "source": [
    "from sklearn.metrics import roc_curve, auc\n",
    "import matplotlib.pyplot as plt\n",
    "fpr, tpr, thresholds = roc_curve(y_cv, predprob_cv[:, 0], pos_label = 0)\n",
    "plt.plot(fpr, tpr, c = 'red', lw = 2, label = f'Area under curve: {round(auc(fpr, tpr), 3)}')\n",
    "plt.plot([0, 1], [0, 1], ls = '--', label = 'Random Guessing')\n",
    "plt.plot([0, 0, 1], [0, 1, 1], ls = '-.', c = 'green', label = 'Perfect Situation')\n",
    "plt.xlabel('False Positive Rate')\n",
    "plt.ylabel('True Positive Rate')\n",
    "plt.title('ROC Curve')\n",
    "plt.legend()\n",
    "plt.show()"
   ]
  },
  {
   "cell_type": "markdown",
   "metadata": {},
   "source": [
    "#### Now if we would like to continue to improve the metrics such as the f1 score, it would be useful to plot a learning_curve to see if the model has bias or variance problem"
   ]
  },
  {
   "cell_type": "code",
   "execution_count": 21,
   "metadata": {},
   "outputs": [],
   "source": [
    "from sklearn.model_selection import learning_curve\n",
    "from sklearn.metrics import make_scorer\n",
    "f1_scorer = make_scorer(score_func = f1_score, pos_label = 0)\n",
    "train_sizes, train_scores, cv_scores = learning_curve(pipe_svm, X_train, y_train, train_sizes = np.linspace(0.2, 1, 5), cv = 10, scoring = f1_scorer, n_jobs = -1, random_state = 1)"
   ]
  },
  {
   "cell_type": "code",
   "execution_count": 22,
   "metadata": {},
   "outputs": [],
   "source": [
    "train_scores_mean = np.mean(train_scores, axis = 1)\n",
    "train_scores_std = np.std(train_scores, axis = 1)\n",
    "cv_scores_mean = np.mean(cv_scores, axis = 1)\n",
    "cv_scores_std = np.std(cv_scores, axis = 1)"
   ]
  },
  {
   "cell_type": "code",
   "execution_count": 23,
   "metadata": {},
   "outputs": [
    {
     "data": {
      "text/plain": [
       "<matplotlib.legend.Legend at 0x20fecddf9c8>"
      ]
     },
     "execution_count": 23,
     "metadata": {},
     "output_type": "execute_result"
    },
    {
     "data": {
      "image/png": "[encoded data removed]",
      "text/plain": [
       "<Figure size 720x432 with 1 Axes>"
      ]
     },
     "metadata": {
      "needs_background": "light"
     },
     "output_type": "display_data"
    }
   ],
   "source": [
    "fig, axes = plt.subplots(figsize = (10, 6))\n",
    "axes.fill_between(train_sizes, train_scores_mean + train_scores_std, train_scores_mean - train_scores_std, alpha = 0.1, color = 'r')\n",
    "axes.fill_between(train_sizes, cv_scores_mean + cv_scores_std, cv_scores_mean - cv_scores_std, alpha = 0.1, color = 'g')\n",
    "axes.plot(train_sizes, train_scores_mean, c = 'r', ls = '-', marker = 'o', label = 'Training Score')\n",
    "axes.plot(train_sizes, cv_scores_mean, c = 'g', ls = '-', marker = 'o', label = 'CV Score')\n",
    "axes.grid()\n",
    "axes.set_title('Learning Curve')\n",
    "axes.set_xlabel('# of Training Examples')\n",
    "axes.set_ylabel('F1_Score')\n",
    "axes.set_ylim(0, 1.1)\n",
    "axes.legend(loc = 'best')"
   ]
  },
  {
   "cell_type": "markdown",
   "metadata": {},
   "source": [
    "#### So it does not seem like our model is subject to high bias or high variance issues"
   ]
  },
  {
   "cell_type": "markdown",
   "metadata": {},
   "source": [
    "Note that for high bias, we usually have several solutions:\n",
    "1. Use a more complex model\n",
    "2. Create new features using feature engineering\n",
    "\n",
    "For high variance, solutions could be:\n",
    "1. Get more data\n",
    "2. Use a less complex model\n",
    "3. Using regularizations (Especially L1 Reg results in sparse weights)\n",
    "4. Dimensionality Reduction (Feature Selection or Feature Extraction)"
   ]
  },
  {
   "cell_type": "markdown",
   "metadata": {},
   "source": [
    "#### Speaking of dimensionality reduction, here are several example types:\n",
    "1. PCA: dimensionality reduction based on principal components\n",
    "2. Linear Discriminant Analysis: Supervised dimensionality reduction method based on response classes\n",
    "3. Kernel PCA: PCA on kernels which could be non-linear transformations on existing features"
   ]
  },
  {
   "cell_type": "markdown",
   "metadata": {},
   "source": [
    "#### Let's say if we would like to try PCA for exploring, we can add PCA to the pipeline"
   ]
  },
  {
   "cell_type": "code",
   "execution_count": 24,
   "metadata": {},
   "outputs": [],
   "source": [
    "from sklearn.decomposition import PCA\n",
    "pipe_svm = make_pipeline(StandardScaler(), PCA(n_components = 2, random_state = 1), SVC(kernel = 'linear', probability = True, random_state = 1))"
   ]
  },
  {
   "cell_type": "code",
   "execution_count": 25,
   "metadata": {},
   "outputs": [
    {
     "data": {
      "text/html": [
       "<div>\n",
       "<style scoped>\n",
       "    .dataframe tbody tr th:only-of-type {\n",
       "        vertical-align: middle;\n",
       "    }\n",
       "\n",
       "    .dataframe tbody tr th {\n",
       "        vertical-align: top;\n",
       "    }\n",
       "\n",
       "    .dataframe thead th {\n",
       "        text-align: right;\n",
       "    }\n",
       "</style>\n",
       "<table border=\"1\" class=\"dataframe\">\n",
       "  <thead>\n",
       "    <tr style=\"text-align: right;\">\n",
       "      <th>y_pred</th>\n",
       "      <th>0</th>\n",
       "      <th>1</th>\n",
       "    </tr>\n",
       "    <tr>\n",
       "      <th>y_actual</th>\n",
       "      <th></th>\n",
       "      <th></th>\n",
       "    </tr>\n",
       "  </thead>\n",
       "  <tbody>\n",
       "    <tr>\n",
       "      <td>0</td>\n",
       "      <td>35</td>\n",
       "      <td>3</td>\n",
       "    </tr>\n",
       "    <tr>\n",
       "      <td>1</td>\n",
       "      <td>7</td>\n",
       "      <td>58</td>\n",
       "    </tr>\n",
       "  </tbody>\n",
       "</table>\n",
       "</div>"
      ],
      "text/plain": [
       "y_pred     0   1\n",
       "y_actual        \n",
       "0         35   3\n",
       "1          7  58"
      ]
     },
     "execution_count": 25,
     "metadata": {},
     "output_type": "execute_result"
    }
   ],
   "source": [
    "pipe_svm.fit(X_train_sub, y_train_sub)\n",
    "pred_cv = pipe_svm.predict(X_cv)\n",
    "y_actual = pd.Series(y_cv, name = 'y_actual').reset_index(drop = True)\n",
    "y_pred = pd.Series(pred_cv, name = 'y_pred').reset_index(drop = True)\n",
    "pd.crosstab(y_actual, y_pred)"
   ]
  },
  {
   "cell_type": "markdown",
   "metadata": {},
   "source": [
    "#### If we look at the f1 score and recall"
   ]
  },
  {
   "cell_type": "code",
   "execution_count": 26,
   "metadata": {},
   "outputs": [
    {
     "name": "stdout",
     "output_type": "stream",
     "text": [
      "The f1 score is: 0.875\n",
      "The recall score is: 0.9210526315789473\n"
     ]
    }
   ],
   "source": [
    "print(f'The f1 score is: {f1_score(y_actual, y_pred, pos_label = 0)}')\n",
    "print(f'The recall score is: {recall_score(y_actual, y_pred, pos_label = 0)}')"
   ]
  },
  {
   "cell_type": "markdown",
   "metadata": {},
   "source": [
    "#### The metrics are worse than the ones generated if we use all features to train the model, and this is what we expected. However, the metrics are not too bad."
   ]
  },
  {
   "cell_type": "markdown",
   "metadata": {},
   "source": [
    "#### One thing about unbalanced classes is that if we have too few instances of one class, the classifier might have limited predictability on that class because the trainings largely take place for the majority class. For example, if we have binary class (0, 1) and their class instances are (1, 99) for training, then the model would have hard time predicting for class 0 in the test set because it does not have enough examples to train on. In general, to alleviate this issue, we have two ways:\n",
    "1. In the cost function, we penalize incorrect classification of the minority class more\n",
    "2. Use up/down-sampling to adjust class distribution to balance the classes"
   ]
  },
  {
   "cell_type": "markdown",
   "metadata": {},
   "source": [
    "#### Actually, #1 above was already used in our model by setting class_weight = 'balanced' (default). But let's explore #2 and see how it can work"
   ]
  },
  {
   "cell_type": "code",
   "execution_count": 27,
   "metadata": {},
   "outputs": [
    {
     "name": "stdout",
     "output_type": "stream",
     "text": [
      "The # of instances in class 0 is 191; the # of instances in class 1 is 321\n"
     ]
    }
   ],
   "source": [
    "cl, cl_cnt = np.unique(y_train, return_counts = True)\n",
    "print(f'The # of instances in class {cl[0]} is {cl_cnt[0]}; the # of instances in class {cl[1]} is {cl_cnt[1]}')"
   ]
  },
  {
   "cell_type": "markdown",
   "metadata": {},
   "source": [
    "#### If we would like to up-sample class 0 to have the same # of instances as class 1, then"
   ]
  },
  {
   "cell_type": "code",
   "execution_count": 28,
   "metadata": {},
   "outputs": [],
   "source": [
    "from sklearn.utils import resample\n",
    "cnt_diff = cl_cnt[1] - cl_cnt[0]\n",
    "X_train_add, y_train_add = resample(X_train[y_train == 0], y_train[y_train == 0], replace = True, n_samples = cnt_diff, random_state = 1)\n",
    "X_train_bal = np.vstack((X_train, X_train_add))\n",
    "y_train_bal = np.hstack((y_train, y_train_add))"
   ]
  },
  {
   "cell_type": "code",
   "execution_count": 29,
   "metadata": {
    "scrolled": true
   },
   "outputs": [
    {
     "name": "stdout",
     "output_type": "stream",
     "text": [
      "The # of instances in class 0 is 321; the # of instances in class 1 is 321\n"
     ]
    }
   ],
   "source": [
    "cl, cl_cnt = np.unique(y_train_bal, return_counts = True)\n",
    "print(f'The # of instances in class {cl[0]} is {cl_cnt[0]}; the # of instances in class {cl[1]} is {cl_cnt[1]}')"
   ]
  },
  {
   "cell_type": "markdown",
   "metadata": {},
   "source": [
    "#### Let's use K-fold cross-validaton this time for performance evaluation"
   ]
  },
  {
   "cell_type": "code",
   "execution_count": 30,
   "metadata": {},
   "outputs": [],
   "source": [
    "pipe_svm = make_pipeline(StandardScaler(), SVC(kernel = 'linear', random_state = 1))"
   ]
  },
  {
   "cell_type": "code",
   "execution_count": 31,
   "metadata": {},
   "outputs": [],
   "source": [
    "from sklearn.model_selection import StratifiedKFold\n",
    "skf = StratifiedKFold(n_splits = 10, random_state = 1)\n",
    "scores = []\n",
    "for train_idx, cv_idx in skf.split(X_train_bal, y_train_bal):\n",
    "    X_train_ = X_train_bal[train_idx]\n",
    "    y_train_ = y_train_bal[train_idx]\n",
    "    X_cv_ = X_train_bal[cv_idx]\n",
    "    y_cv_ = y_train_bal[cv_idx]\n",
    "    \n",
    "    pipe_svm.fit(X_train_, y_train_)\n",
    "    pred_ = pipe_svm.predict(X_cv_)\n",
    "    score = f1_score(y_cv_, pred_, pos_label = 0)\n",
    "    scores.append(score)"
   ]
  },
  {
   "cell_type": "code",
   "execution_count": 32,
   "metadata": {},
   "outputs": [
    {
     "name": "stdout",
     "output_type": "stream",
     "text": [
      "The average f1_score for the balanced classes is: 0.98\n"
     ]
    }
   ],
   "source": [
    "print(f'The average f1_score for the balanced classes is: {round(np.mean(scores), 2)}')"
   ]
  },
  {
   "cell_type": "markdown",
   "metadata": {},
   "source": [
    "#### Next we would like to explore the use of GridSearchCV to find the best hyper-parameters and nesting it with cross_val_score to compare model performances. We would compare the performances between the svm and logistic regression"
   ]
  },
  {
   "cell_type": "code",
   "execution_count": 33,
   "metadata": {},
   "outputs": [],
   "source": [
    "from sklearn.model_selection import GridSearchCV, cross_val_score"
   ]
  },
  {
   "cell_type": "code",
   "execution_count": 34,
   "metadata": {},
   "outputs": [],
   "source": [
    "numeric_range = [0.0001, 0.001, 0.1, 1, 10, 100, 1000]\n",
    "param_grid_svm = [{'svc__C': numeric_range, 'svc__kernel': ['linear']}, \n",
    "                  {'svc__C': numeric_range, 'svc__kernel': ['rbf'], 'svc__gamma': numeric_range}]\n",
    "gs_svm = GridSearchCV(estimator = pipe_svm, param_grid = param_grid_svm, scoring = f1_scorer, n_jobs = -1, cv = 10)\n",
    "scores_svm = cross_val_score(estimator = gs_svm, X = X_train, y = y_train, scoring = f1_scorer, cv = 10, n_jobs = -1)"
   ]
  },
  {
   "cell_type": "code",
   "execution_count": 35,
   "metadata": {},
   "outputs": [
    {
     "name": "stdout",
     "output_type": "stream",
     "text": [
      "The average f1_score from the svm model is 0.9681036704720916 with standard deviation of 0.02622073371797614.\n"
     ]
    }
   ],
   "source": [
    "print(f'The average f1_score from the svm model is {np.mean(scores_svm)} \\\n",
    "with standard deviation of {np.std(scores_svm)}.')"
   ]
  },
  {
   "cell_type": "code",
   "execution_count": 36,
   "metadata": {},
   "outputs": [],
   "source": [
    "from sklearn.linear_model import LogisticRegression\n",
    "pipe_lr = make_pipeline(StandardScaler(), LogisticRegression(random_state = 1, class_weight = 'balanced', n_jobs = -1))"
   ]
  },
  {
   "cell_type": "code",
   "execution_count": 37,
   "metadata": {},
   "outputs": [],
   "source": [
    "param_grid_lr = [{'logisticregression__penalty': ['l1', 'l2'], 'logisticregression__C': numeric_range, 'logisticregression__solver': ['liblinear']},\n",
    "                {'logisticregression__penalty': ['l2'], 'logisticregression__C': numeric_range, 'logisticregression__solver': ['lbfgs']}]\n",
    "gs_lr = GridSearchCV(estimator = pipe_lr, param_grid = param_grid_lr, scoring = f1_scorer, n_jobs = -1, cv = 10)\n",
    "scores_lr = cross_val_score(estimator = gs_lr, X = X_train, y = y_train, scoring = f1_scorer, cv = 10, n_jobs = -1)"
   ]
  },
  {
   "cell_type": "code",
   "execution_count": 38,
   "metadata": {},
   "outputs": [
    {
     "name": "stdout",
     "output_type": "stream",
     "text": [
      "The average f1_score from the LogisticRegression model is 0.9711055184739396 with standard deviation of 0.029929681806280767.\n"
     ]
    }
   ],
   "source": [
    "print(f'The average f1_score from the LogisticRegression model is {np.mean(scores_lr)} \\\n",
    "with standard deviation of {np.std(scores_lr)}.')"
   ]
  },
  {
   "cell_type": "markdown",
   "metadata": {},
   "source": [
    "#### The results are pretty close, let's say the Logistic Regression Model is the better one and we would like to use it on the test set for evaluation"
   ]
  },
  {
   "cell_type": "code",
   "execution_count": 39,
   "metadata": {},
   "outputs": [],
   "source": [
    "gs_lr.fit(X_train, y_train)\n",
    "pred = gs_lr.predict(X_test)"
   ]
  },
  {
   "cell_type": "code",
   "execution_count": 41,
   "metadata": {},
   "outputs": [
    {
     "name": "stdout",
     "output_type": "stream",
     "text": [
      "The f1 score for the test set using Logistic Regression Model is 0.952\n"
     ]
    }
   ],
   "source": [
    "print(f'The f1 score for the test set using Logistic Regression Model is {round(f1_score(y_test, pred, pos_label = 0), 3)}')"
   ]
  },
  {
   "cell_type": "markdown",
   "metadata": {},
   "source": [
    "#### It seems the Logistic Regression Model is also doing well for the test set"
   ]
  },
  {
   "cell_type": "code",
   "execution_count": null,
   "metadata": {},
   "outputs": [],
   "source": []
  }
 ],
 "metadata": {
  "kernelspec": {
   "display_name": "Python 3",
   "language": "python",
   "name": "python3"
  },
  "language_info": {
   "codemirror_mode": {
    "name": "ipython",
    "version": 3
   },
   "file_extension": ".py",
   "mimetype": "text/x-python",
   "name": "python",
   "nbconvert_exporter": "python",
   "pygments_lexer": "ipython3",
   "version": "3.7.4"
  }
 },
 "nbformat": 4,
 "nbformat_minor": 2
}
