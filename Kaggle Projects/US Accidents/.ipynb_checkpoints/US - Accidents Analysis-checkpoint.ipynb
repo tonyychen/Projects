{
 "cells": [
  {
   "cell_type": "markdown",
   "metadata": {},
   "source": [
    "Acknowledgements\n",
    "\n",
    "Moosavi, Sobhan, Mohammad Hossein Samavatian, Srinivasan Parthasarathy, and Rajiv Ramnath. “A Countrywide Traffic Accident Dataset.”, 2019.\n",
    "\n",
    "Moosavi, Sobhan, Mohammad Hossein Samavatian, Srinivasan Parthasarathy, Radu Teodorescu, and Rajiv Ramnath. \"Accident Risk Prediction based on Heterogeneous Sparse Data: New Dataset and Insights.\" In proceedings of the 27th ACM SIGSPATIAL International Conference on Advances in Geographic Information Systems, ACM, 2019."
   ]
  },
  {
   "cell_type": "markdown",
   "metadata": {},
   "source": [
    "# US - Accidents Analysis"
   ]
  },
  {
   "cell_type": "code",
   "execution_count": 1,
   "metadata": {},
   "outputs": [],
   "source": [
    "import numpy as np\n",
    "import pandas as pd\n",
    "import matplotlib.pyplot as plt\n",
    "import seaborn as sns\n",
    "%matplotlib inline"
   ]
  },
  {
   "cell_type": "code",
   "execution_count": 2,
   "metadata": {},
   "outputs": [],
   "source": [
    "df = pd.read_csv('Data/US_Accidents_May19.csv')"
   ]
  },
  {
   "cell_type": "code",
   "execution_count": 3,
   "metadata": {},
   "outputs": [
    {
     "data": {
      "text/html": [
       "<div>\n",
       "<style scoped>\n",
       "    .dataframe tbody tr th:only-of-type {\n",
       "        vertical-align: middle;\n",
       "    }\n",
       "\n",
       "    .dataframe tbody tr th {\n",
       "        vertical-align: top;\n",
       "    }\n",
       "\n",
       "    .dataframe thead th {\n",
       "        text-align: right;\n",
       "    }\n",
       "</style>\n",
       "<table border=\"1\" class=\"dataframe\">\n",
       "  <thead>\n",
       "    <tr style=\"text-align: right;\">\n",
       "      <th></th>\n",
       "      <th>ID</th>\n",
       "      <th>Source</th>\n",
       "      <th>TMC</th>\n",
       "      <th>Severity</th>\n",
       "      <th>Start_Time</th>\n",
       "      <th>End_Time</th>\n",
       "      <th>Start_Lat</th>\n",
       "      <th>Start_Lng</th>\n",
       "      <th>End_Lat</th>\n",
       "      <th>End_Lng</th>\n",
       "      <th>...</th>\n",
       "      <th>Roundabout</th>\n",
       "      <th>Station</th>\n",
       "      <th>Stop</th>\n",
       "      <th>Traffic_Calming</th>\n",
       "      <th>Traffic_Signal</th>\n",
       "      <th>Turning_Loop</th>\n",
       "      <th>Sunrise_Sunset</th>\n",
       "      <th>Civil_Twilight</th>\n",
       "      <th>Nautical_Twilight</th>\n",
       "      <th>Astronomical_Twilight</th>\n",
       "    </tr>\n",
       "  </thead>\n",
       "  <tbody>\n",
       "    <tr>\n",
       "      <td>0</td>\n",
       "      <td>A-1</td>\n",
       "      <td>MapQuest</td>\n",
       "      <td>201.0</td>\n",
       "      <td>3</td>\n",
       "      <td>2016-02-08 05:46:00</td>\n",
       "      <td>2016-02-08 11:00:00</td>\n",
       "      <td>39.865147</td>\n",
       "      <td>-84.058723</td>\n",
       "      <td>NaN</td>\n",
       "      <td>NaN</td>\n",
       "      <td>...</td>\n",
       "      <td>False</td>\n",
       "      <td>False</td>\n",
       "      <td>False</td>\n",
       "      <td>False</td>\n",
       "      <td>False</td>\n",
       "      <td>False</td>\n",
       "      <td>Night</td>\n",
       "      <td>Night</td>\n",
       "      <td>Night</td>\n",
       "      <td>Night</td>\n",
       "    </tr>\n",
       "    <tr>\n",
       "      <td>1</td>\n",
       "      <td>A-2</td>\n",
       "      <td>MapQuest</td>\n",
       "      <td>201.0</td>\n",
       "      <td>2</td>\n",
       "      <td>2016-02-08 06:07:59</td>\n",
       "      <td>2016-02-08 06:37:59</td>\n",
       "      <td>39.928059</td>\n",
       "      <td>-82.831184</td>\n",
       "      <td>NaN</td>\n",
       "      <td>NaN</td>\n",
       "      <td>...</td>\n",
       "      <td>False</td>\n",
       "      <td>False</td>\n",
       "      <td>False</td>\n",
       "      <td>False</td>\n",
       "      <td>False</td>\n",
       "      <td>False</td>\n",
       "      <td>Night</td>\n",
       "      <td>Night</td>\n",
       "      <td>Night</td>\n",
       "      <td>Day</td>\n",
       "    </tr>\n",
       "    <tr>\n",
       "      <td>2</td>\n",
       "      <td>A-3</td>\n",
       "      <td>MapQuest</td>\n",
       "      <td>201.0</td>\n",
       "      <td>2</td>\n",
       "      <td>2016-02-08 06:49:27</td>\n",
       "      <td>2016-02-08 07:19:27</td>\n",
       "      <td>39.063148</td>\n",
       "      <td>-84.032608</td>\n",
       "      <td>NaN</td>\n",
       "      <td>NaN</td>\n",
       "      <td>...</td>\n",
       "      <td>False</td>\n",
       "      <td>False</td>\n",
       "      <td>False</td>\n",
       "      <td>False</td>\n",
       "      <td>True</td>\n",
       "      <td>False</td>\n",
       "      <td>Night</td>\n",
       "      <td>Night</td>\n",
       "      <td>Day</td>\n",
       "      <td>Day</td>\n",
       "    </tr>\n",
       "    <tr>\n",
       "      <td>3</td>\n",
       "      <td>A-4</td>\n",
       "      <td>MapQuest</td>\n",
       "      <td>201.0</td>\n",
       "      <td>3</td>\n",
       "      <td>2016-02-08 07:23:34</td>\n",
       "      <td>2016-02-08 07:53:34</td>\n",
       "      <td>39.747753</td>\n",
       "      <td>-84.205582</td>\n",
       "      <td>NaN</td>\n",
       "      <td>NaN</td>\n",
       "      <td>...</td>\n",
       "      <td>False</td>\n",
       "      <td>False</td>\n",
       "      <td>False</td>\n",
       "      <td>False</td>\n",
       "      <td>False</td>\n",
       "      <td>False</td>\n",
       "      <td>Night</td>\n",
       "      <td>Day</td>\n",
       "      <td>Day</td>\n",
       "      <td>Day</td>\n",
       "    </tr>\n",
       "    <tr>\n",
       "      <td>4</td>\n",
       "      <td>A-5</td>\n",
       "      <td>MapQuest</td>\n",
       "      <td>201.0</td>\n",
       "      <td>2</td>\n",
       "      <td>2016-02-08 07:39:07</td>\n",
       "      <td>2016-02-08 08:09:07</td>\n",
       "      <td>39.627781</td>\n",
       "      <td>-84.188354</td>\n",
       "      <td>NaN</td>\n",
       "      <td>NaN</td>\n",
       "      <td>...</td>\n",
       "      <td>False</td>\n",
       "      <td>False</td>\n",
       "      <td>False</td>\n",
       "      <td>False</td>\n",
       "      <td>True</td>\n",
       "      <td>False</td>\n",
       "      <td>Day</td>\n",
       "      <td>Day</td>\n",
       "      <td>Day</td>\n",
       "      <td>Day</td>\n",
       "    </tr>\n",
       "  </tbody>\n",
       "</table>\n",
       "<p>5 rows × 49 columns</p>\n",
       "</div>"
      ],
      "text/plain": [
       "    ID    Source    TMC  Severity           Start_Time             End_Time  \\\n",
       "0  A-1  MapQuest  201.0         3  2016-02-08 05:46:00  2016-02-08 11:00:00   \n",
       "1  A-2  MapQuest  201.0         2  2016-02-08 06:07:59  2016-02-08 06:37:59   \n",
       "2  A-3  MapQuest  201.0         2  2016-02-08 06:49:27  2016-02-08 07:19:27   \n",
       "3  A-4  MapQuest  201.0         3  2016-02-08 07:23:34  2016-02-08 07:53:34   \n",
       "4  A-5  MapQuest  201.0         2  2016-02-08 07:39:07  2016-02-08 08:09:07   \n",
       "\n",
       "   Start_Lat  Start_Lng  End_Lat  End_Lng  ...  Roundabout Station   Stop  \\\n",
       "0  39.865147 -84.058723      NaN      NaN  ...       False   False  False   \n",
       "1  39.928059 -82.831184      NaN      NaN  ...       False   False  False   \n",
       "2  39.063148 -84.032608      NaN      NaN  ...       False   False  False   \n",
       "3  39.747753 -84.205582      NaN      NaN  ...       False   False  False   \n",
       "4  39.627781 -84.188354      NaN      NaN  ...       False   False  False   \n",
       "\n",
       "  Traffic_Calming Traffic_Signal Turning_Loop Sunrise_Sunset Civil_Twilight  \\\n",
       "0           False          False        False          Night          Night   \n",
       "1           False          False        False          Night          Night   \n",
       "2           False           True        False          Night          Night   \n",
       "3           False          False        False          Night            Day   \n",
       "4           False           True        False            Day            Day   \n",
       "\n",
       "  Nautical_Twilight Astronomical_Twilight  \n",
       "0             Night                 Night  \n",
       "1             Night                   Day  \n",
       "2               Day                   Day  \n",
       "3               Day                   Day  \n",
       "4               Day                   Day  \n",
       "\n",
       "[5 rows x 49 columns]"
      ]
     },
     "execution_count": 3,
     "metadata": {},
     "output_type": "execute_result"
    }
   ],
   "source": [
    "df.head()"
   ]
  },
  {
   "cell_type": "code",
   "execution_count": 4,
   "metadata": {
    "scrolled": true
   },
   "outputs": [
    {
     "name": "stdout",
     "output_type": "stream",
     "text": [
      "<class 'pandas.core.frame.DataFrame'>\n",
      "RangeIndex: 2243939 entries, 0 to 2243938\n",
      "Data columns (total 49 columns):\n",
      "ID                       object\n",
      "Source                   object\n",
      "TMC                      float64\n",
      "Severity                 int64\n",
      "Start_Time               object\n",
      "End_Time                 object\n",
      "Start_Lat                float64\n",
      "Start_Lng                float64\n",
      "End_Lat                  float64\n",
      "End_Lng                  float64\n",
      "Distance(mi)             float64\n",
      "Description              object\n",
      "Number                   float64\n",
      "Street                   object\n",
      "Side                     object\n",
      "City                     object\n",
      "County                   object\n",
      "State                    object\n",
      "Zipcode                  object\n",
      "Country                  object\n",
      "Timezone                 object\n",
      "Airport_Code             object\n",
      "Weather_Timestamp        object\n",
      "Temperature(F)           float64\n",
      "Wind_Chill(F)            float64\n",
      "Humidity(%)              float64\n",
      "Pressure(in)             float64\n",
      "Visibility(mi)           float64\n",
      "Wind_Direction           object\n",
      "Wind_Speed(mph)          float64\n",
      "Precipitation(in)        float64\n",
      "Weather_Condition        object\n",
      "Amenity                  bool\n",
      "Bump                     bool\n",
      "Crossing                 bool\n",
      "Give_Way                 bool\n",
      "Junction                 bool\n",
      "No_Exit                  bool\n",
      "Railway                  bool\n",
      "Roundabout               bool\n",
      "Station                  bool\n",
      "Stop                     bool\n",
      "Traffic_Calming          bool\n",
      "Traffic_Signal           bool\n",
      "Turning_Loop             bool\n",
      "Sunrise_Sunset           object\n",
      "Civil_Twilight           object\n",
      "Nautical_Twilight        object\n",
      "Astronomical_Twilight    object\n",
      "dtypes: bool(13), float64(14), int64(1), object(21)\n",
      "memory usage: 644.1+ MB\n"
     ]
    }
   ],
   "source": [
    "#Let's take a look at the columns\n",
    "df.info()"
   ]
  },
  {
   "cell_type": "code",
   "execution_count": 5,
   "metadata": {
    "scrolled": true
   },
   "outputs": [
    {
     "data": {
      "text/plain": [
       "MapQuest         1702565\n",
       "Bing              516762\n",
       "MapQuest-Bing      24612\n",
       "Name: Source, dtype: int64"
      ]
     },
     "execution_count": 5,
     "metadata": {},
     "output_type": "execute_result"
    }
   ],
   "source": [
    "#Where were the data collected from?\n",
    "df['Source'].value_counts()"
   ]
  },
  {
   "cell_type": "code",
   "execution_count": 6,
   "metadata": {},
   "outputs": [],
   "source": [
    "sns.set_style('whitegrid')\n",
    "sns.set_palette('Spectral')"
   ]
  },
  {
   "cell_type": "code",
   "execution_count": 7,
   "metadata": {},
   "outputs": [
    {
     "data": {
      "text/plain": [
       "<matplotlib.axes._subplots.AxesSubplot at 0x22d9b6efec8>"
      ]
     },
     "execution_count": 7,
     "metadata": {},
     "output_type": "execute_result"
    },
    {
     "data": {
      "image/png": "[encoded data removed]",
      "text/plain": [
       "<Figure size 576x432 with 1 Axes>"
      ]
     },
     "metadata": {},
     "output_type": "display_data"
    }
   ],
   "source": [
    "plt.figure(figsize = (8, 6))\n",
    "sns.countplot(df['Source'], order = df['Source'].value_counts().index)"
   ]
  },
  {
   "cell_type": "markdown",
   "metadata": {},
   "source": [
    "MapQuest stands out as the major source of this accident data"
   ]
  },
  {
   "cell_type": "code",
   "execution_count": 8,
   "metadata": {},
   "outputs": [
    {
     "data": {
      "text/plain": [
       "ID                             0\n",
       "Source                         0\n",
       "TMC                       516762\n",
       "Severity                       0\n",
       "Start_Time                     0\n",
       "End_Time                       0\n",
       "Start_Lat                      0\n",
       "Start_Lng                      0\n",
       "End_Lat                  1727177\n",
       "End_Lng                  1727177\n",
       "Distance(mi)                   0\n",
       "Description                    1\n",
       "Number                   1458402\n",
       "Street                         0\n",
       "Side                           0\n",
       "City                          68\n",
       "County                         0\n",
       "State                          0\n",
       "Zipcode                      646\n",
       "Country                        0\n",
       "Timezone                    2141\n",
       "Airport_Code               23664\n",
       "Weather_Timestamp          47170\n",
       "Temperature(F)             62265\n",
       "Wind_Chill(F)            1852370\n",
       "Humidity(%)                64467\n",
       "Pressure(in)               57280\n",
       "Visibility(mi)             71360\n",
       "Wind_Direction             47190\n",
       "Wind_Speed(mph)           442954\n",
       "Precipitation(in)        1979466\n",
       "Weather_Condition          72004\n",
       "Amenity                        0\n",
       "Bump                           0\n",
       "Crossing                       0\n",
       "Give_Way                       0\n",
       "Junction                       0\n",
       "No_Exit                        0\n",
       "Railway                        0\n",
       "Roundabout                     0\n",
       "Station                        0\n",
       "Stop                           0\n",
       "Traffic_Calming                0\n",
       "Traffic_Signal                 0\n",
       "Turning_Loop                   0\n",
       "Sunrise_Sunset                78\n",
       "Civil_Twilight                78\n",
       "Nautical_Twilight             78\n",
       "Astronomical_Twilight         78\n",
       "dtype: int64"
      ]
     },
     "execution_count": 8,
     "metadata": {},
     "output_type": "execute_result"
    }
   ],
   "source": [
    "#Let's check any missing data\n",
    "df.isna().sum()"
   ]
  },
  {
   "cell_type": "markdown",
   "metadata": {},
   "source": [
    "Some columns are perfect while others have some missing data, we can deal with the missing data later"
   ]
  },
  {
   "cell_type": "code",
   "execution_count": 9,
   "metadata": {
    "scrolled": false
   },
   "outputs": [],
   "source": [
    "#TMC provides more detailed event code\n",
    "#df['TMC'].value_counts()\n",
    "#after looking at https://wiki.openstreetmap.org/wiki/TMC/Event_Code_List, I do not think those details would add much value\n",
    "#for this analysis, I would drop the column here\n",
    "df.drop('TMC', axis = 1, inplace = True)"
   ]
  },
  {
   "cell_type": "code",
   "execution_count": 10,
   "metadata": {},
   "outputs": [
    {
     "data": {
      "text/plain": [
       "2    1455524\n",
       "3     715582\n",
       "4      72002\n",
       "1        814\n",
       "0         17\n",
       "Name: Severity, dtype: int64"
      ]
     },
     "execution_count": 10,
     "metadata": {},
     "output_type": "execute_result"
    }
   ],
   "source": [
    "df['Severity'].value_counts()"
   ]
  },
  {
   "cell_type": "code",
   "execution_count": 11,
   "metadata": {},
   "outputs": [
    {
     "data": {
      "text/plain": [
       "<matplotlib.axes._subplots.AxesSubplot at 0x22de964e908>"
      ]
     },
     "execution_count": 11,
     "metadata": {},
     "output_type": "execute_result"
    },
    {
     "data": {
      "image/png": "[encoded data removed]",
      "text/plain": [
       "<Figure size 432x288 with 1 Axes>"
      ]
     },
     "metadata": {},
     "output_type": "display_data"
    }
   ],
   "source": [
    "sns.countplot(df['Severity'])"
   ]
  },
  {
   "cell_type": "markdown",
   "metadata": {},
   "source": [
    "Apparently Severity 2 has the most instances, that fits our expectation that most accidents' severities are in the middle"
   ]
  },
  {
   "cell_type": "code",
   "execution_count": 12,
   "metadata": {},
   "outputs": [
    {
     "data": {
      "text/html": [
       "<div>\n",
       "<style scoped>\n",
       "    .dataframe tbody tr th:only-of-type {\n",
       "        vertical-align: middle;\n",
       "    }\n",
       "\n",
       "    .dataframe tbody tr th {\n",
       "        vertical-align: top;\n",
       "    }\n",
       "\n",
       "    .dataframe thead th {\n",
       "        text-align: right;\n",
       "    }\n",
       "</style>\n",
       "<table border=\"1\" class=\"dataframe\">\n",
       "  <thead>\n",
       "    <tr style=\"text-align: right;\">\n",
       "      <th></th>\n",
       "      <th>Start_Time</th>\n",
       "      <th>End_Time</th>\n",
       "    </tr>\n",
       "  </thead>\n",
       "  <tbody>\n",
       "    <tr>\n",
       "      <td>0</td>\n",
       "      <td>2016-02-08 05:46:00</td>\n",
       "      <td>2016-02-08 11:00:00</td>\n",
       "    </tr>\n",
       "    <tr>\n",
       "      <td>1</td>\n",
       "      <td>2016-02-08 06:07:59</td>\n",
       "      <td>2016-02-08 06:37:59</td>\n",
       "    </tr>\n",
       "    <tr>\n",
       "      <td>2</td>\n",
       "      <td>2016-02-08 06:49:27</td>\n",
       "      <td>2016-02-08 07:19:27</td>\n",
       "    </tr>\n",
       "    <tr>\n",
       "      <td>3</td>\n",
       "      <td>2016-02-08 07:23:34</td>\n",
       "      <td>2016-02-08 07:53:34</td>\n",
       "    </tr>\n",
       "    <tr>\n",
       "      <td>4</td>\n",
       "      <td>2016-02-08 07:39:07</td>\n",
       "      <td>2016-02-08 08:09:07</td>\n",
       "    </tr>\n",
       "  </tbody>\n",
       "</table>\n",
       "</div>"
      ],
      "text/plain": [
       "            Start_Time             End_Time\n",
       "0  2016-02-08 05:46:00  2016-02-08 11:00:00\n",
       "1  2016-02-08 06:07:59  2016-02-08 06:37:59\n",
       "2  2016-02-08 06:49:27  2016-02-08 07:19:27\n",
       "3  2016-02-08 07:23:34  2016-02-08 07:53:34\n",
       "4  2016-02-08 07:39:07  2016-02-08 08:09:07"
      ]
     },
     "execution_count": 12,
     "metadata": {},
     "output_type": "execute_result"
    }
   ],
   "source": [
    "#Let's look at Start and End time for a sec\n",
    "df[['Start_Time', 'End_Time']].head()"
   ]
  },
  {
   "cell_type": "code",
   "execution_count": 13,
   "metadata": {},
   "outputs": [],
   "source": [
    "from datetime import datetime"
   ]
  },
  {
   "cell_type": "code",
   "execution_count": 14,
   "metadata": {
    "scrolled": false
   },
   "outputs": [],
   "source": [
    "#The times are pretty close, we might be interested to see the time difference between End_Time and Start_Time\n",
    "time_diff = \\\n",
    "df['End_Time'].apply(datetime.strptime, args = ('%Y-%m-%d %H:%M:%S',)) - \\\n",
    "df['Start_Time'].apply(datetime.strptime, args = ('%Y-%m-%d %H:%M:%S',))"
   ]
  },
  {
   "cell_type": "code",
   "execution_count": 15,
   "metadata": {},
   "outputs": [],
   "source": [
    "#Convert everything to hour difference, ignoring microseconds\n",
    "time_diff_hr = time_diff.apply(lambda x: x.days * 24 + x.seconds / 3600)"
   ]
  },
  {
   "cell_type": "code",
   "execution_count": 16,
   "metadata": {},
   "outputs": [
    {
     "data": {
      "text/plain": [
       "0    5.233333\n",
       "1    0.500000\n",
       "2    0.500000\n",
       "3    0.500000\n",
       "4    0.500000\n",
       "5    0.500000\n",
       "6    0.500000\n",
       "7    0.500000\n",
       "8    0.500000\n",
       "9    0.500000\n",
       "dtype: float64"
      ]
     },
     "execution_count": 16,
     "metadata": {},
     "output_type": "execute_result"
    }
   ],
   "source": [
    "time_diff_hr[:10]"
   ]
  },
  {
   "cell_type": "code",
   "execution_count": 17,
   "metadata": {},
   "outputs": [],
   "source": [
    "#Add time_diff_hr back to df as Time_Diff\n",
    "df['Time_Diff'] = time_diff_hr"
   ]
  },
  {
   "cell_type": "markdown",
   "metadata": {},
   "source": [
    "Another use of time is that we can divide time into different buckets, ex. Morning, Afternoon, Evening; because we have Start_Time and End_Time, I just use the Start_Time"
   ]
  },
  {
   "cell_type": "code",
   "execution_count": 18,
   "metadata": {},
   "outputs": [],
   "source": [
    "start_hour = df['Start_Time'].apply(lambda x: datetime.strptime(x, '%Y-%m-%d %H:%M:%S').hour)"
   ]
  },
  {
   "cell_type": "code",
   "execution_count": 19,
   "metadata": {},
   "outputs": [],
   "source": [
    "morning = [1 if 6 <= x <= 11 else 0 for x in start_hour]\n",
    "afternoon = [1 if 12 <= x <= 17 else 0 for x in start_hour]\n",
    "evening = [1 if 18 <= x <= 24 or 0 <= x <= 5 else 0 for x in start_hour]"
   ]
  },
  {
   "cell_type": "code",
   "execution_count": 20,
   "metadata": {},
   "outputs": [],
   "source": [
    "#Now we put them back into df\n",
    "df = df.assign(Morning = morning, Afternoon = afternoon, Evening = evening)"
   ]
  },
  {
   "cell_type": "code",
   "execution_count": 21,
   "metadata": {},
   "outputs": [],
   "source": [
    "#We can drop the Start_Time and End_Time columns now\n",
    "df.drop(['Start_Time', 'End_Time'], axis = 1, inplace = True)"
   ]
  },
  {
   "cell_type": "code",
   "execution_count": 22,
   "metadata": {
    "scrolled": true
   },
   "outputs": [],
   "source": [
    "#Now let's see accidents distribution by timeframe\n",
    "temp = np.asarray(morning) + np.asarray(afternoon) * 2 + np.asarray(evening) * 3\n",
    "timeframe = ['morning' if x == 1 else 'afternoon' if x == 2 else 'evening' for x in temp]\n",
    "del temp"
   ]
  },
  {
   "cell_type": "code",
   "execution_count": 23,
   "metadata": {
    "scrolled": true
   },
   "outputs": [
    {
     "data": {
      "text/plain": [
       "<matplotlib.axes._subplots.AxesSubplot at 0x22de95b22c8>"
      ]
     },
     "execution_count": 23,
     "metadata": {},
     "output_type": "execute_result"
    },
    {
     "data": {
      "image/png": "[encoded data removed]",
      "text/plain": [
       "<Figure size 576x432 with 1 Axes>"
      ]
     },
     "metadata": {},
     "output_type": "display_data"
    }
   ],
   "source": [
    "plt.figure(figsize = (8, 6))\n",
    "sns.countplot(timeframe, order = ['morning', 'afternoon', 'evening'])\n",
    "#It seems most accidents happen in the morning\n",
    "#My initial thought is that evening times would have more accidents because of poor lighting but the plot shows otherwise"
   ]
  },
  {
   "cell_type": "code",
   "execution_count": 24,
   "metadata": {},
   "outputs": [
    {
     "name": "stdout",
     "output_type": "stream",
     "text": [
      "<class 'pandas.core.frame.DataFrame'>\n",
      "RangeIndex: 2243939 entries, 0 to 2243938\n",
      "Data columns (total 50 columns):\n",
      "ID                       object\n",
      "Source                   object\n",
      "Severity                 int64\n",
      "Start_Lat                float64\n",
      "Start_Lng                float64\n",
      "End_Lat                  float64\n",
      "End_Lng                  float64\n",
      "Distance(mi)             float64\n",
      "Description              object\n",
      "Number                   float64\n",
      "Street                   object\n",
      "Side                     object\n",
      "City                     object\n",
      "County                   object\n",
      "State                    object\n",
      "Zipcode                  object\n",
      "Country                  object\n",
      "Timezone                 object\n",
      "Airport_Code             object\n",
      "Weather_Timestamp        object\n",
      "Temperature(F)           float64\n",
      "Wind_Chill(F)            float64\n",
      "Humidity(%)              float64\n",
      "Pressure(in)             float64\n",
      "Visibility(mi)           float64\n",
      "Wind_Direction           object\n",
      "Wind_Speed(mph)          float64\n",
      "Precipitation(in)        float64\n",
      "Weather_Condition        object\n",
      "Amenity                  bool\n",
      "Bump                     bool\n",
      "Crossing                 bool\n",
      "Give_Way                 bool\n",
      "Junction                 bool\n",
      "No_Exit                  bool\n",
      "Railway                  bool\n",
      "Roundabout               bool\n",
      "Station                  bool\n",
      "Stop                     bool\n",
      "Traffic_Calming          bool\n",
      "Traffic_Signal           bool\n",
      "Turning_Loop             bool\n",
      "Sunrise_Sunset           object\n",
      "Civil_Twilight           object\n",
      "Nautical_Twilight        object\n",
      "Astronomical_Twilight    object\n",
      "Time_Diff                float64\n",
      "Morning                  int64\n",
      "Afternoon                int64\n",
      "Evening                  int64\n",
      "dtypes: bool(13), float64(14), int64(4), object(19)\n",
      "memory usage: 661.3+ MB\n"
     ]
    }
   ],
   "source": [
    "#Now view what columns we have again\n",
    "df.info()"
   ]
  },
  {
   "cell_type": "code",
   "execution_count": 25,
   "metadata": {},
   "outputs": [
    {
     "data": {
      "text/html": [
       "<div>\n",
       "<style scoped>\n",
       "    .dataframe tbody tr th:only-of-type {\n",
       "        vertical-align: middle;\n",
       "    }\n",
       "\n",
       "    .dataframe tbody tr th {\n",
       "        vertical-align: top;\n",
       "    }\n",
       "\n",
       "    .dataframe thead th {\n",
       "        text-align: right;\n",
       "    }\n",
       "</style>\n",
       "<table border=\"1\" class=\"dataframe\">\n",
       "  <thead>\n",
       "    <tr style=\"text-align: right;\">\n",
       "      <th></th>\n",
       "      <th>Start_Lat</th>\n",
       "      <th>Start_Lng</th>\n",
       "      <th>End_Lat</th>\n",
       "      <th>End_Lng</th>\n",
       "    </tr>\n",
       "  </thead>\n",
       "  <tbody>\n",
       "    <tr>\n",
       "      <td>0</td>\n",
       "      <td>39.865147</td>\n",
       "      <td>-84.058723</td>\n",
       "      <td>NaN</td>\n",
       "      <td>NaN</td>\n",
       "    </tr>\n",
       "    <tr>\n",
       "      <td>1</td>\n",
       "      <td>39.928059</td>\n",
       "      <td>-82.831184</td>\n",
       "      <td>NaN</td>\n",
       "      <td>NaN</td>\n",
       "    </tr>\n",
       "    <tr>\n",
       "      <td>2</td>\n",
       "      <td>39.063148</td>\n",
       "      <td>-84.032608</td>\n",
       "      <td>NaN</td>\n",
       "      <td>NaN</td>\n",
       "    </tr>\n",
       "    <tr>\n",
       "      <td>3</td>\n",
       "      <td>39.747753</td>\n",
       "      <td>-84.205582</td>\n",
       "      <td>NaN</td>\n",
       "      <td>NaN</td>\n",
       "    </tr>\n",
       "    <tr>\n",
       "      <td>4</td>\n",
       "      <td>39.627781</td>\n",
       "      <td>-84.188354</td>\n",
       "      <td>NaN</td>\n",
       "      <td>NaN</td>\n",
       "    </tr>\n",
       "    <tr>\n",
       "      <td>5</td>\n",
       "      <td>40.100590</td>\n",
       "      <td>-82.925194</td>\n",
       "      <td>NaN</td>\n",
       "      <td>NaN</td>\n",
       "    </tr>\n",
       "    <tr>\n",
       "      <td>6</td>\n",
       "      <td>39.758274</td>\n",
       "      <td>-84.230507</td>\n",
       "      <td>NaN</td>\n",
       "      <td>NaN</td>\n",
       "    </tr>\n",
       "    <tr>\n",
       "      <td>7</td>\n",
       "      <td>39.770382</td>\n",
       "      <td>-84.194901</td>\n",
       "      <td>NaN</td>\n",
       "      <td>NaN</td>\n",
       "    </tr>\n",
       "    <tr>\n",
       "      <td>8</td>\n",
       "      <td>39.778061</td>\n",
       "      <td>-84.172005</td>\n",
       "      <td>NaN</td>\n",
       "      <td>NaN</td>\n",
       "    </tr>\n",
       "    <tr>\n",
       "      <td>9</td>\n",
       "      <td>40.100590</td>\n",
       "      <td>-82.925194</td>\n",
       "      <td>NaN</td>\n",
       "      <td>NaN</td>\n",
       "    </tr>\n",
       "  </tbody>\n",
       "</table>\n",
       "</div>"
      ],
      "text/plain": [
       "   Start_Lat  Start_Lng  End_Lat  End_Lng\n",
       "0  39.865147 -84.058723      NaN      NaN\n",
       "1  39.928059 -82.831184      NaN      NaN\n",
       "2  39.063148 -84.032608      NaN      NaN\n",
       "3  39.747753 -84.205582      NaN      NaN\n",
       "4  39.627781 -84.188354      NaN      NaN\n",
       "5  40.100590 -82.925194      NaN      NaN\n",
       "6  39.758274 -84.230507      NaN      NaN\n",
       "7  39.770382 -84.194901      NaN      NaN\n",
       "8  39.778061 -84.172005      NaN      NaN\n",
       "9  40.100590 -82.925194      NaN      NaN"
      ]
     },
     "execution_count": 25,
     "metadata": {},
     "output_type": "execute_result"
    }
   ],
   "source": [
    "#The next columns are Latitudes and Longitudes, it might be hard to use them directly, \n",
    "#but I am thinking about using K-means to group them into 10 geo-spacial areas\n",
    "\n",
    "#Let's look at some sample data first\n",
    "df[['Start_Lat', 'Start_Lng', 'End_Lat', 'End_Lng']].head(10)"
   ]
  },
  {
   "cell_type": "code",
   "execution_count": 26,
   "metadata": {
    "scrolled": true
   },
   "outputs": [
    {
     "data": {
      "text/plain": [
       "End_Lat                  1727177\n",
       "End_Lng                  1727177\n",
       "Description                    1\n",
       "Number                   1458402\n",
       "City                          68\n",
       "Zipcode                      646\n",
       "Timezone                    2141\n",
       "Airport_Code               23664\n",
       "Weather_Timestamp          47170\n",
       "Temperature(F)             62265\n",
       "Wind_Chill(F)            1852370\n",
       "Humidity(%)                64467\n",
       "Pressure(in)               57280\n",
       "Visibility(mi)             71360\n",
       "Wind_Direction             47190\n",
       "Wind_Speed(mph)           442954\n",
       "Precipitation(in)        1979466\n",
       "Weather_Condition          72004\n",
       "Sunrise_Sunset                78\n",
       "Civil_Twilight                78\n",
       "Nautical_Twilight             78\n",
       "Astronomical_Twilight         78\n",
       "dtype: int64"
      ]
     },
     "execution_count": 26,
     "metadata": {},
     "output_type": "execute_result"
    }
   ],
   "source": [
    "#End_Lat and End_Lng have many missing values concurring with our earlier findings\n",
    "#So we would drop End_Lat and End_Lng and only use Start_Lat and Start_Lng for K-means\n",
    "#Actually, here, why not we just drop all the columns that have a lot of missing values altogether?\n",
    "#Again, the missing value columns are\n",
    "cols_missing_vals = df.isna().sum()[lambda x: x > 0]\n",
    "cols_missing_vals"
   ]
  },
  {
   "cell_type": "code",
   "execution_count": 27,
   "metadata": {},
   "outputs": [
    {
     "data": {
      "text/plain": [
       "2243939"
      ]
     },
     "execution_count": 27,
     "metadata": {},
     "output_type": "execute_result"
    }
   ],
   "source": [
    "#The total # of rows of the df is\n",
    "num_rows = len(df.index)\n",
    "num_rows"
   ]
  },
  {
   "cell_type": "code",
   "execution_count": 28,
   "metadata": {},
   "outputs": [
    {
     "data": {
      "text/plain": [
       "End_Lat              1727177\n",
       "End_Lng              1727177\n",
       "Number               1458402\n",
       "Wind_Chill(F)        1852370\n",
       "Wind_Speed(mph)       442954\n",
       "Precipitation(in)    1979466\n",
       "dtype: int64"
      ]
     },
     "execution_count": 28,
     "metadata": {},
     "output_type": "execute_result"
    }
   ],
   "source": [
    "#Let's say we do not want columns that is missing over 5% of the data\n",
    "cols_to_drop = cols_missing_vals[lambda x: x > num_rows * 0.05]\n",
    "cols_to_drop"
   ]
  },
  {
   "cell_type": "code",
   "execution_count": 29,
   "metadata": {},
   "outputs": [],
   "source": [
    "#Now drop the columns from df\n",
    "df.drop(cols_to_drop.index, axis = 1, inplace = True)"
   ]
  },
  {
   "cell_type": "code",
   "execution_count": 30,
   "metadata": {},
   "outputs": [
    {
     "data": {
      "text/plain": [
       "<matplotlib.axes._subplots.AxesSubplot at 0x22de4afa348>"
      ]
     },
     "execution_count": 30,
     "metadata": {},
     "output_type": "execute_result"
    },
    {
     "data": {
      "image/png": "[encoded data removed]",
      "text/plain": [
       "<Figure size 432x288 with 1 Axes>"
      ]
     },
     "metadata": {},
     "output_type": "display_data"
    }
   ],
   "source": [
    "#Now Let's see if we can use kdeplot on a SAMPLE of df to visualize density of Start_Lng vs. Start_Lat\n",
    "df_sample = df.sample(10000)\n",
    "sns.kdeplot(df_sample['Start_Lng'], df_sample['Start_Lat'], shade = True)"
   ]
  },
  {
   "cell_type": "markdown",
   "metadata": {},
   "source": [
    "Imagine overlapping the kde plot with the map of the United States, it seems many accidents took place on west coast and east coast (with some down south also), which makes sense"
   ]
  },
  {
   "cell_type": "code",
   "execution_count": 31,
   "metadata": {},
   "outputs": [],
   "source": [
    "#Now implement K-means to find 10 clusters\n",
    "#reference on elbow method (not used here): https://towardsdatascience.com/machine-learning-algorithms-part-9-k-means-example-in-python-f2ad05ed5203\n",
    "from sklearn.cluster import KMeans"
   ]
  },
  {
   "cell_type": "code",
   "execution_count": 32,
   "metadata": {},
   "outputs": [],
   "source": [
    "X = df[['Start_Lat', 'Start_Lng']]\n",
    "kmeans = KMeans(n_clusters = 10)\n",
    "geo_cluster = kmeans.fit_predict(X)\n",
    "df['Geo_Cluster'] = geo_cluster"
   ]
  },
  {
   "cell_type": "code",
   "execution_count": 33,
   "metadata": {},
   "outputs": [],
   "source": [
    "#Now we can drop Start_Lat and Start_Lng\n",
    "df.drop(['Start_Lat', 'Start_Lng'], axis = 1, inplace = True)"
   ]
  },
  {
   "cell_type": "markdown",
   "metadata": {},
   "source": [
    "#### Additional visualizations showing different data properties/relationships"
   ]
  },
  {
   "cell_type": "code",
   "execution_count": 34,
   "metadata": {},
   "outputs": [
    {
     "data": {
      "image/png": "[encoded data removed]",
      "text/plain": [
       "<Figure size 576x432 with 1 Axes>"
      ]
     },
     "metadata": {},
     "output_type": "display_data"
    }
   ],
   "source": [
    "#Top 10 states for accidents\n",
    "fig, ax = plt.subplots(figsize = (8, 6))\n",
    "\n",
    "temp = df['State'].value_counts().head(10)\n",
    "sns.barplot(temp.index, temp.values, ax = ax)\n",
    "\n",
    "ax.set_xlabel('States')\n",
    "ax.set_ylabel('# of Accidents')\n",
    "\n",
    "del temp"
   ]
  },
  {
   "cell_type": "code",
   "execution_count": 35,
   "metadata": {},
   "outputs": [
    {
     "data": {
      "text/plain": [
       "<matplotlib.axes._subplots.AxesSubplot at 0x22dee19bb88>"
      ]
     },
     "execution_count": 35,
     "metadata": {},
     "output_type": "execute_result"
    },
    {
     "data": {
      "image/png": "[encoded data removed]",
      "text/plain": [
       "<Figure size 432x288 with 1 Axes>"
      ]
     },
     "metadata": {},
     "output_type": "display_data"
    }
   ],
   "source": [
    "#Distribution of Temperature(F)\n",
    "sns.distplot(df['Temperature(F)'].dropna())"
   ]
  },
  {
   "cell_type": "code",
   "execution_count": 36,
   "metadata": {},
   "outputs": [
    {
     "data": {
      "image/png": "[encoded data removed]",
      "text/plain": [
       "<Figure size 576x432 with 1 Axes>"
      ]
     },
     "metadata": {},
     "output_type": "display_data"
    }
   ],
   "source": [
    "#Weather conditions where most accidents happen\n",
    "fig, ax = plt.subplots(figsize = (8, 6))\n",
    "\n",
    "temp = df['Weather_Condition'].value_counts().head(10)\n",
    "sns.barplot(temp.index, temp.values, ax = ax)\n",
    "\n",
    "ax.set_xlabel('Weather_Condition')\n",
    "ax.set_ylabel('# of Accidents')\n",
    "\n",
    "ax.set_xticklabels(ax.get_xticklabels(), rotation=45)\n",
    "\n",
    "del temp"
   ]
  },
  {
   "cell_type": "markdown",
   "metadata": {},
   "source": [
    "Most accidents took place because of clear sky? Or it is just clear sky most likely to take place?..."
   ]
  },
  {
   "cell_type": "markdown",
   "metadata": {},
   "source": [
    "-------------------------------------------------------------------------------------------"
   ]
  },
  {
   "cell_type": "code",
   "execution_count": 37,
   "metadata": {},
   "outputs": [],
   "source": [
    "#What I am going to do next is to drop the features that we are not going to use in this analysis\n",
    "df.drop(['Description', 'Street', 'Side', 'City', 'County', 'State', 'Zipcode', 'Country', 'Airport_Code', 'Weather_Timestamp', \n",
    "        'Sunrise_Sunset', 'Civil_Twilight', 'Nautical_Twilight', 'Astronomical_Twilight'], axis = 1, inplace = True)"
   ]
  },
  {
   "cell_type": "code",
   "execution_count": 38,
   "metadata": {},
   "outputs": [
    {
     "name": "stdout",
     "output_type": "stream",
     "text": [
      "<class 'pandas.core.frame.DataFrame'>\n",
      "RangeIndex: 2243939 entries, 0 to 2243938\n",
      "Data columns (total 29 columns):\n",
      "ID                   object\n",
      "Source               object\n",
      "Severity             int64\n",
      "Distance(mi)         float64\n",
      "Timezone             object\n",
      "Temperature(F)       float64\n",
      "Humidity(%)          float64\n",
      "Pressure(in)         float64\n",
      "Visibility(mi)       float64\n",
      "Wind_Direction       object\n",
      "Weather_Condition    object\n",
      "Amenity              bool\n",
      "Bump                 bool\n",
      "Crossing             bool\n",
      "Give_Way             bool\n",
      "Junction             bool\n",
      "No_Exit              bool\n",
      "Railway              bool\n",
      "Roundabout           bool\n",
      "Station              bool\n",
      "Stop                 bool\n",
      "Traffic_Calming      bool\n",
      "Traffic_Signal       bool\n",
      "Turning_Loop         bool\n",
      "Time_Diff            float64\n",
      "Morning              int64\n",
      "Afternoon            int64\n",
      "Evening              int64\n",
      "Geo_Cluster          int32\n",
      "dtypes: bool(13), float64(6), int32(1), int64(4), object(5)\n",
      "memory usage: 293.2+ MB\n"
     ]
    }
   ],
   "source": [
    "#Lets see the columns that are left\n",
    "df.info()"
   ]
  },
  {
   "cell_type": "code",
   "execution_count": 39,
   "metadata": {
    "scrolled": true
   },
   "outputs": [
    {
     "name": "stdout",
     "output_type": "stream",
     "text": [
      "<class 'pandas.core.frame.DataFrame'>\n",
      "RangeIndex: 2243939 entries, 0 to 2243938\n",
      "Data columns (total 7 columns):\n",
      "Timezone             object\n",
      "Temperature(F)       float64\n",
      "Humidity(%)          float64\n",
      "Pressure(in)         float64\n",
      "Visibility(mi)       float64\n",
      "Wind_Direction       object\n",
      "Weather_Condition    object\n",
      "dtypes: float64(4), object(3)\n",
      "memory usage: 119.8+ MB\n"
     ]
    }
   ],
   "source": [
    "#Missing Value Cols\n",
    "cols_missing_vals = df.isna().sum()[lambda x: x > 0].index\n",
    "df[cols_missing_vals].info()"
   ]
  },
  {
   "cell_type": "code",
   "execution_count": 40,
   "metadata": {},
   "outputs": [],
   "source": [
    "#We would fill missing value cols by data type\n",
    "def fill_missing_values(col_name):\n",
    "    #For float64, we fill using median\n",
    "    if df[col_name].dtype == np.float64:\n",
    "        df[col_name].fillna(df[col_name].median(), inplace = True)\n",
    "    #For objects, we use existing distribution\n",
    "    else:\n",
    "        nas = df[col_name].isna()\n",
    "        df.loc[nas, col_name] = df.loc[~nas, col_name].sample(nas.sum(), replace = True).values"
   ]
  },
  {
   "cell_type": "code",
   "execution_count": 41,
   "metadata": {},
   "outputs": [],
   "source": [
    "for col_name in cols_missing_vals:\n",
    "    fill_missing_values(col_name)"
   ]
  },
  {
   "cell_type": "code",
   "execution_count": 42,
   "metadata": {},
   "outputs": [
    {
     "data": {
      "text/plain": [
       "ID                   False\n",
       "Source               False\n",
       "Severity             False\n",
       "Distance(mi)         False\n",
       "Timezone             False\n",
       "Temperature(F)       False\n",
       "Humidity(%)          False\n",
       "Pressure(in)         False\n",
       "Visibility(mi)       False\n",
       "Wind_Direction       False\n",
       "Weather_Condition    False\n",
       "Amenity              False\n",
       "Bump                 False\n",
       "Crossing             False\n",
       "Give_Way             False\n",
       "Junction             False\n",
       "No_Exit              False\n",
       "Railway              False\n",
       "Roundabout           False\n",
       "Station              False\n",
       "Stop                 False\n",
       "Traffic_Calming      False\n",
       "Traffic_Signal       False\n",
       "Turning_Loop         False\n",
       "Time_Diff            False\n",
       "Morning              False\n",
       "Afternoon            False\n",
       "Evening              False\n",
       "Geo_Cluster          False\n",
       "dtype: bool"
      ]
     },
     "execution_count": 42,
     "metadata": {},
     "output_type": "execute_result"
    }
   ],
   "source": [
    "#Now check for columns missing data again\n",
    "df.isna().any()"
   ]
  },
  {
   "cell_type": "code",
   "execution_count": 43,
   "metadata": {},
   "outputs": [
    {
     "data": {
      "text/html": [
       "<div>\n",
       "<style scoped>\n",
       "    .dataframe tbody tr th:only-of-type {\n",
       "        vertical-align: middle;\n",
       "    }\n",
       "\n",
       "    .dataframe tbody tr th {\n",
       "        vertical-align: top;\n",
       "    }\n",
       "\n",
       "    .dataframe thead th {\n",
       "        text-align: right;\n",
       "    }\n",
       "</style>\n",
       "<table border=\"1\" class=\"dataframe\">\n",
       "  <thead>\n",
       "    <tr style=\"text-align: right;\">\n",
       "      <th></th>\n",
       "      <th>Severity</th>\n",
       "      <th>Distance(mi)</th>\n",
       "      <th>Temperature(F)</th>\n",
       "      <th>Humidity(%)</th>\n",
       "      <th>Pressure(in)</th>\n",
       "      <th>Visibility(mi)</th>\n",
       "      <th>Amenity</th>\n",
       "      <th>Bump</th>\n",
       "      <th>Crossing</th>\n",
       "      <th>Give_Way</th>\n",
       "      <th>...</th>\n",
       "      <th>Station</th>\n",
       "      <th>Stop</th>\n",
       "      <th>Traffic_Calming</th>\n",
       "      <th>Traffic_Signal</th>\n",
       "      <th>Turning_Loop</th>\n",
       "      <th>Time_Diff</th>\n",
       "      <th>Morning</th>\n",
       "      <th>Afternoon</th>\n",
       "      <th>Evening</th>\n",
       "      <th>Geo_Cluster</th>\n",
       "    </tr>\n",
       "  </thead>\n",
       "  <tbody>\n",
       "    <tr>\n",
       "      <td>Severity</td>\n",
       "      <td>1.000000</td>\n",
       "      <td>0.136822</td>\n",
       "      <td>-0.032561</td>\n",
       "      <td>0.018960</td>\n",
       "      <td>-0.012144</td>\n",
       "      <td>-0.007974</td>\n",
       "      <td>-0.052252</td>\n",
       "      <td>-0.006331</td>\n",
       "      <td>-0.118745</td>\n",
       "      <td>-0.005312</td>\n",
       "      <td>...</td>\n",
       "      <td>-0.043621</td>\n",
       "      <td>-0.046646</td>\n",
       "      <td>-0.007316</td>\n",
       "      <td>-0.197374</td>\n",
       "      <td>NaN</td>\n",
       "      <td>0.019895</td>\n",
       "      <td>-0.073392</td>\n",
       "      <td>-0.006822</td>\n",
       "      <td>0.092129</td>\n",
       "      <td>0.043231</td>\n",
       "    </tr>\n",
       "    <tr>\n",
       "      <td>Distance(mi)</td>\n",
       "      <td>0.136822</td>\n",
       "      <td>1.000000</td>\n",
       "      <td>-0.049843</td>\n",
       "      <td>0.018835</td>\n",
       "      <td>-0.003433</td>\n",
       "      <td>-0.012704</td>\n",
       "      <td>-0.016981</td>\n",
       "      <td>-0.001722</td>\n",
       "      <td>-0.038112</td>\n",
       "      <td>-0.003188</td>\n",
       "      <td>...</td>\n",
       "      <td>-0.020186</td>\n",
       "      <td>-0.008485</td>\n",
       "      <td>-0.002062</td>\n",
       "      <td>-0.068634</td>\n",
       "      <td>NaN</td>\n",
       "      <td>0.018079</td>\n",
       "      <td>-0.016928</td>\n",
       "      <td>-0.001257</td>\n",
       "      <td>0.020895</td>\n",
       "      <td>0.063890</td>\n",
       "    </tr>\n",
       "    <tr>\n",
       "      <td>Temperature(F)</td>\n",
       "      <td>-0.032561</td>\n",
       "      <td>-0.049843</td>\n",
       "      <td>1.000000</td>\n",
       "      <td>-0.299716</td>\n",
       "      <td>-0.278489</td>\n",
       "      <td>0.166273</td>\n",
       "      <td>-0.001744</td>\n",
       "      <td>-0.000222</td>\n",
       "      <td>0.023658</td>\n",
       "      <td>0.000737</td>\n",
       "      <td>...</td>\n",
       "      <td>0.010070</td>\n",
       "      <td>-0.005314</td>\n",
       "      <td>-0.001578</td>\n",
       "      <td>0.051597</td>\n",
       "      <td>NaN</td>\n",
       "      <td>-0.001099</td>\n",
       "      <td>-0.183680</td>\n",
       "      <td>0.243624</td>\n",
       "      <td>-0.061132</td>\n",
       "      <td>0.009036</td>\n",
       "    </tr>\n",
       "    <tr>\n",
       "      <td>Humidity(%)</td>\n",
       "      <td>0.018960</td>\n",
       "      <td>0.018835</td>\n",
       "      <td>-0.299716</td>\n",
       "      <td>1.000000</td>\n",
       "      <td>-0.026362</td>\n",
       "      <td>-0.376826</td>\n",
       "      <td>-0.003052</td>\n",
       "      <td>-0.001080</td>\n",
       "      <td>-0.029944</td>\n",
       "      <td>0.004173</td>\n",
       "      <td>...</td>\n",
       "      <td>-0.003049</td>\n",
       "      <td>-0.011646</td>\n",
       "      <td>0.000820</td>\n",
       "      <td>-0.021164</td>\n",
       "      <td>NaN</td>\n",
       "      <td>-0.000968</td>\n",
       "      <td>0.275221</td>\n",
       "      <td>-0.371596</td>\n",
       "      <td>0.098936</td>\n",
       "      <td>0.024745</td>\n",
       "    </tr>\n",
       "    <tr>\n",
       "      <td>Pressure(in)</td>\n",
       "      <td>-0.012144</td>\n",
       "      <td>-0.003433</td>\n",
       "      <td>-0.278489</td>\n",
       "      <td>-0.026362</td>\n",
       "      <td>1.000000</td>\n",
       "      <td>0.062927</td>\n",
       "      <td>0.003092</td>\n",
       "      <td>-0.000399</td>\n",
       "      <td>0.007290</td>\n",
       "      <td>0.004042</td>\n",
       "      <td>...</td>\n",
       "      <td>-0.000979</td>\n",
       "      <td>-0.002262</td>\n",
       "      <td>0.000424</td>\n",
       "      <td>0.016675</td>\n",
       "      <td>NaN</td>\n",
       "      <td>-0.001431</td>\n",
       "      <td>0.110826</td>\n",
       "      <td>-0.071016</td>\n",
       "      <td>-0.048129</td>\n",
       "      <td>0.016007</td>\n",
       "    </tr>\n",
       "    <tr>\n",
       "      <td>Visibility(mi)</td>\n",
       "      <td>-0.007974</td>\n",
       "      <td>-0.012704</td>\n",
       "      <td>0.166273</td>\n",
       "      <td>-0.376826</td>\n",
       "      <td>0.062927</td>\n",
       "      <td>1.000000</td>\n",
       "      <td>0.004701</td>\n",
       "      <td>0.000459</td>\n",
       "      <td>0.032490</td>\n",
       "      <td>-0.000652</td>\n",
       "      <td>...</td>\n",
       "      <td>0.006853</td>\n",
       "      <td>0.001426</td>\n",
       "      <td>0.000366</td>\n",
       "      <td>0.025239</td>\n",
       "      <td>NaN</td>\n",
       "      <td>0.001304</td>\n",
       "      <td>-0.074989</td>\n",
       "      <td>0.069097</td>\n",
       "      <td>0.009018</td>\n",
       "      <td>0.044721</td>\n",
       "    </tr>\n",
       "    <tr>\n",
       "      <td>Amenity</td>\n",
       "      <td>-0.052252</td>\n",
       "      <td>-0.016981</td>\n",
       "      <td>-0.001744</td>\n",
       "      <td>-0.003052</td>\n",
       "      <td>0.003092</td>\n",
       "      <td>0.004701</td>\n",
       "      <td>1.000000</td>\n",
       "      <td>0.003727</td>\n",
       "      <td>0.110355</td>\n",
       "      <td>0.001028</td>\n",
       "      <td>...</td>\n",
       "      <td>0.190694</td>\n",
       "      <td>0.025075</td>\n",
       "      <td>0.003727</td>\n",
       "      <td>0.100115</td>\n",
       "      <td>NaN</td>\n",
       "      <td>-0.001608</td>\n",
       "      <td>0.000233</td>\n",
       "      <td>0.000984</td>\n",
       "      <td>-0.001370</td>\n",
       "      <td>0.007344</td>\n",
       "    </tr>\n",
       "    <tr>\n",
       "      <td>Bump</td>\n",
       "      <td>-0.006331</td>\n",
       "      <td>-0.001722</td>\n",
       "      <td>-0.000222</td>\n",
       "      <td>-0.001080</td>\n",
       "      <td>-0.000399</td>\n",
       "      <td>0.000459</td>\n",
       "      <td>0.003727</td>\n",
       "      <td>1.000000</td>\n",
       "      <td>0.004771</td>\n",
       "      <td>-0.000474</td>\n",
       "      <td>...</td>\n",
       "      <td>0.001762</td>\n",
       "      <td>0.012195</td>\n",
       "      <td>0.621825</td>\n",
       "      <td>-0.002498</td>\n",
       "      <td>NaN</td>\n",
       "      <td>-0.000188</td>\n",
       "      <td>0.000569</td>\n",
       "      <td>-0.000650</td>\n",
       "      <td>0.000072</td>\n",
       "      <td>0.000861</td>\n",
       "    </tr>\n",
       "    <tr>\n",
       "      <td>Crossing</td>\n",
       "      <td>-0.118745</td>\n",
       "      <td>-0.038112</td>\n",
       "      <td>0.023658</td>\n",
       "      <td>-0.029944</td>\n",
       "      <td>0.007290</td>\n",
       "      <td>0.032490</td>\n",
       "      <td>0.110355</td>\n",
       "      <td>0.004771</td>\n",
       "      <td>1.000000</td>\n",
       "      <td>0.067749</td>\n",
       "      <td>...</td>\n",
       "      <td>0.082567</td>\n",
       "      <td>0.055757</td>\n",
       "      <td>0.010368</td>\n",
       "      <td>0.403208</td>\n",
       "      <td>NaN</td>\n",
       "      <td>-0.002585</td>\n",
       "      <td>0.019223</td>\n",
       "      <td>0.001290</td>\n",
       "      <td>-0.023574</td>\n",
       "      <td>0.050451</td>\n",
       "    </tr>\n",
       "    <tr>\n",
       "      <td>Give_Way</td>\n",
       "      <td>-0.005312</td>\n",
       "      <td>-0.003188</td>\n",
       "      <td>0.000737</td>\n",
       "      <td>0.004173</td>\n",
       "      <td>0.004042</td>\n",
       "      <td>-0.000652</td>\n",
       "      <td>0.001028</td>\n",
       "      <td>-0.000474</td>\n",
       "      <td>0.067749</td>\n",
       "      <td>1.000000</td>\n",
       "      <td>...</td>\n",
       "      <td>0.000057</td>\n",
       "      <td>0.045447</td>\n",
       "      <td>0.004511</td>\n",
       "      <td>0.044548</td>\n",
       "      <td>NaN</td>\n",
       "      <td>-0.000492</td>\n",
       "      <td>0.000975</td>\n",
       "      <td>0.001425</td>\n",
       "      <td>-0.002717</td>\n",
       "      <td>0.003650</td>\n",
       "    </tr>\n",
       "    <tr>\n",
       "      <td>Junction</td>\n",
       "      <td>0.062770</td>\n",
       "      <td>0.039494</td>\n",
       "      <td>-0.004487</td>\n",
       "      <td>-0.004763</td>\n",
       "      <td>-0.016258</td>\n",
       "      <td>-0.002570</td>\n",
       "      <td>-0.028012</td>\n",
       "      <td>-0.002803</td>\n",
       "      <td>-0.067727</td>\n",
       "      <td>-0.007537</td>\n",
       "      <td>...</td>\n",
       "      <td>-0.030419</td>\n",
       "      <td>-0.028101</td>\n",
       "      <td>-0.002291</td>\n",
       "      <td>-0.119177</td>\n",
       "      <td>NaN</td>\n",
       "      <td>0.008934</td>\n",
       "      <td>-0.022922</td>\n",
       "      <td>0.007270</td>\n",
       "      <td>0.018256</td>\n",
       "      <td>-0.006175</td>\n",
       "    </tr>\n",
       "    <tr>\n",
       "      <td>No_Exit</td>\n",
       "      <td>-0.004208</td>\n",
       "      <td>-0.003002</td>\n",
       "      <td>0.004598</td>\n",
       "      <td>-0.008481</td>\n",
       "      <td>-0.002025</td>\n",
       "      <td>0.013127</td>\n",
       "      <td>0.006564</td>\n",
       "      <td>0.001070</td>\n",
       "      <td>0.052667</td>\n",
       "      <td>0.044911</td>\n",
       "      <td>...</td>\n",
       "      <td>0.005014</td>\n",
       "      <td>0.006586</td>\n",
       "      <td>0.000349</td>\n",
       "      <td>0.022001</td>\n",
       "      <td>NaN</td>\n",
       "      <td>-0.000267</td>\n",
       "      <td>0.002515</td>\n",
       "      <td>0.000542</td>\n",
       "      <td>-0.003502</td>\n",
       "      <td>0.006130</td>\n",
       "    </tr>\n",
       "    <tr>\n",
       "      <td>Railway</td>\n",
       "      <td>-0.022700</td>\n",
       "      <td>-0.011910</td>\n",
       "      <td>0.004959</td>\n",
       "      <td>-0.001808</td>\n",
       "      <td>-0.000145</td>\n",
       "      <td>0.002808</td>\n",
       "      <td>0.038894</td>\n",
       "      <td>0.000511</td>\n",
       "      <td>0.274115</td>\n",
       "      <td>-0.001118</td>\n",
       "      <td>...</td>\n",
       "      <td>0.151248</td>\n",
       "      <td>0.010972</td>\n",
       "      <td>-0.000602</td>\n",
       "      <td>0.053362</td>\n",
       "      <td>NaN</td>\n",
       "      <td>-0.001056</td>\n",
       "      <td>0.000606</td>\n",
       "      <td>-0.003288</td>\n",
       "      <td>0.002981</td>\n",
       "      <td>-0.013788</td>\n",
       "    </tr>\n",
       "    <tr>\n",
       "      <td>Roundabout</td>\n",
       "      <td>-0.004192</td>\n",
       "      <td>-0.001347</td>\n",
       "      <td>-0.000408</td>\n",
       "      <td>0.001358</td>\n",
       "      <td>0.001750</td>\n",
       "      <td>0.000268</td>\n",
       "      <td>0.000286</td>\n",
       "      <td>-0.000078</td>\n",
       "      <td>-0.000768</td>\n",
       "      <td>-0.000347</td>\n",
       "      <td>...</td>\n",
       "      <td>-0.000031</td>\n",
       "      <td>0.004670</td>\n",
       "      <td>0.006987</td>\n",
       "      <td>-0.003133</td>\n",
       "      <td>NaN</td>\n",
       "      <td>-0.000146</td>\n",
       "      <td>0.000452</td>\n",
       "      <td>-0.000628</td>\n",
       "      <td>0.000182</td>\n",
       "      <td>0.002962</td>\n",
       "    </tr>\n",
       "    <tr>\n",
       "      <td>Station</td>\n",
       "      <td>-0.043621</td>\n",
       "      <td>-0.020186</td>\n",
       "      <td>0.010070</td>\n",
       "      <td>-0.003049</td>\n",
       "      <td>-0.000979</td>\n",
       "      <td>0.006853</td>\n",
       "      <td>0.190694</td>\n",
       "      <td>0.001762</td>\n",
       "      <td>0.082567</td>\n",
       "      <td>0.000057</td>\n",
       "      <td>...</td>\n",
       "      <td>1.000000</td>\n",
       "      <td>0.016794</td>\n",
       "      <td>0.002562</td>\n",
       "      <td>0.110963</td>\n",
       "      <td>NaN</td>\n",
       "      <td>-0.001517</td>\n",
       "      <td>0.002940</td>\n",
       "      <td>-0.003005</td>\n",
       "      <td>-0.000023</td>\n",
       "      <td>0.032676</td>\n",
       "    </tr>\n",
       "    <tr>\n",
       "      <td>Stop</td>\n",
       "      <td>-0.046646</td>\n",
       "      <td>-0.008485</td>\n",
       "      <td>-0.005314</td>\n",
       "      <td>-0.011646</td>\n",
       "      <td>-0.002262</td>\n",
       "      <td>0.001426</td>\n",
       "      <td>0.025075</td>\n",
       "      <td>0.012195</td>\n",
       "      <td>0.055757</td>\n",
       "      <td>0.045447</td>\n",
       "      <td>...</td>\n",
       "      <td>0.016794</td>\n",
       "      <td>1.000000</td>\n",
       "      <td>0.018085</td>\n",
       "      <td>-0.031087</td>\n",
       "      <td>NaN</td>\n",
       "      <td>-0.001401</td>\n",
       "      <td>0.002247</td>\n",
       "      <td>-0.002338</td>\n",
       "      <td>0.000029</td>\n",
       "      <td>-0.020587</td>\n",
       "    </tr>\n",
       "    <tr>\n",
       "      <td>Traffic_Calming</td>\n",
       "      <td>-0.007316</td>\n",
       "      <td>-0.002062</td>\n",
       "      <td>-0.001578</td>\n",
       "      <td>0.000820</td>\n",
       "      <td>0.000424</td>\n",
       "      <td>0.000366</td>\n",
       "      <td>0.003727</td>\n",
       "      <td>0.621825</td>\n",
       "      <td>0.010368</td>\n",
       "      <td>0.004511</td>\n",
       "      <td>...</td>\n",
       "      <td>0.002562</td>\n",
       "      <td>0.018085</td>\n",
       "      <td>1.000000</td>\n",
       "      <td>-0.002402</td>\n",
       "      <td>NaN</td>\n",
       "      <td>-0.000252</td>\n",
       "      <td>-0.000010</td>\n",
       "      <td>-0.000320</td>\n",
       "      <td>0.000369</td>\n",
       "      <td>0.006503</td>\n",
       "    </tr>\n",
       "    <tr>\n",
       "      <td>Traffic_Signal</td>\n",
       "      <td>-0.197374</td>\n",
       "      <td>-0.068634</td>\n",
       "      <td>0.051597</td>\n",
       "      <td>-0.021164</td>\n",
       "      <td>0.016675</td>\n",
       "      <td>0.025239</td>\n",
       "      <td>0.100115</td>\n",
       "      <td>-0.002498</td>\n",
       "      <td>0.403208</td>\n",
       "      <td>0.044548</td>\n",
       "      <td>...</td>\n",
       "      <td>0.110963</td>\n",
       "      <td>-0.031087</td>\n",
       "      <td>-0.002402</td>\n",
       "      <td>1.000000</td>\n",
       "      <td>NaN</td>\n",
       "      <td>-0.005769</td>\n",
       "      <td>0.028639</td>\n",
       "      <td>0.006306</td>\n",
       "      <td>-0.040028</td>\n",
       "      <td>0.013481</td>\n",
       "    </tr>\n",
       "    <tr>\n",
       "      <td>Turning_Loop</td>\n",
       "      <td>NaN</td>\n",
       "      <td>NaN</td>\n",
       "      <td>NaN</td>\n",
       "      <td>NaN</td>\n",
       "      <td>NaN</td>\n",
       "      <td>NaN</td>\n",
       "      <td>NaN</td>\n",
       "      <td>NaN</td>\n",
       "      <td>NaN</td>\n",
       "      <td>NaN</td>\n",
       "      <td>...</td>\n",
       "      <td>NaN</td>\n",
       "      <td>NaN</td>\n",
       "      <td>NaN</td>\n",
       "      <td>NaN</td>\n",
       "      <td>NaN</td>\n",
       "      <td>NaN</td>\n",
       "      <td>NaN</td>\n",
       "      <td>NaN</td>\n",
       "      <td>NaN</td>\n",
       "      <td>NaN</td>\n",
       "    </tr>\n",
       "    <tr>\n",
       "      <td>Time_Diff</td>\n",
       "      <td>0.019895</td>\n",
       "      <td>0.018079</td>\n",
       "      <td>-0.001099</td>\n",
       "      <td>-0.000968</td>\n",
       "      <td>-0.001431</td>\n",
       "      <td>0.001304</td>\n",
       "      <td>-0.001608</td>\n",
       "      <td>-0.000188</td>\n",
       "      <td>-0.002585</td>\n",
       "      <td>-0.000492</td>\n",
       "      <td>...</td>\n",
       "      <td>-0.001517</td>\n",
       "      <td>-0.001401</td>\n",
       "      <td>-0.000252</td>\n",
       "      <td>-0.005769</td>\n",
       "      <td>NaN</td>\n",
       "      <td>1.000000</td>\n",
       "      <td>-0.002851</td>\n",
       "      <td>-0.000725</td>\n",
       "      <td>0.004093</td>\n",
       "      <td>0.002034</td>\n",
       "    </tr>\n",
       "    <tr>\n",
       "      <td>Morning</td>\n",
       "      <td>-0.073392</td>\n",
       "      <td>-0.016928</td>\n",
       "      <td>-0.183680</td>\n",
       "      <td>0.275221</td>\n",
       "      <td>0.110826</td>\n",
       "      <td>-0.074989</td>\n",
       "      <td>0.000233</td>\n",
       "      <td>0.000569</td>\n",
       "      <td>0.019223</td>\n",
       "      <td>0.000975</td>\n",
       "      <td>...</td>\n",
       "      <td>0.002940</td>\n",
       "      <td>0.002247</td>\n",
       "      <td>-0.000010</td>\n",
       "      <td>0.028639</td>\n",
       "      <td>NaN</td>\n",
       "      <td>-0.002851</td>\n",
       "      <td>1.000000</td>\n",
       "      <td>-0.612274</td>\n",
       "      <td>-0.466188</td>\n",
       "      <td>0.008639</td>\n",
       "    </tr>\n",
       "    <tr>\n",
       "      <td>Afternoon</td>\n",
       "      <td>-0.006822</td>\n",
       "      <td>-0.001257</td>\n",
       "      <td>0.243624</td>\n",
       "      <td>-0.371596</td>\n",
       "      <td>-0.071016</td>\n",
       "      <td>0.069097</td>\n",
       "      <td>0.000984</td>\n",
       "      <td>-0.000650</td>\n",
       "      <td>0.001290</td>\n",
       "      <td>0.001425</td>\n",
       "      <td>...</td>\n",
       "      <td>-0.003005</td>\n",
       "      <td>-0.002338</td>\n",
       "      <td>-0.000320</td>\n",
       "      <td>0.006306</td>\n",
       "      <td>NaN</td>\n",
       "      <td>-0.000725</td>\n",
       "      <td>-0.612274</td>\n",
       "      <td>1.000000</td>\n",
       "      <td>-0.414038</td>\n",
       "      <td>0.004279</td>\n",
       "    </tr>\n",
       "    <tr>\n",
       "      <td>Evening</td>\n",
       "      <td>0.092129</td>\n",
       "      <td>0.020895</td>\n",
       "      <td>-0.061132</td>\n",
       "      <td>0.098936</td>\n",
       "      <td>-0.048129</td>\n",
       "      <td>0.009018</td>\n",
       "      <td>-0.001370</td>\n",
       "      <td>0.000072</td>\n",
       "      <td>-0.023574</td>\n",
       "      <td>-0.002717</td>\n",
       "      <td>...</td>\n",
       "      <td>-0.000023</td>\n",
       "      <td>0.000029</td>\n",
       "      <td>0.000369</td>\n",
       "      <td>-0.040028</td>\n",
       "      <td>NaN</td>\n",
       "      <td>0.004093</td>\n",
       "      <td>-0.466188</td>\n",
       "      <td>-0.414038</td>\n",
       "      <td>1.000000</td>\n",
       "      <td>-0.014733</td>\n",
       "    </tr>\n",
       "    <tr>\n",
       "      <td>Geo_Cluster</td>\n",
       "      <td>0.043231</td>\n",
       "      <td>0.063890</td>\n",
       "      <td>0.009036</td>\n",
       "      <td>0.024745</td>\n",
       "      <td>0.016007</td>\n",
       "      <td>0.044721</td>\n",
       "      <td>0.007344</td>\n",
       "      <td>0.000861</td>\n",
       "      <td>0.050451</td>\n",
       "      <td>0.003650</td>\n",
       "      <td>...</td>\n",
       "      <td>0.032676</td>\n",
       "      <td>-0.020587</td>\n",
       "      <td>0.006503</td>\n",
       "      <td>0.013481</td>\n",
       "      <td>NaN</td>\n",
       "      <td>0.002034</td>\n",
       "      <td>0.008639</td>\n",
       "      <td>0.004279</td>\n",
       "      <td>-0.014733</td>\n",
       "      <td>1.000000</td>\n",
       "    </tr>\n",
       "  </tbody>\n",
       "</table>\n",
       "<p>24 rows × 24 columns</p>\n",
       "</div>"
      ],
      "text/plain": [
       "                 Severity  Distance(mi)  Temperature(F)  Humidity(%)  \\\n",
       "Severity         1.000000      0.136822       -0.032561     0.018960   \n",
       "Distance(mi)     0.136822      1.000000       -0.049843     0.018835   \n",
       "Temperature(F)  -0.032561     -0.049843        1.000000    -0.299716   \n",
       "Humidity(%)      0.018960      0.018835       -0.299716     1.000000   \n",
       "Pressure(in)    -0.012144     -0.003433       -0.278489    -0.026362   \n",
       "Visibility(mi)  -0.007974     -0.012704        0.166273    -0.376826   \n",
       "Amenity         -0.052252     -0.016981       -0.001744    -0.003052   \n",
       "Bump            -0.006331     -0.001722       -0.000222    -0.001080   \n",
       "Crossing        -0.118745     -0.038112        0.023658    -0.029944   \n",
       "Give_Way        -0.005312     -0.003188        0.000737     0.004173   \n",
       "Junction         0.062770      0.039494       -0.004487    -0.004763   \n",
       "No_Exit         -0.004208     -0.003002        0.004598    -0.008481   \n",
       "Railway         -0.022700     -0.011910        0.004959    -0.001808   \n",
       "Roundabout      -0.004192     -0.001347       -0.000408     0.001358   \n",
       "Station         -0.043621     -0.020186        0.010070    -0.003049   \n",
       "Stop            -0.046646     -0.008485       -0.005314    -0.011646   \n",
       "Traffic_Calming -0.007316     -0.002062       -0.001578     0.000820   \n",
       "Traffic_Signal  -0.197374     -0.068634        0.051597    -0.021164   \n",
       "Turning_Loop          NaN           NaN             NaN          NaN   \n",
       "Time_Diff        0.019895      0.018079       -0.001099    -0.000968   \n",
       "Morning         -0.073392     -0.016928       -0.183680     0.275221   \n",
       "Afternoon       -0.006822     -0.001257        0.243624    -0.371596   \n",
       "Evening          0.092129      0.020895       -0.061132     0.098936   \n",
       "Geo_Cluster      0.043231      0.063890        0.009036     0.024745   \n",
       "\n",
       "                 Pressure(in)  Visibility(mi)   Amenity      Bump  Crossing  \\\n",
       "Severity            -0.012144       -0.007974 -0.052252 -0.006331 -0.118745   \n",
       "Distance(mi)        -0.003433       -0.012704 -0.016981 -0.001722 -0.038112   \n",
       "Temperature(F)      -0.278489        0.166273 -0.001744 -0.000222  0.023658   \n",
       "Humidity(%)         -0.026362       -0.376826 -0.003052 -0.001080 -0.029944   \n",
       "Pressure(in)         1.000000        0.062927  0.003092 -0.000399  0.007290   \n",
       "Visibility(mi)       0.062927        1.000000  0.004701  0.000459  0.032490   \n",
       "Amenity              0.003092        0.004701  1.000000  0.003727  0.110355   \n",
       "Bump                -0.000399        0.000459  0.003727  1.000000  0.004771   \n",
       "Crossing             0.007290        0.032490  0.110355  0.004771  1.000000   \n",
       "Give_Way             0.004042       -0.000652  0.001028 -0.000474  0.067749   \n",
       "Junction            -0.016258       -0.002570 -0.028012 -0.002803 -0.067727   \n",
       "No_Exit             -0.002025        0.013127  0.006564  0.001070  0.052667   \n",
       "Railway             -0.000145        0.002808  0.038894  0.000511  0.274115   \n",
       "Roundabout           0.001750        0.000268  0.000286 -0.000078 -0.000768   \n",
       "Station             -0.000979        0.006853  0.190694  0.001762  0.082567   \n",
       "Stop                -0.002262        0.001426  0.025075  0.012195  0.055757   \n",
       "Traffic_Calming      0.000424        0.000366  0.003727  0.621825  0.010368   \n",
       "Traffic_Signal       0.016675        0.025239  0.100115 -0.002498  0.403208   \n",
       "Turning_Loop              NaN             NaN       NaN       NaN       NaN   \n",
       "Time_Diff           -0.001431        0.001304 -0.001608 -0.000188 -0.002585   \n",
       "Morning              0.110826       -0.074989  0.000233  0.000569  0.019223   \n",
       "Afternoon           -0.071016        0.069097  0.000984 -0.000650  0.001290   \n",
       "Evening             -0.048129        0.009018 -0.001370  0.000072 -0.023574   \n",
       "Geo_Cluster          0.016007        0.044721  0.007344  0.000861  0.050451   \n",
       "\n",
       "                 Give_Way  ...   Station      Stop  Traffic_Calming  \\\n",
       "Severity        -0.005312  ... -0.043621 -0.046646        -0.007316   \n",
       "Distance(mi)    -0.003188  ... -0.020186 -0.008485        -0.002062   \n",
       "Temperature(F)   0.000737  ...  0.010070 -0.005314        -0.001578   \n",
       "Humidity(%)      0.004173  ... -0.003049 -0.011646         0.000820   \n",
       "Pressure(in)     0.004042  ... -0.000979 -0.002262         0.000424   \n",
       "Visibility(mi)  -0.000652  ...  0.006853  0.001426         0.000366   \n",
       "Amenity          0.001028  ...  0.190694  0.025075         0.003727   \n",
       "Bump            -0.000474  ...  0.001762  0.012195         0.621825   \n",
       "Crossing         0.067749  ...  0.082567  0.055757         0.010368   \n",
       "Give_Way         1.000000  ...  0.000057  0.045447         0.004511   \n",
       "Junction        -0.007537  ... -0.030419 -0.028101        -0.002291   \n",
       "No_Exit          0.044911  ...  0.005014  0.006586         0.000349   \n",
       "Railway         -0.001118  ...  0.151248  0.010972        -0.000602   \n",
       "Roundabout      -0.000347  ... -0.000031  0.004670         0.006987   \n",
       "Station          0.000057  ...  1.000000  0.016794         0.002562   \n",
       "Stop             0.045447  ...  0.016794  1.000000         0.018085   \n",
       "Traffic_Calming  0.004511  ...  0.002562  0.018085         1.000000   \n",
       "Traffic_Signal   0.044548  ...  0.110963 -0.031087        -0.002402   \n",
       "Turning_Loop          NaN  ...       NaN       NaN              NaN   \n",
       "Time_Diff       -0.000492  ... -0.001517 -0.001401        -0.000252   \n",
       "Morning          0.000975  ...  0.002940  0.002247        -0.000010   \n",
       "Afternoon        0.001425  ... -0.003005 -0.002338        -0.000320   \n",
       "Evening         -0.002717  ... -0.000023  0.000029         0.000369   \n",
       "Geo_Cluster      0.003650  ...  0.032676 -0.020587         0.006503   \n",
       "\n",
       "                 Traffic_Signal  Turning_Loop  Time_Diff   Morning  Afternoon  \\\n",
       "Severity              -0.197374           NaN   0.019895 -0.073392  -0.006822   \n",
       "Distance(mi)          -0.068634           NaN   0.018079 -0.016928  -0.001257   \n",
       "Temperature(F)         0.051597           NaN  -0.001099 -0.183680   0.243624   \n",
       "Humidity(%)           -0.021164           NaN  -0.000968  0.275221  -0.371596   \n",
       "Pressure(in)           0.016675           NaN  -0.001431  0.110826  -0.071016   \n",
       "Visibility(mi)         0.025239           NaN   0.001304 -0.074989   0.069097   \n",
       "Amenity                0.100115           NaN  -0.001608  0.000233   0.000984   \n",
       "Bump                  -0.002498           NaN  -0.000188  0.000569  -0.000650   \n",
       "Crossing               0.403208           NaN  -0.002585  0.019223   0.001290   \n",
       "Give_Way               0.044548           NaN  -0.000492  0.000975   0.001425   \n",
       "Junction              -0.119177           NaN   0.008934 -0.022922   0.007270   \n",
       "No_Exit                0.022001           NaN  -0.000267  0.002515   0.000542   \n",
       "Railway                0.053362           NaN  -0.001056  0.000606  -0.003288   \n",
       "Roundabout            -0.003133           NaN  -0.000146  0.000452  -0.000628   \n",
       "Station                0.110963           NaN  -0.001517  0.002940  -0.003005   \n",
       "Stop                  -0.031087           NaN  -0.001401  0.002247  -0.002338   \n",
       "Traffic_Calming       -0.002402           NaN  -0.000252 -0.000010  -0.000320   \n",
       "Traffic_Signal         1.000000           NaN  -0.005769  0.028639   0.006306   \n",
       "Turning_Loop                NaN           NaN        NaN       NaN        NaN   \n",
       "Time_Diff             -0.005769           NaN   1.000000 -0.002851  -0.000725   \n",
       "Morning                0.028639           NaN  -0.002851  1.000000  -0.612274   \n",
       "Afternoon              0.006306           NaN  -0.000725 -0.612274   1.000000   \n",
       "Evening               -0.040028           NaN   0.004093 -0.466188  -0.414038   \n",
       "Geo_Cluster            0.013481           NaN   0.002034  0.008639   0.004279   \n",
       "\n",
       "                  Evening  Geo_Cluster  \n",
       "Severity         0.092129     0.043231  \n",
       "Distance(mi)     0.020895     0.063890  \n",
       "Temperature(F)  -0.061132     0.009036  \n",
       "Humidity(%)      0.098936     0.024745  \n",
       "Pressure(in)    -0.048129     0.016007  \n",
       "Visibility(mi)   0.009018     0.044721  \n",
       "Amenity         -0.001370     0.007344  \n",
       "Bump             0.000072     0.000861  \n",
       "Crossing        -0.023574     0.050451  \n",
       "Give_Way        -0.002717     0.003650  \n",
       "Junction         0.018256    -0.006175  \n",
       "No_Exit         -0.003502     0.006130  \n",
       "Railway          0.002981    -0.013788  \n",
       "Roundabout       0.000182     0.002962  \n",
       "Station         -0.000023     0.032676  \n",
       "Stop             0.000029    -0.020587  \n",
       "Traffic_Calming  0.000369     0.006503  \n",
       "Traffic_Signal  -0.040028     0.013481  \n",
       "Turning_Loop          NaN          NaN  \n",
       "Time_Diff        0.004093     0.002034  \n",
       "Morning         -0.466188     0.008639  \n",
       "Afternoon       -0.414038     0.004279  \n",
       "Evening          1.000000    -0.014733  \n",
       "Geo_Cluster     -0.014733     1.000000  \n",
       "\n",
       "[24 rows x 24 columns]"
      ]
     },
     "execution_count": 43,
     "metadata": {},
     "output_type": "execute_result"
    }
   ],
   "source": [
    "#Now let's find correlations between features\n",
    "df.corr()"
   ]
  },
  {
   "cell_type": "code",
   "execution_count": 44,
   "metadata": {},
   "outputs": [
    {
     "data": {
      "text/plain": [
       "False    2243939\n",
       "Name: Turning_Loop, dtype: int64"
      ]
     },
     "execution_count": 44,
     "metadata": {},
     "output_type": "execute_result"
    }
   ],
   "source": [
    "#Something seems to be off for Turning_Loop, let's inspect it\n",
    "df['Turning_Loop'].value_counts()"
   ]
  },
  {
   "cell_type": "code",
   "execution_count": 45,
   "metadata": {},
   "outputs": [],
   "source": [
    "#It does not have any True values, so let's drop col Turning_Loop\n",
    "df.drop('Turning_Loop', axis = 1, inplace = True)"
   ]
  },
  {
   "cell_type": "code",
   "execution_count": 46,
   "metadata": {},
   "outputs": [],
   "source": [
    "df_corr = df.corr()"
   ]
  },
  {
   "cell_type": "code",
   "execution_count": 47,
   "metadata": {},
   "outputs": [
    {
     "data": {
      "text/plain": [
       "<matplotlib.axes._subplots.AxesSubplot at 0x22dee339ac8>"
      ]
     },
     "execution_count": 47,
     "metadata": {},
     "output_type": "execute_result"
    },
    {
     "data": {
      "image/png": "[encoded data removed]",
      "text/plain": [
       "<Figure size 720x576 with 2 Axes>"
      ]
     },
     "metadata": {},
     "output_type": "display_data"
    }
   ],
   "source": [
    "#Now we can visualize correlations using heatmap\n",
    "plt.figure(figsize = (10, 8))\n",
    "sns.heatmap(df_corr, linewidths=.5, cmap = 'Blues')"
   ]
  },
  {
   "cell_type": "code",
   "execution_count": 48,
   "metadata": {},
   "outputs": [
    {
     "data": {
      "text/html": [
       "<div>\n",
       "<style scoped>\n",
       "    .dataframe tbody tr th:only-of-type {\n",
       "        vertical-align: middle;\n",
       "    }\n",
       "\n",
       "    .dataframe tbody tr th {\n",
       "        vertical-align: top;\n",
       "    }\n",
       "\n",
       "    .dataframe thead th {\n",
       "        text-align: right;\n",
       "    }\n",
       "</style>\n",
       "<table border=\"1\" class=\"dataframe\">\n",
       "  <thead>\n",
       "    <tr style=\"text-align: right;\">\n",
       "      <th></th>\n",
       "      <th>ID</th>\n",
       "      <th>Source</th>\n",
       "      <th>Severity</th>\n",
       "      <th>Distance(mi)</th>\n",
       "      <th>Timezone</th>\n",
       "      <th>Temperature(F)</th>\n",
       "      <th>Humidity(%)</th>\n",
       "      <th>Pressure(in)</th>\n",
       "      <th>Visibility(mi)</th>\n",
       "      <th>Wind_Direction</th>\n",
       "      <th>Weather_Condition</th>\n",
       "      <th>Amenity</th>\n",
       "      <th>Bump</th>\n",
       "      <th>Crossing</th>\n",
       "      <th>Give_Way</th>\n",
       "      <th>Junction</th>\n",
       "      <th>No_Exit</th>\n",
       "      <th>Railway</th>\n",
       "      <th>Roundabout</th>\n",
       "      <th>Station</th>\n",
       "      <th>Stop</th>\n",
       "      <th>Traffic_Calming</th>\n",
       "      <th>Traffic_Signal</th>\n",
       "      <th>Time_Diff</th>\n",
       "      <th>Morning</th>\n",
       "      <th>Afternoon</th>\n",
       "      <th>Evening</th>\n",
       "      <th>Geo_Cluster</th>\n",
       "    </tr>\n",
       "  </thead>\n",
       "  <tbody>\n",
       "    <tr>\n",
       "      <td>0</td>\n",
       "      <td>A-1</td>\n",
       "      <td>MapQuest</td>\n",
       "      <td>3</td>\n",
       "      <td>0.01</td>\n",
       "      <td>US/Eastern</td>\n",
       "      <td>36.9</td>\n",
       "      <td>91.0</td>\n",
       "      <td>29.68</td>\n",
       "      <td>10.0</td>\n",
       "      <td>Calm</td>\n",
       "      <td>Light Rain</td>\n",
       "      <td>False</td>\n",
       "      <td>False</td>\n",
       "      <td>False</td>\n",
       "      <td>False</td>\n",
       "      <td>False</td>\n",
       "      <td>False</td>\n",
       "      <td>False</td>\n",
       "      <td>False</td>\n",
       "      <td>False</td>\n",
       "      <td>False</td>\n",
       "      <td>False</td>\n",
       "      <td>False</td>\n",
       "      <td>5.233333</td>\n",
       "      <td>0</td>\n",
       "      <td>0</td>\n",
       "      <td>1</td>\n",
       "      <td>0</td>\n",
       "    </tr>\n",
       "    <tr>\n",
       "      <td>1</td>\n",
       "      <td>A-2</td>\n",
       "      <td>MapQuest</td>\n",
       "      <td>2</td>\n",
       "      <td>0.01</td>\n",
       "      <td>US/Eastern</td>\n",
       "      <td>37.9</td>\n",
       "      <td>100.0</td>\n",
       "      <td>29.65</td>\n",
       "      <td>10.0</td>\n",
       "      <td>Calm</td>\n",
       "      <td>Light Rain</td>\n",
       "      <td>False</td>\n",
       "      <td>False</td>\n",
       "      <td>False</td>\n",
       "      <td>False</td>\n",
       "      <td>False</td>\n",
       "      <td>False</td>\n",
       "      <td>False</td>\n",
       "      <td>False</td>\n",
       "      <td>False</td>\n",
       "      <td>False</td>\n",
       "      <td>False</td>\n",
       "      <td>False</td>\n",
       "      <td>0.500000</td>\n",
       "      <td>1</td>\n",
       "      <td>0</td>\n",
       "      <td>0</td>\n",
       "      <td>0</td>\n",
       "    </tr>\n",
       "    <tr>\n",
       "      <td>2</td>\n",
       "      <td>A-3</td>\n",
       "      <td>MapQuest</td>\n",
       "      <td>2</td>\n",
       "      <td>0.01</td>\n",
       "      <td>US/Eastern</td>\n",
       "      <td>36.0</td>\n",
       "      <td>100.0</td>\n",
       "      <td>29.67</td>\n",
       "      <td>10.0</td>\n",
       "      <td>SW</td>\n",
       "      <td>Overcast</td>\n",
       "      <td>False</td>\n",
       "      <td>False</td>\n",
       "      <td>False</td>\n",
       "      <td>False</td>\n",
       "      <td>False</td>\n",
       "      <td>False</td>\n",
       "      <td>False</td>\n",
       "      <td>False</td>\n",
       "      <td>False</td>\n",
       "      <td>False</td>\n",
       "      <td>False</td>\n",
       "      <td>True</td>\n",
       "      <td>0.500000</td>\n",
       "      <td>1</td>\n",
       "      <td>0</td>\n",
       "      <td>0</td>\n",
       "      <td>0</td>\n",
       "    </tr>\n",
       "    <tr>\n",
       "      <td>3</td>\n",
       "      <td>A-4</td>\n",
       "      <td>MapQuest</td>\n",
       "      <td>3</td>\n",
       "      <td>0.01</td>\n",
       "      <td>US/Eastern</td>\n",
       "      <td>35.1</td>\n",
       "      <td>96.0</td>\n",
       "      <td>29.64</td>\n",
       "      <td>9.0</td>\n",
       "      <td>SW</td>\n",
       "      <td>Mostly Cloudy</td>\n",
       "      <td>False</td>\n",
       "      <td>False</td>\n",
       "      <td>False</td>\n",
       "      <td>False</td>\n",
       "      <td>False</td>\n",
       "      <td>False</td>\n",
       "      <td>False</td>\n",
       "      <td>False</td>\n",
       "      <td>False</td>\n",
       "      <td>False</td>\n",
       "      <td>False</td>\n",
       "      <td>False</td>\n",
       "      <td>0.500000</td>\n",
       "      <td>1</td>\n",
       "      <td>0</td>\n",
       "      <td>0</td>\n",
       "      <td>0</td>\n",
       "    </tr>\n",
       "    <tr>\n",
       "      <td>4</td>\n",
       "      <td>A-5</td>\n",
       "      <td>MapQuest</td>\n",
       "      <td>2</td>\n",
       "      <td>0.01</td>\n",
       "      <td>US/Eastern</td>\n",
       "      <td>36.0</td>\n",
       "      <td>89.0</td>\n",
       "      <td>29.65</td>\n",
       "      <td>6.0</td>\n",
       "      <td>SW</td>\n",
       "      <td>Mostly Cloudy</td>\n",
       "      <td>False</td>\n",
       "      <td>False</td>\n",
       "      <td>False</td>\n",
       "      <td>False</td>\n",
       "      <td>False</td>\n",
       "      <td>False</td>\n",
       "      <td>False</td>\n",
       "      <td>False</td>\n",
       "      <td>False</td>\n",
       "      <td>False</td>\n",
       "      <td>False</td>\n",
       "      <td>True</td>\n",
       "      <td>0.500000</td>\n",
       "      <td>1</td>\n",
       "      <td>0</td>\n",
       "      <td>0</td>\n",
       "      <td>0</td>\n",
       "    </tr>\n",
       "  </tbody>\n",
       "</table>\n",
       "</div>"
      ],
      "text/plain": [
       "    ID    Source  Severity  Distance(mi)    Timezone  Temperature(F)  \\\n",
       "0  A-1  MapQuest         3          0.01  US/Eastern            36.9   \n",
       "1  A-2  MapQuest         2          0.01  US/Eastern            37.9   \n",
       "2  A-3  MapQuest         2          0.01  US/Eastern            36.0   \n",
       "3  A-4  MapQuest         3          0.01  US/Eastern            35.1   \n",
       "4  A-5  MapQuest         2          0.01  US/Eastern            36.0   \n",
       "\n",
       "   Humidity(%)  Pressure(in)  Visibility(mi) Wind_Direction Weather_Condition  \\\n",
       "0         91.0         29.68            10.0           Calm        Light Rain   \n",
       "1        100.0         29.65            10.0           Calm        Light Rain   \n",
       "2        100.0         29.67            10.0             SW          Overcast   \n",
       "3         96.0         29.64             9.0             SW     Mostly Cloudy   \n",
       "4         89.0         29.65             6.0             SW     Mostly Cloudy   \n",
       "\n",
       "   Amenity   Bump  Crossing  Give_Way  Junction  No_Exit  Railway  Roundabout  \\\n",
       "0    False  False     False     False     False    False    False       False   \n",
       "1    False  False     False     False     False    False    False       False   \n",
       "2    False  False     False     False     False    False    False       False   \n",
       "3    False  False     False     False     False    False    False       False   \n",
       "4    False  False     False     False     False    False    False       False   \n",
       "\n",
       "   Station   Stop  Traffic_Calming  Traffic_Signal  Time_Diff  Morning  \\\n",
       "0    False  False            False           False   5.233333        0   \n",
       "1    False  False            False           False   0.500000        1   \n",
       "2    False  False            False            True   0.500000        1   \n",
       "3    False  False            False           False   0.500000        1   \n",
       "4    False  False            False            True   0.500000        1   \n",
       "\n",
       "   Afternoon  Evening  Geo_Cluster  \n",
       "0          0        1            0  \n",
       "1          0        0            0  \n",
       "2          0        0            0  \n",
       "3          0        0            0  \n",
       "4          0        0            0  "
      ]
     },
     "execution_count": 48,
     "metadata": {},
     "output_type": "execute_result"
    }
   ],
   "source": [
    "#It seems we have few variables that are highly correlated with each other, which is good.\n",
    "#Now let's take a look at our data again and see if we need additional processing on some columns\n",
    "pd.set_option('display.max_columns', None)\n",
    "df.head()"
   ]
  },
  {
   "cell_type": "code",
   "execution_count": 49,
   "metadata": {},
   "outputs": [],
   "source": [
    "#Drop ID, drop Evening because we only need Morning and Afternoon to represent all three time buckets\n",
    "df.drop(['ID', 'Evening'], axis = 1, inplace = True)"
   ]
  },
  {
   "cell_type": "code",
   "execution_count": 50,
   "metadata": {},
   "outputs": [],
   "source": [
    "#For Wind_Direction and Weather_Condition, because they have many categories, \n",
    "#we would like to narrow the categories down, see below\n",
    "df['Wind_Is_Calm'] = df['Wind_Direction'] == 'Calm'\n",
    "df['Weather_Is_Clear'] = df['Weather_Condition'] == 'Clear'\n",
    "df.drop(['Wind_Direction', 'Weather_Condition'], axis = 1, inplace = True)"
   ]
  },
  {
   "cell_type": "code",
   "execution_count": 51,
   "metadata": {},
   "outputs": [],
   "source": [
    "#Get dummies for categorical features\n",
    "df = pd.get_dummies(data = df, columns = ['Source', 'Timezone', 'Geo_Cluster'], drop_first = True)"
   ]
  },
  {
   "cell_type": "markdown",
   "metadata": {},
   "source": [
    "### Let's say if we would like to develop a model to predict the severity of the accidents"
   ]
  },
  {
   "cell_type": "code",
   "execution_count": 62,
   "metadata": {},
   "outputs": [],
   "source": [
    "X = df.drop('Severity', axis = 1)\n",
    "y = df['Severity']"
   ]
  },
  {
   "cell_type": "code",
   "execution_count": 63,
   "metadata": {
    "scrolled": true
   },
   "outputs": [],
   "source": [
    "from sklearn.model_selection import train_test_split\n",
    "X_train, X_test, y_train, y_test = train_test_split(X, y, test_size = 0.3, random_state = 1, stratify = y)"
   ]
  },
  {
   "cell_type": "code",
   "execution_count": 64,
   "metadata": {},
   "outputs": [],
   "source": [
    "#Standardize numerical features\n",
    "from sklearn.preprocessing import StandardScaler\n",
    "scaler = StandardScaler()\n",
    "\n",
    "cols_to_scale = ['Distance(mi)', 'Temperature(F)', 'Humidity(%)', 'Pressure(in)', 'Visibility(mi)', 'Time_Diff']\n",
    "\n",
    "scaler.fit(X_train[cols_to_scale])\n",
    "\n",
    "X_train_std = X_train.copy()\n",
    "X_test_std = X_test.copy()\n",
    "\n",
    "X_train_std.loc[:, cols_to_scale] = scaler.transform(X_train[cols_to_scale])\n",
    "X_test_std.loc[:, cols_to_scale] = scaler.transform(X_test[cols_to_scale])"
   ]
  },
  {
   "cell_type": "code",
   "execution_count": 61,
   "metadata": {},
   "outputs": [],
   "source": [
    "#Experiment:\n",
    "#Let's write an ovr (one-vs-rest) Logistic Regression class using gradient descent\n",
    "#We would then going to map Severity column to only two classes and apply the function\n",
    "class LogisticRegressionGD(object):\n",
    "    def __init__(self, eta = 0.1, n_iter = 30, random_state = 1):\n",
    "        '''\n",
    "        eta: learning rate\n",
    "        n_iter: number of iterations\n",
    "        '''\n",
    "        self.w_ = []\n",
    "        self.random_state = random_state\n",
    "        self.cost_ = []\n",
    "        self.eta = eta\n",
    "        self.n_iter = n_iter\n",
    "        \n",
    "    \n",
    "    def fit(self, X, y):\n",
    "        '''\n",
    "        X(n_samples, n_features)\n",
    "        y(n_samples,)\n",
    "        '''\n",
    "        _initialize_w(X)\n",
    "        \n",
    "        for _ in range(self.n_iter):\n",
    "            net_input = _net_input(X)\n",
    "            activation = _activation(net_input)\n",
    "\n",
    "            #if we forget about regularization...\n",
    "            cost = np.sum(-y * np.log(activation).ravel() - (1 - y) * np.log(1 - activation).ravel())\n",
    "            self.cost_.append(cost)\n",
    "\n",
    "            self.w_[1:] += (self.eta * X.T @ (y.reshape(-1, 1) - activation)).ravel()\n",
    "            self.w_[0] += self.eta * (y - activation.ravel()).sum()\n",
    "            \n",
    "        return self\n",
    "    \n",
    "    def _initialize_w(self, X):\n",
    "        rgen = np.random.RandomState(self.random_state)\n",
    "        self.w_ = rgen.normal(loc = 0.0, scale = 0.1, size = 1 + X.shape[1])\n",
    "        \n",
    "    def _net_input(self, X):\n",
    "        return X @ self.w_[1:].reshape(-1, 1) + self.w_[0]\n",
    "    \n",
    "    def _activation(self, z):\n",
    "        return 1 / (1 + np.exp(-np.clip(z, -250, 250)))\n",
    "        \n",
    "    def predict(self, X):\n",
    "        return np.where(_net_input(X) >= 0, 1, 0)"
   ]
  },
  {
   "cell_type": "code",
   "execution_count": 73,
   "metadata": {},
   "outputs": [
    {
     "data": {
      "text/plain": [
       "array([0, 1, 2, 3, 4], dtype=int64)"
      ]
     },
     "execution_count": 73,
     "metadata": {},
     "output_type": "execute_result"
    }
   ],
   "source": [
    "np.unique(y)"
   ]
  },
  {
   "cell_type": "code",
   "execution_count": 78,
   "metadata": {},
   "outputs": [],
   "source": [
    "y_dual_train = y_train.isin([4]).astype(int) #whether Severity is 4 or not\n",
    "y_dual_test = y_test.isin([4]).astype(int)"
   ]
  },
  {
   "cell_type": "code",
   "execution_count": null,
   "metadata": {},
   "outputs": [],
   "source": []
  }
 ],
 "metadata": {
  "kernelspec": {
   "display_name": "Python 3",
   "language": "python",
   "name": "python3"
  },
  "language_info": {
   "codemirror_mode": {
    "name": "ipython",
    "version": 3
   },
   "file_extension": ".py",
   "mimetype": "text/x-python",
   "name": "python",
   "nbconvert_exporter": "python",
   "pygments_lexer": "ipython3",
   "version": "3.7.4"
  }
 },
 "nbformat": 4,
 "nbformat_minor": 2
}
