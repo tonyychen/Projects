{
 "cells": [
  {
   "cell_type": "code",
   "execution_count": 2,
   "metadata": {},
   "outputs": [
    {
     "name": "stdout",
     "output_type": "stream",
     "text": [
      "3.7.6 (default, Jan  8 2020, 20:23:39) [MSC v.1916 64 bit (AMD64)]\n"
     ]
    }
   ],
   "source": [
    "import sys\n",
    "print(sys.version)"
   ]
  },
  {
   "cell_type": "code",
   "execution_count": 3,
   "metadata": {},
   "outputs": [],
   "source": [
    "import numpy as np\n",
    "import pandas as pd\n",
    "import json"
   ]
  },
  {
   "cell_type": "markdown",
   "metadata": {},
   "source": [
    "#### In this notebook, we are going to process reviews related to Arcadia National Park. The reviews were scraped in the previous step where we parse out the JSON containing the reviews in the html and store the JSON strings in a CSV file. Here, we are going to read the CSV file and continue our processing and analysis."
   ]
  },
  {
   "cell_type": "code",
   "execution_count": 4,
   "metadata": {},
   "outputs": [],
   "source": [
    "reviews_raw = pd.read_csv('../Data/Arcadia_Reviews.csv')"
   ]
  },
  {
   "cell_type": "code",
   "execution_count": 5,
   "metadata": {},
   "outputs": [
    {
     "data": {
      "text/html": [
       "<div>\n",
       "<style scoped>\n",
       "    .dataframe tbody tr th:only-of-type {\n",
       "        vertical-align: middle;\n",
       "    }\n",
       "\n",
       "    .dataframe tbody tr th {\n",
       "        vertical-align: top;\n",
       "    }\n",
       "\n",
       "    .dataframe thead th {\n",
       "        text-align: right;\n",
       "    }\n",
       "</style>\n",
       "<table border=\"1\" class=\"dataframe\">\n",
       "  <thead>\n",
       "    <tr style=\"text-align: right;\">\n",
       "      <th></th>\n",
       "      <th>Review_JSON</th>\n",
       "    </tr>\n",
       "  </thead>\n",
       "  <tbody>\n",
       "    <tr>\n",
       "      <th>0</th>\n",
       "      <td>{\"totalCount\": 1755, \"preferredReviewIds\": [], \"reviews\": [{\"id\": 773893210, \"url\": \"/ShowUserReviews-g60709-d12785836-r773893210-Acadia_National_Park-Bar_Harbor_Mount_Desert_Island_Maine.html\", \"...</td>\n",
       "    </tr>\n",
       "    <tr>\n",
       "      <th>1</th>\n",
       "      <td>{\"totalCount\": 1755, \"preferredReviewIds\": [], \"reviews\": [{\"id\": 772511152, \"url\": \"/ShowUserReviews-g60709-d12785836-r772511152-Acadia_National_Park-Bar_Harbor_Mount_Desert_Island_Maine.html\", \"...</td>\n",
       "    </tr>\n",
       "    <tr>\n",
       "      <th>2</th>\n",
       "      <td>{\"totalCount\": 1755, \"preferredReviewIds\": [], \"reviews\": [{\"id\": 771632030, \"url\": \"/ShowUserReviews-g60709-d12785836-r771632030-Acadia_National_Park-Bar_Harbor_Mount_Desert_Island_Maine.html\", \"...</td>\n",
       "    </tr>\n",
       "    <tr>\n",
       "      <th>3</th>\n",
       "      <td>{\"totalCount\": 1755, \"preferredReviewIds\": [], \"reviews\": [{\"id\": 770784383, \"url\": \"/ShowUserReviews-g60709-d12785836-r770784383-Acadia_National_Park-Bar_Harbor_Mount_Desert_Island_Maine.html\", \"...</td>\n",
       "    </tr>\n",
       "    <tr>\n",
       "      <th>4</th>\n",
       "      <td>{\"totalCount\": 1755, \"preferredReviewIds\": [], \"reviews\": [{\"id\": 770370519, \"url\": \"/ShowUserReviews-g60709-d12785836-r770370519-Acadia_National_Park-Bar_Harbor_Mount_Desert_Island_Maine.html\", \"...</td>\n",
       "    </tr>\n",
       "  </tbody>\n",
       "</table>\n",
       "</div>"
      ],
      "text/plain": [
       "                                                                                                                                                                                               Review_JSON\n",
       "0  {\"totalCount\": 1755, \"preferredReviewIds\": [], \"reviews\": [{\"id\": 773893210, \"url\": \"/ShowUserReviews-g60709-d12785836-r773893210-Acadia_National_Park-Bar_Harbor_Mount_Desert_Island_Maine.html\", \"...\n",
       "1  {\"totalCount\": 1755, \"preferredReviewIds\": [], \"reviews\": [{\"id\": 772511152, \"url\": \"/ShowUserReviews-g60709-d12785836-r772511152-Acadia_National_Park-Bar_Harbor_Mount_Desert_Island_Maine.html\", \"...\n",
       "2  {\"totalCount\": 1755, \"preferredReviewIds\": [], \"reviews\": [{\"id\": 771632030, \"url\": \"/ShowUserReviews-g60709-d12785836-r771632030-Acadia_National_Park-Bar_Harbor_Mount_Desert_Island_Maine.html\", \"...\n",
       "3  {\"totalCount\": 1755, \"preferredReviewIds\": [], \"reviews\": [{\"id\": 770784383, \"url\": \"/ShowUserReviews-g60709-d12785836-r770784383-Acadia_National_Park-Bar_Harbor_Mount_Desert_Island_Maine.html\", \"...\n",
       "4  {\"totalCount\": 1755, \"preferredReviewIds\": [], \"reviews\": [{\"id\": 770370519, \"url\": \"/ShowUserReviews-g60709-d12785836-r770370519-Acadia_National_Park-Bar_Harbor_Mount_Desert_Island_Maine.html\", \"..."
      ]
     },
     "execution_count": 5,
     "metadata": {},
     "output_type": "execute_result"
    }
   ],
   "source": [
    "pd.set_option('max_colwidth', 200)\n",
    "reviews_raw.head()"
   ]
  },
  {
   "cell_type": "markdown",
   "metadata": {},
   "source": [
    "Each row in the DataFrame is one page scraped and could contain multiple reviews. Thus, we would like to put all the reviews together first in a list, then process those reviews altogether."
   ]
  },
  {
   "cell_type": "code",
   "execution_count": 12,
   "metadata": {},
   "outputs": [],
   "source": [
    "data = []\n",
    "for row in reviews_raw.loc[:, 'Review_JSON']:\n",
    "    reviews = json.loads(row)['reviews']\n",
    "    \n",
    "    for review in reviews:\n",
    "        output = {}\n",
    "        output['CreatedDate'] = review.get('createdDate')\n",
    "        output['PublishedDate'] = review.get('publishedDate')\n",
    "        output['Username'] = review['userProfile'].get('username')\n",
    "        try:\n",
    "            output['Hometown'] = review['userProfile']['hometown']['location']['additionalNames'].get('long')\n",
    "        except (AttributeError, TypeError):\n",
    "            output['Hometown'] = None\n",
    "        output['NumUserGeneratedContent'] = review['userProfile']['contributionCounts'].get('sumAllUgc')\n",
    "        output['NumHelpfulVote'] = review['userProfile']['contributionCounts'].get('helpfulVote')\n",
    "        output['Review_Title'] = review.get('title')\n",
    "        output['Review_Language'] = review.get('language')\n",
    "        output['Review_TripDate'] = review['tripInfo'].get('stayDate')\n",
    "        output['Review_TripType'] = review['tripInfo'].get('tripType')\n",
    "        output['Review_Text'] = review.get('text')\n",
    "        output['Review_Rating'] = review.get('rating')\n",
    "        output['Review_HelpfulVotes'] = review.get('helpfulVotes')"
   ]
  },
  {
   "cell_type": "code",
   "execution_count": null,
   "metadata": {},
   "outputs": [],
   "source": []
  },
  {
   "cell_type": "code",
   "execution_count": null,
   "metadata": {},
   "outputs": [],
   "source": []
  }
 ],
 "metadata": {
  "kernelspec": {
   "display_name": "Python 3",
   "language": "python",
   "name": "python3"
  },
  "language_info": {
   "codemirror_mode": {
    "name": "ipython",
    "version": 3
   },
   "file_extension": ".py",
   "mimetype": "text/x-python",
   "name": "python",
   "nbconvert_exporter": "python",
   "pygments_lexer": "ipython3",
   "version": "3.7.6"
  }
 },
 "nbformat": 4,
 "nbformat_minor": 4
}
