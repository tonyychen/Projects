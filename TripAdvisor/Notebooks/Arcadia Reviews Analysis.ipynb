{
 "cells": [
  {
   "cell_type": "code",
   "execution_count": 22,
   "metadata": {},
   "outputs": [
    {
     "name": "stdout",
     "output_type": "stream",
     "text": [
      "3.8.5 (default, Sep  3 2020, 21:29:08) [MSC v.1916 64 bit (AMD64)]\n"
     ]
    }
   ],
   "source": [
    "import sys\n",
    "print(sys.version)"
   ]
  },
  {
   "cell_type": "code",
   "execution_count": 23,
   "metadata": {},
   "outputs": [],
   "source": [
    "import numpy as np\n",
    "import pandas as pd\n",
    "import json"
   ]
  },
  {
   "cell_type": "markdown",
   "metadata": {},
   "source": [
    "#### In this notebook, we are going to process reviews related to Arcadia National Park. The reviews were scraped in the previous step where we parse out the JSON containing the reviews in the html and store the JSON strings in a CSV file. Here, we are going to read the CSV file and continue our processing and analysis."
   ]
  },
  {
   "cell_type": "code",
   "execution_count": 24,
   "metadata": {},
   "outputs": [],
   "source": [
    "reviews_raw = pd.read_csv('../Scraper/Arcadia_Reviews.csv')"
   ]
  },
  {
   "cell_type": "code",
   "execution_count": 25,
   "metadata": {},
   "outputs": [
    {
     "data": {
      "text/html": [
       "<div>\n",
       "<style scoped>\n",
       "    .dataframe tbody tr th:only-of-type {\n",
       "        vertical-align: middle;\n",
       "    }\n",
       "\n",
       "    .dataframe tbody tr th {\n",
       "        vertical-align: top;\n",
       "    }\n",
       "\n",
       "    .dataframe thead th {\n",
       "        text-align: right;\n",
       "    }\n",
       "</style>\n",
       "<table border=\"1\" class=\"dataframe\">\n",
       "  <thead>\n",
       "    <tr style=\"text-align: right;\">\n",
       "      <th></th>\n",
       "      <th>Review_JSON</th>\n",
       "    </tr>\n",
       "  </thead>\n",
       "  <tbody>\n",
       "    <tr>\n",
       "      <th>0</th>\n",
       "      <td>{\"totalCount\": 1755, \"preferredReviewIds\": [], \"reviews\": [{\"id\": 773893210, \"url\": \"/ShowUserReviews-g60709-d12785836-r773893210-Acadia_National_Park-Bar_Harbor_Mount_Desert_Island_Maine.html\", \"...</td>\n",
       "    </tr>\n",
       "    <tr>\n",
       "      <th>1</th>\n",
       "      <td>{\"totalCount\": 1755, \"preferredReviewIds\": [], \"reviews\": [{\"id\": 772511152, \"url\": \"/ShowUserReviews-g60709-d12785836-r772511152-Acadia_National_Park-Bar_Harbor_Mount_Desert_Island_Maine.html\", \"...</td>\n",
       "    </tr>\n",
       "    <tr>\n",
       "      <th>2</th>\n",
       "      <td>{\"totalCount\": 1755, \"preferredReviewIds\": [], \"reviews\": [{\"id\": 771632030, \"url\": \"/ShowUserReviews-g60709-d12785836-r771632030-Acadia_National_Park-Bar_Harbor_Mount_Desert_Island_Maine.html\", \"...</td>\n",
       "    </tr>\n",
       "    <tr>\n",
       "      <th>3</th>\n",
       "      <td>{\"totalCount\": 1755, \"preferredReviewIds\": [], \"reviews\": [{\"id\": 770784383, \"url\": \"/ShowUserReviews-g60709-d12785836-r770784383-Acadia_National_Park-Bar_Harbor_Mount_Desert_Island_Maine.html\", \"...</td>\n",
       "    </tr>\n",
       "    <tr>\n",
       "      <th>4</th>\n",
       "      <td>{\"totalCount\": 1755, \"preferredReviewIds\": [], \"reviews\": [{\"id\": 770370519, \"url\": \"/ShowUserReviews-g60709-d12785836-r770370519-Acadia_National_Park-Bar_Harbor_Mount_Desert_Island_Maine.html\", \"...</td>\n",
       "    </tr>\n",
       "  </tbody>\n",
       "</table>\n",
       "</div>"
      ],
      "text/plain": [
       "                                                                                                                                                                                               Review_JSON\n",
       "0  {\"totalCount\": 1755, \"preferredReviewIds\": [], \"reviews\": [{\"id\": 773893210, \"url\": \"/ShowUserReviews-g60709-d12785836-r773893210-Acadia_National_Park-Bar_Harbor_Mount_Desert_Island_Maine.html\", \"...\n",
       "1  {\"totalCount\": 1755, \"preferredReviewIds\": [], \"reviews\": [{\"id\": 772511152, \"url\": \"/ShowUserReviews-g60709-d12785836-r772511152-Acadia_National_Park-Bar_Harbor_Mount_Desert_Island_Maine.html\", \"...\n",
       "2  {\"totalCount\": 1755, \"preferredReviewIds\": [], \"reviews\": [{\"id\": 771632030, \"url\": \"/ShowUserReviews-g60709-d12785836-r771632030-Acadia_National_Park-Bar_Harbor_Mount_Desert_Island_Maine.html\", \"...\n",
       "3  {\"totalCount\": 1755, \"preferredReviewIds\": [], \"reviews\": [{\"id\": 770784383, \"url\": \"/ShowUserReviews-g60709-d12785836-r770784383-Acadia_National_Park-Bar_Harbor_Mount_Desert_Island_Maine.html\", \"...\n",
       "4  {\"totalCount\": 1755, \"preferredReviewIds\": [], \"reviews\": [{\"id\": 770370519, \"url\": \"/ShowUserReviews-g60709-d12785836-r770370519-Acadia_National_Park-Bar_Harbor_Mount_Desert_Island_Maine.html\", \"..."
      ]
     },
     "execution_count": 25,
     "metadata": {},
     "output_type": "execute_result"
    }
   ],
   "source": [
    "pd.set_option('max_colwidth', 200)\n",
    "reviews_raw.head()"
   ]
  },
  {
   "cell_type": "markdown",
   "metadata": {},
   "source": [
    "Each row in the DataFrame is one page scraped and could contain multiple reviews. Thus, we would like to put all the reviews together first in a list, then process those reviews altogether."
   ]
  },
  {
   "cell_type": "code",
   "execution_count": 41,
   "metadata": {},
   "outputs": [
    {
     "name": "stdout",
     "output_type": "stream",
     "text": [
      "[{'id': 773893210, 'url': '/ShowUserReviews-g60709-d12785836-r773893210-Acadia_National_Park-Bar_Harbor_Mount_Desert_Island_Maine.html', 'location': {'locationId': 12785836, 'name': 'Acadia National Park', 'url': '/Attraction_Review-g60709-d12785836-Reviews-Acadia_National_Park-Bar_Harbor_Mount_Desert_Island_Maine.html', 'placeType': 'ATTRACTION', 'parentGeoId': 7929119, '__typename': 'LocationInformation', 'additionalNames': {'normal': 'Acadia National Park', 'long': 'Acadia National Park, Maine', 'longOnlyParent': 'Maine', 'longParentAbbreviated': 'Acadia National Park, ME', 'longOnlyParentAbbreviated': 'ME', 'longParentStateAbbreviated': 'Acadia National Park, ME', 'longOnlyParentStateAbbreviated': 'ME', 'geo': 'Bar Harbor', 'abbreviated': 'Acadia National Park', 'abbreviatedRaw': 'Acadia National Park', 'abbreviatedStateTerritory': 'Acadia National Park', 'abbreviatedStateTerritoryRaw': 'Acadia National Park'}, 'parent': {'locationId': 7929119, 'additionalNames': {'normal': 'Mount Desert Island', 'long': 'Mount Desert Island, Maine', 'longOnlyParent': 'Maine', 'longParentAbbreviated': 'Mount Desert Island, ME', 'longOnlyParentAbbreviated': 'ME', 'longParentStateAbbreviated': 'Mount Desert Island, ME', 'longOnlyParentStateAbbreviated': 'ME', 'geo': 'Mount Desert Island', 'abbreviated': 'Mount Desert Island', 'abbreviatedRaw': 'Mount Desert Island', 'abbreviatedStateTerritory': 'Mount Desert Island', 'abbreviatedStateTerritoryRaw': 'Mount Desert Island'}}}, 'createdDate': '2020-10-11', 'publishedDate': '2020-10-11', 'provider': {'isLocalProvider': True, 'isToolsProvider': True}, 'userProfile': {'id': '5B63103F4C1DB623962252B48530951F', 'userId': '5B63103F4C1DB623962252B48530951F', 'isMe': False, 'isVerified': False, 'displayName': 'Ryan H', 'username': 'rydharter', 'avatar': {'id': 452360110, 'photoSizes': [{'url': 'https://dynamic-media-cdn.tripadvisor.com/media/photo-o/1a/f6/77/ae/default-avatar-2020-2.jpg?w=100&h=100&s=1', 'width': 0, 'height': 0}, {'url': 'https://media-cdn.tripadvisor.com/media/photo-t/1a/f6/77/ae/default-avatar-2020-2.jpg', 'width': 50, 'height': 50}, {'url': 'https://media-cdn.tripadvisor.com/media/photo-l/1a/f6/77/ae/default-avatar-2020-2.jpg', 'width': 150, 'height': 150}, {'url': 'https://media-cdn.tripadvisor.com/media/photo-i/1a/f6/77/ae/default-avatar-2020-2.jpg', 'width': 180, 'height': 200}, {'url': 'https://media-cdn.tripadvisor.com/media/photo-f/1a/f6/77/ae/default-avatar-2020-2.jpg', 'width': 205, 'height': 205}, {'url': 'https://media-cdn.tripadvisor.com/media/photo-s/1a/f6/77/ae/default-avatar-2020-2.jpg', 'width': 450, 'height': 450}, {'url': 'https://media-cdn.tripadvisor.com/media/photo-p/1a/f6/77/ae/default-avatar-2020-2.jpg', 'width': 550, 'height': 550}, {'url': 'https://media-cdn.tripadvisor.com/media/photo-w/1a/f6/77/ae/default-avatar-2020-2.jpg', 'width': 1024, 'height': 1024}, {'url': 'https://media-cdn.tripadvisor.com/media/photo-o/1a/f6/77/ae/default-avatar-2020-2.jpg', 'width': 1200, 'height': 1200}]}, 'hometown': {'locationId': 30196, 'fallbackString': '30196', 'location': {'locationId': 30196, 'additionalNames': {'long': 'Austin, Texas'}, 'name': 'Austin'}}, 'contributionCounts': {'sumAllUgc': 2, 'helpfulVote': 0}, 'route': {'url': '/Profile/rydharter'}, 'isFollowing': False}, 'title': 'Amazing (Civid-Time) Road Trip', 'language': 'en', 'translationType': None, 'roomTip': None, 'tripInfo': {'stayDate': '2020-10-31', 'tripType': 'NONE'}, 'additionalRatings': [], 'mgmtResponse': None, 'text': 'Acadia was part of my first visit to New England. Road trip with a couple friends this October 2020. Definitely made for a great first experience....', 'username': 'rydharter', 'connectionToSubject': None, 'locationId': 12785836, 'rating': 5, 'absoluteUrl': 'https://www.tripadvisor.com/ShowUserReviews-g60709-d12785836-r773893210-Acadia_National_Park-Bar_Harbor_Mount_Desert_Island_Maine.html', 'mcid': 0, 'mtProviderId': 0, 'photos': [{'id': 472425643, 'statuses': ['PUBLISHED'], 'photoSizes': [{'url': 'https://dynamic-media-cdn.tripadvisor.com/media/photo-o/1c/28/a4/ab/near-sand-beach.jpg?w=100&h=100&s=1', 'width': 0, 'height': 0}, {'url': 'https://media-cdn.tripadvisor.com/media/photo-t/1c/28/a4/ab/near-sand-beach.jpg', 'width': 50, 'height': 50}, {'url': 'https://media-cdn.tripadvisor.com/media/photo-l/1c/28/a4/ab/near-sand-beach.jpg', 'width': 150, 'height': 150}, {'url': 'https://media-cdn.tripadvisor.com/media/photo-i/1c/28/a4/ab/near-sand-beach.jpg', 'width': 180, 'height': 200}, {'url': 'https://media-cdn.tripadvisor.com/media/photo-f/1c/28/a4/ab/near-sand-beach.jpg', 'width': 250, 'height': 166}, {'url': 'https://media-cdn.tripadvisor.com/media/photo-s/1c/28/a4/ab/near-sand-beach.jpg', 'width': 550, 'height': 366}, {'url': 'https://media-cdn.tripadvisor.com/media/photo-w/1c/28/a4/ab/near-sand-beach.jpg', 'width': 1024, 'height': 682}, {'url': 'https://media-cdn.tripadvisor.com/media/photo-m/1280/1c/28/a4/ab/near-sand-beach.jpg', 'width': 1280, 'height': 852}]}], 'original': None, 'attribution': None, '__typename': 'Review', 'helpfulVotes': 0, 'photoIds': [472425643], 'route': {'url': '/ShowUserReviews-g60709-d12785836-r773893210-Acadia_National_Park-Bar_Harbor_Mount_Desert_Island_Maine.html'}, 'socialStatistics': {'followCount': 0, 'isFollowing': False, 'isLiked': False, 'isReposted': False, 'isSaved': False, 'likeCount': 0, 'repostCount': 0, 'tripCount': 0}, 'status': 'PUBLISHED', 'userId': '5B63103F4C1DB623962252B48530951F', 'originalLanguage': 'en', 'labels': [], 'alertStatus': False}, {'id': 773770360, 'url': '/ShowUserReviews-g60709-d12785836-r773770360-Acadia_National_Park-Bar_Harbor_Mount_Desert_Island_Maine.html', 'location': {'locationId': 12785836, 'name': 'Acadia National Park', 'url': '/Attraction_Review-g60709-d12785836-Reviews-Acadia_National_Park-Bar_Harbor_Mount_Desert_Island_Maine.html', 'placeType': 'ATTRACTION', 'parentGeoId': 7929119, '__typename': 'LocationInformation', 'additionalNames': {'normal': 'Acadia National Park', 'long': 'Acadia National Park, Maine', 'longOnlyParent': 'Maine', 'longParentAbbreviated': 'Acadia National Park, ME', 'longOnlyParentAbbreviated': 'ME', 'longParentStateAbbreviated': 'Acadia National Park, ME', 'longOnlyParentStateAbbreviated': 'ME', 'geo': 'Bar Harbor', 'abbreviated': 'Acadia National Park', 'abbreviatedRaw': 'Acadia National Park', 'abbreviatedStateTerritory': 'Acadia National Park', 'abbreviatedStateTerritoryRaw': 'Acadia National Park'}, 'parent': {'locationId': 7929119, 'additionalNames': {'normal': 'Mount Desert Island', 'long': 'Mount Desert Island, Maine', 'longOnlyParent': 'Maine', 'longParentAbbreviated': 'Mount Desert Island, ME', 'longOnlyParentAbbreviated': 'ME', 'longParentStateAbbreviated': 'Mount Desert Island, ME', 'longOnlyParentStateAbbreviated': 'ME', 'geo': 'Mount Desert Island', 'abbreviated': 'Mount Desert Island', 'abbreviatedRaw': 'Mount Desert Island', 'abbreviatedStateTerritory': 'Mount Desert Island', 'abbreviatedStateTerritoryRaw': 'Mount Desert Island'}}}, 'createdDate': '2020-10-10', 'publishedDate': '2020-10-10', 'provider': {'isLocalProvider': True, 'isToolsProvider': True}, 'userProfile': {'id': '3D232208A4904F70D295FAD91D690F5C', 'userId': '3D232208A4904F70D295FAD91D690F5C', 'isMe': False, 'isVerified': False, 'displayName': 'JohnPatsi', 'username': 'JohnPatsi', 'avatar': {'id': 452391804, 'photoSizes': [{'url': 'https://dynamic-media-cdn.tripadvisor.com/media/photo-o/1a/f6/f3/7c/default-avatar-2020-29.jpg?w=100&h=100&s=1', 'width': 0, 'height': 0}, {'url': 'https://media-cdn.tripadvisor.com/media/photo-t/1a/f6/f3/7c/default-avatar-2020-29.jpg', 'width': 50, 'height': 50}, {'url': 'https://media-cdn.tripadvisor.com/media/photo-l/1a/f6/f3/7c/default-avatar-2020-29.jpg', 'width': 150, 'height': 150}, {'url': 'https://media-cdn.tripadvisor.com/media/photo-i/1a/f6/f3/7c/default-avatar-2020-29.jpg', 'width': 180, 'height': 200}, {'url': 'https://media-cdn.tripadvisor.com/media/photo-f/1a/f6/f3/7c/default-avatar-2020-29.jpg', 'width': 205, 'height': 205}, {'url': 'https://media-cdn.tripadvisor.com/media/photo-s/1a/f6/f3/7c/default-avatar-2020-29.jpg', 'width': 450, 'height': 450}, {'url': 'https://media-cdn.tripadvisor.com/media/photo-p/1a/f6/f3/7c/default-avatar-2020-29.jpg', 'width': 550, 'height': 550}, {'url': 'https://media-cdn.tripadvisor.com/media/photo-w/1a/f6/f3/7c/default-avatar-2020-29.jpg', 'width': 1024, 'height': 1024}, {'url': 'https://media-cdn.tripadvisor.com/media/photo-o/1a/f6/f3/7c/default-avatar-2020-29.jpg', 'width': 1200, 'height': 1200}]}, 'hometown': {'locationId': 55390, 'fallbackString': '55390', 'location': {'locationId': 55390, 'additionalNames': {'long': 'Tullahoma, Tennessee'}, 'name': 'Tullahoma'}}, 'contributionCounts': {'sumAllUgc': 557, 'helpfulVote': 94}, 'route': {'url': '/Profile/JohnPatsi'}, 'isFollowing': False}, 'title': 'Beautiful piece of God’s nature', 'language': 'en', 'translationType': None, 'roomTip': None, 'tripInfo': {'stayDate': '2020-10-31', 'tripType': 'COUPLES'}, 'additionalRatings': [], 'mgmtResponse': None, 'text': 'Beautiful piece of God’s nature situated along the coastline of me. The overviews are spectacular and many sick places to have a picnic lunch.\\n\\nYou will not be disappointed guaranteed', 'username': 'JohnPatsi', 'connectionToSubject': None, 'locationId': 12785836, 'rating': 5, 'absoluteUrl': 'https://www.tripadvisor.com/ShowUserReviews-g60709-d12785836-r773770360-Acadia_National_Park-Bar_Harbor_Mount_Desert_Island_Maine.html', 'mcid': 14706, 'mtProviderId': 0, 'photos': [], 'original': None, 'attribution': None, '__typename': 'Review', 'helpfulVotes': 0, 'photoIds': [], 'route': {'url': '/ShowUserReviews-g60709-d12785836-r773770360-Acadia_National_Park-Bar_Harbor_Mount_Desert_Island_Maine.html'}, 'socialStatistics': {'followCount': 0, 'isFollowing': False, 'isLiked': False, 'isReposted': False, 'isSaved': False, 'likeCount': 0, 'repostCount': 0, 'tripCount': 0}, 'status': 'PUBLISHED', 'userId': '3D232208A4904F70D295FAD91D690F5C', 'originalLanguage': 'en', 'labels': [], 'alertStatus': False}, {'id': 773316660, 'url': '/ShowUserReviews-g60709-d12785836-r773316660-Acadia_National_Park-Bar_Harbor_Mount_Desert_Island_Maine.html', 'location': {'locationId': 12785836, 'name': 'Acadia National Park', 'url': '/Attraction_Review-g60709-d12785836-Reviews-Acadia_National_Park-Bar_Harbor_Mount_Desert_Island_Maine.html', 'placeType': 'ATTRACTION', 'parentGeoId': 7929119, '__typename': 'LocationInformation', 'additionalNames': {'normal': 'Acadia National Park', 'long': 'Acadia National Park, Maine', 'longOnlyParent': 'Maine', 'longParentAbbreviated': 'Acadia National Park, ME', 'longOnlyParentAbbreviated': 'ME', 'longParentStateAbbreviated': 'Acadia National Park, ME', 'longOnlyParentStateAbbreviated': 'ME', 'geo': 'Bar Harbor', 'abbreviated': 'Acadia National Park', 'abbreviatedRaw': 'Acadia National Park', 'abbreviatedStateTerritory': 'Acadia National Park', 'abbreviatedStateTerritoryRaw': 'Acadia National Park'}, 'parent': {'locationId': 7929119, 'additionalNames': {'normal': 'Mount Desert Island', 'long': 'Mount Desert Island, Maine', 'longOnlyParent': 'Maine', 'longParentAbbreviated': 'Mount Desert Island, ME', 'longOnlyParentAbbreviated': 'ME', 'longParentStateAbbreviated': 'Mount Desert Island, ME', 'longOnlyParentStateAbbreviated': 'ME', 'geo': 'Mount Desert Island', 'abbreviated': 'Mount Desert Island', 'abbreviatedRaw': 'Mount Desert Island', 'abbreviatedStateTerritory': 'Mount Desert Island', 'abbreviatedStateTerritoryRaw': 'Mount Desert Island'}}}, 'createdDate': '2020-10-06', 'publishedDate': '2020-10-06', 'provider': {'isLocalProvider': True, 'isToolsProvider': True}, 'userProfile': {'id': '7E841850C92255EA3203A39C00B0D69C', 'userId': '7E841850C92255EA3203A39C00B0D69C', 'isMe': False, 'isVerified': False, 'displayName': 'Katie C', 'username': '384katiec', 'avatar': {'id': 298037503, 'photoSizes': [{'url': 'https://dynamic-media-cdn.tripadvisor.com/media/photo-o/11/c3/b0/ff/katie-c.jpg?w=100&h=100&s=1', 'width': 0, 'height': 0}, {'url': 'https://media-cdn.tripadvisor.com/media/photo-t/11/c3/b0/ff/katie-c.jpg', 'width': 50, 'height': 50}, {'url': 'https://media-cdn.tripadvisor.com/media/photo-l/11/c3/b0/ff/katie-c.jpg', 'width': 150, 'height': 150}, {'url': 'https://media-cdn.tripadvisor.com/media/photo-i/11/c3/b0/ff/katie-c.jpg', 'width': 180, 'height': 200}, {'url': 'https://media-cdn.tripadvisor.com/media/photo-f/11/c3/b0/ff/katie-c.jpg', 'width': 205, 'height': 205}, {'url': 'https://media-cdn.tripadvisor.com/media/photo-s/11/c3/b0/ff/katie-c.jpg', 'width': 450, 'height': 450}, {'url': 'https://media-cdn.tripadvisor.com/media/photo-p/11/c3/b0/ff/katie-c.jpg', 'width': 550, 'height': 550}, {'url': 'https://media-cdn.tripadvisor.com/media/photo-o/11/c3/b0/ff/katie-c.jpg', 'width': 769, 'height': 769}]}, 'hometown': {'locationId': 37209, 'fallbackString': '37209', 'location': {'locationId': 37209, 'additionalNames': {'long': 'Indianapolis, Indiana'}, 'name': 'Indianapolis'}}, 'contributionCounts': {'sumAllUgc': 300, 'helpfulVote': 57}, 'route': {'url': '/Profile/384katiec'}, 'isFollowing': False}, 'title': 'Great visit!', 'language': 'en', 'translationType': None, 'roomTip': None, 'tripInfo': {'stayDate': '2020-09-30', 'tripType': 'NONE'}, 'additionalRatings': [], 'mgmtResponse': None, 'text': 'As the park ranger explained, this is the swiss cheese of national parks!  You drive in and out of it quite easily without realizing you did!  But it is such a beautiful park, you should at least drive park loop road if in the area!', 'username': 'Katie C', 'connectionToSubject': None, 'locationId': 12785836, 'rating': 5, 'absoluteUrl': 'https://www.tripadvisor.com/ShowUserReviews-g60709-d12785836-r773316660-Acadia_National_Park-Bar_Harbor_Mount_Desert_Island_Maine.html', 'mcid': 10568, 'mtProviderId': 0, 'photos': [], 'original': None, 'attribution': None, '__typename': 'Review', 'helpfulVotes': 0, 'photoIds': [], 'route': {'url': '/ShowUserReviews-g60709-d12785836-r773316660-Acadia_National_Park-Bar_Harbor_Mount_Desert_Island_Maine.html'}, 'socialStatistics': {'followCount': 0, 'isFollowing': False, 'isLiked': False, 'isReposted': False, 'isSaved': False, 'likeCount': 0, 'repostCount': 0, 'tripCount': 0}, 'status': 'PUBLISHED', 'userId': '7E841850C92255EA3203A39C00B0D69C', 'originalLanguage': 'en', 'labels': [], 'alertStatus': False}, {'id': 773183548, 'url': '/ShowUserReviews-g60709-d12785836-r773183548-Acadia_National_Park-Bar_Harbor_Mount_Desert_Island_Maine.html', 'location': {'locationId': 12785836, 'name': 'Acadia National Park', 'url': '/Attraction_Review-g60709-d12785836-Reviews-Acadia_National_Park-Bar_Harbor_Mount_Desert_Island_Maine.html', 'placeType': 'ATTRACTION', 'parentGeoId': 7929119, '__typename': 'LocationInformation', 'additionalNames': {'normal': 'Acadia National Park', 'long': 'Acadia National Park, Maine', 'longOnlyParent': 'Maine', 'longParentAbbreviated': 'Acadia National Park, ME', 'longOnlyParentAbbreviated': 'ME', 'longParentStateAbbreviated': 'Acadia National Park, ME', 'longOnlyParentStateAbbreviated': 'ME', 'geo': 'Bar Harbor', 'abbreviated': 'Acadia National Park', 'abbreviatedRaw': 'Acadia National Park', 'abbreviatedStateTerritory': 'Acadia National Park', 'abbreviatedStateTerritoryRaw': 'Acadia National Park'}, 'parent': {'locationId': 7929119, 'additionalNames': {'normal': 'Mount Desert Island', 'long': 'Mount Desert Island, Maine', 'longOnlyParent': 'Maine', 'longParentAbbreviated': 'Mount Desert Island, ME', 'longOnlyParentAbbreviated': 'ME', 'longParentStateAbbreviated': 'Mount Desert Island, ME', 'longOnlyParentStateAbbreviated': 'ME', 'geo': 'Mount Desert Island', 'abbreviated': 'Mount Desert Island', 'abbreviatedRaw': 'Mount Desert Island', 'abbreviatedStateTerritory': 'Mount Desert Island', 'abbreviatedStateTerritoryRaw': 'Mount Desert Island'}}}, 'createdDate': '2020-10-05', 'publishedDate': '2020-10-05', 'provider': {'isLocalProvider': True, 'isToolsProvider': True}, 'userProfile': {'id': 'DB5453CBC73F7354F3AC8EF440459E57', 'userId': 'DB5453CBC73F7354F3AC8EF440459E57', 'isMe': False, 'isVerified': False, 'displayName': 'fcoda10', 'username': 'fcoda10', 'avatar': {'id': 452390504, 'photoSizes': [{'url': 'https://dynamic-media-cdn.tripadvisor.com/media/photo-o/1a/f6/ee/68/default-avatar-2020-9.jpg?w=100&h=100&s=1', 'width': 0, 'height': 0}, {'url': 'https://media-cdn.tripadvisor.com/media/photo-t/1a/f6/ee/68/default-avatar-2020-9.jpg', 'width': 50, 'height': 50}, {'url': 'https://media-cdn.tripadvisor.com/media/photo-l/1a/f6/ee/68/default-avatar-2020-9.jpg', 'width': 150, 'height': 150}, {'url': 'https://media-cdn.tripadvisor.com/media/photo-i/1a/f6/ee/68/default-avatar-2020-9.jpg', 'width': 180, 'height': 200}, {'url': 'https://media-cdn.tripadvisor.com/media/photo-f/1a/f6/ee/68/default-avatar-2020-9.jpg', 'width': 205, 'height': 205}, {'url': 'https://media-cdn.tripadvisor.com/media/photo-s/1a/f6/ee/68/default-avatar-2020-9.jpg', 'width': 450, 'height': 450}, {'url': 'https://media-cdn.tripadvisor.com/media/photo-p/1a/f6/ee/68/default-avatar-2020-9.jpg', 'width': 550, 'height': 550}, {'url': 'https://media-cdn.tripadvisor.com/media/photo-w/1a/f6/ee/68/default-avatar-2020-9.jpg', 'width': 1024, 'height': 1024}, {'url': 'https://media-cdn.tripadvisor.com/media/photo-o/1a/f6/ee/68/default-avatar-2020-9.jpg', 'width': 1200, 'height': 1200}]}, 'hometown': {'locationId': 33856, 'fallbackString': '33856', 'location': {'locationId': 33856, 'additionalNames': {'long': 'Newtown, Connecticut'}, 'name': 'Newtown'}}, 'contributionCounts': {'sumAllUgc': 90, 'helpfulVote': 17}, 'route': {'url': '/Profile/fcoda10'}, 'isFollowing': False}, 'title': 'Amazing trip', 'language': 'en', 'translationType': None, 'roomTip': None, 'tripInfo': {'stayDate': '2020-10-31', 'tripType': 'FAMILY'}, 'additionalRatings': [], 'mgmtResponse': None, 'text': 'The park is the perfect place to spend time with the kids. Great areas to hike with amazing views and great sights. The mix of ocean, lakes, and wilderness is amazing. We went at the peak of leaf changing season which made the park even more breathtaking. ', 'username': 'fcoda10', 'connectionToSubject': None, 'locationId': 12785836, 'rating': 5, 'absoluteUrl': 'https://www.tripadvisor.com/ShowUserReviews-g60709-d12785836-r773183548-Acadia_National_Park-Bar_Harbor_Mount_Desert_Island_Maine.html', 'mcid': 0, 'mtProviderId': 0, 'photos': [], 'original': None, 'attribution': None, '__typename': 'Review', 'helpfulVotes': 0, 'photoIds': [], 'route': {'url': '/ShowUserReviews-g60709-d12785836-r773183548-Acadia_National_Park-Bar_Harbor_Mount_Desert_Island_Maine.html'}, 'socialStatistics': {'followCount': 0, 'isFollowing': False, 'isLiked': False, 'isReposted': False, 'isSaved': False, 'likeCount': 0, 'repostCount': 0, 'tripCount': 0}, 'status': 'PUBLISHED', 'userId': 'DB5453CBC73F7354F3AC8EF440459E57', 'originalLanguage': 'en', 'labels': [], 'alertStatus': False}, {'id': 772784245, 'url': '/ShowUserReviews-g60709-d12785836-r772784245-Acadia_National_Park-Bar_Harbor_Mount_Desert_Island_Maine.html', 'location': {'locationId': 12785836, 'name': 'Acadia National Park', 'url': '/Attraction_Review-g60709-d12785836-Reviews-Acadia_National_Park-Bar_Harbor_Mount_Desert_Island_Maine.html', 'placeType': 'ATTRACTION', 'parentGeoId': 7929119, '__typename': 'LocationInformation', 'additionalNames': {'normal': 'Acadia National Park', 'long': 'Acadia National Park, Maine', 'longOnlyParent': 'Maine', 'longParentAbbreviated': 'Acadia National Park, ME', 'longOnlyParentAbbreviated': 'ME', 'longParentStateAbbreviated': 'Acadia National Park, ME', 'longOnlyParentStateAbbreviated': 'ME', 'geo': 'Bar Harbor', 'abbreviated': 'Acadia National Park', 'abbreviatedRaw': 'Acadia National Park', 'abbreviatedStateTerritory': 'Acadia National Park', 'abbreviatedStateTerritoryRaw': 'Acadia National Park'}, 'parent': {'locationId': 7929119, 'additionalNames': {'normal': 'Mount Desert Island', 'long': 'Mount Desert Island, Maine', 'longOnlyParent': 'Maine', 'longParentAbbreviated': 'Mount Desert Island, ME', 'longOnlyParentAbbreviated': 'ME', 'longParentStateAbbreviated': 'Mount Desert Island, ME', 'longOnlyParentStateAbbreviated': 'ME', 'geo': 'Mount Desert Island', 'abbreviated': 'Mount Desert Island', 'abbreviatedRaw': 'Mount Desert Island', 'abbreviatedStateTerritory': 'Mount Desert Island', 'abbreviatedStateTerritoryRaw': 'Mount Desert Island'}}}, 'createdDate': '2020-10-02', 'publishedDate': '2020-10-02', 'provider': {'isLocalProvider': True, 'isToolsProvider': True}, 'userProfile': {'id': 'EA97C5BAC581251DE3EF7B115F96D340', 'userId': 'EA97C5BAC581251DE3EF7B115F96D340', 'isMe': False, 'isVerified': False, 'displayName': 'R2094TOj', 'username': 'R2094TOj', 'avatar': {'id': 452389307, 'photoSizes': [{'url': 'https://dynamic-media-cdn.tripadvisor.com/media/photo-o/1a/f6/e9/bb/default-avatar-2020-65.jpg?w=100&h=100&s=1', 'width': 0, 'height': 0}, {'url': 'https://media-cdn.tripadvisor.com/media/photo-t/1a/f6/e9/bb/default-avatar-2020-65.jpg', 'width': 50, 'height': 50}, {'url': 'https://media-cdn.tripadvisor.com/media/photo-l/1a/f6/e9/bb/default-avatar-2020-65.jpg', 'width': 150, 'height': 150}, {'url': 'https://media-cdn.tripadvisor.com/media/photo-i/1a/f6/e9/bb/default-avatar-2020-65.jpg', 'width': 180, 'height': 200}, {'url': 'https://media-cdn.tripadvisor.com/media/photo-f/1a/f6/e9/bb/default-avatar-2020-65.jpg', 'width': 205, 'height': 205}, {'url': 'https://media-cdn.tripadvisor.com/media/photo-s/1a/f6/e9/bb/default-avatar-2020-65.jpg', 'width': 450, 'height': 450}, {'url': 'https://media-cdn.tripadvisor.com/media/photo-p/1a/f6/e9/bb/default-avatar-2020-65.jpg', 'width': 550, 'height': 550}, {'url': 'https://media-cdn.tripadvisor.com/media/photo-w/1a/f6/e9/bb/default-avatar-2020-65.jpg', 'width': 1024, 'height': 1024}, {'url': 'https://media-cdn.tripadvisor.com/media/photo-o/1a/f6/e9/bb/default-avatar-2020-65.jpg', 'width': 1200, 'height': 1200}]}, 'hometown': {'locationId': None, 'fallbackString': None, 'location': None}, 'contributionCounts': {'sumAllUgc': 28, 'helpfulVote': 3}, 'route': {'url': '/Profile/R2094TOj'}, 'isFollowing': False}, 'title': 'Fabulous Hiking', 'language': 'en', 'translationType': None, 'roomTip': None, 'tripInfo': {'stayDate': '2020-09-30', 'tripType': 'COUPLES'}, 'additionalRatings': [], 'mgmtResponse': None, 'text': 'We arrived on Labor Day as everyone was leaving.  I would avoid holidays and weekends if possible.  Our post holiday weekdays were quiet with no traffic and parking at our chosen trailhead each morning.  Gorgeous peaks, wonderful views and a beautiful little town!', 'username': 'R2094TOj', 'connectionToSubject': None, 'locationId': 12785836, 'rating': 5, 'absoluteUrl': 'https://www.tripadvisor.com/ShowUserReviews-g60709-d12785836-r772784245-Acadia_National_Park-Bar_Harbor_Mount_Desert_Island_Maine.html', 'mcid': 0, 'mtProviderId': 0, 'photos': [{'id': 471649521, 'statuses': ['PUBLISHED'], 'photoSizes': [{'url': 'https://dynamic-media-cdn.tripadvisor.com/media/photo-o/1c/1c/cc/f1/photo0jpg.jpg?w=100&h=100&s=1', 'width': 0, 'height': 0}, {'url': 'https://media-cdn.tripadvisor.com/media/photo-t/1c/1c/cc/f1/photo0jpg.jpg', 'width': 50, 'height': 50}, {'url': 'https://media-cdn.tripadvisor.com/media/photo-l/1c/1c/cc/f1/photo0jpg.jpg', 'width': 150, 'height': 150}, {'url': 'https://media-cdn.tripadvisor.com/media/photo-i/1c/1c/cc/f1/photo0jpg.jpg', 'width': 180, 'height': 200}, {'url': 'https://media-cdn.tripadvisor.com/media/photo-f/1c/1c/cc/f1/photo0jpg.jpg', 'width': 250, 'height': 188}, {'url': 'https://media-cdn.tripadvisor.com/media/photo-s/1c/1c/cc/f1/photo0jpg.jpg', 'width': 550, 'height': 413}, {'url': 'https://media-cdn.tripadvisor.com/media/photo-w/1c/1c/cc/f1/photo0jpg.jpg', 'width': 1024, 'height': 768}, {'url': 'https://media-cdn.tripadvisor.com/media/photo-m/1280/1c/1c/cc/f1/photo0jpg.jpg', 'width': 1280, 'height': 960}]}, {'id': 471649522, 'statuses': ['PUBLISHED'], 'photoSizes': [{'url': 'https://dynamic-media-cdn.tripadvisor.com/media/photo-o/1c/1c/cc/f2/photo1jpg.jpg?w=100&h=100&s=1', 'width': 0, 'height': 0}, {'url': 'https://media-cdn.tripadvisor.com/media/photo-t/1c/1c/cc/f2/photo1jpg.jpg', 'width': 50, 'height': 50}, {'url': 'https://media-cdn.tripadvisor.com/media/photo-l/1c/1c/cc/f2/photo1jpg.jpg', 'width': 150, 'height': 150}, {'url': 'https://media-cdn.tripadvisor.com/media/photo-i/1c/1c/cc/f2/photo1jpg.jpg', 'width': 180, 'height': 200}, {'url': 'https://media-cdn.tripadvisor.com/media/photo-f/1c/1c/cc/f2/photo1jpg.jpg', 'width': 250, 'height': 188}, {'url': 'https://media-cdn.tripadvisor.com/media/photo-s/1c/1c/cc/f2/photo1jpg.jpg', 'width': 550, 'height': 413}, {'url': 'https://media-cdn.tripadvisor.com/media/photo-w/1c/1c/cc/f2/photo1jpg.jpg', 'width': 1024, 'height': 768}, {'url': 'https://media-cdn.tripadvisor.com/media/photo-m/1280/1c/1c/cc/f2/photo1jpg.jpg', 'width': 1280, 'height': 960}]}, {'id': 471649523, 'statuses': ['PUBLISHED'], 'photoSizes': [{'url': 'https://dynamic-media-cdn.tripadvisor.com/media/photo-o/1c/1c/cc/f3/photo2jpg.jpg?w=100&h=100&s=1', 'width': 0, 'height': 0}, {'url': 'https://media-cdn.tripadvisor.com/media/photo-t/1c/1c/cc/f3/photo2jpg.jpg', 'width': 50, 'height': 50}, {'url': 'https://media-cdn.tripadvisor.com/media/photo-l/1c/1c/cc/f3/photo2jpg.jpg', 'width': 150, 'height': 150}, {'url': 'https://media-cdn.tripadvisor.com/media/photo-f/1c/1c/cc/f3/photo2jpg.jpg', 'width': 154, 'height': 205}, {'url': 'https://media-cdn.tripadvisor.com/media/photo-i/1c/1c/cc/f3/photo2jpg.jpg', 'width': 180, 'height': 200}, {'url': 'https://media-cdn.tripadvisor.com/media/photo-s/1c/1c/cc/f3/photo2jpg.jpg', 'width': 338, 'height': 450}, {'url': 'https://media-cdn.tripadvisor.com/media/photo-p/1c/1c/cc/f3/photo2jpg.jpg', 'width': 550, 'height': 733}, {'url': 'https://media-cdn.tripadvisor.com/media/photo-m/1280/1c/1c/cc/f3/photo2jpg.jpg', 'width': 960, 'height': 1280}, {'url': 'https://media-cdn.tripadvisor.com/media/photo-w/1c/1c/cc/f3/photo2jpg.jpg', 'width': 1024, 'height': 1365}]}, {'id': 471649524, 'statuses': ['PUBLISHED'], 'photoSizes': [{'url': 'https://dynamic-media-cdn.tripadvisor.com/media/photo-o/1c/1c/cc/f4/photo3jpg.jpg?w=100&h=100&s=1', 'width': 0, 'height': 0}, {'url': 'https://media-cdn.tripadvisor.com/media/photo-t/1c/1c/cc/f4/photo3jpg.jpg', 'width': 50, 'height': 50}, {'url': 'https://media-cdn.tripadvisor.com/media/photo-l/1c/1c/cc/f4/photo3jpg.jpg', 'width': 150, 'height': 150}, {'url': 'https://media-cdn.tripadvisor.com/media/photo-i/1c/1c/cc/f4/photo3jpg.jpg', 'width': 180, 'height': 200}, {'url': 'https://media-cdn.tripadvisor.com/media/photo-f/1c/1c/cc/f4/photo3jpg.jpg', 'width': 250, 'height': 188}, {'url': 'https://media-cdn.tripadvisor.com/media/photo-s/1c/1c/cc/f4/photo3jpg.jpg', 'width': 550, 'height': 413}, {'url': 'https://media-cdn.tripadvisor.com/media/photo-w/1c/1c/cc/f4/photo3jpg.jpg', 'width': 1024, 'height': 768}, {'url': 'https://media-cdn.tripadvisor.com/media/photo-m/1280/1c/1c/cc/f4/photo3jpg.jpg', 'width': 1280, 'height': 960}]}], 'original': None, 'attribution': None, '__typename': 'Review', 'helpfulVotes': 0, 'photoIds': [471649521, 471649522, 471649523, 471649524], 'route': {'url': '/ShowUserReviews-g60709-d12785836-r772784245-Acadia_National_Park-Bar_Harbor_Mount_Desert_Island_Maine.html'}, 'socialStatistics': {'followCount': 0, 'isFollowing': False, 'isLiked': False, 'isReposted': False, 'isSaved': False, 'likeCount': 0, 'repostCount': 0, 'tripCount': 0}, 'status': 'PUBLISHED', 'userId': 'EA97C5BAC581251DE3EF7B115F96D340', 'originalLanguage': 'en', 'labels': [], 'alertStatus': False}]\n"
     ]
    }
   ],
   "source": [
    "for row in reviews_raw.loc[:, 'Review_JSON']:\n",
    "    output = {}\n",
    "    info = json.loads(row)['reviews']\n",
    "    \n",
    "    print(info)\n",
    "    break"
   ]
  },
  {
   "cell_type": "code",
   "execution_count": 37,
   "metadata": {},
   "outputs": [],
   "source": []
  },
  {
   "cell_type": "code",
   "execution_count": 40,
   "metadata": {},
   "outputs": [
    {
     "data": {
      "text/plain": [
       "{'e': None}"
      ]
     },
     "execution_count": 40,
     "metadata": {},
     "output_type": "execute_result"
    }
   ],
   "source": []
  },
  {
   "cell_type": "code",
   "execution_count": null,
   "metadata": {},
   "outputs": [],
   "source": []
  }
 ],
 "metadata": {
  "kernelspec": {
   "display_name": "Python 3",
   "language": "python",
   "name": "python3"
  },
  "language_info": {
   "codemirror_mode": {
    "name": "ipython",
    "version": 3
   },
   "file_extension": ".py",
   "mimetype": "text/x-python",
   "name": "python",
   "nbconvert_exporter": "python",
   "pygments_lexer": "ipython3",
   "version": "3.8.5"
  }
 },
 "nbformat": 4,
 "nbformat_minor": 4
}
