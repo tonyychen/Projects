{
 "cells": [
  {
   "cell_type": "markdown",
   "metadata": {},
   "source": [
    "### In this project, we would try to explore regression analysis and make predictions on used car prices using ensemble of regressors. I also hope that I can upload the model as a web app for other people to play around with."
   ]
  },
  {
   "cell_type": "markdown",
   "metadata": {},
   "source": [
    "**Citations:**\n",
    "\n",
    "URL: https://www.kaggle.com/austinreese/craigslist-carstrucks-data\n",
    "\n",
    "---\n",
    "\n",
    "The following description is from Kaggle:\n",
    "\n",
    "**Context**\n",
    "\n",
    "Craigslist is the world's largest collection of used vehicles for sale, yet it's very difficult to collect all of them in the same place. I built a scraper for a school project and expanded upon it later to create this dataset which includes every used vehicle entry within the United States on Craigslist.\n",
    "\n",
    "**Content**\n",
    "\n",
    "This data is scraped every few months, it contains most all relevant information that Craigslist provides on car sales including columns like price, condition, manufacturer, latitude/longitude, and 18 other categories. For ML projects, consider feature engineering on location columns such as long/lat. For previous listings, check older versions of the dataset.\n",
    "\n",
    "See https://github.com/AustinReese1998/craigslistFilter"
   ]
  },
  {
   "cell_type": "code",
   "execution_count": 82,
   "metadata": {},
   "outputs": [],
   "source": [
    "import numpy as np\n",
    "import pandas as pd\n",
    "import matplotlib.pyplot as plt"
   ]
  },
  {
   "cell_type": "code",
   "execution_count": 83,
   "metadata": {},
   "outputs": [],
   "source": [
    "pd.set_option('display.max_columns', None)"
   ]
  },
  {
   "cell_type": "code",
   "execution_count": 84,
   "metadata": {},
   "outputs": [
    {
     "data": {
      "text/html": [
       "<div>\n",
       "<style scoped>\n",
       "    .dataframe tbody tr th:only-of-type {\n",
       "        vertical-align: middle;\n",
       "    }\n",
       "\n",
       "    .dataframe tbody tr th {\n",
       "        vertical-align: top;\n",
       "    }\n",
       "\n",
       "    .dataframe thead th {\n",
       "        text-align: right;\n",
       "    }\n",
       "</style>\n",
       "<table border=\"1\" class=\"dataframe\">\n",
       "  <thead>\n",
       "    <tr style=\"text-align: right;\">\n",
       "      <th></th>\n",
       "      <th>id</th>\n",
       "      <th>url</th>\n",
       "      <th>region</th>\n",
       "      <th>region_url</th>\n",
       "      <th>price</th>\n",
       "      <th>year</th>\n",
       "      <th>manufacturer</th>\n",
       "      <th>model</th>\n",
       "      <th>condition</th>\n",
       "      <th>cylinders</th>\n",
       "      <th>fuel</th>\n",
       "      <th>odometer</th>\n",
       "      <th>title_status</th>\n",
       "      <th>transmission</th>\n",
       "      <th>vin</th>\n",
       "      <th>drive</th>\n",
       "      <th>size</th>\n",
       "      <th>type</th>\n",
       "      <th>paint_color</th>\n",
       "      <th>image_url</th>\n",
       "      <th>description</th>\n",
       "      <th>county</th>\n",
       "      <th>state</th>\n",
       "      <th>lat</th>\n",
       "      <th>long</th>\n",
       "    </tr>\n",
       "  </thead>\n",
       "  <tbody>\n",
       "    <tr>\n",
       "      <th>0</th>\n",
       "      <td>7088746062</td>\n",
       "      <td>https://greensboro.craigslist.org/ctd/d/cary-2...</td>\n",
       "      <td>greensboro</td>\n",
       "      <td>https://greensboro.craigslist.org</td>\n",
       "      <td>10299</td>\n",
       "      <td>2012.0</td>\n",
       "      <td>acura</td>\n",
       "      <td>tl</td>\n",
       "      <td>NaN</td>\n",
       "      <td>NaN</td>\n",
       "      <td>gas</td>\n",
       "      <td>90186.0</td>\n",
       "      <td>clean</td>\n",
       "      <td>automatic</td>\n",
       "      <td>19UUA8F22CA003926</td>\n",
       "      <td>NaN</td>\n",
       "      <td>NaN</td>\n",
       "      <td>other</td>\n",
       "      <td>blue</td>\n",
       "      <td>https://images.craigslist.org/01414_3LIXs9EO33...</td>\n",
       "      <td>2012 Acura TL Base 4dr Sedan     Offered by: B...</td>\n",
       "      <td>NaN</td>\n",
       "      <td>nc</td>\n",
       "      <td>35.7636</td>\n",
       "      <td>-78.7443</td>\n",
       "    </tr>\n",
       "    <tr>\n",
       "      <th>1</th>\n",
       "      <td>7088745301</td>\n",
       "      <td>https://greensboro.craigslist.org/ctd/d/bmw-3-...</td>\n",
       "      <td>greensboro</td>\n",
       "      <td>https://greensboro.craigslist.org</td>\n",
       "      <td>0</td>\n",
       "      <td>2011.0</td>\n",
       "      <td>bmw</td>\n",
       "      <td>335</td>\n",
       "      <td>NaN</td>\n",
       "      <td>6 cylinders</td>\n",
       "      <td>gas</td>\n",
       "      <td>115120.0</td>\n",
       "      <td>clean</td>\n",
       "      <td>automatic</td>\n",
       "      <td>NaN</td>\n",
       "      <td>rwd</td>\n",
       "      <td>NaN</td>\n",
       "      <td>convertible</td>\n",
       "      <td>blue</td>\n",
       "      <td>https://images.craigslist.org/00S0S_1kTatLGLxB...</td>\n",
       "      <td>BMW 3 Series 335i Convertible Navigation Dakot...</td>\n",
       "      <td>NaN</td>\n",
       "      <td>nc</td>\n",
       "      <td>NaN</td>\n",
       "      <td>NaN</td>\n",
       "    </tr>\n",
       "    <tr>\n",
       "      <th>2</th>\n",
       "      <td>7088744126</td>\n",
       "      <td>https://greensboro.craigslist.org/cto/d/greens...</td>\n",
       "      <td>greensboro</td>\n",
       "      <td>https://greensboro.craigslist.org</td>\n",
       "      <td>9500</td>\n",
       "      <td>2011.0</td>\n",
       "      <td>jaguar</td>\n",
       "      <td>xf</td>\n",
       "      <td>excellent</td>\n",
       "      <td>NaN</td>\n",
       "      <td>gas</td>\n",
       "      <td>85000.0</td>\n",
       "      <td>clean</td>\n",
       "      <td>automatic</td>\n",
       "      <td>NaN</td>\n",
       "      <td>NaN</td>\n",
       "      <td>NaN</td>\n",
       "      <td>NaN</td>\n",
       "      <td>blue</td>\n",
       "      <td>https://images.craigslist.org/00505_f22HGItCRp...</td>\n",
       "      <td>2011 jaguar XF premium - estate sale. Retired ...</td>\n",
       "      <td>NaN</td>\n",
       "      <td>nc</td>\n",
       "      <td>36.1032</td>\n",
       "      <td>-79.8794</td>\n",
       "    </tr>\n",
       "    <tr>\n",
       "      <th>3</th>\n",
       "      <td>7088743681</td>\n",
       "      <td>https://greensboro.craigslist.org/ctd/d/cary-2...</td>\n",
       "      <td>greensboro</td>\n",
       "      <td>https://greensboro.craigslist.org</td>\n",
       "      <td>3995</td>\n",
       "      <td>2004.0</td>\n",
       "      <td>honda</td>\n",
       "      <td>element</td>\n",
       "      <td>NaN</td>\n",
       "      <td>NaN</td>\n",
       "      <td>gas</td>\n",
       "      <td>212526.0</td>\n",
       "      <td>clean</td>\n",
       "      <td>automatic</td>\n",
       "      <td>5J6YH18314L006498</td>\n",
       "      <td>fwd</td>\n",
       "      <td>NaN</td>\n",
       "      <td>SUV</td>\n",
       "      <td>orange</td>\n",
       "      <td>https://images.craigslist.org/00E0E_eAUnhFF86M...</td>\n",
       "      <td>2004 Honda Element LX 4dr SUV     Offered by: ...</td>\n",
       "      <td>NaN</td>\n",
       "      <td>nc</td>\n",
       "      <td>35.7636</td>\n",
       "      <td>-78.7443</td>\n",
       "    </tr>\n",
       "    <tr>\n",
       "      <th>4</th>\n",
       "      <td>7074612539</td>\n",
       "      <td>https://lincoln.craigslist.org/ctd/d/gretna-20...</td>\n",
       "      <td>lincoln</td>\n",
       "      <td>https://lincoln.craigslist.org</td>\n",
       "      <td>41988</td>\n",
       "      <td>2016.0</td>\n",
       "      <td>chevrolet</td>\n",
       "      <td>silverado k2500hd</td>\n",
       "      <td>NaN</td>\n",
       "      <td>NaN</td>\n",
       "      <td>gas</td>\n",
       "      <td>NaN</td>\n",
       "      <td>clean</td>\n",
       "      <td>automatic</td>\n",
       "      <td>1GC1KWE85GF266427</td>\n",
       "      <td>NaN</td>\n",
       "      <td>NaN</td>\n",
       "      <td>NaN</td>\n",
       "      <td>NaN</td>\n",
       "      <td>https://images.craigslist.org/00S0S_8msT7RQquO...</td>\n",
       "      <td>Shop Indoors, Heated Showroom!!!www.gretnaauto...</td>\n",
       "      <td>NaN</td>\n",
       "      <td>ne</td>\n",
       "      <td>41.1345</td>\n",
       "      <td>-96.2458</td>\n",
       "    </tr>\n",
       "  </tbody>\n",
       "</table>\n",
       "</div>"
      ],
      "text/plain": [
       "           id                                                url      region  \\\n",
       "0  7088746062  https://greensboro.craigslist.org/ctd/d/cary-2...  greensboro   \n",
       "1  7088745301  https://greensboro.craigslist.org/ctd/d/bmw-3-...  greensboro   \n",
       "2  7088744126  https://greensboro.craigslist.org/cto/d/greens...  greensboro   \n",
       "3  7088743681  https://greensboro.craigslist.org/ctd/d/cary-2...  greensboro   \n",
       "4  7074612539  https://lincoln.craigslist.org/ctd/d/gretna-20...     lincoln   \n",
       "\n",
       "                          region_url  price    year manufacturer  \\\n",
       "0  https://greensboro.craigslist.org  10299  2012.0        acura   \n",
       "1  https://greensboro.craigslist.org      0  2011.0          bmw   \n",
       "2  https://greensboro.craigslist.org   9500  2011.0       jaguar   \n",
       "3  https://greensboro.craigslist.org   3995  2004.0        honda   \n",
       "4     https://lincoln.craigslist.org  41988  2016.0    chevrolet   \n",
       "\n",
       "               model  condition    cylinders fuel  odometer title_status  \\\n",
       "0                 tl        NaN          NaN  gas   90186.0        clean   \n",
       "1                335        NaN  6 cylinders  gas  115120.0        clean   \n",
       "2                 xf  excellent          NaN  gas   85000.0        clean   \n",
       "3            element        NaN          NaN  gas  212526.0        clean   \n",
       "4  silverado k2500hd        NaN          NaN  gas       NaN        clean   \n",
       "\n",
       "  transmission                vin drive size         type paint_color  \\\n",
       "0    automatic  19UUA8F22CA003926   NaN  NaN        other        blue   \n",
       "1    automatic                NaN   rwd  NaN  convertible        blue   \n",
       "2    automatic                NaN   NaN  NaN          NaN        blue   \n",
       "3    automatic  5J6YH18314L006498   fwd  NaN          SUV      orange   \n",
       "4    automatic  1GC1KWE85GF266427   NaN  NaN          NaN         NaN   \n",
       "\n",
       "                                           image_url  \\\n",
       "0  https://images.craigslist.org/01414_3LIXs9EO33...   \n",
       "1  https://images.craigslist.org/00S0S_1kTatLGLxB...   \n",
       "2  https://images.craigslist.org/00505_f22HGItCRp...   \n",
       "3  https://images.craigslist.org/00E0E_eAUnhFF86M...   \n",
       "4  https://images.craigslist.org/00S0S_8msT7RQquO...   \n",
       "\n",
       "                                         description  county state      lat  \\\n",
       "0  2012 Acura TL Base 4dr Sedan     Offered by: B...     NaN    nc  35.7636   \n",
       "1  BMW 3 Series 335i Convertible Navigation Dakot...     NaN    nc      NaN   \n",
       "2  2011 jaguar XF premium - estate sale. Retired ...     NaN    nc  36.1032   \n",
       "3  2004 Honda Element LX 4dr SUV     Offered by: ...     NaN    nc  35.7636   \n",
       "4  Shop Indoors, Heated Showroom!!!www.gretnaauto...     NaN    ne  41.1345   \n",
       "\n",
       "      long  \n",
       "0 -78.7443  \n",
       "1      NaN  \n",
       "2 -79.8794  \n",
       "3 -78.7443  \n",
       "4 -96.2458  "
      ]
     },
     "execution_count": 84,
     "metadata": {},
     "output_type": "execute_result"
    }
   ],
   "source": [
    "#data import\n",
    "df = pd.read_csv('Data/vehicles.csv')\n",
    "df.head()"
   ]
  },
  {
   "cell_type": "markdown",
   "metadata": {},
   "source": [
    "It seems the data has some NULL values for some columns, let's view the info for df"
   ]
  },
  {
   "cell_type": "code",
   "execution_count": 85,
   "metadata": {
    "scrolled": false
   },
   "outputs": [
    {
     "name": "stdout",
     "output_type": "stream",
     "text": [
      "<class 'pandas.core.frame.DataFrame'>\n",
      "RangeIndex: 539759 entries, 0 to 539758\n",
      "Data columns (total 25 columns):\n",
      " #   Column        Non-Null Count   Dtype  \n",
      "---  ------        --------------   -----  \n",
      " 0   id            539759 non-null  int64  \n",
      " 1   url           539759 non-null  object \n",
      " 2   region        539759 non-null  object \n",
      " 3   region_url    539759 non-null  object \n",
      " 4   price         539759 non-null  int64  \n",
      " 5   year          538772 non-null  float64\n",
      " 6   manufacturer  516175 non-null  object \n",
      " 7   model         531746 non-null  object \n",
      " 8   condition     303707 non-null  object \n",
      " 9   cylinders     321264 non-null  object \n",
      " 10  fuel          536366 non-null  object \n",
      " 11  odometer      440783 non-null  float64\n",
      " 12  title_status  536819 non-null  object \n",
      " 13  transmission  535786 non-null  object \n",
      " 14  vin           315349 non-null  object \n",
      " 15  drive         383987 non-null  object \n",
      " 16  size          168550 non-null  object \n",
      " 17  type          392290 non-null  object \n",
      " 18  paint_color   365520 non-null  object \n",
      " 19  image_url     539740 non-null  object \n",
      " 20  description   539738 non-null  object \n",
      " 21  county        0 non-null       float64\n",
      " 22  state         539759 non-null  object \n",
      " 23  lat           530785 non-null  float64\n",
      " 24  long          530785 non-null  float64\n",
      "dtypes: float64(5), int64(2), object(18)\n",
      "memory usage: 103.0+ MB\n"
     ]
    }
   ],
   "source": [
    "df.info()"
   ]
  },
  {
   "cell_type": "markdown",
   "metadata": {},
   "source": [
    "#### We would start by dropping some of the columns. For example, columns that contain too many NULL values to be useful or columns that are hard to make use of for this analysis"
   ]
  },
  {
   "cell_type": "code",
   "execution_count": 86,
   "metadata": {},
   "outputs": [],
   "source": [
    "#columns contain too many NULL values\n",
    "df.drop(['condition','cylinders', 'vin', 'drive', 'size', 'type', 'paint_color', 'county'], axis = 1, inplace = True)\n",
    "#columns that are hard to make use of\n",
    "df.drop(['id', 'url', 'region', 'region_url', 'image_url', 'description', 'lat', 'long'], axis = 1, inplace = True)"
   ]
  },
  {
   "cell_type": "code",
   "execution_count": 87,
   "metadata": {},
   "outputs": [
    {
     "name": "stdout",
     "output_type": "stream",
     "text": [
      "<class 'pandas.core.frame.DataFrame'>\n",
      "RangeIndex: 539759 entries, 0 to 539758\n",
      "Data columns (total 9 columns):\n",
      " #   Column        Non-Null Count   Dtype  \n",
      "---  ------        --------------   -----  \n",
      " 0   price         539759 non-null  int64  \n",
      " 1   year          538772 non-null  float64\n",
      " 2   manufacturer  516175 non-null  object \n",
      " 3   model         531746 non-null  object \n",
      " 4   fuel          536366 non-null  object \n",
      " 5   odometer      440783 non-null  float64\n",
      " 6   title_status  536819 non-null  object \n",
      " 7   transmission  535786 non-null  object \n",
      " 8   state         539759 non-null  object \n",
      "dtypes: float64(2), int64(1), object(6)\n",
      "memory usage: 37.1+ MB\n"
     ]
    }
   ],
   "source": [
    "df.info()"
   ]
  },
  {
   "cell_type": "markdown",
   "metadata": {},
   "source": [
    "#### We still have some NULL values in some of the columns left - note that column \"odometer\" still contains many NULL values, because I think it is an important factor in predicting used car prices, and because we have enough number of examples to work with, we would drop the rows where \"odometer\" is NULL."
   ]
  },
  {
   "cell_type": "code",
   "execution_count": 88,
   "metadata": {
    "scrolled": true
   },
   "outputs": [],
   "source": [
    "df.drop(df.index[df['odometer'].isna()], inplace = True)\n",
    "df.reset_index(drop = True, inplace = True)"
   ]
  },
  {
   "cell_type": "code",
   "execution_count": 89,
   "metadata": {},
   "outputs": [
    {
     "name": "stdout",
     "output_type": "stream",
     "text": [
      "<class 'pandas.core.frame.DataFrame'>\n",
      "RangeIndex: 440783 entries, 0 to 440782\n",
      "Data columns (total 9 columns):\n",
      " #   Column        Non-Null Count   Dtype  \n",
      "---  ------        --------------   -----  \n",
      " 0   price         440783 non-null  int64  \n",
      " 1   year          439815 non-null  float64\n",
      " 2   manufacturer  425660 non-null  object \n",
      " 3   model         436331 non-null  object \n",
      " 4   fuel          437477 non-null  object \n",
      " 5   odometer      440783 non-null  float64\n",
      " 6   title_status  437924 non-null  object \n",
      " 7   transmission  437038 non-null  object \n",
      " 8   state         440783 non-null  object \n",
      "dtypes: float64(2), int64(1), object(6)\n",
      "memory usage: 30.3+ MB\n"
     ]
    }
   ],
   "source": [
    "df.info()"
   ]
  },
  {
   "cell_type": "markdown",
   "metadata": {},
   "source": [
    "#### Now we still have some missing values but they are a small percentage of the overall number of records. We can impute the missing values from existing data."
   ]
  },
  {
   "cell_type": "code",
   "execution_count": 90,
   "metadata": {},
   "outputs": [],
   "source": [
    "#for categorical variables, we would impute missing values based on existing class distribution by random sampling with replacement\n",
    "def CategoricalImputer(df, column_names):\n",
    "    for column in column_names:\n",
    "        replacements = np.random.choice(a = df[column][df[column].notna()], size = df[column].isna().sum(), replace = True)\n",
    "        replacements = pd.Series(replacements, index = df.index[df[column].isna()])\n",
    "        df[column].fillna(replacements, inplace = True)"
   ]
  },
  {
   "cell_type": "code",
   "execution_count": 91,
   "metadata": {},
   "outputs": [],
   "source": [
    "CategoricalImputer(df, ['year', 'manufacturer', 'model', 'fuel', 'title_status', 'transmission'])"
   ]
  },
  {
   "cell_type": "code",
   "execution_count": 92,
   "metadata": {},
   "outputs": [
    {
     "name": "stdout",
     "output_type": "stream",
     "text": [
      "<class 'pandas.core.frame.DataFrame'>\n",
      "RangeIndex: 440783 entries, 0 to 440782\n",
      "Data columns (total 9 columns):\n",
      " #   Column        Non-Null Count   Dtype  \n",
      "---  ------        --------------   -----  \n",
      " 0   price         440783 non-null  int64  \n",
      " 1   year          440783 non-null  float64\n",
      " 2   manufacturer  440783 non-null  object \n",
      " 3   model         440783 non-null  object \n",
      " 4   fuel          440783 non-null  object \n",
      " 5   odometer      440783 non-null  float64\n",
      " 6   title_status  440783 non-null  object \n",
      " 7   transmission  440783 non-null  object \n",
      " 8   state         440783 non-null  object \n",
      "dtypes: float64(2), int64(1), object(6)\n",
      "memory usage: 30.3+ MB\n"
     ]
    }
   ],
   "source": [
    "df.info()"
   ]
  },
  {
   "cell_type": "markdown",
   "metadata": {},
   "source": [
    "#### Great, we do not have NULL values anymore, now we would like to perform some data validity checking"
   ]
  },
  {
   "cell_type": "code",
   "execution_count": 93,
   "metadata": {
    "scrolled": true
   },
   "outputs": [
    {
     "name": "stdout",
     "output_type": "stream",
     "text": [
      "The max price of a used car is 4198286601, the min price of a used car is 0.\n"
     ]
    }
   ],
   "source": [
    "print(f\"The max price of a used car is {df['price'].max()}, the min price of a used car is {df['price'].min()}.\")"
   ]
  },
  {
   "cell_type": "code",
   "execution_count": 94,
   "metadata": {},
   "outputs": [],
   "source": [
    "#The above does not make lots of sense, so we would like to only keep the used cars with prices between 1000 and 200000\n",
    "drop_idx = df.index[(df['price'] < 1000) | (df['price'] > 200000)]\n",
    "df.drop(drop_idx, inplace = True)\n",
    "df.reset_index(drop = True, inplace = True)"
   ]
  },
  {
   "cell_type": "code",
   "execution_count": 95,
   "metadata": {},
   "outputs": [
    {
     "name": "stdout",
     "output_type": "stream",
     "text": [
      "The max price of a used car is 200000, the min price of a used car is 1000.\n"
     ]
    }
   ],
   "source": [
    "print(f\"The max price of a used car is {df['price'].max()}, the min price of a used car is {df['price'].min()}.\")"
   ]
  },
  {
   "cell_type": "code",
   "execution_count": 96,
   "metadata": {},
   "outputs": [
    {
     "data": {
      "text/plain": [
       "2017.0    32525\n",
       "2016.0    30987\n",
       "2015.0    30289\n",
       "2013.0    29280\n",
       "2014.0    28769\n",
       "          ...  \n",
       "1928.0        2\n",
       "1942.0        2\n",
       "1922.0        1\n",
       "1914.0        1\n",
       "0.0           1\n",
       "Name: year, Length: 101, dtype: int64"
      ]
     },
     "execution_count": 96,
     "metadata": {},
     "output_type": "execute_result"
    }
   ],
   "source": [
    "df['year'].value_counts()"
   ]
  },
  {
   "cell_type": "code",
   "execution_count": 97,
   "metadata": {},
   "outputs": [],
   "source": [
    "#We would only be interested in used cars with year between 2000 and 2019. \n",
    "#If a used car is too old, we are not intersted and also they have fewer instances to be trained thus prediction accuracy is questionable.\n",
    "#The dataset is from Jan 2020 so we would only include models up until year 2019 \n",
    "#(year 2020 model should be out already but again, there are few instances or even bad data as there are some used cars have model year 2021)\n",
    "drop_idx = df.index[(df['year'] < 2000) | (df['year'] > 2019)]\n",
    "df.drop(drop_idx, inplace = True)\n",
    "df.reset_index(drop = True, inplace = True)"
   ]
  },
  {
   "cell_type": "code",
   "execution_count": 98,
   "metadata": {},
   "outputs": [
    {
     "data": {
      "text/plain": [
       "2017.0    32525\n",
       "2016.0    30987\n",
       "2015.0    30289\n",
       "2013.0    29280\n",
       "2014.0    28769\n",
       "Name: year, dtype: int64"
      ]
     },
     "execution_count": 98,
     "metadata": {},
     "output_type": "execute_result"
    }
   ],
   "source": [
    "#top 5 rows\n",
    "df['year'].value_counts().head()"
   ]
  },
  {
   "cell_type": "code",
   "execution_count": 99,
   "metadata": {},
   "outputs": [
    {
     "data": {
      "text/plain": [
       "ford               70432\n",
       "chevrolet          55140\n",
       "toyota             30388\n",
       "nissan             21649\n",
       "ram                19680\n",
       "honda              19648\n",
       "jeep               18608\n",
       "gmc                17445\n",
       "dodge              12922\n",
       "bmw                11509\n",
       "hyundai             9783\n",
       "subaru              9551\n",
       "mercedes-benz       8826\n",
       "volkswagen          8439\n",
       "kia                 7504\n",
       "chrysler            6323\n",
       "cadillac            5831\n",
       "buick               5471\n",
       "lexus               5054\n",
       "audi                4893\n",
       "mazda               4758\n",
       "infiniti            3306\n",
       "acura               3111\n",
       "lincoln             2497\n",
       "volvo               2470\n",
       "pontiac             2226\n",
       "mini                2056\n",
       "mitsubishi          1923\n",
       "rover               1601\n",
       "saturn              1197\n",
       "mercury             1175\n",
       "jaguar               805\n",
       "fiat                 785\n",
       "tesla                198\n",
       "harley-davidson      163\n",
       "alfa-romeo            42\n",
       "ferrari               35\n",
       "aston-martin          26\n",
       "land rover            15\n",
       "porche                 7\n",
       "hennessey              1\n",
       "Name: manufacturer, dtype: int64"
      ]
     },
     "execution_count": 99,
     "metadata": {},
     "output_type": "execute_result"
    }
   ],
   "source": [
    "df['manufacturer'].value_counts()"
   ]
  },
  {
   "cell_type": "code",
   "execution_count": 100,
   "metadata": {},
   "outputs": [],
   "source": [
    "#Manufacturer data looks good but for the same reasons as above, we would like to drop instances where count < 1000\n",
    "counts = df['manufacturer'].value_counts()\n",
    "values_to_drop = counts.index[counts < 1000]\n",
    "drop_idx = df.index[df['manufacturer'].isin(values_to_drop)]\n",
    "df.drop(drop_idx, inplace = True)\n",
    "df.reset_index(drop = True, inplace = True)"
   ]
  },
  {
   "cell_type": "markdown",
   "metadata": {},
   "source": [
    "#### The next column: \"model\" is a hard one to deal with. If we look at its value_counts..."
   ]
  },
  {
   "cell_type": "code",
   "execution_count": 119,
   "metadata": {},
   "outputs": [
    {
     "data": {
      "text/plain": [
       "f-150                              8151\n",
       "silverado 1500                     5249\n",
       "1500                               4680\n",
       "silverado                          3540\n",
       "wrangler                           2780\n",
       "                                   ... \n",
       "f-350 crew cab four wheel drive       1\n",
       "ecosport ses automatic                1\n",
       "yukon awd 4dr 1500 denali             1\n",
       "limited                               1\n",
       "NISSAN/ARMADA                         1\n",
       "Name: model, Length: 25499, dtype: int64"
      ]
     },
     "execution_count": 119,
     "metadata": {},
     "output_type": "execute_result"
    }
   ],
   "source": [
    "df['model'].value_counts()"
   ]
  },
  {
   "cell_type": "markdown",
   "metadata": {},
   "source": [
    "#### Noticed the issue here? Because this \"model\" field might be a free text field, seller can put different variations of the same car model. For example, \"silverado 1500\", \"1500\" and \"silverado\" most likely represent the same car model. If we put the values directly into training algorithms, they would be treated as different car models, which could impact our model performance. To mitigate this issue, we would take the following steps:\n",
    "1. Strip out the words of individual car model for each record\n",
    "2. Find out the top 110 words based on frequency with weights assigned based on word sequence in a record\n",
    "    (ex. \"silverado 1500\" - \"silverado\" would have more weights than \"1500\" because the further the word is to the front, the more likely the word represents the actual car model)\n",
    "3. Go through the 110 words, clean them up and end up with the most common derived \"car models\"\n",
    "4. Map records to the most common derived \"car models\" and if a record cannot be mapped, drop the record."
   ]
  },
  {
   "cell_type": "code",
   "execution_count": null,
   "metadata": {},
   "outputs": [],
   "source": []
  }
 ],
 "metadata": {
  "file_extension": ".py",
  "kernelspec": {
   "display_name": "Python 3",
   "language": "python",
   "name": "python3"
  },
  "language_info": {
   "codemirror_mode": {
    "name": "ipython",
    "version": 3
   },
   "file_extension": ".py",
   "mimetype": "text/x-python",
   "name": "python",
   "nbconvert_exporter": "python",
   "pygments_lexer": "ipython3",
   "version": "3.7.6"
  },
  "mimetype": "text/x-python",
  "name": "python",
  "npconvert_exporter": "python",
  "pygments_lexer": "ipython3",
  "version": 3
 },
 "nbformat": 4,
 "nbformat_minor": 2
}
