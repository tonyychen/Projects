{
 "cells": [
  {
   "cell_type": "markdown",
   "metadata": {},
   "source": [
    "### In this project, we would explore regression analysis and make predictions on used car prices using an ensemble of regressors. After that, we would build a web app for user interactions and live predictions.\n",
    "---\n",
    "1. *In Part I of the project we pre-processed the data*\n",
    "2. #### This is PART II of the project where we focus on regression methods and building an ensemble of them for used car prices prediction"
   ]
  },
  {
   "cell_type": "markdown",
   "metadata": {},
   "source": [
    "#### Highlights of this part:\n",
    "1.  Regression methods\n",
    "2.  Building ensemble of regressors from scratch"
   ]
  },
  {
   "cell_type": "markdown",
   "metadata": {},
   "source": [
    "**Citations:**\n",
    "\n",
    "This dataset is from Kaggle - Used Cars Dataset\n",
    "\n",
    "URL: https://www.kaggle.com/austinreese/craigslist-carstrucks-data\n",
    "\n",
    "---\n",
    "\n",
    "The following description is from Kaggle:\n",
    "\n",
    "**Context**\n",
    "\n",
    "Craigslist is the world's largest collection of used vehicles for sale, yet it's very difficult to collect all of them in the same place. I built a scraper for a school project and expanded upon it later to create this dataset which includes every used vehicle entry within the United States on Craigslist.\n",
    "\n",
    "**Content**\n",
    "\n",
    "This data is scraped every few months, it contains most all relevant information that Craigslist provides on car sales including columns like price, condition, manufacturer, latitude/longitude, and 18 other categories. For ML projects, consider feature engineering on location columns such as long/lat. For previous listings, check older versions of the dataset.\n",
    "\n",
    "See https://github.com/AustinReese1998/craigslistFilter"
   ]
  },
  {
   "cell_type": "code",
   "execution_count": 1,
   "metadata": {},
   "outputs": [],
   "source": [
    "import numpy as np\n",
    "import pandas as pd\n",
    "import matplotlib.pyplot as plt\n",
    "import seaborn as sns"
   ]
  },
  {
   "cell_type": "code",
   "execution_count": 2,
   "metadata": {},
   "outputs": [],
   "source": [
    "#Load dataset generated from Part I\n",
    "df = pd.read_csv('Data/vehicles_pre-processed.csv')"
   ]
  },
  {
   "cell_type": "code",
   "execution_count": 3,
   "metadata": {},
   "outputs": [
    {
     "data": {
      "text/html": [
       "<div>\n",
       "<style scoped>\n",
       "    .dataframe tbody tr th:only-of-type {\n",
       "        vertical-align: middle;\n",
       "    }\n",
       "\n",
       "    .dataframe tbody tr th {\n",
       "        vertical-align: top;\n",
       "    }\n",
       "\n",
       "    .dataframe thead th {\n",
       "        text-align: right;\n",
       "    }\n",
       "</style>\n",
       "<table border=\"1\" class=\"dataframe\">\n",
       "  <thead>\n",
       "    <tr style=\"text-align: right;\">\n",
       "      <th></th>\n",
       "      <th>price</th>\n",
       "      <th>year</th>\n",
       "      <th>manufacturer</th>\n",
       "      <th>model</th>\n",
       "      <th>fuel</th>\n",
       "      <th>odometer</th>\n",
       "      <th>title_status</th>\n",
       "      <th>transmission</th>\n",
       "      <th>state</th>\n",
       "    </tr>\n",
       "  </thead>\n",
       "  <tbody>\n",
       "    <tr>\n",
       "      <th>0</th>\n",
       "      <td>10299</td>\n",
       "      <td>2012.0</td>\n",
       "      <td>acura</td>\n",
       "      <td>Others</td>\n",
       "      <td>gas</td>\n",
       "      <td>90186.0</td>\n",
       "      <td>clean</td>\n",
       "      <td>automatic</td>\n",
       "      <td>nc</td>\n",
       "    </tr>\n",
       "    <tr>\n",
       "      <th>1</th>\n",
       "      <td>3995</td>\n",
       "      <td>2004.0</td>\n",
       "      <td>honda</td>\n",
       "      <td>Others</td>\n",
       "      <td>gas</td>\n",
       "      <td>212526.0</td>\n",
       "      <td>clean</td>\n",
       "      <td>automatic</td>\n",
       "      <td>nc</td>\n",
       "    </tr>\n",
       "    <tr>\n",
       "      <th>2</th>\n",
       "      <td>12995</td>\n",
       "      <td>2015.0</td>\n",
       "      <td>kia</td>\n",
       "      <td>sportage</td>\n",
       "      <td>gas</td>\n",
       "      <td>85127.0</td>\n",
       "      <td>clean</td>\n",
       "      <td>automatic</td>\n",
       "      <td>nc</td>\n",
       "    </tr>\n",
       "    <tr>\n",
       "      <th>3</th>\n",
       "      <td>10995</td>\n",
       "      <td>2014.0</td>\n",
       "      <td>chevrolet</td>\n",
       "      <td>traverse</td>\n",
       "      <td>gas</td>\n",
       "      <td>112383.0</td>\n",
       "      <td>clean</td>\n",
       "      <td>automatic</td>\n",
       "      <td>nc</td>\n",
       "    </tr>\n",
       "    <tr>\n",
       "      <th>4</th>\n",
       "      <td>8995</td>\n",
       "      <td>2011.0</td>\n",
       "      <td>bmw</td>\n",
       "      <td>Others</td>\n",
       "      <td>gas</td>\n",
       "      <td>124446.0</td>\n",
       "      <td>clean</td>\n",
       "      <td>automatic</td>\n",
       "      <td>nc</td>\n",
       "    </tr>\n",
       "  </tbody>\n",
       "</table>\n",
       "</div>"
      ],
      "text/plain": [
       "   price    year manufacturer     model fuel  odometer title_status  \\\n",
       "0  10299  2012.0        acura    Others  gas   90186.0        clean   \n",
       "1   3995  2004.0        honda    Others  gas  212526.0        clean   \n",
       "2  12995  2015.0          kia  sportage  gas   85127.0        clean   \n",
       "3  10995  2014.0    chevrolet  traverse  gas  112383.0        clean   \n",
       "4   8995  2011.0          bmw    Others  gas  124446.0        clean   \n",
       "\n",
       "  transmission state  \n",
       "0    automatic    nc  \n",
       "1    automatic    nc  \n",
       "2    automatic    nc  \n",
       "3    automatic    nc  \n",
       "4    automatic    nc  "
      ]
     },
     "execution_count": 3,
     "metadata": {},
     "output_type": "execute_result"
    }
   ],
   "source": [
    "df.head()"
   ]
  },
  {
   "cell_type": "markdown",
   "metadata": {},
   "source": [
    "We could do some visualizations on the data, for example the following. I would create another demonstration solely on data visualizations. For now, let's focus on the objective of predicting used car prices."
   ]
  },
  {
   "cell_type": "code",
   "execution_count": 4,
   "metadata": {},
   "outputs": [
    {
     "data": {
      "image/png": "[encoded data removed]",
      "text/plain": [
       "<Figure size 576x432 with 1 Axes>"
      ]
     },
     "metadata": {
      "needs_background": "light"
     },
     "output_type": "display_data"
    }
   ],
   "source": [
    "mc = df['manufacturer'].value_counts().head()\n",
    "plt.figure(figsize = (8, 6))\n",
    "sns.barplot(x = mc.index, y = mc.values)\n",
    "plt.title('Top 5 Manufacturers by Count from Listing')\n",
    "plt.xlabel('Manufacturers')\n",
    "plt.ylabel('Number of Instances')\n",
    "plt.show()"
   ]
  },
  {
   "cell_type": "markdown",
   "metadata": {},
   "source": [
    "#### Before we fit the data using regression models, we would like to standardize the numerical features and one-hot encode the categorical features. For detailed explanations on the methods, please refer to the Portfolio Project 1: Predictive Analysis Structure - Hotel Booking Classification"
   ]
  },
  {
   "cell_type": "code",
   "execution_count": 5,
   "metadata": {},
   "outputs": [],
   "source": [
    "from sklearn.base import BaseEstimator, TransformerMixin"
   ]
  },
  {
   "cell_type": "code",
   "execution_count": 6,
   "metadata": {},
   "outputs": [],
   "source": [
    "#Build Feature_Selector class\n",
    "class FeatureSelector(BaseEstimator, TransformerMixin):\n",
    "    '''\n",
    "    Select certain features from a Dataframe, return numpy array\n",
    "    '''\n",
    "    def __init__(self, columns):\n",
    "        '''\n",
    "        columns: list of columns\n",
    "        '''\n",
    "        self.columns = columns\n",
    "        \n",
    "    def fit(self, X, y = None):\n",
    "        return self\n",
    "    \n",
    "    def transform(self, X, y = None):\n",
    "        return X.loc[:, self.columns].values.reshape(-1, len(self.columns))"
   ]
  },
  {
   "cell_type": "code",
   "execution_count": 7,
   "metadata": {
    "scrolled": true
   },
   "outputs": [
    {
     "name": "stdout",
     "output_type": "stream",
     "text": [
      "<class 'pandas.core.frame.DataFrame'>\n",
      "RangeIndex: 368574 entries, 0 to 368573\n",
      "Data columns (total 9 columns):\n",
      " #   Column        Non-Null Count   Dtype  \n",
      "---  ------        --------------   -----  \n",
      " 0   price         368574 non-null  int64  \n",
      " 1   year          368574 non-null  float64\n",
      " 2   manufacturer  368574 non-null  object \n",
      " 3   model         368574 non-null  object \n",
      " 4   fuel          368574 non-null  object \n",
      " 5   odometer      368574 non-null  float64\n",
      " 6   title_status  368574 non-null  object \n",
      " 7   transmission  368574 non-null  object \n",
      " 8   state         368574 non-null  object \n",
      "dtypes: float64(2), int64(1), object(6)\n",
      "memory usage: 25.3+ MB\n"
     ]
    }
   ],
   "source": [
    "df.info()"
   ]
  },
  {
   "cell_type": "code",
   "execution_count": 8,
   "metadata": {},
   "outputs": [],
   "source": [
    "#StandardScaler and OneHotEncoder\n",
    "from sklearn.preprocessing import StandardScaler, OneHotEncoder\n",
    "#Build Transformer Pipelines\n",
    "from sklearn.pipeline import make_pipeline, make_union\n",
    "\n",
    "cat_fs = FeatureSelector(['manufacturer', 'model', 'fuel', 'title_status', 'transmission', 'state'])\n",
    "num_fs = FeatureSelector(['year', 'odometer']) # We treat year column as numeric\n",
    "\n",
    "cat_trans = make_pipeline(cat_fs, OneHotEncoder(drop = 'first', sparse = False))\n",
    "num_trans = make_pipeline(num_fs, StandardScaler())\n",
    "\n",
    "union_trans = make_union(cat_trans, num_trans)"
   ]
  },
  {
   "cell_type": "markdown",
   "metadata": {},
   "source": [
    "#### We would start from fitting a Random Forest Regression model. Again, all details on reasons behind each individual steps could be found in Portfolio Project 1: Predictive Analysis Structure - Hotel Booking Classification"
   ]
  },
  {
   "cell_type": "code",
   "execution_count": 9,
   "metadata": {},
   "outputs": [],
   "source": [
    "X = df.drop(['price'], axis = 1)\n",
    "y = df['price'].values"
   ]
  },
  {
   "cell_type": "code",
   "execution_count": 10,
   "metadata": {},
   "outputs": [],
   "source": [
    "from sklearn.model_selection import train_test_split\n",
    "\n",
    "X_train_all, X_test, y_train_all, y_test = train_test_split(X, y, test_size = 0.2)"
   ]
  },
  {
   "cell_type": "code",
   "execution_count": 11,
   "metadata": {},
   "outputs": [],
   "source": [
    "#Further split train_all into training and cross validation sets since we do not want to touch the test set yet\n",
    "X_train, X_cv, y_train, y_cv = train_test_split(X_train_all, y_train_all, test_size = 0.1)"
   ]
  },
  {
   "cell_type": "code",
   "execution_count": 12,
   "metadata": {},
   "outputs": [],
   "source": [
    "from sklearn.ensemble import RandomForestRegressor\n",
    "forest = RandomForestRegressor(n_jobs = -1)\n",
    "forest_pipe = make_pipeline(union_trans, forest)"
   ]
  },
  {
   "cell_type": "code",
   "execution_count": 13,
   "metadata": {},
   "outputs": [],
   "source": [
    "#Now fit the data and make predictions\n",
    "forest_pipe.fit(X_train, y_train)\n",
    "pred_cv = forest_pipe.predict(X_cv)"
   ]
  },
  {
   "cell_type": "markdown",
   "metadata": {},
   "source": [
    "#### Now we can evaluate the model performance, for performance evaluation for regression, we would use the following methods:\n",
    "1. Residual plot\n",
    "2. Mean squared error (MSE)\n",
    "3. R-squared"
   ]
  },
  {
   "cell_type": "code",
   "execution_count": 24,
   "metadata": {},
   "outputs": [
    {
     "data": {
      "text/plain": [
       "Text(0.5, 1.0, 'Residual Plot')"
      ]
     },
     "execution_count": 24,
     "metadata": {},
     "output_type": "execute_result"
    },
    {
     "data": {
      "image/png": "[encoded data removed]",
      "text/plain": [
       "<Figure size 576x432 with 1 Axes>"
      ]
     },
     "metadata": {
      "needs_background": "light"
     },
     "output_type": "display_data"
    }
   ],
   "source": [
    "#Residual plot\n",
    "plt.figure(figsize = (8, 6))\n",
    "plt.scatter(pred_cv, pred_cv - y_cv, edgecolor = 'white')\n",
    "plt.hlines(y = 0, xmin = -10000, xmax = pred_cv.max() * 1.1, color = 'black', lw = 2)\n",
    "plt.xlim(-10000, pred_cv.max() * 1.1)\n",
    "plt.xlabel('Predicted values')\n",
    "plt.ylabel('Residuals')\n",
    "plt.title('Residual Plot')"
   ]
  },
  {
   "cell_type": "code",
   "execution_count": null,
   "metadata": {},
   "outputs": [],
   "source": []
  }
 ],
 "metadata": {
  "kernelspec": {
   "display_name": "Python 3",
   "language": "python",
   "name": "python3"
  },
  "language_info": {
   "codemirror_mode": {
    "name": "ipython",
    "version": 3
   },
   "file_extension": ".py",
   "mimetype": "text/x-python",
   "name": "python",
   "nbconvert_exporter": "python",
   "pygments_lexer": "ipython3",
   "version": "3.7.6"
  }
 },
 "nbformat": 4,
 "nbformat_minor": 4
}
