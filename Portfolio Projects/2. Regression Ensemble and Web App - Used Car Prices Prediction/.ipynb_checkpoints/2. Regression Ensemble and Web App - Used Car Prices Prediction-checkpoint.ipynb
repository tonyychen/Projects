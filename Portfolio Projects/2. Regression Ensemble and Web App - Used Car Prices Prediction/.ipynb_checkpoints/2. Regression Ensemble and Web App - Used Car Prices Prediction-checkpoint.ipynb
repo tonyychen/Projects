{
 "cells": [
  {
   "cell_type": "markdown",
   "metadata": {},
   "source": [
    "### In this project, we would try to explore regression analysis and make predictions on used car prices using ensemble of regressors. I also hope that I can upload the model as a web app for other people to play around with."
   ]
  },
  {
   "cell_type": "markdown",
   "metadata": {},
   "source": [
    "**Citations:**\n",
    "\n",
    "URL: https://www.kaggle.com/austinreese/craigslist-carstrucks-data\n",
    "\n",
    "---\n",
    "\n",
    "The following description is from Kaggle:\n",
    "\n",
    "**Context**\n",
    "\n",
    "Craigslist is the world's largest collection of used vehicles for sale, yet it's very difficult to collect all of them in the same place. I built a scraper for a school project and expanded upon it later to create this dataset which includes every used vehicle entry within the United States on Craigslist.\n",
    "\n",
    "**Content**\n",
    "\n",
    "This data is scraped every few months, it contains most all relevant information that Craigslist provides on car sales including columns like price, condition, manufacturer, latitude/longitude, and 18 other categories. For ML projects, consider feature engineering on location columns such as long/lat. For previous listings, check older versions of the dataset.\n",
    "\n",
    "See https://github.com/AustinReese1998/craigslistFilter"
   ]
  },
  {
   "cell_type": "code",
   "execution_count": 1,
   "metadata": {},
   "outputs": [],
   "source": [
    "import numpy as np\n",
    "import pandas as pd\n",
    "import matplotlib.pyplot as plt"
   ]
  },
  {
   "cell_type": "code",
   "execution_count": 2,
   "metadata": {},
   "outputs": [],
   "source": [
    "pd.set_option('display.max_columns', None)"
   ]
  },
  {
   "cell_type": "code",
   "execution_count": 3,
   "metadata": {},
   "outputs": [
    {
     "data": {
      "text/html": [
       "<div>\n",
       "<style scoped>\n",
       "    .dataframe tbody tr th:only-of-type {\n",
       "        vertical-align: middle;\n",
       "    }\n",
       "\n",
       "    .dataframe tbody tr th {\n",
       "        vertical-align: top;\n",
       "    }\n",
       "\n",
       "    .dataframe thead th {\n",
       "        text-align: right;\n",
       "    }\n",
       "</style>\n",
       "<table border=\"1\" class=\"dataframe\">\n",
       "  <thead>\n",
       "    <tr style=\"text-align: right;\">\n",
       "      <th></th>\n",
       "      <th>id</th>\n",
       "      <th>url</th>\n",
       "      <th>region</th>\n",
       "      <th>region_url</th>\n",
       "      <th>price</th>\n",
       "      <th>year</th>\n",
       "      <th>manufacturer</th>\n",
       "      <th>model</th>\n",
       "      <th>condition</th>\n",
       "      <th>cylinders</th>\n",
       "      <th>fuel</th>\n",
       "      <th>odometer</th>\n",
       "      <th>title_status</th>\n",
       "      <th>transmission</th>\n",
       "      <th>vin</th>\n",
       "      <th>drive</th>\n",
       "      <th>size</th>\n",
       "      <th>type</th>\n",
       "      <th>paint_color</th>\n",
       "      <th>image_url</th>\n",
       "      <th>description</th>\n",
       "      <th>county</th>\n",
       "      <th>state</th>\n",
       "      <th>lat</th>\n",
       "      <th>long</th>\n",
       "    </tr>\n",
       "  </thead>\n",
       "  <tbody>\n",
       "    <tr>\n",
       "      <th>0</th>\n",
       "      <td>7088746062</td>\n",
       "      <td>https://greensboro.craigslist.org/ctd/d/cary-2...</td>\n",
       "      <td>greensboro</td>\n",
       "      <td>https://greensboro.craigslist.org</td>\n",
       "      <td>10299</td>\n",
       "      <td>2012.0</td>\n",
       "      <td>acura</td>\n",
       "      <td>tl</td>\n",
       "      <td>NaN</td>\n",
       "      <td>NaN</td>\n",
       "      <td>gas</td>\n",
       "      <td>90186.0</td>\n",
       "      <td>clean</td>\n",
       "      <td>automatic</td>\n",
       "      <td>19UUA8F22CA003926</td>\n",
       "      <td>NaN</td>\n",
       "      <td>NaN</td>\n",
       "      <td>other</td>\n",
       "      <td>blue</td>\n",
       "      <td>https://images.craigslist.org/01414_3LIXs9EO33...</td>\n",
       "      <td>2012 Acura TL Base 4dr Sedan     Offered by: B...</td>\n",
       "      <td>NaN</td>\n",
       "      <td>nc</td>\n",
       "      <td>35.7636</td>\n",
       "      <td>-78.7443</td>\n",
       "    </tr>\n",
       "    <tr>\n",
       "      <th>1</th>\n",
       "      <td>7088745301</td>\n",
       "      <td>https://greensboro.craigslist.org/ctd/d/bmw-3-...</td>\n",
       "      <td>greensboro</td>\n",
       "      <td>https://greensboro.craigslist.org</td>\n",
       "      <td>0</td>\n",
       "      <td>2011.0</td>\n",
       "      <td>bmw</td>\n",
       "      <td>335</td>\n",
       "      <td>NaN</td>\n",
       "      <td>6 cylinders</td>\n",
       "      <td>gas</td>\n",
       "      <td>115120.0</td>\n",
       "      <td>clean</td>\n",
       "      <td>automatic</td>\n",
       "      <td>NaN</td>\n",
       "      <td>rwd</td>\n",
       "      <td>NaN</td>\n",
       "      <td>convertible</td>\n",
       "      <td>blue</td>\n",
       "      <td>https://images.craigslist.org/00S0S_1kTatLGLxB...</td>\n",
       "      <td>BMW 3 Series 335i Convertible Navigation Dakot...</td>\n",
       "      <td>NaN</td>\n",
       "      <td>nc</td>\n",
       "      <td>NaN</td>\n",
       "      <td>NaN</td>\n",
       "    </tr>\n",
       "    <tr>\n",
       "      <th>2</th>\n",
       "      <td>7088744126</td>\n",
       "      <td>https://greensboro.craigslist.org/cto/d/greens...</td>\n",
       "      <td>greensboro</td>\n",
       "      <td>https://greensboro.craigslist.org</td>\n",
       "      <td>9500</td>\n",
       "      <td>2011.0</td>\n",
       "      <td>jaguar</td>\n",
       "      <td>xf</td>\n",
       "      <td>excellent</td>\n",
       "      <td>NaN</td>\n",
       "      <td>gas</td>\n",
       "      <td>85000.0</td>\n",
       "      <td>clean</td>\n",
       "      <td>automatic</td>\n",
       "      <td>NaN</td>\n",
       "      <td>NaN</td>\n",
       "      <td>NaN</td>\n",
       "      <td>NaN</td>\n",
       "      <td>blue</td>\n",
       "      <td>https://images.craigslist.org/00505_f22HGItCRp...</td>\n",
       "      <td>2011 jaguar XF premium - estate sale. Retired ...</td>\n",
       "      <td>NaN</td>\n",
       "      <td>nc</td>\n",
       "      <td>36.1032</td>\n",
       "      <td>-79.8794</td>\n",
       "    </tr>\n",
       "    <tr>\n",
       "      <th>3</th>\n",
       "      <td>7088743681</td>\n",
       "      <td>https://greensboro.craigslist.org/ctd/d/cary-2...</td>\n",
       "      <td>greensboro</td>\n",
       "      <td>https://greensboro.craigslist.org</td>\n",
       "      <td>3995</td>\n",
       "      <td>2004.0</td>\n",
       "      <td>honda</td>\n",
       "      <td>element</td>\n",
       "      <td>NaN</td>\n",
       "      <td>NaN</td>\n",
       "      <td>gas</td>\n",
       "      <td>212526.0</td>\n",
       "      <td>clean</td>\n",
       "      <td>automatic</td>\n",
       "      <td>5J6YH18314L006498</td>\n",
       "      <td>fwd</td>\n",
       "      <td>NaN</td>\n",
       "      <td>SUV</td>\n",
       "      <td>orange</td>\n",
       "      <td>https://images.craigslist.org/00E0E_eAUnhFF86M...</td>\n",
       "      <td>2004 Honda Element LX 4dr SUV     Offered by: ...</td>\n",
       "      <td>NaN</td>\n",
       "      <td>nc</td>\n",
       "      <td>35.7636</td>\n",
       "      <td>-78.7443</td>\n",
       "    </tr>\n",
       "    <tr>\n",
       "      <th>4</th>\n",
       "      <td>7074612539</td>\n",
       "      <td>https://lincoln.craigslist.org/ctd/d/gretna-20...</td>\n",
       "      <td>lincoln</td>\n",
       "      <td>https://lincoln.craigslist.org</td>\n",
       "      <td>41988</td>\n",
       "      <td>2016.0</td>\n",
       "      <td>chevrolet</td>\n",
       "      <td>silverado k2500hd</td>\n",
       "      <td>NaN</td>\n",
       "      <td>NaN</td>\n",
       "      <td>gas</td>\n",
       "      <td>NaN</td>\n",
       "      <td>clean</td>\n",
       "      <td>automatic</td>\n",
       "      <td>1GC1KWE85GF266427</td>\n",
       "      <td>NaN</td>\n",
       "      <td>NaN</td>\n",
       "      <td>NaN</td>\n",
       "      <td>NaN</td>\n",
       "      <td>https://images.craigslist.org/00S0S_8msT7RQquO...</td>\n",
       "      <td>Shop Indoors, Heated Showroom!!!www.gretnaauto...</td>\n",
       "      <td>NaN</td>\n",
       "      <td>ne</td>\n",
       "      <td>41.1345</td>\n",
       "      <td>-96.2458</td>\n",
       "    </tr>\n",
       "  </tbody>\n",
       "</table>\n",
       "</div>"
      ],
      "text/plain": [
       "           id                                                url      region  \\\n",
       "0  7088746062  https://greensboro.craigslist.org/ctd/d/cary-2...  greensboro   \n",
       "1  7088745301  https://greensboro.craigslist.org/ctd/d/bmw-3-...  greensboro   \n",
       "2  7088744126  https://greensboro.craigslist.org/cto/d/greens...  greensboro   \n",
       "3  7088743681  https://greensboro.craigslist.org/ctd/d/cary-2...  greensboro   \n",
       "4  7074612539  https://lincoln.craigslist.org/ctd/d/gretna-20...     lincoln   \n",
       "\n",
       "                          region_url  price    year manufacturer  \\\n",
       "0  https://greensboro.craigslist.org  10299  2012.0        acura   \n",
       "1  https://greensboro.craigslist.org      0  2011.0          bmw   \n",
       "2  https://greensboro.craigslist.org   9500  2011.0       jaguar   \n",
       "3  https://greensboro.craigslist.org   3995  2004.0        honda   \n",
       "4     https://lincoln.craigslist.org  41988  2016.0    chevrolet   \n",
       "\n",
       "               model  condition    cylinders fuel  odometer title_status  \\\n",
       "0                 tl        NaN          NaN  gas   90186.0        clean   \n",
       "1                335        NaN  6 cylinders  gas  115120.0        clean   \n",
       "2                 xf  excellent          NaN  gas   85000.0        clean   \n",
       "3            element        NaN          NaN  gas  212526.0        clean   \n",
       "4  silverado k2500hd        NaN          NaN  gas       NaN        clean   \n",
       "\n",
       "  transmission                vin drive size         type paint_color  \\\n",
       "0    automatic  19UUA8F22CA003926   NaN  NaN        other        blue   \n",
       "1    automatic                NaN   rwd  NaN  convertible        blue   \n",
       "2    automatic                NaN   NaN  NaN          NaN        blue   \n",
       "3    automatic  5J6YH18314L006498   fwd  NaN          SUV      orange   \n",
       "4    automatic  1GC1KWE85GF266427   NaN  NaN          NaN         NaN   \n",
       "\n",
       "                                           image_url  \\\n",
       "0  https://images.craigslist.org/01414_3LIXs9EO33...   \n",
       "1  https://images.craigslist.org/00S0S_1kTatLGLxB...   \n",
       "2  https://images.craigslist.org/00505_f22HGItCRp...   \n",
       "3  https://images.craigslist.org/00E0E_eAUnhFF86M...   \n",
       "4  https://images.craigslist.org/00S0S_8msT7RQquO...   \n",
       "\n",
       "                                         description  county state      lat  \\\n",
       "0  2012 Acura TL Base 4dr Sedan     Offered by: B...     NaN    nc  35.7636   \n",
       "1  BMW 3 Series 335i Convertible Navigation Dakot...     NaN    nc      NaN   \n",
       "2  2011 jaguar XF premium - estate sale. Retired ...     NaN    nc  36.1032   \n",
       "3  2004 Honda Element LX 4dr SUV     Offered by: ...     NaN    nc  35.7636   \n",
       "4  Shop Indoors, Heated Showroom!!!www.gretnaauto...     NaN    ne  41.1345   \n",
       "\n",
       "      long  \n",
       "0 -78.7443  \n",
       "1      NaN  \n",
       "2 -79.8794  \n",
       "3 -78.7443  \n",
       "4 -96.2458  "
      ]
     },
     "execution_count": 3,
     "metadata": {},
     "output_type": "execute_result"
    }
   ],
   "source": [
    "#data import\n",
    "df = pd.read_csv('Data/vehicles.csv')\n",
    "df.head()"
   ]
  },
  {
   "cell_type": "markdown",
   "metadata": {},
   "source": [
    "It seems the data has some NULL values for some columns, let's view the info for df"
   ]
  },
  {
   "cell_type": "code",
   "execution_count": 4,
   "metadata": {
    "scrolled": false
   },
   "outputs": [
    {
     "name": "stdout",
     "output_type": "stream",
     "text": [
      "<class 'pandas.core.frame.DataFrame'>\n",
      "RangeIndex: 539759 entries, 0 to 539758\n",
      "Data columns (total 25 columns):\n",
      " #   Column        Non-Null Count   Dtype  \n",
      "---  ------        --------------   -----  \n",
      " 0   id            539759 non-null  int64  \n",
      " 1   url           539759 non-null  object \n",
      " 2   region        539759 non-null  object \n",
      " 3   region_url    539759 non-null  object \n",
      " 4   price         539759 non-null  int64  \n",
      " 5   year          538772 non-null  float64\n",
      " 6   manufacturer  516175 non-null  object \n",
      " 7   model         531746 non-null  object \n",
      " 8   condition     303707 non-null  object \n",
      " 9   cylinders     321264 non-null  object \n",
      " 10  fuel          536366 non-null  object \n",
      " 11  odometer      440783 non-null  float64\n",
      " 12  title_status  536819 non-null  object \n",
      " 13  transmission  535786 non-null  object \n",
      " 14  vin           315349 non-null  object \n",
      " 15  drive         383987 non-null  object \n",
      " 16  size          168550 non-null  object \n",
      " 17  type          392290 non-null  object \n",
      " 18  paint_color   365520 non-null  object \n",
      " 19  image_url     539740 non-null  object \n",
      " 20  description   539738 non-null  object \n",
      " 21  county        0 non-null       float64\n",
      " 22  state         539759 non-null  object \n",
      " 23  lat           530785 non-null  float64\n",
      " 24  long          530785 non-null  float64\n",
      "dtypes: float64(5), int64(2), object(18)\n",
      "memory usage: 103.0+ MB\n"
     ]
    }
   ],
   "source": [
    "df.info()"
   ]
  },
  {
   "cell_type": "markdown",
   "metadata": {},
   "source": [
    "#### We would start by dropping some of the columns. For example, columns that contain too many NULL values to be useful or columns that are hard to make use of for this analysis"
   ]
  },
  {
   "cell_type": "code",
   "execution_count": 5,
   "metadata": {},
   "outputs": [],
   "source": [
    "#columns contain too many NULL values\n",
    "df.drop(['condition','cylinders', 'vin', 'drive', 'size', 'type', 'paint_color', 'county'], axis = 1, inplace = True)\n",
    "#columns that are hard to make use of\n",
    "df.drop(['id', 'url', 'region', 'region_url', 'image_url', 'description', 'lat', 'long'], axis = 1, inplace = True)"
   ]
  },
  {
   "cell_type": "code",
   "execution_count": 6,
   "metadata": {},
   "outputs": [
    {
     "name": "stdout",
     "output_type": "stream",
     "text": [
      "<class 'pandas.core.frame.DataFrame'>\n",
      "RangeIndex: 539759 entries, 0 to 539758\n",
      "Data columns (total 9 columns):\n",
      " #   Column        Non-Null Count   Dtype  \n",
      "---  ------        --------------   -----  \n",
      " 0   price         539759 non-null  int64  \n",
      " 1   year          538772 non-null  float64\n",
      " 2   manufacturer  516175 non-null  object \n",
      " 3   model         531746 non-null  object \n",
      " 4   fuel          536366 non-null  object \n",
      " 5   odometer      440783 non-null  float64\n",
      " 6   title_status  536819 non-null  object \n",
      " 7   transmission  535786 non-null  object \n",
      " 8   state         539759 non-null  object \n",
      "dtypes: float64(2), int64(1), object(6)\n",
      "memory usage: 37.1+ MB\n"
     ]
    }
   ],
   "source": [
    "df.info()"
   ]
  },
  {
   "cell_type": "markdown",
   "metadata": {},
   "source": [
    "#### We still have some NULL values in some of the columns left - note that column \"odometer\" still contains many NULL values, because I think it is an important factor in predicting used car prices, and because we have enough number of examples to work with, we would drop the rows where \"odometer\" is NULL."
   ]
  },
  {
   "cell_type": "code",
   "execution_count": 7,
   "metadata": {
    "scrolled": true
   },
   "outputs": [],
   "source": [
    "df.drop(df.index[df['odometer'].isna()], inplace = True)\n",
    "df.reset_index(drop = True, inplace = True)"
   ]
  },
  {
   "cell_type": "code",
   "execution_count": 8,
   "metadata": {},
   "outputs": [
    {
     "name": "stdout",
     "output_type": "stream",
     "text": [
      "<class 'pandas.core.frame.DataFrame'>\n",
      "RangeIndex: 440783 entries, 0 to 440782\n",
      "Data columns (total 9 columns):\n",
      " #   Column        Non-Null Count   Dtype  \n",
      "---  ------        --------------   -----  \n",
      " 0   price         440783 non-null  int64  \n",
      " 1   year          439815 non-null  float64\n",
      " 2   manufacturer  425660 non-null  object \n",
      " 3   model         436331 non-null  object \n",
      " 4   fuel          437477 non-null  object \n",
      " 5   odometer      440783 non-null  float64\n",
      " 6   title_status  437924 non-null  object \n",
      " 7   transmission  437038 non-null  object \n",
      " 8   state         440783 non-null  object \n",
      "dtypes: float64(2), int64(1), object(6)\n",
      "memory usage: 30.3+ MB\n"
     ]
    }
   ],
   "source": [
    "df.info()"
   ]
  },
  {
   "cell_type": "markdown",
   "metadata": {},
   "source": [
    "#### Now we still have some missing values but they are a small percentage of the overall number of records. We can impute the missing values from existing data."
   ]
  },
  {
   "cell_type": "code",
   "execution_count": 9,
   "metadata": {},
   "outputs": [],
   "source": [
    "#for categorical variables, we would impute missing values based on existing class distribution by random sampling with replacement\n",
    "def CategoricalImputer(df, column_names):\n",
    "    for column in column_names:\n",
    "        replacements = np.random.choice(a = df[column][df[column].notna()], size = df[column].isna().sum(), replace = True)\n",
    "        replacements = pd.Series(replacements, index = df.index[df[column].isna()])\n",
    "        df[column].fillna(replacements, inplace = True)"
   ]
  },
  {
   "cell_type": "code",
   "execution_count": 10,
   "metadata": {},
   "outputs": [],
   "source": [
    "CategoricalImputer(df, ['year', 'manufacturer', 'model', 'fuel', 'title_status', 'transmission'])"
   ]
  },
  {
   "cell_type": "code",
   "execution_count": 11,
   "metadata": {},
   "outputs": [
    {
     "name": "stdout",
     "output_type": "stream",
     "text": [
      "<class 'pandas.core.frame.DataFrame'>\n",
      "RangeIndex: 440783 entries, 0 to 440782\n",
      "Data columns (total 9 columns):\n",
      " #   Column        Non-Null Count   Dtype  \n",
      "---  ------        --------------   -----  \n",
      " 0   price         440783 non-null  int64  \n",
      " 1   year          440783 non-null  float64\n",
      " 2   manufacturer  440783 non-null  object \n",
      " 3   model         440783 non-null  object \n",
      " 4   fuel          440783 non-null  object \n",
      " 5   odometer      440783 non-null  float64\n",
      " 6   title_status  440783 non-null  object \n",
      " 7   transmission  440783 non-null  object \n",
      " 8   state         440783 non-null  object \n",
      "dtypes: float64(2), int64(1), object(6)\n",
      "memory usage: 30.3+ MB\n"
     ]
    }
   ],
   "source": [
    "df.info()"
   ]
  },
  {
   "cell_type": "markdown",
   "metadata": {},
   "source": [
    "#### Great, we do not have NULL values anymore, now we would like to perform some data validity checking"
   ]
  },
  {
   "cell_type": "code",
   "execution_count": 12,
   "metadata": {
    "scrolled": true
   },
   "outputs": [
    {
     "name": "stdout",
     "output_type": "stream",
     "text": [
      "The max price of a used car is 4198286601, the min price of a used car is 0.\n"
     ]
    }
   ],
   "source": [
    "print(f\"The max price of a used car is {df['price'].max()}, the min price of a used car is {df['price'].min()}.\")"
   ]
  },
  {
   "cell_type": "code",
   "execution_count": 13,
   "metadata": {},
   "outputs": [],
   "source": [
    "#The above does not make lots of sense, so we would like to only keep the used cars with prices between 1000 and 200000\n",
    "drop_idx = df.index[(df['price'] < 1000) | (df['price'] > 200000)]\n",
    "df.drop(drop_idx, inplace = True)\n",
    "df.reset_index(drop = True, inplace = True)"
   ]
  },
  {
   "cell_type": "code",
   "execution_count": 14,
   "metadata": {},
   "outputs": [
    {
     "name": "stdout",
     "output_type": "stream",
     "text": [
      "The max price of a used car is 200000, the min price of a used car is 1000.\n"
     ]
    }
   ],
   "source": [
    "print(f\"The max price of a used car is {df['price'].max()}, the min price of a used car is {df['price'].min()}.\")"
   ]
  },
  {
   "cell_type": "code",
   "execution_count": 15,
   "metadata": {},
   "outputs": [
    {
     "data": {
      "text/plain": [
       "2017.0    32514\n",
       "2016.0    30970\n",
       "2015.0    30277\n",
       "2013.0    29290\n",
       "2014.0    28776\n",
       "          ...  \n",
       "1926.0        2\n",
       "1925.0        2\n",
       "1922.0        1\n",
       "1914.0        1\n",
       "0.0           1\n",
       "Name: year, Length: 101, dtype: int64"
      ]
     },
     "execution_count": 15,
     "metadata": {},
     "output_type": "execute_result"
    }
   ],
   "source": [
    "df['year'].value_counts()"
   ]
  },
  {
   "cell_type": "code",
   "execution_count": 16,
   "metadata": {},
   "outputs": [],
   "source": [
    "#We would only be interested in used cars with year between 2000 and 2019. \n",
    "#If a used car is too old, we are not intersted and also they have fewer instances to be trained thus prediction accuracy is questionable.\n",
    "#The dataset is from Jan 2020 so we would only include models up until year 2019 \n",
    "#(year 2020 model should be out already but again, there are few instances or even bad data as there are some used cars have model year 2021)\n",
    "drop_idx = df.index[(df['year'] < 2000) | (df['year'] > 2019)]\n",
    "df.drop(drop_idx, inplace = True)\n",
    "df.reset_index(drop = True, inplace = True)"
   ]
  },
  {
   "cell_type": "code",
   "execution_count": 17,
   "metadata": {},
   "outputs": [
    {
     "data": {
      "text/plain": [
       "2017.0    32514\n",
       "2016.0    30970\n",
       "2015.0    30277\n",
       "2013.0    29290\n",
       "2014.0    28776\n",
       "Name: year, dtype: int64"
      ]
     },
     "execution_count": 17,
     "metadata": {},
     "output_type": "execute_result"
    }
   ],
   "source": [
    "#top 5 rows\n",
    "df['year'].value_counts().head()"
   ]
  },
  {
   "cell_type": "code",
   "execution_count": 18,
   "metadata": {},
   "outputs": [
    {
     "data": {
      "text/plain": [
       "ford               70466\n",
       "chevrolet          55187\n",
       "toyota             30346\n",
       "nissan             21692\n",
       "ram                19682\n",
       "honda              19598\n",
       "jeep               18601\n",
       "gmc                17468\n",
       "dodge              12948\n",
       "bmw                11464\n",
       "hyundai             9779\n",
       "subaru              9550\n",
       "mercedes-benz       8810\n",
       "volkswagen          8439\n",
       "kia                 7476\n",
       "chrysler            6293\n",
       "cadillac            5846\n",
       "buick               5462\n",
       "lexus               5050\n",
       "audi                4913\n",
       "mazda               4793\n",
       "infiniti            3306\n",
       "acura               3112\n",
       "lincoln             2490\n",
       "volvo               2474\n",
       "pontiac             2227\n",
       "mini                2049\n",
       "mitsubishi          1933\n",
       "rover               1586\n",
       "saturn              1184\n",
       "mercury             1183\n",
       "jaguar               800\n",
       "fiat                 788\n",
       "tesla                203\n",
       "harley-davidson      157\n",
       "alfa-romeo            41\n",
       "ferrari               37\n",
       "aston-martin          28\n",
       "land rover            15\n",
       "porche                 7\n",
       "hennessey              1\n",
       "Name: manufacturer, dtype: int64"
      ]
     },
     "execution_count": 18,
     "metadata": {},
     "output_type": "execute_result"
    }
   ],
   "source": [
    "df['manufacturer'].value_counts()"
   ]
  },
  {
   "cell_type": "code",
   "execution_count": 19,
   "metadata": {},
   "outputs": [],
   "source": [
    "#Manufacturer data looks good but for the same reasons as above, we would like to drop instances where count < 1000\n",
    "counts = df['manufacturer'].value_counts()\n",
    "values_to_drop = counts.index[counts < 1000]\n",
    "drop_idx = df.index[df['manufacturer'].isin(values_to_drop)]\n",
    "df.drop(drop_idx, inplace = True)\n",
    "df.reset_index(drop = True, inplace = True)"
   ]
  },
  {
   "cell_type": "markdown",
   "metadata": {},
   "source": [
    "#### The next column: \"model\" is a hard one to deal with. If we look at its value_counts..."
   ]
  },
  {
   "cell_type": "code",
   "execution_count": 20,
   "metadata": {},
   "outputs": [
    {
     "data": {
      "text/plain": [
       "f-150                             8155\n",
       "silverado 1500                    5242\n",
       "1500                              4690\n",
       "silverado                         3545\n",
       "wrangler                          2781\n",
       "                                  ... \n",
       "fordf350 4x4 larait diesel           1\n",
       "rlawd                                1\n",
       "silverado 3500 duramax diesel        1\n",
       "travers lt                           1\n",
       "silverado 2500hd lt1 automatic       1\n",
       "Name: model, Length: 25488, dtype: int64"
      ]
     },
     "execution_count": 20,
     "metadata": {},
     "output_type": "execute_result"
    }
   ],
   "source": [
    "df['model'].value_counts()"
   ]
  },
  {
   "cell_type": "markdown",
   "metadata": {},
   "source": [
    "#### Noticed the issue here? Because this \"model\" field might be a free text field, seller can put different variations of the same car model. For example, \"silverado 1500\", \"1500\" and \"silverado\" most likely represent the same car model. If we put the values directly into training algorithms, they would be treated as different car models, which could impact our model performance. To mitigate this issue, we would take the following steps:\n",
    "1. Strip out the words of individual car model for each record\n",
    "2. Find out the top 150 words based on frequency with weights assigned based on word sequence in a record\n",
    "    (ex. \"silverado 1500\" - \"silverado\" would have more weights than \"1500\" because the further the word is to the front, the more likely the word represents the actual car model)\n",
    "3. Go through the 150 words, clean them up and end up with the most common derived \"car models\"\n",
    "4. Map records to the most common derived \"car models\" and mark \"N/A\" if cannot be mapped"
   ]
  },
  {
   "cell_type": "code",
   "execution_count": 21,
   "metadata": {},
   "outputs": [],
   "source": [
    "#First we would like to turn all models to lower case for matching later\n",
    "df['model'] = df['model'].str.lower()"
   ]
  },
  {
   "cell_type": "code",
   "execution_count": 22,
   "metadata": {},
   "outputs": [],
   "source": [
    "weighted_words = []\n",
    "for item in df['model']:\n",
    "    #split into words\n",
    "    words = item.split()\n",
    "    #find number of words in list and assign weights\n",
    "    for word, weight in zip(words, (np.arange(len(words)) + 1)[::-1]):\n",
    "        weighted_words += [word] * weight"
   ]
  },
  {
   "cell_type": "code",
   "execution_count": 23,
   "metadata": {},
   "outputs": [],
   "source": [
    "#Find \"top models\"\n",
    "top_models = pd.Series(weighted_words).value_counts().head(150)"
   ]
  },
  {
   "cell_type": "code",
   "execution_count": 24,
   "metadata": {},
   "outputs": [
    {
     "data": {
      "text/plain": [
       "1500           45134\n",
       "silverado      43559\n",
       "sport          28931\n",
       "cab            27756\n",
       "sierra         23734\n",
       "super          22782\n",
       "f150           22285\n",
       "crew           21898\n",
       "grand          21079\n",
       "4x4            19370\n",
       "2500           16711\n",
       "f-150          15449\n",
       "se             14451\n",
       "lt             14377\n",
       "duty           13845\n",
       "sedan          13622\n",
       "wrangler       13175\n",
       "4d             10928\n",
       "tacoma         10756\n",
       "xlt            10326\n",
       "f-250          10251\n",
       "escape         10155\n",
       "cherokee        9846\n",
       "awd             9725\n",
       "coupe           9650\n",
       "s               9512\n",
       "civic           9430\n",
       "f250            9301\n",
       "tundra          9166\n",
       "limited         9118\n",
       "f-350           9084\n",
       "utility         8917\n",
       "accord          8806\n",
       "mustang         8756\n",
       "3500            8376\n",
       "supercrew       7980\n",
       "equinox         7861\n",
       "slt             7850\n",
       "rogue           7462\n",
       "altima          7455\n",
       "camry           7445\n",
       "lx              7096\n",
       "focus           7053\n",
       "4dr             6853\n",
       "explorer        6534\n",
       "fusion          6440\n",
       "2500hd          6242\n",
       "camaro          6186\n",
       "town            6148\n",
       "express         6047\n",
       "f350            6030\n",
       "yukon           6001\n",
       "4wd             5920\n",
       "premium         5629\n",
       "sv              5539\n",
       "series          5473\n",
       "corolla         5434\n",
       "frontier        5336\n",
       "ls              5292\n",
       "cruze           5249\n",
       "malibu          5249\n",
       "jetta           5220\n",
       "edge            4967\n",
       "benz            4916\n",
       "outback         4885\n",
       "double          4840\n",
       "tahoe           4836\n",
       "gas             4795\n",
       "xl              4715\n",
       "unlimited       4591\n",
       "ex              4506\n",
       "2d              4404\n",
       "lariat          4372\n",
       "caravan         4369\n",
       "impala          4344\n",
       "elantra         4336\n",
       "pickup          4255\n",
       "cr-v            4199\n",
       "sentra          4188\n",
       "3               4160\n",
       "sonata          4122\n",
       "santa           4055\n",
       "transit         4025\n",
       "cargo           3997\n",
       "rav4            3894\n",
       "gt              3893\n",
       "le              3877\n",
       "forester        3774\n",
       "sel             3749\n",
       "cooper          3676\n",
       "colorado        3619\n",
       "journey         3614\n",
       "hd              3552\n",
       "challenger      3496\n",
       "odyssey         3485\n",
       "suburban        3457\n",
       "sr5             3441\n",
       "porsche         3413\n",
       "4runner         3379\n",
       "terrain         3357\n",
       "sorento         3335\n",
       "titan           3316\n",
       "prius           3314\n",
       "ltz             3206\n",
       "convertible     3176\n",
       "passat          3160\n",
       "expedition      3154\n",
       "impreza         3131\n",
       "350             3116\n",
       "touring         3081\n",
       "encore          3072\n",
       "traverse        3064\n",
       "fwd             3036\n",
       "hatchback       3033\n",
       "laramie         3021\n",
       "acadia          3017\n",
       "ex-l            3013\n",
       "sienna          2989\n",
       "pilot           2926\n",
       "sle             2919\n",
       "lifted          2866\n",
       "versa           2766\n",
       "quad            2749\n",
       "sxt             2746\n",
       "highlander      2711\n",
       "scion           2678\n",
       "2.5             2670\n",
       "van             2669\n",
       "fe              2663\n",
       "diesel          2633\n",
       "optima          2631\n",
       "x5              2608\n",
       "ranger          2595\n",
       "300             2585\n",
       "charger         2579\n",
       "sl              2558\n",
       "taurus          2544\n",
       "tucson          2509\n",
       "escalade        2504\n",
       "compass         2463\n",
       "mx-5            2444\n",
       "rx              2428\n",
       "liberty         2412\n",
       "denali          2390\n",
       "2.0t            2390\n",
       "2.5i            2368\n",
       "murano          2366\n",
       "4               2365\n",
       "patriot         2362\n",
       "legacy          2331\n",
       "dtype: int64"
      ]
     },
     "execution_count": 24,
     "metadata": {},
     "output_type": "execute_result"
    }
   ],
   "source": [
    "#Now we would go through all the \"top models\" and clean the Series up\n",
    "pd.set_option('display.max_rows', None)\n",
    "top_models"
   ]
  },
  {
   "cell_type": "code",
   "execution_count": 25,
   "metadata": {},
   "outputs": [],
   "source": [
    "top_models.drop(['sport', 'cab', 'super', '4x4', 'se', 'lt', 'sedan', 'duty', '4d', 'xlt', \n",
    "                'coupe', 'awd', 's', 'limited', 'utility', 'slt', 'lx', '4dr', '4wd', \n",
    "                'premium', 'sv', 'series', 'ls', 'double', 'gas', 'xl', 'unlimited', 'ex',\n",
    "                '2d', 'pickup', '3', 'le', 'sel', 'gt', 'hd', 'ltz', 'fwd', 'ex-l', 'sle',\n",
    "                 'lifted','sxt', '2.5', 'fe', '300', 'quad', 'diesel', 'sl', 'van', 'rx', '4', '2.0t', '2.5i'], inplace = True)"
   ]
  },
  {
   "cell_type": "code",
   "execution_count": 26,
   "metadata": {},
   "outputs": [],
   "source": [
    "pd.reset_option('display.max_rows')"
   ]
  },
  {
   "cell_type": "code",
   "execution_count": 27,
   "metadata": {},
   "outputs": [],
   "source": [
    "top_models = pd.Series(top_models.index)"
   ]
  },
  {
   "cell_type": "code",
   "execution_count": 28,
   "metadata": {
    "scrolled": true
   },
   "outputs": [
    {
     "data": {
      "text/plain": [
       "0          1500\n",
       "1     silverado\n",
       "2        sierra\n",
       "3          f150\n",
       "4          crew\n",
       "        ...    \n",
       "93      liberty\n",
       "94       denali\n",
       "95       murano\n",
       "96      patriot\n",
       "97       legacy\n",
       "Length: 98, dtype: object"
      ]
     },
     "execution_count": 28,
     "metadata": {},
     "output_type": "execute_result"
    }
   ],
   "source": [
    "top_models"
   ]
  },
  {
   "cell_type": "code",
   "execution_count": 29,
   "metadata": {
    "scrolled": false
   },
   "outputs": [],
   "source": [
    "#The list might not be perfect but it is as good as we can get, now finally we would like to map every record to one of the top_models\n",
    "#First, we would like to assign \"N/A\" to records that do not have words in top_models\n",
    "df.loc[~df['model'].str.contains('|'.join(top_models)), ['model']] = 'N/A'"
   ]
  },
  {
   "cell_type": "code",
   "execution_count": 30,
   "metadata": {},
   "outputs": [
    {
     "name": "stderr",
     "output_type": "stream",
     "text": [
      "100%|██████████| 98/98 [00:04<00:00, 20.88it/s]\n"
     ]
    }
   ],
   "source": [
    "#map to top_models\n",
    "from tqdm import tqdm\n",
    "for item in tqdm(top_models):\n",
    "    df['model'] = df['model'].apply(lambda x: item if item in x else x)"
   ]
  },
  {
   "cell_type": "code",
   "execution_count": 44,
   "metadata": {},
   "outputs": [
    {
     "name": "stdout",
     "output_type": "stream",
     "text": [
      "We successfuly mapped 269672 car models out of total of 375407 records, which is pretty good.\n"
     ]
    }
   ],
   "source": [
    "print(f\"We successfuly mapped {(df['model'] != 'N/A').sum()} car models out of total of {len(df)} records, which is pretty good.\")"
   ]
  },
  {
   "cell_type": "code",
   "execution_count": null,
   "metadata": {},
   "outputs": [],
   "source": []
  }
 ],
 "metadata": {
  "file_extension": ".py",
  "kernelspec": {
   "display_name": "Python 3",
   "language": "python",
   "name": "python3"
  },
  "language_info": {
   "codemirror_mode": {
    "name": "ipython",
    "version": 3
   },
   "file_extension": ".py",
   "mimetype": "text/x-python",
   "name": "python",
   "nbconvert_exporter": "python",
   "pygments_lexer": "ipython3",
   "version": "3.7.6"
  },
  "mimetype": "text/x-python",
  "name": "python",
  "npconvert_exporter": "python",
  "pygments_lexer": "ipython3",
  "version": 3
 },
 "nbformat": 4,
 "nbformat_minor": 2
}
