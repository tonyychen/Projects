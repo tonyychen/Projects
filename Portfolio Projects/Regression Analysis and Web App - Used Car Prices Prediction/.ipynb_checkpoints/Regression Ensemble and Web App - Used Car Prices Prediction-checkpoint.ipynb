{
 "cells": [
  {
   "cell_type": "markdown",
   "metadata": {},
   "source": [
    "### In this project, we would try to explore regression analysis and make predictions on used car prices using ensemble of regressors. I also hope that I can upload the model as a web app for other people to play around with."
   ]
  },
  {
   "cell_type": "markdown",
   "metadata": {},
   "source": [
    "**Citations:**\n",
    "\n",
    "URL: https://www.kaggle.com/austinreese/craigslist-carstrucks-data\n",
    "\n",
    "---\n",
    "\n",
    "The following description is from Kaggle:\n",
    "\n",
    "**Context**\n",
    "\n",
    "Craigslist is the world's largest collection of used vehicles for sale, yet it's very difficult to collect all of them in the same place. I built a scraper for a school project and expanded upon it later to create this dataset which includes every used vehicle entry within the United States on Craigslist.\n",
    "\n",
    "**Content**\n",
    "\n",
    "This data is scraped every few months, it contains most all relevant information that Craigslist provides on car sales including columns like price, condition, manufacturer, latitude/longitude, and 18 other categories. For ML projects, consider feature engineering on location columns such as long/lat. For previous listings, check older versions of the dataset.\n",
    "\n",
    "See https://github.com/AustinReese1998/craigslistFilter"
   ]
  },
  {
   "cell_type": "code",
   "execution_count": 55,
   "metadata": {},
   "outputs": [],
   "source": [
    "import numpy as np\n",
    "import pandas as pd\n",
    "import matplotlib.pyplot as plt"
   ]
  },
  {
   "cell_type": "code",
   "execution_count": 56,
   "metadata": {},
   "outputs": [],
   "source": [
    "pd.set_option('display.max_columns', None)"
   ]
  },
  {
   "cell_type": "code",
   "execution_count": 57,
   "metadata": {},
   "outputs": [
    {
     "data": {
      "text/html": [
       "<div>\n",
       "<style scoped>\n",
       "    .dataframe tbody tr th:only-of-type {\n",
       "        vertical-align: middle;\n",
       "    }\n",
       "\n",
       "    .dataframe tbody tr th {\n",
       "        vertical-align: top;\n",
       "    }\n",
       "\n",
       "    .dataframe thead th {\n",
       "        text-align: right;\n",
       "    }\n",
       "</style>\n",
       "<table border=\"1\" class=\"dataframe\">\n",
       "  <thead>\n",
       "    <tr style=\"text-align: right;\">\n",
       "      <th></th>\n",
       "      <th>id</th>\n",
       "      <th>url</th>\n",
       "      <th>region</th>\n",
       "      <th>region_url</th>\n",
       "      <th>price</th>\n",
       "      <th>year</th>\n",
       "      <th>manufacturer</th>\n",
       "      <th>model</th>\n",
       "      <th>condition</th>\n",
       "      <th>cylinders</th>\n",
       "      <th>fuel</th>\n",
       "      <th>odometer</th>\n",
       "      <th>title_status</th>\n",
       "      <th>transmission</th>\n",
       "      <th>vin</th>\n",
       "      <th>drive</th>\n",
       "      <th>size</th>\n",
       "      <th>type</th>\n",
       "      <th>paint_color</th>\n",
       "      <th>image_url</th>\n",
       "      <th>description</th>\n",
       "      <th>county</th>\n",
       "      <th>state</th>\n",
       "      <th>lat</th>\n",
       "      <th>long</th>\n",
       "    </tr>\n",
       "  </thead>\n",
       "  <tbody>\n",
       "    <tr>\n",
       "      <th>0</th>\n",
       "      <td>7088746062</td>\n",
       "      <td>https://greensboro.craigslist.org/ctd/d/cary-2...</td>\n",
       "      <td>greensboro</td>\n",
       "      <td>https://greensboro.craigslist.org</td>\n",
       "      <td>10299</td>\n",
       "      <td>2012.0</td>\n",
       "      <td>acura</td>\n",
       "      <td>tl</td>\n",
       "      <td>NaN</td>\n",
       "      <td>NaN</td>\n",
       "      <td>gas</td>\n",
       "      <td>90186.0</td>\n",
       "      <td>clean</td>\n",
       "      <td>automatic</td>\n",
       "      <td>19UUA8F22CA003926</td>\n",
       "      <td>NaN</td>\n",
       "      <td>NaN</td>\n",
       "      <td>other</td>\n",
       "      <td>blue</td>\n",
       "      <td>https://images.craigslist.org/01414_3LIXs9EO33...</td>\n",
       "      <td>2012 Acura TL Base 4dr Sedan     Offered by: B...</td>\n",
       "      <td>NaN</td>\n",
       "      <td>nc</td>\n",
       "      <td>35.7636</td>\n",
       "      <td>-78.7443</td>\n",
       "    </tr>\n",
       "    <tr>\n",
       "      <th>1</th>\n",
       "      <td>7088745301</td>\n",
       "      <td>https://greensboro.craigslist.org/ctd/d/bmw-3-...</td>\n",
       "      <td>greensboro</td>\n",
       "      <td>https://greensboro.craigslist.org</td>\n",
       "      <td>0</td>\n",
       "      <td>2011.0</td>\n",
       "      <td>bmw</td>\n",
       "      <td>335</td>\n",
       "      <td>NaN</td>\n",
       "      <td>6 cylinders</td>\n",
       "      <td>gas</td>\n",
       "      <td>115120.0</td>\n",
       "      <td>clean</td>\n",
       "      <td>automatic</td>\n",
       "      <td>NaN</td>\n",
       "      <td>rwd</td>\n",
       "      <td>NaN</td>\n",
       "      <td>convertible</td>\n",
       "      <td>blue</td>\n",
       "      <td>https://images.craigslist.org/00S0S_1kTatLGLxB...</td>\n",
       "      <td>BMW 3 Series 335i Convertible Navigation Dakot...</td>\n",
       "      <td>NaN</td>\n",
       "      <td>nc</td>\n",
       "      <td>NaN</td>\n",
       "      <td>NaN</td>\n",
       "    </tr>\n",
       "    <tr>\n",
       "      <th>2</th>\n",
       "      <td>7088744126</td>\n",
       "      <td>https://greensboro.craigslist.org/cto/d/greens...</td>\n",
       "      <td>greensboro</td>\n",
       "      <td>https://greensboro.craigslist.org</td>\n",
       "      <td>9500</td>\n",
       "      <td>2011.0</td>\n",
       "      <td>jaguar</td>\n",
       "      <td>xf</td>\n",
       "      <td>excellent</td>\n",
       "      <td>NaN</td>\n",
       "      <td>gas</td>\n",
       "      <td>85000.0</td>\n",
       "      <td>clean</td>\n",
       "      <td>automatic</td>\n",
       "      <td>NaN</td>\n",
       "      <td>NaN</td>\n",
       "      <td>NaN</td>\n",
       "      <td>NaN</td>\n",
       "      <td>blue</td>\n",
       "      <td>https://images.craigslist.org/00505_f22HGItCRp...</td>\n",
       "      <td>2011 jaguar XF premium - estate sale. Retired ...</td>\n",
       "      <td>NaN</td>\n",
       "      <td>nc</td>\n",
       "      <td>36.1032</td>\n",
       "      <td>-79.8794</td>\n",
       "    </tr>\n",
       "    <tr>\n",
       "      <th>3</th>\n",
       "      <td>7088743681</td>\n",
       "      <td>https://greensboro.craigslist.org/ctd/d/cary-2...</td>\n",
       "      <td>greensboro</td>\n",
       "      <td>https://greensboro.craigslist.org</td>\n",
       "      <td>3995</td>\n",
       "      <td>2004.0</td>\n",
       "      <td>honda</td>\n",
       "      <td>element</td>\n",
       "      <td>NaN</td>\n",
       "      <td>NaN</td>\n",
       "      <td>gas</td>\n",
       "      <td>212526.0</td>\n",
       "      <td>clean</td>\n",
       "      <td>automatic</td>\n",
       "      <td>5J6YH18314L006498</td>\n",
       "      <td>fwd</td>\n",
       "      <td>NaN</td>\n",
       "      <td>SUV</td>\n",
       "      <td>orange</td>\n",
       "      <td>https://images.craigslist.org/00E0E_eAUnhFF86M...</td>\n",
       "      <td>2004 Honda Element LX 4dr SUV     Offered by: ...</td>\n",
       "      <td>NaN</td>\n",
       "      <td>nc</td>\n",
       "      <td>35.7636</td>\n",
       "      <td>-78.7443</td>\n",
       "    </tr>\n",
       "    <tr>\n",
       "      <th>4</th>\n",
       "      <td>7074612539</td>\n",
       "      <td>https://lincoln.craigslist.org/ctd/d/gretna-20...</td>\n",
       "      <td>lincoln</td>\n",
       "      <td>https://lincoln.craigslist.org</td>\n",
       "      <td>41988</td>\n",
       "      <td>2016.0</td>\n",
       "      <td>chevrolet</td>\n",
       "      <td>silverado k2500hd</td>\n",
       "      <td>NaN</td>\n",
       "      <td>NaN</td>\n",
       "      <td>gas</td>\n",
       "      <td>NaN</td>\n",
       "      <td>clean</td>\n",
       "      <td>automatic</td>\n",
       "      <td>1GC1KWE85GF266427</td>\n",
       "      <td>NaN</td>\n",
       "      <td>NaN</td>\n",
       "      <td>NaN</td>\n",
       "      <td>NaN</td>\n",
       "      <td>https://images.craigslist.org/00S0S_8msT7RQquO...</td>\n",
       "      <td>Shop Indoors, Heated Showroom!!!www.gretnaauto...</td>\n",
       "      <td>NaN</td>\n",
       "      <td>ne</td>\n",
       "      <td>41.1345</td>\n",
       "      <td>-96.2458</td>\n",
       "    </tr>\n",
       "  </tbody>\n",
       "</table>\n",
       "</div>"
      ],
      "text/plain": [
       "           id                                                url      region  \\\n",
       "0  7088746062  https://greensboro.craigslist.org/ctd/d/cary-2...  greensboro   \n",
       "1  7088745301  https://greensboro.craigslist.org/ctd/d/bmw-3-...  greensboro   \n",
       "2  7088744126  https://greensboro.craigslist.org/cto/d/greens...  greensboro   \n",
       "3  7088743681  https://greensboro.craigslist.org/ctd/d/cary-2...  greensboro   \n",
       "4  7074612539  https://lincoln.craigslist.org/ctd/d/gretna-20...     lincoln   \n",
       "\n",
       "                          region_url  price    year manufacturer  \\\n",
       "0  https://greensboro.craigslist.org  10299  2012.0        acura   \n",
       "1  https://greensboro.craigslist.org      0  2011.0          bmw   \n",
       "2  https://greensboro.craigslist.org   9500  2011.0       jaguar   \n",
       "3  https://greensboro.craigslist.org   3995  2004.0        honda   \n",
       "4     https://lincoln.craigslist.org  41988  2016.0    chevrolet   \n",
       "\n",
       "               model  condition    cylinders fuel  odometer title_status  \\\n",
       "0                 tl        NaN          NaN  gas   90186.0        clean   \n",
       "1                335        NaN  6 cylinders  gas  115120.0        clean   \n",
       "2                 xf  excellent          NaN  gas   85000.0        clean   \n",
       "3            element        NaN          NaN  gas  212526.0        clean   \n",
       "4  silverado k2500hd        NaN          NaN  gas       NaN        clean   \n",
       "\n",
       "  transmission                vin drive size         type paint_color  \\\n",
       "0    automatic  19UUA8F22CA003926   NaN  NaN        other        blue   \n",
       "1    automatic                NaN   rwd  NaN  convertible        blue   \n",
       "2    automatic                NaN   NaN  NaN          NaN        blue   \n",
       "3    automatic  5J6YH18314L006498   fwd  NaN          SUV      orange   \n",
       "4    automatic  1GC1KWE85GF266427   NaN  NaN          NaN         NaN   \n",
       "\n",
       "                                           image_url  \\\n",
       "0  https://images.craigslist.org/01414_3LIXs9EO33...   \n",
       "1  https://images.craigslist.org/00S0S_1kTatLGLxB...   \n",
       "2  https://images.craigslist.org/00505_f22HGItCRp...   \n",
       "3  https://images.craigslist.org/00E0E_eAUnhFF86M...   \n",
       "4  https://images.craigslist.org/00S0S_8msT7RQquO...   \n",
       "\n",
       "                                         description  county state      lat  \\\n",
       "0  2012 Acura TL Base 4dr Sedan     Offered by: B...     NaN    nc  35.7636   \n",
       "1  BMW 3 Series 335i Convertible Navigation Dakot...     NaN    nc      NaN   \n",
       "2  2011 jaguar XF premium - estate sale. Retired ...     NaN    nc  36.1032   \n",
       "3  2004 Honda Element LX 4dr SUV     Offered by: ...     NaN    nc  35.7636   \n",
       "4  Shop Indoors, Heated Showroom!!!www.gretnaauto...     NaN    ne  41.1345   \n",
       "\n",
       "      long  \n",
       "0 -78.7443  \n",
       "1      NaN  \n",
       "2 -79.8794  \n",
       "3 -78.7443  \n",
       "4 -96.2458  "
      ]
     },
     "execution_count": 57,
     "metadata": {},
     "output_type": "execute_result"
    }
   ],
   "source": [
    "#data import\n",
    "df = pd.read_csv('Data/vehicles.csv')\n",
    "df.head()"
   ]
  },
  {
   "cell_type": "markdown",
   "metadata": {},
   "source": [
    "It seems the data has some NULL values for some columns, let's view the info for df"
   ]
  },
  {
   "cell_type": "code",
   "execution_count": 58,
   "metadata": {
    "scrolled": false
   },
   "outputs": [
    {
     "name": "stdout",
     "output_type": "stream",
     "text": [
      "<class 'pandas.core.frame.DataFrame'>\n",
      "RangeIndex: 539759 entries, 0 to 539758\n",
      "Data columns (total 25 columns):\n",
      " #   Column        Non-Null Count   Dtype  \n",
      "---  ------        --------------   -----  \n",
      " 0   id            539759 non-null  int64  \n",
      " 1   url           539759 non-null  object \n",
      " 2   region        539759 non-null  object \n",
      " 3   region_url    539759 non-null  object \n",
      " 4   price         539759 non-null  int64  \n",
      " 5   year          538772 non-null  float64\n",
      " 6   manufacturer  516175 non-null  object \n",
      " 7   model         531746 non-null  object \n",
      " 8   condition     303707 non-null  object \n",
      " 9   cylinders     321264 non-null  object \n",
      " 10  fuel          536366 non-null  object \n",
      " 11  odometer      440783 non-null  float64\n",
      " 12  title_status  536819 non-null  object \n",
      " 13  transmission  535786 non-null  object \n",
      " 14  vin           315349 non-null  object \n",
      " 15  drive         383987 non-null  object \n",
      " 16  size          168550 non-null  object \n",
      " 17  type          392290 non-null  object \n",
      " 18  paint_color   365520 non-null  object \n",
      " 19  image_url     539740 non-null  object \n",
      " 20  description   539738 non-null  object \n",
      " 21  county        0 non-null       float64\n",
      " 22  state         539759 non-null  object \n",
      " 23  lat           530785 non-null  float64\n",
      " 24  long          530785 non-null  float64\n",
      "dtypes: float64(5), int64(2), object(18)\n",
      "memory usage: 103.0+ MB\n"
     ]
    }
   ],
   "source": [
    "df.info()"
   ]
  },
  {
   "cell_type": "markdown",
   "metadata": {},
   "source": [
    "#### We would start by dropping some of the columns. For example, columns that contain too many NULL values to be useful or columns that are hard to make use of for this analysis"
   ]
  },
  {
   "cell_type": "code",
   "execution_count": 59,
   "metadata": {},
   "outputs": [],
   "source": [
    "#columns contain too many NULL values\n",
    "df.drop(['condition','cylinders', 'vin', 'drive', 'size', 'type', 'paint_color', 'county'], axis = 1, inplace = True)\n",
    "#columns that are hard to make use of\n",
    "df.drop(['id', 'url', 'region', 'region_url', 'image_url', 'description', 'lat', 'long'], axis = 1, inplace = True)"
   ]
  },
  {
   "cell_type": "code",
   "execution_count": 60,
   "metadata": {},
   "outputs": [
    {
     "name": "stdout",
     "output_type": "stream",
     "text": [
      "<class 'pandas.core.frame.DataFrame'>\n",
      "RangeIndex: 539759 entries, 0 to 539758\n",
      "Data columns (total 9 columns):\n",
      " #   Column        Non-Null Count   Dtype  \n",
      "---  ------        --------------   -----  \n",
      " 0   price         539759 non-null  int64  \n",
      " 1   year          538772 non-null  float64\n",
      " 2   manufacturer  516175 non-null  object \n",
      " 3   model         531746 non-null  object \n",
      " 4   fuel          536366 non-null  object \n",
      " 5   odometer      440783 non-null  float64\n",
      " 6   title_status  536819 non-null  object \n",
      " 7   transmission  535786 non-null  object \n",
      " 8   state         539759 non-null  object \n",
      "dtypes: float64(2), int64(1), object(6)\n",
      "memory usage: 37.1+ MB\n"
     ]
    }
   ],
   "source": [
    "df.info()"
   ]
  },
  {
   "cell_type": "markdown",
   "metadata": {},
   "source": [
    "#### We still have some NULL values in some of the columns left - note that column \"odometer\" still contains many NULL values, because I think it is an important factor in predicting used car prices, and because we have enough number of examples to work with, we would drop the rows where \"odometer\" is NULL."
   ]
  },
  {
   "cell_type": "code",
   "execution_count": 61,
   "metadata": {
    "scrolled": true
   },
   "outputs": [],
   "source": [
    "df.drop(df.index[df['odometer'].isna()], inplace = True)\n",
    "df.reset_index(drop = True, inplace = True)"
   ]
  },
  {
   "cell_type": "code",
   "execution_count": 62,
   "metadata": {},
   "outputs": [
    {
     "name": "stdout",
     "output_type": "stream",
     "text": [
      "<class 'pandas.core.frame.DataFrame'>\n",
      "RangeIndex: 440783 entries, 0 to 440782\n",
      "Data columns (total 9 columns):\n",
      " #   Column        Non-Null Count   Dtype  \n",
      "---  ------        --------------   -----  \n",
      " 0   price         440783 non-null  int64  \n",
      " 1   year          439815 non-null  float64\n",
      " 2   manufacturer  425660 non-null  object \n",
      " 3   model         436331 non-null  object \n",
      " 4   fuel          437477 non-null  object \n",
      " 5   odometer      440783 non-null  float64\n",
      " 6   title_status  437924 non-null  object \n",
      " 7   transmission  437038 non-null  object \n",
      " 8   state         440783 non-null  object \n",
      "dtypes: float64(2), int64(1), object(6)\n",
      "memory usage: 30.3+ MB\n"
     ]
    }
   ],
   "source": [
    "df.info()"
   ]
  },
  {
   "cell_type": "markdown",
   "metadata": {},
   "source": [
    "#### Now we still have some missing values but they are a small percentage of the overall number of records. We can impute the missing values from existing data."
   ]
  },
  {
   "cell_type": "code",
   "execution_count": 63,
   "metadata": {},
   "outputs": [],
   "source": [
    "#for categorical variables, we would impute missing values based on existing class distribution by random sampling with replacement\n",
    "def CategoricalImputer(df, column_names):\n",
    "    for column in column_names:\n",
    "        replacements = np.random.choice(a = df[column][df[column].notna()], size = df[column].isna().sum(), replace = True)\n",
    "        replacements = pd.Series(replacements, index = df.index[df[column].isna()])\n",
    "        df[column].fillna(replacements, inplace = True)"
   ]
  },
  {
   "cell_type": "code",
   "execution_count": 64,
   "metadata": {},
   "outputs": [],
   "source": [
    "CategoricalImputer(df, ['year', 'manufacturer', 'model', 'fuel', 'title_status', 'transmission'])"
   ]
  },
  {
   "cell_type": "code",
   "execution_count": 65,
   "metadata": {},
   "outputs": [
    {
     "name": "stdout",
     "output_type": "stream",
     "text": [
      "<class 'pandas.core.frame.DataFrame'>\n",
      "RangeIndex: 440783 entries, 0 to 440782\n",
      "Data columns (total 9 columns):\n",
      " #   Column        Non-Null Count   Dtype  \n",
      "---  ------        --------------   -----  \n",
      " 0   price         440783 non-null  int64  \n",
      " 1   year          440783 non-null  float64\n",
      " 2   manufacturer  440783 non-null  object \n",
      " 3   model         440783 non-null  object \n",
      " 4   fuel          440783 non-null  object \n",
      " 5   odometer      440783 non-null  float64\n",
      " 6   title_status  440783 non-null  object \n",
      " 7   transmission  440783 non-null  object \n",
      " 8   state         440783 non-null  object \n",
      "dtypes: float64(2), int64(1), object(6)\n",
      "memory usage: 30.3+ MB\n"
     ]
    }
   ],
   "source": [
    "df.info()"
   ]
  },
  {
   "cell_type": "markdown",
   "metadata": {},
   "source": [
    "#### Great, we do not have NULL values anymore, now we would like to perform some data validity checking"
   ]
  },
  {
   "cell_type": "code",
   "execution_count": 66,
   "metadata": {
    "scrolled": true
   },
   "outputs": [
    {
     "name": "stdout",
     "output_type": "stream",
     "text": [
      "The max price of a used car is 4198286601, the min price of a used car is 0.\n"
     ]
    }
   ],
   "source": [
    "print(f\"The max price of a used car is {df['price'].max()}, the min price of a used car is {df['price'].min()}.\")"
   ]
  },
  {
   "cell_type": "code",
   "execution_count": 67,
   "metadata": {},
   "outputs": [],
   "source": [
    "#The above does not make lots of sense, so we would like to only keep the used cars with prices between 1000 and 200000\n",
    "drop_idx = df.index[(df['price'] < 1000) | (df['price'] > 200000)]\n",
    "df.drop(drop_idx, inplace = True)\n",
    "df.reset_index(drop = True, inplace = True)"
   ]
  },
  {
   "cell_type": "code",
   "execution_count": 68,
   "metadata": {},
   "outputs": [
    {
     "name": "stdout",
     "output_type": "stream",
     "text": [
      "The max price of a used car is 200000, the min price of a used car is 1000.\n"
     ]
    }
   ],
   "source": [
    "print(f\"The max price of a used car is {df['price'].max()}, the min price of a used car is {df['price'].min()}.\")"
   ]
  },
  {
   "cell_type": "code",
   "execution_count": 69,
   "metadata": {},
   "outputs": [
    {
     "data": {
      "text/plain": [
       "2017.0    32516\n",
       "2016.0    30977\n",
       "2015.0    30266\n",
       "2013.0    29285\n",
       "2014.0    28790\n",
       "          ...  \n",
       "1928.0        2\n",
       "1942.0        2\n",
       "1922.0        1\n",
       "1914.0        1\n",
       "0.0           1\n",
       "Name: year, Length: 101, dtype: int64"
      ]
     },
     "execution_count": 69,
     "metadata": {},
     "output_type": "execute_result"
    }
   ],
   "source": [
    "df['year'].value_counts()"
   ]
  },
  {
   "cell_type": "code",
   "execution_count": 70,
   "metadata": {},
   "outputs": [],
   "source": [
    "#We would only be interested in used cars with year between 2000 and 2019. \n",
    "#If a used car is too old, we are not intersted and also they have fewer instances to be trained thus prediction accuracy is questionable.\n",
    "#The dataset is from Jan 2020 so we would only include models up until year 2019 \n",
    "#(year 2020 model should be out already but again, there are few instances or even bad data as there are some used cars have model year 2021)\n",
    "drop_idx = df.index[(df['year'] < 2000) | (df['year'] > 2019)]\n",
    "df.drop(drop_idx, inplace = True)\n",
    "df.reset_index(drop = True, inplace = True)"
   ]
  },
  {
   "cell_type": "code",
   "execution_count": 71,
   "metadata": {},
   "outputs": [
    {
     "data": {
      "text/plain": [
       "2017.0    32516\n",
       "2016.0    30977\n",
       "2015.0    30266\n",
       "2013.0    29285\n",
       "2014.0    28790\n",
       "Name: year, dtype: int64"
      ]
     },
     "execution_count": 71,
     "metadata": {},
     "output_type": "execute_result"
    }
   ],
   "source": [
    "#top 5 rows\n",
    "df['year'].value_counts().head()"
   ]
  },
  {
   "cell_type": "code",
   "execution_count": 72,
   "metadata": {},
   "outputs": [
    {
     "data": {
      "text/plain": [
       "ford               70481\n",
       "chevrolet          55097\n",
       "toyota             30341\n",
       "nissan             21614\n",
       "ram                19648\n",
       "honda              19641\n",
       "jeep               18624\n",
       "gmc                17489\n",
       "dodge              12968\n",
       "bmw                11489\n",
       "hyundai             9739\n",
       "subaru              9580\n",
       "mercedes-benz       8793\n",
       "volkswagen          8460\n",
       "kia                 7508\n",
       "chrysler            6337\n",
       "cadillac            5819\n",
       "buick               5464\n",
       "lexus               5052\n",
       "audi                4915\n",
       "mazda               4808\n",
       "infiniti            3291\n",
       "acura               3112\n",
       "lincoln             2486\n",
       "volvo               2472\n",
       "pontiac             2217\n",
       "mini                2037\n",
       "mitsubishi          1940\n",
       "rover               1605\n",
       "saturn              1198\n",
       "mercury             1173\n",
       "jaguar               803\n",
       "fiat                 788\n",
       "tesla                204\n",
       "harley-davidson      164\n",
       "alfa-romeo            43\n",
       "ferrari               35\n",
       "aston-martin          27\n",
       "land rover            15\n",
       "porche                 7\n",
       "datsun                 3\n",
       "hennessey              1\n",
       "Name: manufacturer, dtype: int64"
      ]
     },
     "execution_count": 72,
     "metadata": {},
     "output_type": "execute_result"
    }
   ],
   "source": [
    "df['manufacturer'].value_counts()"
   ]
  },
  {
   "cell_type": "code",
   "execution_count": 73,
   "metadata": {},
   "outputs": [],
   "source": [
    "#Manufacturer data looks good but for the same reasons as above, we would like to drop instances where count < 1000\n",
    "counts = df['manufacturer'].value_counts()\n",
    "values_to_drop = counts.index[counts < 1000]\n",
    "drop_idx = df.index[df['manufacturer'].isin(values_to_drop)]\n",
    "df.drop(drop_idx, inplace = True)\n",
    "df.reset_index(drop = True, inplace = True)"
   ]
  },
  {
   "cell_type": "markdown",
   "metadata": {},
   "source": [
    "#### The next column: \"model\" is a hard one to deal with. If we look at its value_counts..."
   ]
  },
  {
   "cell_type": "code",
   "execution_count": 74,
   "metadata": {},
   "outputs": [
    {
     "data": {
      "text/plain": [
       "f-150                      8144\n",
       "silverado 1500             5245\n",
       "1500                       4680\n",
       "silverado                  3530\n",
       "wrangler                   2787\n",
       "                           ... \n",
       "golf sportwagon sel tdi       1\n",
       "e-350 12 passenger            1\n",
       "charger sxt 4dr sedan         1\n",
       "CHEVEROLET CORVETTE           1\n",
       "explorer sport ecoboost       1\n",
       "Name: model, Length: 25513, dtype: int64"
      ]
     },
     "execution_count": 74,
     "metadata": {},
     "output_type": "execute_result"
    }
   ],
   "source": [
    "df['model'].value_counts()"
   ]
  },
  {
   "cell_type": "markdown",
   "metadata": {},
   "source": [
    "#### Noticed the issue here? Because this \"model\" field might be a free text field, seller can put different variations of the same car model. For example, \"silverado 1500\", \"1500\" and \"silverado\" most likely represent the same car model. If we put the values directly into training algorithms, they would be treated as different car models, which could impact our model performance. To mitigate this issue, we would take the following steps:\n",
    "1. Strip out the words of individual car model for each record\n",
    "2. Find out the top 150 words based on frequency with weights assigned based on word sequence in a record\n",
    "    (ex. \"silverado 1500\" - \"silverado\" would have more weights than \"1500\" because the further the word is to the front, the more likely the word represents the actual car model)\n",
    "3. Go through the 150 words, clean them up and end up with the most common derived \"car models\"\n",
    "4. Map records to the most common derived \"car models\" and mark \"N/A\" if cannot be mapped"
   ]
  },
  {
   "cell_type": "code",
   "execution_count": 75,
   "metadata": {},
   "outputs": [],
   "source": [
    "#First we would like to turn all models to lower case for matching later\n",
    "df['model'] = df['model'].str.lower()"
   ]
  },
  {
   "cell_type": "code",
   "execution_count": 76,
   "metadata": {},
   "outputs": [],
   "source": [
    "weighted_words = []\n",
    "for item in df['model']:\n",
    "    #split into words\n",
    "    words = item.split()\n",
    "    #find number of words in list and assign weights\n",
    "    for word, weight in zip(words, (np.arange(len(words)) + 1)[::-1]):\n",
    "        weighted_words += [word] * weight"
   ]
  },
  {
   "cell_type": "code",
   "execution_count": 77,
   "metadata": {},
   "outputs": [],
   "source": [
    "#Find \"top models\"\n",
    "top_models = pd.Series(weighted_words).value_counts().head(150)"
   ]
  },
  {
   "cell_type": "code",
   "execution_count": 78,
   "metadata": {},
   "outputs": [
    {
     "data": {
      "text/plain": [
       "1500           45085\n",
       "silverado      43479\n",
       "sport          28962\n",
       "cab            27790\n",
       "sierra         23748\n",
       "super          22787\n",
       "f150           22284\n",
       "crew           21937\n",
       "grand          21101\n",
       "4x4            19397\n",
       "2500           16747\n",
       "f-150          15405\n",
       "se             14378\n",
       "lt             14373\n",
       "duty           13851\n",
       "sedan          13594\n",
       "wrangler       13168\n",
       "4d             10899\n",
       "tacoma         10725\n",
       "xlt            10343\n",
       "f-250          10275\n",
       "escape         10133\n",
       "cherokee        9866\n",
       "awd             9726\n",
       "coupe           9682\n",
       "s               9494\n",
       "civic           9441\n",
       "f250            9338\n",
       "tundra          9200\n",
       "limited         9111\n",
       "f-350           9078\n",
       "utility         8911\n",
       "accord          8832\n",
       "mustang         8763\n",
       "3500            8402\n",
       "supercrew       7960\n",
       "slt             7870\n",
       "equinox         7833\n",
       "rogue           7480\n",
       "altima          7457\n",
       "camry           7433\n",
       "lx              7097\n",
       "focus           7024\n",
       "4dr             6858\n",
       "explorer        6518\n",
       "fusion          6401\n",
       "2500hd          6220\n",
       "camaro          6189\n",
       "town            6129\n",
       "express         6046\n",
       "yukon           6003\n",
       "f350            5988\n",
       "4wd             5913\n",
       "premium         5645\n",
       "sv              5554\n",
       "series          5478\n",
       "corolla         5438\n",
       "frontier        5363\n",
       "ls              5279\n",
       "malibu          5238\n",
       "cruze           5231\n",
       "jetta           5228\n",
       "edge            4990\n",
       "benz            4911\n",
       "outback         4898\n",
       "tahoe           4850\n",
       "double          4839\n",
       "gas             4800\n",
       "xl              4710\n",
       "unlimited       4584\n",
       "ex              4495\n",
       "2d              4409\n",
       "caravan         4376\n",
       "lariat          4351\n",
       "impala          4349\n",
       "elantra         4327\n",
       "pickup          4252\n",
       "sentra          4187\n",
       "cr-v            4155\n",
       "3               4152\n",
       "sonata          4116\n",
       "santa           4063\n",
       "transit         4040\n",
       "cargo           3998\n",
       "rav4            3901\n",
       "gt              3899\n",
       "le              3887\n",
       "forester        3770\n",
       "sel             3752\n",
       "cooper          3658\n",
       "colorado        3651\n",
       "journey         3610\n",
       "hd              3559\n",
       "challenger      3513\n",
       "odyssey         3494\n",
       "suburban        3446\n",
       "sr5             3446\n",
       "4runner         3402\n",
       "porsche         3400\n",
       "terrain         3344\n",
       "sorento         3326\n",
       "prius           3316\n",
       "titan           3311\n",
       "ltz             3200\n",
       "passat          3182\n",
       "expedition      3171\n",
       "convertible     3162\n",
       "impreza         3146\n",
       "350             3115\n",
       "encore          3086\n",
       "touring         3081\n",
       "traverse        3079\n",
       "fwd             3052\n",
       "laramie         3029\n",
       "acadia          3029\n",
       "hatchback       3016\n",
       "ex-l            3005\n",
       "sienna          2993\n",
       "pilot           2946\n",
       "sle             2910\n",
       "lifted          2881\n",
       "versa           2773\n",
       "sxt             2773\n",
       "quad            2737\n",
       "highlander      2701\n",
       "van             2695\n",
       "scion           2674\n",
       "2.5             2674\n",
       "fe              2668\n",
       "diesel          2647\n",
       "optima          2629\n",
       "300             2593\n",
       "x5              2590\n",
       "ranger          2587\n",
       "charger         2579\n",
       "sl              2566\n",
       "taurus          2541\n",
       "tucson          2510\n",
       "escalade        2509\n",
       "compass         2476\n",
       "mx-5            2444\n",
       "rx              2431\n",
       "liberty         2404\n",
       "2.0t            2402\n",
       "denali          2398\n",
       "murano          2373\n",
       "4               2371\n",
       "2.5i            2362\n",
       "patriot         2347\n",
       "legacy          2316\n",
       "dtype: int64"
      ]
     },
     "execution_count": 78,
     "metadata": {},
     "output_type": "execute_result"
    }
   ],
   "source": [
    "#Now we would go through all the \"top models\" and clean the Series up\n",
    "pd.set_option('display.max_rows', None)\n",
    "top_models"
   ]
  },
  {
   "cell_type": "code",
   "execution_count": 79,
   "metadata": {},
   "outputs": [],
   "source": [
    "top_models.drop(['sport', 'cab', 'super', '4x4', 'se', 'lt', 'sedan', 'duty', '4d', 'xlt', \n",
    "                'coupe', 'awd', 's', 'limited', 'utility', 'slt', 'lx', '4dr', '4wd', \n",
    "                'premium', 'sv', 'series', 'ls', 'double', 'gas', 'xl', 'unlimited', 'ex',\n",
    "                '2d', 'pickup', '3', 'le', 'sel', 'gt', 'hd', 'ltz', 'fwd', 'ex-l', 'sle',\n",
    "                 'lifted','sxt', '2.5', 'fe', '300', 'quad', 'diesel', 'sl', 'van', 'rx', '4', '2.0t', '2.5i'], inplace = True)"
   ]
  },
  {
   "cell_type": "code",
   "execution_count": 80,
   "metadata": {},
   "outputs": [],
   "source": [
    "pd.reset_option('display.max_rows')"
   ]
  },
  {
   "cell_type": "code",
   "execution_count": 81,
   "metadata": {},
   "outputs": [],
   "source": [
    "top_models = pd.Series(top_models.index)"
   ]
  },
  {
   "cell_type": "code",
   "execution_count": 82,
   "metadata": {
    "scrolled": true
   },
   "outputs": [
    {
     "data": {
      "text/plain": [
       "0          1500\n",
       "1     silverado\n",
       "2        sierra\n",
       "3          f150\n",
       "4          crew\n",
       "        ...    \n",
       "93      liberty\n",
       "94       denali\n",
       "95       murano\n",
       "96      patriot\n",
       "97       legacy\n",
       "Length: 98, dtype: object"
      ]
     },
     "execution_count": 82,
     "metadata": {},
     "output_type": "execute_result"
    }
   ],
   "source": [
    "top_models"
   ]
  },
  {
   "cell_type": "code",
   "execution_count": 83,
   "metadata": {
    "scrolled": false
   },
   "outputs": [],
   "source": [
    "#The list might not be perfect but it is as good as we can get, now finally we would like to map every record to one of the top_models\n",
    "#First, we would like to assign \"N/A\" to records that do not have words in top_models\n",
    "df.loc[~df['model'].str.contains('|'.join(top_models)), ['model']] = 'N/A'"
   ]
  },
  {
   "cell_type": "code",
   "execution_count": 84,
   "metadata": {},
   "outputs": [
    {
     "name": "stderr",
     "output_type": "stream",
     "text": [
      "100%|██████████| 98/98 [00:05<00:00, 19.10it/s]\n"
     ]
    }
   ],
   "source": [
    "#map to top_models\n",
    "from tqdm import tqdm\n",
    "for item in tqdm(top_models):\n",
    "    df['model'] = df['model'].apply(lambda x: item if item in x else x)"
   ]
  },
  {
   "cell_type": "code",
   "execution_count": 85,
   "metadata": {},
   "outputs": [
    {
     "name": "stdout",
     "output_type": "stream",
     "text": [
      "We successfuly mapped 269633 car models out of total of 375398 records, which is pretty good.\n"
     ]
    }
   ],
   "source": [
    "print(f\"We successfuly mapped {(df['model'] != 'N/A').sum()} car models out of total of {len(df)} records, which is pretty good.\")"
   ]
  },
  {
   "cell_type": "code",
   "execution_count": 86,
   "metadata": {},
   "outputs": [
    {
     "name": "stdout",
     "output_type": "stream",
     "text": [
      "<class 'pandas.core.frame.DataFrame'>\n",
      "RangeIndex: 375398 entries, 0 to 375397\n",
      "Data columns (total 9 columns):\n",
      " #   Column        Non-Null Count   Dtype  \n",
      "---  ------        --------------   -----  \n",
      " 0   price         375398 non-null  int64  \n",
      " 1   year          375398 non-null  float64\n",
      " 2   manufacturer  375398 non-null  object \n",
      " 3   model         375398 non-null  object \n",
      " 4   fuel          375398 non-null  object \n",
      " 5   odometer      375398 non-null  float64\n",
      " 6   title_status  375398 non-null  object \n",
      " 7   transmission  375398 non-null  object \n",
      " 8   state         375398 non-null  object \n",
      "dtypes: float64(2), int64(1), object(6)\n",
      "memory usage: 25.8+ MB\n"
     ]
    }
   ],
   "source": [
    "df.info()"
   ]
  },
  {
   "cell_type": "markdown",
   "metadata": {},
   "source": [
    "#### If we look at odometer values ranges, it also contains invalid values."
   ]
  },
  {
   "cell_type": "code",
   "execution_count": 87,
   "metadata": {},
   "outputs": [
    {
     "name": "stdout",
     "output_type": "stream",
     "text": [
      "The odometer ranges from 0.0 to 64809218.0.\n"
     ]
    }
   ],
   "source": [
    "print(f\"The odometer ranges from {df['odometer'].min()} to {df['odometer'].max()}.\")"
   ]
  },
  {
   "cell_type": "markdown",
   "metadata": {},
   "source": [
    "#### Odometer values between 10 and 250000 miles would be a reasonable range. We would drop odometer values < 10 and > 250000"
   ]
  },
  {
   "cell_type": "code",
   "execution_count": 88,
   "metadata": {},
   "outputs": [],
   "source": [
    "df.drop(df.index[(df['odometer'] < 10) | (df['odometer'] > 250000)], inplace = True)\n",
    "df.reset_index(drop = True, inplace = True)"
   ]
  },
  {
   "cell_type": "code",
   "execution_count": 89,
   "metadata": {},
   "outputs": [
    {
     "name": "stdout",
     "output_type": "stream",
     "text": [
      "The odometer now ranges from 10.0 to 250000.0.\n"
     ]
    }
   ],
   "source": [
    "print(f\"The odometer now ranges from {df['odometer'].min()} to {df['odometer'].max()}.\")"
   ]
  },
  {
   "cell_type": "markdown",
   "metadata": {},
   "source": [
    "#### title_status:"
   ]
  },
  {
   "cell_type": "code",
   "execution_count": 90,
   "metadata": {
    "scrolled": true
   },
   "outputs": [
    {
     "data": {
      "text/plain": [
       "clean         352851\n",
       "rebuilt         9607\n",
       "salvage         3705\n",
       "lien            2402\n",
       "missing           69\n",
       "parts only        34\n",
       "Name: title_status, dtype: int64"
      ]
     },
     "execution_count": 90,
     "metadata": {},
     "output_type": "execute_result"
    }
   ],
   "source": [
    "df['title_status'].value_counts()"
   ]
  },
  {
   "cell_type": "code",
   "execution_count": 99,
   "metadata": {},
   "outputs": [],
   "source": [
    "#We would like to drop \"missing\" and \"parts only\" cause these two title types contains too few entries to be useful\n",
    "df.drop(df.index[df['title_status'].isin(['missing', 'parts only'])], inplace = True)\n",
    "df.reset_index(drop = True, inplace = True)"
   ]
  },
  {
   "cell_type": "code",
   "execution_count": 100,
   "metadata": {},
   "outputs": [
    {
     "name": "stdout",
     "output_type": "stream",
     "text": [
      "<class 'pandas.core.frame.DataFrame'>\n",
      "RangeIndex: 368565 entries, 0 to 368564\n",
      "Data columns (total 9 columns):\n",
      " #   Column        Non-Null Count   Dtype  \n",
      "---  ------        --------------   -----  \n",
      " 0   price         368565 non-null  int64  \n",
      " 1   year          368565 non-null  float64\n",
      " 2   manufacturer  368565 non-null  object \n",
      " 3   model         368565 non-null  object \n",
      " 4   fuel          368565 non-null  object \n",
      " 5   odometer      368565 non-null  float64\n",
      " 6   title_status  368565 non-null  object \n",
      " 7   transmission  368565 non-null  object \n",
      " 8   state         368565 non-null  object \n",
      "dtypes: float64(2), int64(1), object(6)\n",
      "memory usage: 25.3+ MB\n"
     ]
    }
   ],
   "source": [
    "df.info()"
   ]
  },
  {
   "cell_type": "code",
   "execution_count": 101,
   "metadata": {
    "scrolled": true
   },
   "outputs": [
    {
     "data": {
      "text/plain": [
       "clean      352851\n",
       "rebuilt      9607\n",
       "salvage      3705\n",
       "lien         2402\n",
       "Name: title_status, dtype: int64"
      ]
     },
     "execution_count": 101,
     "metadata": {},
     "output_type": "execute_result"
    }
   ],
   "source": [
    "df['title_status'].value_counts()"
   ]
  },
  {
   "cell_type": "code",
   "execution_count": 102,
   "metadata": {},
   "outputs": [
    {
     "data": {
      "text/plain": [
       "automatic    330931\n",
       "other         20258\n",
       "manual        17376\n",
       "Name: transmission, dtype: int64"
      ]
     },
     "execution_count": 102,
     "metadata": {},
     "output_type": "execute_result"
    }
   ],
   "source": [
    "df['transmission'].value_counts()"
   ]
  },
  {
   "cell_type": "code",
   "execution_count": null,
   "metadata": {},
   "outputs": [],
   "source": []
  }
 ],
 "metadata": {
  "file_extension": ".py",
  "kernelspec": {
   "display_name": "Python 3",
   "language": "python",
   "name": "python3"
  },
  "language_info": {
   "codemirror_mode": {
    "name": "ipython",
    "version": 3
   },
   "file_extension": ".py",
   "mimetype": "text/x-python",
   "name": "python",
   "nbconvert_exporter": "python",
   "pygments_lexer": "ipython3",
   "version": "3.7.6"
  },
  "mimetype": "text/x-python",
  "name": "python",
  "npconvert_exporter": "python",
  "pygments_lexer": "ipython3",
  "version": 3
 },
 "nbformat": 4,
 "nbformat_minor": 2
}
