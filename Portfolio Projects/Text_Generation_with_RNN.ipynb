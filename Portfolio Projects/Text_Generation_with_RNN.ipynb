{
  "nbformat": 4,
  "nbformat_minor": 0,
  "metadata": {
    "colab": {
      "name": "Text Generation with RNN.ipynb",
      "provenance": [],
      "collapsed_sections": [],
      "authorship_tag": "ABX9TyPOiguh/CSrclokbLmhzCLt",
      "include_colab_link": true
    },
    "kernelspec": {
      "name": "python3",
      "display_name": "Python 3"
    },
    "accelerator": "GPU"
  },
  "cells": [
    {
      "cell_type": "markdown",
      "metadata": {
        "id": "view-in-github",
        "colab_type": "text"
      },
      "source": [
        "<a href=\"https://colab.research.google.com/github/tonyychen/Projects/blob/master/Portfolio%20Projects/Text_Generation_with_RNN.ipynb\" target=\"_parent\"><img src=\"https://colab.research.google.com/assets/colab-badge.svg\" alt=\"Open In Colab\"/></a>"
      ]
    },
    {
      "cell_type": "code",
      "metadata": {
        "id": "12K-1Rnbl8Wh",
        "colab_type": "code",
        "colab": {}
      },
      "source": [
        "import numpy as np\n",
        "import tensorflow as tf"
      ],
      "execution_count": 1,
      "outputs": []
    },
    {
      "cell_type": "code",
      "metadata": {
        "id": "eBskLByAmDHD",
        "colab_type": "code",
        "colab": {
          "base_uri": "https://localhost:8080/",
          "height": 51
        },
        "outputId": "8e77c6c4-1eb0-422b-ef7b-271be00ff3ea"
      },
      "source": [
        "#Download the dataset\n",
        "path_to_file = tf.keras.utils.get_file('pg420.txt', 'http://www.gutenberg.org/cache/epub/420/pg420.txt')"
      ],
      "execution_count": 2,
      "outputs": [
        {
          "output_type": "stream",
          "text": [
            "Downloading data from http://www.gutenberg.org/cache/epub/420/pg420.txt\n",
            "262144/255554 [==============================] - 1s 3us/step\n"
          ],
          "name": "stdout"
        }
      ]
    },
    {
      "cell_type": "code",
      "metadata": {
        "id": "whAW-9j5mO9V",
        "colab_type": "code",
        "colab": {}
      },
      "source": [
        "#read the file\n",
        "text = open(path_to_file, 'r').read()"
      ],
      "execution_count": 3,
      "outputs": []
    },
    {
      "cell_type": "code",
      "metadata": {
        "id": "3RkQLHKumfZv",
        "colab_type": "code",
        "colab": {}
      },
      "source": [
        "#clean up the file\n",
        "start_text = 'Produced by Dennis Amundson.'\n",
        "end_text = 'End of Project Gutenberg'\n",
        "start_idx = text.find(start_text)\n",
        "end_idx = text.find(end_text)\n",
        "text = text[start_idx:end_idx]"
      ],
      "execution_count": 4,
      "outputs": []
    },
    {
      "cell_type": "code",
      "metadata": {
        "id": "lo-FF6eLmfyN",
        "colab_type": "code",
        "colab": {}
      },
      "source": [
        "#get mappings for encodings and decodings\n",
        "char_set = sorted(set(text))\n",
        "char_arr = np.asarray(char_set)\n",
        "map_size = len(char_set)"
      ],
      "execution_count": 5,
      "outputs": []
    },
    {
      "cell_type": "code",
      "metadata": {
        "id": "q9SfxvtuonVx",
        "colab_type": "code",
        "colab": {
          "base_uri": "https://localhost:8080/",
          "height": 34
        },
        "outputId": "5b50aca3-6b96-47d6-bf52-07c043be3dc2"
      },
      "source": [
        "char_set[:5]"
      ],
      "execution_count": 6,
      "outputs": [
        {
          "output_type": "execute_result",
          "data": {
            "text/plain": [
              "['\\n', ' ', '!', '\"', '&']"
            ]
          },
          "metadata": {
            "tags": []
          },
          "execution_count": 6
        }
      ]
    },
    {
      "cell_type": "code",
      "metadata": {
        "id": "tM8K9ztVpOn9",
        "colab_type": "code",
        "colab": {}
      },
      "source": [
        "char2idx = {char:idx for idx, char in enumerate(char_arr)}\n",
        "idx2char = char_arr"
      ],
      "execution_count": 7,
      "outputs": []
    },
    {
      "cell_type": "code",
      "metadata": {
        "id": "uLByS-cJqZb1",
        "colab_type": "code",
        "colab": {}
      },
      "source": [
        "#encode the entire text\n",
        "text_encoded = [char2idx[char] for char in text]"
      ],
      "execution_count": 8,
      "outputs": []
    },
    {
      "cell_type": "code",
      "metadata": {
        "id": "G4O7N-HBr_eG",
        "colab_type": "code",
        "colab": {}
      },
      "source": [
        "#create training dataset\n",
        "ds_train = tf.data.Dataset.from_tensor_slices(text_encoded)"
      ],
      "execution_count": 9,
      "outputs": []
    },
    {
      "cell_type": "code",
      "metadata": {
        "id": "sUM9WXDAstD1",
        "colab_type": "code",
        "colab": {}
      },
      "source": [
        "#batch sequence of chars in to sentence chucks of equal length\n",
        "sequence_length = 30\n",
        "ds_train = ds_train.batch(sequence_length + 1, drop_remainder = True)"
      ],
      "execution_count": 10,
      "outputs": []
    },
    {
      "cell_type": "code",
      "metadata": {
        "id": "N_vCjg52t0gS",
        "colab_type": "code",
        "colab": {
          "base_uri": "https://localhost:8080/",
          "height": 68
        },
        "outputId": "e9f975a4-f1e7-4ee3-d4ea-8587b0a1fa5c"
      },
      "source": [
        "for i in ds_train.take(1):\n",
        "  print(i)"
      ],
      "execution_count": 11,
      "outputs": [
        {
          "output_type": "stream",
          "text": [
            "tf.Tensor(\n",
            "[39 66 63 52 69 51 53 52  1 50 73  1 27 53 62 62 57 67  1 24 61 69 62 52\n",
            " 67 63 62 10  0  0  0], shape=(31,), dtype=int32)\n"
          ],
          "name": "stdout"
        }
      ]
    },
    {
      "cell_type": "code",
      "metadata": {
        "id": "TMkDYGp8t_Ew",
        "colab_type": "code",
        "colab": {}
      },
      "source": [
        "#slice each sentence chuck into input sequence and output sequence\n",
        "ds_train = ds_train.map(lambda x: (x[:sequence_length], x[1:]))"
      ],
      "execution_count": 12,
      "outputs": []
    },
    {
      "cell_type": "code",
      "metadata": {
        "id": "e8yLktgRudme",
        "colab_type": "code",
        "colab": {
          "base_uri": "https://localhost:8080/",
          "height": 102
        },
        "outputId": "cc95d159-bfec-4814-8c03-0a246fe08594"
      },
      "source": [
        "for i in ds_train.take(1):\n",
        "  print(i)"
      ],
      "execution_count": 13,
      "outputs": [
        {
          "output_type": "stream",
          "text": [
            "(<tf.Tensor: shape=(30,), dtype=int32, numpy=\n",
            "array([39, 66, 63, 52, 69, 51, 53, 52,  1, 50, 73,  1, 27, 53, 62, 62, 57,\n",
            "       67,  1, 24, 61, 69, 62, 52, 67, 63, 62, 10,  0,  0], dtype=int32)>, <tf.Tensor: shape=(30,), dtype=int32, numpy=\n",
            "array([66, 63, 52, 69, 51, 53, 52,  1, 50, 73,  1, 27, 53, 62, 62, 57, 67,\n",
            "        1, 24, 61, 69, 62, 52, 67, 63, 62, 10,  0,  0,  0], dtype=int32)>)\n"
          ],
          "name": "stdout"
        }
      ]
    },
    {
      "cell_type": "code",
      "metadata": {
        "id": "TdxGpIVyuiGv",
        "colab_type": "code",
        "colab": {
          "base_uri": "https://localhost:8080/",
          "height": 34
        },
        "outputId": "24d93361-0d0e-47ae-bdec-9270c9750798"
      },
      "source": [
        "#Finally batch again to group data into batches\n",
        "ds_train = ds_train.shuffle(10000).batch(10, drop_remainder = True).prefetch(buffer_size = tf.data.experimental.AUTOTUNE)\n",
        "ds_train"
      ],
      "execution_count": 14,
      "outputs": [
        {
          "output_type": "execute_result",
          "data": {
            "text/plain": [
              "<PrefetchDataset shapes: ((10, 30), (10, 30)), types: (tf.int32, tf.int32)>"
            ]
          },
          "metadata": {
            "tags": []
          },
          "execution_count": 14
        }
      ]
    },
    {
      "cell_type": "code",
      "metadata": {
        "id": "Pb0plfKQva3S",
        "colab_type": "code",
        "colab": {}
      },
      "source": [
        "#Now we have the training set ready, the shape would be batch_size x sequence_length\n",
        "#Next we would build the RNN model\n",
        "\n",
        "input_dim = map_size\n",
        "output_dim = 200\n",
        "LSTM_units = 100\n",
        "stateful = False\n",
        "\n",
        "model = tf.keras.Sequential()\n",
        "model.add(tf.keras.layers.Embedding(input_dim = input_dim, output_dim = output_dim))\n",
        "model.add(tf.keras.layers.LSTM(LSTM_units, return_sequences = True, stateful = stateful))\n",
        "model.add(tf.keras.layers.Dense(map_size))"
      ],
      "execution_count": 15,
      "outputs": []
    },
    {
      "cell_type": "code",
      "metadata": {
        "id": "EELgH6UsTBha",
        "colab_type": "code",
        "colab": {
          "base_uri": "https://localhost:8080/",
          "height": 255
        },
        "outputId": "f8e861ce-cca1-41d5-e28b-5243c861950a"
      },
      "source": [
        "model.summary()"
      ],
      "execution_count": 16,
      "outputs": [
        {
          "output_type": "stream",
          "text": [
            "Model: \"sequential\"\n",
            "_________________________________________________________________\n",
            "Layer (type)                 Output Shape              Param #   \n",
            "=================================================================\n",
            "embedding (Embedding)        (None, None, 200)         15000     \n",
            "_________________________________________________________________\n",
            "lstm (LSTM)                  (None, None, 100)         120400    \n",
            "_________________________________________________________________\n",
            "dense (Dense)                (None, None, 75)          7575      \n",
            "=================================================================\n",
            "Total params: 142,975\n",
            "Trainable params: 142,975\n",
            "Non-trainable params: 0\n",
            "_________________________________________________________________\n"
          ],
          "name": "stdout"
        }
      ]
    },
    {
      "cell_type": "code",
      "metadata": {
        "id": "AzEykN1-TCcr",
        "colab_type": "code",
        "colab": {}
      },
      "source": [
        "#compile the model\n",
        "model.compile(loss = tf.keras.losses.SparseCategoricalCrossentropy(from_logits=True))"
      ],
      "execution_count": 17,
      "outputs": []
    },
    {
      "cell_type": "code",
      "metadata": {
        "id": "rtKExtuhTsWy",
        "colab_type": "code",
        "colab": {}
      },
      "source": [
        "#Create checkpoint callback\n",
        "checkpoint_path = './training_checkpoints/ckpt_{epoch}'\n",
        "checkpoint_callback = tf.keras.callbacks.ModelCheckpoint(filepath = checkpoint_path, save_weights_only = True)"
      ],
      "execution_count": 18,
      "outputs": []
    },
    {
      "cell_type": "code",
      "metadata": {
        "id": "U_g4Ra99V6TM",
        "colab_type": "code",
        "colab": {
          "base_uri": "https://localhost:8080/",
          "height": 697
        },
        "outputId": "3b04f202-0f77-48a7-e5fd-84385a79a518"
      },
      "source": [
        "#Train the model\n",
        "history = model.fit(ds_train, epochs = 20, callbacks = [checkpoint_callback])"
      ],
      "execution_count": 19,
      "outputs": [
        {
          "output_type": "stream",
          "text": [
            "Epoch 1/20\n",
            "743/743 [==============================] - 8s 11ms/step - loss: 2.4823\n",
            "Epoch 2/20\n",
            "743/743 [==============================] - 8s 11ms/step - loss: 2.0768\n",
            "Epoch 3/20\n",
            "743/743 [==============================] - 8s 11ms/step - loss: 1.9274\n",
            "Epoch 4/20\n",
            "743/743 [==============================] - 8s 11ms/step - loss: 1.8334\n",
            "Epoch 5/20\n",
            "743/743 [==============================] - 8s 11ms/step - loss: 1.7677\n",
            "Epoch 6/20\n",
            "743/743 [==============================] - 8s 11ms/step - loss: 1.7181\n",
            "Epoch 7/20\n",
            "743/743 [==============================] - 8s 11ms/step - loss: 1.6788\n",
            "Epoch 8/20\n",
            "743/743 [==============================] - 8s 11ms/step - loss: 1.6464\n",
            "Epoch 9/20\n",
            "743/743 [==============================] - 8s 11ms/step - loss: 1.6186\n",
            "Epoch 10/20\n",
            "743/743 [==============================] - 8s 11ms/step - loss: 1.5954\n",
            "Epoch 11/20\n",
            "743/743 [==============================] - 8s 11ms/step - loss: 1.5744\n",
            "Epoch 12/20\n",
            "743/743 [==============================] - 8s 11ms/step - loss: 1.5563\n",
            "Epoch 13/20\n",
            "743/743 [==============================] - 8s 11ms/step - loss: 1.5399\n",
            "Epoch 14/20\n",
            "743/743 [==============================] - 8s 11ms/step - loss: 1.5254\n",
            "Epoch 15/20\n",
            "743/743 [==============================] - 8s 11ms/step - loss: 1.5119\n",
            "Epoch 16/20\n",
            "743/743 [==============================] - 8s 11ms/step - loss: 1.4995\n",
            "Epoch 17/20\n",
            "743/743 [==============================] - 8s 11ms/step - loss: 1.4884\n",
            "Epoch 18/20\n",
            "743/743 [==============================] - 8s 11ms/step - loss: 1.4780\n",
            "Epoch 19/20\n",
            "743/743 [==============================] - 8s 11ms/step - loss: 1.4678\n",
            "Epoch 20/20\n",
            "743/743 [==============================] - 8s 11ms/step - loss: 1.4589\n"
          ],
          "name": "stdout"
        }
      ]
    },
    {
      "cell_type": "code",
      "metadata": {
        "id": "MmzFPw_HWJUH",
        "colab_type": "code",
        "colab": {}
      },
      "source": [
        "#Now in order to make predictions recursively, we need to model to be stateful, so we would rebuild the model using the trained weights\n",
        "stateful = True\n",
        "\n",
        "model = tf.keras.Sequential()\n",
        "model.add(tf.keras.layers.Embedding(input_dim = input_dim, output_dim = output_dim, batch_input_shape = (1, None)))\n",
        "model.add(tf.keras.layers.LSTM(LSTM_units, return_sequences = True, stateful = stateful))\n",
        "model.add(tf.keras.layers.Dense(map_size))\n",
        "\n",
        "#compile the model\n",
        "model.compile(loss = tf.keras.losses.SparseCategoricalCrossentropy(from_logits=True))"
      ],
      "execution_count": 20,
      "outputs": []
    },
    {
      "cell_type": "code",
      "metadata": {
        "id": "B6sOFKoQXKW0",
        "colab_type": "code",
        "colab": {
          "base_uri": "https://localhost:8080/",
          "height": 255
        },
        "outputId": "c3a73810-2ee0-4141-8912-0f362e918b43"
      },
      "source": [
        "model.summary()"
      ],
      "execution_count": 21,
      "outputs": [
        {
          "output_type": "stream",
          "text": [
            "Model: \"sequential_1\"\n",
            "_________________________________________________________________\n",
            "Layer (type)                 Output Shape              Param #   \n",
            "=================================================================\n",
            "embedding_1 (Embedding)      (1, None, 200)            15000     \n",
            "_________________________________________________________________\n",
            "lstm_1 (LSTM)                (1, None, 100)            120400    \n",
            "_________________________________________________________________\n",
            "dense_1 (Dense)              (1, None, 75)             7575      \n",
            "=================================================================\n",
            "Total params: 142,975\n",
            "Trainable params: 142,975\n",
            "Non-trainable params: 0\n",
            "_________________________________________________________________\n"
          ],
          "name": "stdout"
        }
      ]
    },
    {
      "cell_type": "code",
      "metadata": {
        "id": "H4oSyuSbX2rh",
        "colab_type": "code",
        "colab": {
          "base_uri": "https://localhost:8080/",
          "height": 34
        },
        "outputId": "fd364dc9-1120-4f7f-c53e-4d7f497b5278"
      },
      "source": [
        "#load trained weights\n",
        "model.load_weights(tf.train.latest_checkpoint('./training_checkpoints'))"
      ],
      "execution_count": 22,
      "outputs": [
        {
          "output_type": "execute_result",
          "data": {
            "text/plain": [
              "<tensorflow.python.training.tracking.util.CheckpointLoadStatus at 0x7f4f6012db70>"
            ]
          },
          "metadata": {
            "tags": []
          },
          "execution_count": 22
        }
      ]
    },
    {
      "cell_type": "code",
      "metadata": {
        "id": "Ql8LuEJDZDLA",
        "colab_type": "code",
        "colab": {}
      },
      "source": [
        "model.reset_states()\n",
        "#Generate the first character\n",
        "input_string = \"I am not sure what's next\"\n",
        "input_encoded = [char2idx[char] for char in input_string]\n",
        "input_ds = tf.convert_to_tensor(input_encoded)\n",
        "input_ds = tf.reshape(input_ds, (1, -1))\n",
        "pred = model.predict(input_ds)"
      ],
      "execution_count": 23,
      "outputs": []
    },
    {
      "cell_type": "code",
      "metadata": {
        "id": "27EbPcfHZ91P",
        "colab_type": "code",
        "colab": {}
      },
      "source": [
        "pred = tf.squeeze(pred, axis = 0)\n",
        "pred_encoded = tf.random.categorical(pred, 1)\n",
        "pred_encoded = tf.squeeze(pred_encoded, -1)"
      ],
      "execution_count": 24,
      "outputs": []
    },
    {
      "cell_type": "code",
      "metadata": {
        "id": "cwdVrAzfcNIs",
        "colab_type": "code",
        "colab": {}
      },
      "source": [
        "first_char = pred_encoded[-1].numpy()"
      ],
      "execution_count": 25,
      "outputs": []
    },
    {
      "cell_type": "code",
      "metadata": {
        "id": "Wb9eW1dmcic-",
        "colab_type": "code",
        "colab": {}
      },
      "source": [
        "#We would store all chars generated in a list\n",
        "generated_sentence = []\n",
        "generated_sentence.append(first_char)"
      ],
      "execution_count": 26,
      "outputs": []
    },
    {
      "cell_type": "code",
      "metadata": {
        "id": "9b0wuU5udFd9",
        "colab_type": "code",
        "colab": {}
      },
      "source": [
        "#Now we would predict the next 100 chars to come up with a sentence\n",
        "input_char = first_char #set input char to the first_char predicted\n",
        "for i in range(100):\n",
        "  input_char = tf.convert_to_tensor(input_char) #convert to tensor\n",
        "  input_ds = tf.reshape(input_char, (1, 1)) #reshape to batch_size, sequence_size\n",
        "  pred = model.predict(input_ds) #Note that previous sequence info is stored in the state because the model is stateful\n",
        "\n",
        "  pred = tf.squeeze(pred, axis = 0) #remove batch dimension from output\n",
        "  pred_encoded = tf.random.categorical(pred, 1) #create predictions from logits by drawing samples from categorical distribution\n",
        "  pred_encoded = tf.squeeze(pred_encoded, -1) #remove feature dimension from output since it is always 1 (represents the encoded prediction)\n",
        "\n",
        "  output_char = pred_encoded[-1].numpy() #get the last element predicted from the sequence (in this case, there would be only one element predicted)\n",
        "  generated_sentence.append(output_char) #append the encoded output to generated_sentence\n",
        "  input_char = output_char #set the new input as the current output"
      ],
      "execution_count": 27,
      "outputs": []
    },
    {
      "cell_type": "code",
      "metadata": {
        "id": "2kIdXCBMfX4l",
        "colab_type": "code",
        "colab": {}
      },
      "source": [
        "#Finally, decode generated_sentence\n",
        "generated_sentence = idx2char[generated_sentence]\n",
        "generated_sentence = ''.join(generated_sentence)"
      ],
      "execution_count": 28,
      "outputs": []
    },
    {
      "cell_type": "code",
      "metadata": {
        "id": "Z34aqQwsjFVS",
        "colab_type": "code",
        "colab": {
          "base_uri": "https://localhost:8080/",
          "height": 51
        },
        "outputId": "87917a28-e282-4366-b4da-ba0954782603"
      },
      "source": [
        "print(generated_sentence)"
      ],
      "execution_count": 29,
      "outputs": [
        {
          "output_type": "stream",
          "text": [
            " more was\n",
            "not,\" said the Praniantful graged hind juid to a fuching a sliople, and chads Maggettel.  A\n"
          ],
          "name": "stdout"
        }
      ]
    },
    {
      "cell_type": "code",
      "metadata": {
        "id": "3ZtIbhp3jREi",
        "colab_type": "code",
        "colab": {}
      },
      "source": [
        ""
      ],
      "execution_count": 29,
      "outputs": []
    }
  ]
}