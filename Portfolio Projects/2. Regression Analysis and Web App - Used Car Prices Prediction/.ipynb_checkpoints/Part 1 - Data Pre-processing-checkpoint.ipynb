{
 "cells": [
  {
   "cell_type": "markdown",
   "metadata": {},
   "source": [
    "### In this project, we would explore regression analysis and make predictions on used car prices. After that, we would build a web app for user interactions and live predictions.\n",
    "---\n",
    "#### This is PART I of the project where we solely focus on data pre-processing"
   ]
  },
  {
   "cell_type": "markdown",
   "metadata": {},
   "source": [
    "#### Highlights of this part:\n",
    "1.  **Thought Processes** on data pre-processing\n",
    "2.  Text manipulations"
   ]
  },
  {
   "cell_type": "markdown",
   "metadata": {},
   "source": [
    "**Citations:**\n",
    "\n",
    "This dataset is from Kaggle - Used Cars Dataset\n",
    "\n",
    "URL: https://www.kaggle.com/austinreese/craigslist-carstrucks-data\n",
    "\n",
    "---\n",
    "\n",
    "The following description is from Kaggle:\n",
    "\n",
    "**Context**\n",
    "\n",
    "Craigslist is the world's largest collection of used vehicles for sale, yet it's very difficult to collect all of them in the same place. I built a scraper for a school project and expanded upon it later to create this dataset which includes every used vehicle entry within the United States on Craigslist.\n",
    "\n",
    "**Content**\n",
    "\n",
    "This data is scraped every few months, it contains most all relevant information that Craigslist provides on car sales including columns like price, condition, manufacturer, latitude/longitude, and 18 other categories. For ML projects, consider feature engineering on location columns such as long/lat. For previous listings, check older versions of the dataset.\n",
    "\n",
    "See https://github.com/AustinReese1998/craigslistFilter"
   ]
  },
  {
   "cell_type": "code",
   "execution_count": 1,
   "metadata": {},
   "outputs": [],
   "source": [
    "import numpy as np\n",
    "import pandas as pd"
   ]
  },
  {
   "cell_type": "code",
   "execution_count": 2,
   "metadata": {},
   "outputs": [],
   "source": [
    "pd.set_option('display.max_columns', None)"
   ]
  },
  {
   "cell_type": "code",
   "execution_count": 3,
   "metadata": {},
   "outputs": [
    {
     "data": {
      "text/html": [
       "<div>\n",
       "<style scoped>\n",
       "    .dataframe tbody tr th:only-of-type {\n",
       "        vertical-align: middle;\n",
       "    }\n",
       "\n",
       "    .dataframe tbody tr th {\n",
       "        vertical-align: top;\n",
       "    }\n",
       "\n",
       "    .dataframe thead th {\n",
       "        text-align: right;\n",
       "    }\n",
       "</style>\n",
       "<table border=\"1\" class=\"dataframe\">\n",
       "  <thead>\n",
       "    <tr style=\"text-align: right;\">\n",
       "      <th></th>\n",
       "      <th>id</th>\n",
       "      <th>url</th>\n",
       "      <th>region</th>\n",
       "      <th>region_url</th>\n",
       "      <th>price</th>\n",
       "      <th>year</th>\n",
       "      <th>manufacturer</th>\n",
       "      <th>model</th>\n",
       "      <th>condition</th>\n",
       "      <th>cylinders</th>\n",
       "      <th>fuel</th>\n",
       "      <th>odometer</th>\n",
       "      <th>title_status</th>\n",
       "      <th>transmission</th>\n",
       "      <th>vin</th>\n",
       "      <th>drive</th>\n",
       "      <th>size</th>\n",
       "      <th>type</th>\n",
       "      <th>paint_color</th>\n",
       "      <th>image_url</th>\n",
       "      <th>description</th>\n",
       "      <th>county</th>\n",
       "      <th>state</th>\n",
       "      <th>lat</th>\n",
       "      <th>long</th>\n",
       "    </tr>\n",
       "  </thead>\n",
       "  <tbody>\n",
       "    <tr>\n",
       "      <th>0</th>\n",
       "      <td>7088746062</td>\n",
       "      <td>https://greensboro.craigslist.org/ctd/d/cary-2...</td>\n",
       "      <td>greensboro</td>\n",
       "      <td>https://greensboro.craigslist.org</td>\n",
       "      <td>10299</td>\n",
       "      <td>2012.0</td>\n",
       "      <td>acura</td>\n",
       "      <td>tl</td>\n",
       "      <td>NaN</td>\n",
       "      <td>NaN</td>\n",
       "      <td>gas</td>\n",
       "      <td>90186.0</td>\n",
       "      <td>clean</td>\n",
       "      <td>automatic</td>\n",
       "      <td>19UUA8F22CA003926</td>\n",
       "      <td>NaN</td>\n",
       "      <td>NaN</td>\n",
       "      <td>other</td>\n",
       "      <td>blue</td>\n",
       "      <td>https://images.craigslist.org/01414_3LIXs9EO33...</td>\n",
       "      <td>2012 Acura TL Base 4dr Sedan     Offered by: B...</td>\n",
       "      <td>NaN</td>\n",
       "      <td>nc</td>\n",
       "      <td>35.7636</td>\n",
       "      <td>-78.7443</td>\n",
       "    </tr>\n",
       "    <tr>\n",
       "      <th>1</th>\n",
       "      <td>7088745301</td>\n",
       "      <td>https://greensboro.craigslist.org/ctd/d/bmw-3-...</td>\n",
       "      <td>greensboro</td>\n",
       "      <td>https://greensboro.craigslist.org</td>\n",
       "      <td>0</td>\n",
       "      <td>2011.0</td>\n",
       "      <td>bmw</td>\n",
       "      <td>335</td>\n",
       "      <td>NaN</td>\n",
       "      <td>6 cylinders</td>\n",
       "      <td>gas</td>\n",
       "      <td>115120.0</td>\n",
       "      <td>clean</td>\n",
       "      <td>automatic</td>\n",
       "      <td>NaN</td>\n",
       "      <td>rwd</td>\n",
       "      <td>NaN</td>\n",
       "      <td>convertible</td>\n",
       "      <td>blue</td>\n",
       "      <td>https://images.craigslist.org/00S0S_1kTatLGLxB...</td>\n",
       "      <td>BMW 3 Series 335i Convertible Navigation Dakot...</td>\n",
       "      <td>NaN</td>\n",
       "      <td>nc</td>\n",
       "      <td>NaN</td>\n",
       "      <td>NaN</td>\n",
       "    </tr>\n",
       "    <tr>\n",
       "      <th>2</th>\n",
       "      <td>7088744126</td>\n",
       "      <td>https://greensboro.craigslist.org/cto/d/greens...</td>\n",
       "      <td>greensboro</td>\n",
       "      <td>https://greensboro.craigslist.org</td>\n",
       "      <td>9500</td>\n",
       "      <td>2011.0</td>\n",
       "      <td>jaguar</td>\n",
       "      <td>xf</td>\n",
       "      <td>excellent</td>\n",
       "      <td>NaN</td>\n",
       "      <td>gas</td>\n",
       "      <td>85000.0</td>\n",
       "      <td>clean</td>\n",
       "      <td>automatic</td>\n",
       "      <td>NaN</td>\n",
       "      <td>NaN</td>\n",
       "      <td>NaN</td>\n",
       "      <td>NaN</td>\n",
       "      <td>blue</td>\n",
       "      <td>https://images.craigslist.org/00505_f22HGItCRp...</td>\n",
       "      <td>2011 jaguar XF premium - estate sale. Retired ...</td>\n",
       "      <td>NaN</td>\n",
       "      <td>nc</td>\n",
       "      <td>36.1032</td>\n",
       "      <td>-79.8794</td>\n",
       "    </tr>\n",
       "    <tr>\n",
       "      <th>3</th>\n",
       "      <td>7088743681</td>\n",
       "      <td>https://greensboro.craigslist.org/ctd/d/cary-2...</td>\n",
       "      <td>greensboro</td>\n",
       "      <td>https://greensboro.craigslist.org</td>\n",
       "      <td>3995</td>\n",
       "      <td>2004.0</td>\n",
       "      <td>honda</td>\n",
       "      <td>element</td>\n",
       "      <td>NaN</td>\n",
       "      <td>NaN</td>\n",
       "      <td>gas</td>\n",
       "      <td>212526.0</td>\n",
       "      <td>clean</td>\n",
       "      <td>automatic</td>\n",
       "      <td>5J6YH18314L006498</td>\n",
       "      <td>fwd</td>\n",
       "      <td>NaN</td>\n",
       "      <td>SUV</td>\n",
       "      <td>orange</td>\n",
       "      <td>https://images.craigslist.org/00E0E_eAUnhFF86M...</td>\n",
       "      <td>2004 Honda Element LX 4dr SUV     Offered by: ...</td>\n",
       "      <td>NaN</td>\n",
       "      <td>nc</td>\n",
       "      <td>35.7636</td>\n",
       "      <td>-78.7443</td>\n",
       "    </tr>\n",
       "    <tr>\n",
       "      <th>4</th>\n",
       "      <td>7074612539</td>\n",
       "      <td>https://lincoln.craigslist.org/ctd/d/gretna-20...</td>\n",
       "      <td>lincoln</td>\n",
       "      <td>https://lincoln.craigslist.org</td>\n",
       "      <td>41988</td>\n",
       "      <td>2016.0</td>\n",
       "      <td>chevrolet</td>\n",
       "      <td>silverado k2500hd</td>\n",
       "      <td>NaN</td>\n",
       "      <td>NaN</td>\n",
       "      <td>gas</td>\n",
       "      <td>NaN</td>\n",
       "      <td>clean</td>\n",
       "      <td>automatic</td>\n",
       "      <td>1GC1KWE85GF266427</td>\n",
       "      <td>NaN</td>\n",
       "      <td>NaN</td>\n",
       "      <td>NaN</td>\n",
       "      <td>NaN</td>\n",
       "      <td>https://images.craigslist.org/00S0S_8msT7RQquO...</td>\n",
       "      <td>Shop Indoors, Heated Showroom!!!www.gretnaauto...</td>\n",
       "      <td>NaN</td>\n",
       "      <td>ne</td>\n",
       "      <td>41.1345</td>\n",
       "      <td>-96.2458</td>\n",
       "    </tr>\n",
       "  </tbody>\n",
       "</table>\n",
       "</div>"
      ],
      "text/plain": [
       "           id                                                url      region  \\\n",
       "0  7088746062  https://greensboro.craigslist.org/ctd/d/cary-2...  greensboro   \n",
       "1  7088745301  https://greensboro.craigslist.org/ctd/d/bmw-3-...  greensboro   \n",
       "2  7088744126  https://greensboro.craigslist.org/cto/d/greens...  greensboro   \n",
       "3  7088743681  https://greensboro.craigslist.org/ctd/d/cary-2...  greensboro   \n",
       "4  7074612539  https://lincoln.craigslist.org/ctd/d/gretna-20...     lincoln   \n",
       "\n",
       "                          region_url  price    year manufacturer  \\\n",
       "0  https://greensboro.craigslist.org  10299  2012.0        acura   \n",
       "1  https://greensboro.craigslist.org      0  2011.0          bmw   \n",
       "2  https://greensboro.craigslist.org   9500  2011.0       jaguar   \n",
       "3  https://greensboro.craigslist.org   3995  2004.0        honda   \n",
       "4     https://lincoln.craigslist.org  41988  2016.0    chevrolet   \n",
       "\n",
       "               model  condition    cylinders fuel  odometer title_status  \\\n",
       "0                 tl        NaN          NaN  gas   90186.0        clean   \n",
       "1                335        NaN  6 cylinders  gas  115120.0        clean   \n",
       "2                 xf  excellent          NaN  gas   85000.0        clean   \n",
       "3            element        NaN          NaN  gas  212526.0        clean   \n",
       "4  silverado k2500hd        NaN          NaN  gas       NaN        clean   \n",
       "\n",
       "  transmission                vin drive size         type paint_color  \\\n",
       "0    automatic  19UUA8F22CA003926   NaN  NaN        other        blue   \n",
       "1    automatic                NaN   rwd  NaN  convertible        blue   \n",
       "2    automatic                NaN   NaN  NaN          NaN        blue   \n",
       "3    automatic  5J6YH18314L006498   fwd  NaN          SUV      orange   \n",
       "4    automatic  1GC1KWE85GF266427   NaN  NaN          NaN         NaN   \n",
       "\n",
       "                                           image_url  \\\n",
       "0  https://images.craigslist.org/01414_3LIXs9EO33...   \n",
       "1  https://images.craigslist.org/00S0S_1kTatLGLxB...   \n",
       "2  https://images.craigslist.org/00505_f22HGItCRp...   \n",
       "3  https://images.craigslist.org/00E0E_eAUnhFF86M...   \n",
       "4  https://images.craigslist.org/00S0S_8msT7RQquO...   \n",
       "\n",
       "                                         description  county state      lat  \\\n",
       "0  2012 Acura TL Base 4dr Sedan     Offered by: B...     NaN    nc  35.7636   \n",
       "1  BMW 3 Series 335i Convertible Navigation Dakot...     NaN    nc      NaN   \n",
       "2  2011 jaguar XF premium - estate sale. Retired ...     NaN    nc  36.1032   \n",
       "3  2004 Honda Element LX 4dr SUV     Offered by: ...     NaN    nc  35.7636   \n",
       "4  Shop Indoors, Heated Showroom!!!www.gretnaauto...     NaN    ne  41.1345   \n",
       "\n",
       "      long  \n",
       "0 -78.7443  \n",
       "1      NaN  \n",
       "2 -79.8794  \n",
       "3 -78.7443  \n",
       "4 -96.2458  "
      ]
     },
     "execution_count": 3,
     "metadata": {},
     "output_type": "execute_result"
    }
   ],
   "source": [
    "df = pd.read_csv('Data/vehicles.csv')\n",
    "df.head()"
   ]
  },
  {
   "cell_type": "markdown",
   "metadata": {},
   "source": [
    "It seems the data has some NULL values for some columns, let's view the info for our dataframe"
   ]
  },
  {
   "cell_type": "code",
   "execution_count": 4,
   "metadata": {
    "scrolled": false
   },
   "outputs": [
    {
     "name": "stdout",
     "output_type": "stream",
     "text": [
      "<class 'pandas.core.frame.DataFrame'>\n",
      "RangeIndex: 539759 entries, 0 to 539758\n",
      "Data columns (total 25 columns):\n",
      " #   Column        Non-Null Count   Dtype  \n",
      "---  ------        --------------   -----  \n",
      " 0   id            539759 non-null  int64  \n",
      " 1   url           539759 non-null  object \n",
      " 2   region        539759 non-null  object \n",
      " 3   region_url    539759 non-null  object \n",
      " 4   price         539759 non-null  int64  \n",
      " 5   year          538772 non-null  float64\n",
      " 6   manufacturer  516175 non-null  object \n",
      " 7   model         531746 non-null  object \n",
      " 8   condition     303707 non-null  object \n",
      " 9   cylinders     321264 non-null  object \n",
      " 10  fuel          536366 non-null  object \n",
      " 11  odometer      440783 non-null  float64\n",
      " 12  title_status  536819 non-null  object \n",
      " 13  transmission  535786 non-null  object \n",
      " 14  vin           315349 non-null  object \n",
      " 15  drive         383987 non-null  object \n",
      " 16  size          168550 non-null  object \n",
      " 17  type          392290 non-null  object \n",
      " 18  paint_color   365520 non-null  object \n",
      " 19  image_url     539740 non-null  object \n",
      " 20  description   539738 non-null  object \n",
      " 21  county        0 non-null       float64\n",
      " 22  state         539759 non-null  object \n",
      " 23  lat           530785 non-null  float64\n",
      " 24  long          530785 non-null  float64\n",
      "dtypes: float64(5), int64(2), object(18)\n",
      "memory usage: 103.0+ MB\n"
     ]
    }
   ],
   "source": [
    "df.info()"
   ]
  },
  {
   "cell_type": "markdown",
   "metadata": {},
   "source": [
    "#### We would start by dropping some of the columns. For example, columns that contain too many NULL values to be useful or columns that are hard to make use of for this analysis"
   ]
  },
  {
   "cell_type": "code",
   "execution_count": 5,
   "metadata": {},
   "outputs": [],
   "source": [
    "#columns contain too many NULL values\n",
    "df.drop(['condition','cylinders', 'vin', 'drive', 'size', 'type', 'paint_color', 'county'], axis = 1, inplace = True)\n",
    "#columns that are hard to make use of\n",
    "df.drop(['id', 'url', 'region', 'region_url', 'image_url', 'description', 'lat', 'long'], axis = 1, inplace = True)"
   ]
  },
  {
   "cell_type": "code",
   "execution_count": 6,
   "metadata": {},
   "outputs": [
    {
     "name": "stdout",
     "output_type": "stream",
     "text": [
      "<class 'pandas.core.frame.DataFrame'>\n",
      "RangeIndex: 539759 entries, 0 to 539758\n",
      "Data columns (total 9 columns):\n",
      " #   Column        Non-Null Count   Dtype  \n",
      "---  ------        --------------   -----  \n",
      " 0   price         539759 non-null  int64  \n",
      " 1   year          538772 non-null  float64\n",
      " 2   manufacturer  516175 non-null  object \n",
      " 3   model         531746 non-null  object \n",
      " 4   fuel          536366 non-null  object \n",
      " 5   odometer      440783 non-null  float64\n",
      " 6   title_status  536819 non-null  object \n",
      " 7   transmission  535786 non-null  object \n",
      " 8   state         539759 non-null  object \n",
      "dtypes: float64(2), int64(1), object(6)\n",
      "memory usage: 37.1+ MB\n"
     ]
    }
   ],
   "source": [
    "df.info()"
   ]
  },
  {
   "cell_type": "markdown",
   "metadata": {},
   "source": [
    "#### We still have some NULL values in some of the columns left - note that column \"odometer\" still contains many NULL values, because I think it is an important factor in predicting used car prices, and because we have enough number of examples to work with, we would drop the rows where \"odometer\" is NULL."
   ]
  },
  {
   "cell_type": "code",
   "execution_count": 7,
   "metadata": {
    "scrolled": true
   },
   "outputs": [],
   "source": [
    "df.drop(df.index[df['odometer'].isna()], inplace = True)\n",
    "df.reset_index(drop = True, inplace = True)"
   ]
  },
  {
   "cell_type": "code",
   "execution_count": 8,
   "metadata": {},
   "outputs": [
    {
     "name": "stdout",
     "output_type": "stream",
     "text": [
      "<class 'pandas.core.frame.DataFrame'>\n",
      "RangeIndex: 440783 entries, 0 to 440782\n",
      "Data columns (total 9 columns):\n",
      " #   Column        Non-Null Count   Dtype  \n",
      "---  ------        --------------   -----  \n",
      " 0   price         440783 non-null  int64  \n",
      " 1   year          439815 non-null  float64\n",
      " 2   manufacturer  425660 non-null  object \n",
      " 3   model         436331 non-null  object \n",
      " 4   fuel          437477 non-null  object \n",
      " 5   odometer      440783 non-null  float64\n",
      " 6   title_status  437924 non-null  object \n",
      " 7   transmission  437038 non-null  object \n",
      " 8   state         440783 non-null  object \n",
      "dtypes: float64(2), int64(1), object(6)\n",
      "memory usage: 30.3+ MB\n"
     ]
    }
   ],
   "source": [
    "df.info()"
   ]
  },
  {
   "cell_type": "markdown",
   "metadata": {},
   "source": [
    "#### Now we still have some missing values but they are a small percentage of the overall number of records. We can impute the missing values from existing data."
   ]
  },
  {
   "cell_type": "code",
   "execution_count": 9,
   "metadata": {},
   "outputs": [],
   "source": [
    "#For categorical variables, we would impute missing values based on existing class distribution by random sampling with replacement\n",
    "def CategoricalImputer(df, column_names):\n",
    "    for column in column_names:\n",
    "        replacements = np.random.choice(a = df.loc[df[column].notna(), column], size = df[column].isna().sum(), replace = True)\n",
    "        replacements = pd.Series(replacements, index = df.index[df[column].isna()])\n",
    "        df[column].fillna(replacements, inplace = True)"
   ]
  },
  {
   "cell_type": "code",
   "execution_count": 10,
   "metadata": {
    "scrolled": false
   },
   "outputs": [],
   "source": [
    "CategoricalImputer(df, ['year', 'manufacturer', 'model', 'fuel', 'title_status', 'transmission'])"
   ]
  },
  {
   "cell_type": "code",
   "execution_count": 11,
   "metadata": {},
   "outputs": [
    {
     "name": "stdout",
     "output_type": "stream",
     "text": [
      "<class 'pandas.core.frame.DataFrame'>\n",
      "RangeIndex: 440783 entries, 0 to 440782\n",
      "Data columns (total 9 columns):\n",
      " #   Column        Non-Null Count   Dtype  \n",
      "---  ------        --------------   -----  \n",
      " 0   price         440783 non-null  int64  \n",
      " 1   year          440783 non-null  float64\n",
      " 2   manufacturer  440783 non-null  object \n",
      " 3   model         440783 non-null  object \n",
      " 4   fuel          440783 non-null  object \n",
      " 5   odometer      440783 non-null  float64\n",
      " 6   title_status  440783 non-null  object \n",
      " 7   transmission  440783 non-null  object \n",
      " 8   state         440783 non-null  object \n",
      "dtypes: float64(2), int64(1), object(6)\n",
      "memory usage: 30.3+ MB\n"
     ]
    }
   ],
   "source": [
    "df.info()"
   ]
  },
  {
   "cell_type": "markdown",
   "metadata": {},
   "source": [
    "#### Great, we do not have NULL values anymore, now we would like to perform some data validity checking"
   ]
  },
  {
   "cell_type": "markdown",
   "metadata": {},
   "source": [
    "**Price:**"
   ]
  },
  {
   "cell_type": "code",
   "execution_count": 12,
   "metadata": {
    "scrolled": true
   },
   "outputs": [
    {
     "name": "stdout",
     "output_type": "stream",
     "text": [
      "The max price of all used cars is 4198286601, the min price of all used cars is 0.\n"
     ]
    }
   ],
   "source": [
    "print(f\"The max price of all used cars is {df['price'].max()}, the min price of all used cars is {df['price'].min()}.\")"
   ]
  },
  {
   "cell_type": "markdown",
   "metadata": {},
   "source": [
    "The above does not make lots of sense, let's only keep the used cars with prices between 1000 and 200000"
   ]
  },
  {
   "cell_type": "code",
   "execution_count": 13,
   "metadata": {},
   "outputs": [],
   "source": [
    "drop_idx = df.index[(df['price'] < 1000) | (df['price'] > 200000)]\n",
    "df.drop(drop_idx, inplace = True)\n",
    "df.reset_index(drop = True, inplace = True)"
   ]
  },
  {
   "cell_type": "code",
   "execution_count": 14,
   "metadata": {},
   "outputs": [
    {
     "name": "stdout",
     "output_type": "stream",
     "text": [
      "The max price of all used cars is now 200000, the min price of all used cars is now 1000.\n"
     ]
    }
   ],
   "source": [
    "print(f\"The max price of all used cars is now {df['price'].max()}, the min price of all used cars is now {df['price'].min()}.\")"
   ]
  },
  {
   "cell_type": "markdown",
   "metadata": {},
   "source": [
    "**Year:**"
   ]
  },
  {
   "cell_type": "code",
   "execution_count": 15,
   "metadata": {},
   "outputs": [
    {
     "data": {
      "text/plain": [
       "2017.0    32499\n",
       "2016.0    30981\n",
       "2015.0    30279\n",
       "2013.0    29284\n",
       "2014.0    28794\n",
       "          ...  \n",
       "1928.0        2\n",
       "1942.0        2\n",
       "1922.0        1\n",
       "1914.0        1\n",
       "0.0           1\n",
       "Name: year, Length: 101, dtype: int64"
      ]
     },
     "execution_count": 15,
     "metadata": {},
     "output_type": "execute_result"
    }
   ],
   "source": [
    "df['year'].value_counts()"
   ]
  },
  {
   "cell_type": "code",
   "execution_count": 16,
   "metadata": {},
   "outputs": [
    {
     "data": {
      "text/plain": [
       "2021.0"
      ]
     },
     "execution_count": 16,
     "metadata": {},
     "output_type": "execute_result"
    }
   ],
   "source": [
    "df['year'].max() #doesn't make sense becaue the data is from Jan 2020"
   ]
  },
  {
   "cell_type": "markdown",
   "metadata": {},
   "source": [
    "Let's only work with used cars with year between 2000 and 2019. \n",
    "Some of the used cars are really old such as the one from 1914. Although this is possible, those cars have few instances to be trained upon thus prediction accuracy is questionable.\n",
    "The dataset is from Jan 2020 so we would only include models up until year 2019 (year 2020 model should be out already but again, there are few instances or even bad data as there are some used cars have model year 2021)"
   ]
  },
  {
   "cell_type": "code",
   "execution_count": 17,
   "metadata": {},
   "outputs": [],
   "source": [
    "drop_idx = df.index[(df['year'] < 2000) | (df['year'] > 2019)]\n",
    "df.drop(drop_idx, inplace = True)\n",
    "df.reset_index(drop = True, inplace = True)"
   ]
  },
  {
   "cell_type": "markdown",
   "metadata": {},
   "source": [
    "**Manufacturer:**"
   ]
  },
  {
   "cell_type": "code",
   "execution_count": 18,
   "metadata": {},
   "outputs": [
    {
     "data": {
      "text/plain": [
       "ford               70487\n",
       "chevrolet          55134\n",
       "toyota             30385\n",
       "nissan             21634\n",
       "ram                19658\n",
       "honda              19613\n",
       "jeep               18593\n",
       "gmc                17465\n",
       "dodge              12961\n",
       "bmw                11489\n",
       "hyundai             9764\n",
       "subaru              9553\n",
       "mercedes-benz       8779\n",
       "volkswagen          8445\n",
       "kia                 7493\n",
       "chrysler            6291\n",
       "cadillac            5843\n",
       "buick               5491\n",
       "lexus               5057\n",
       "audi                4930\n",
       "mazda               4798\n",
       "infiniti            3291\n",
       "acura               3120\n",
       "lincoln             2479\n",
       "volvo               2473\n",
       "pontiac             2217\n",
       "mini                2055\n",
       "mitsubishi          1941\n",
       "rover               1601\n",
       "saturn              1188\n",
       "mercury             1180\n",
       "jaguar               798\n",
       "fiat                 786\n",
       "tesla                198\n",
       "harley-davidson      163\n",
       "alfa-romeo            43\n",
       "ferrari               34\n",
       "aston-martin          25\n",
       "land rover            15\n",
       "porche                 7\n",
       "hennessey              1\n",
       "Name: manufacturer, dtype: int64"
      ]
     },
     "execution_count": 18,
     "metadata": {},
     "output_type": "execute_result"
    }
   ],
   "source": [
    "df['manufacturer'].value_counts()"
   ]
  },
  {
   "cell_type": "code",
   "execution_count": 19,
   "metadata": {},
   "outputs": [],
   "source": [
    "#Manufacturer data looks good but again to ensure there is enough data for training,\n",
    "#we would like to drop instances where count < 1000,\n",
    "#knowing that we would not be able to predict instances with those manufacturers\n",
    "counts = df['manufacturer'].value_counts()\n",
    "values_to_drop = counts.index[counts < 1000]\n",
    "drop_idx = df.index[df['manufacturer'].isin(values_to_drop)]\n",
    "df.drop(drop_idx, inplace = True)\n",
    "df.reset_index(drop = True, inplace = True)"
   ]
  },
  {
   "cell_type": "markdown",
   "metadata": {},
   "source": [
    "**Model column turns out to be a special one...**"
   ]
  },
  {
   "cell_type": "code",
   "execution_count": 20,
   "metadata": {},
   "outputs": [
    {
     "data": {
      "text/plain": [
       "f-150                          8132\n",
       "silverado 1500                 5261\n",
       "1500                           4678\n",
       "silverado                      3522\n",
       "wrangler                       2787\n",
       "                               ... \n",
       "yukon xl denali 1500 4x4 mo       1\n",
       "silverado 3500 high co            1\n",
       "f 150 xlt 4x4 super cab           1\n",
       "1500 long horn 4x4 gas            1\n",
       "Chrysler/ Sebring                 1\n",
       "Name: model, Length: 25498, dtype: int64"
      ]
     },
     "execution_count": 20,
     "metadata": {},
     "output_type": "execute_result"
    }
   ],
   "source": [
    "df['model'].value_counts()"
   ]
  },
  {
   "cell_type": "markdown",
   "metadata": {},
   "source": [
    "#### Noticed the issue here? Because \"Model\" field might be a free text field, seller can put different variations of the same car model. For example, \"silverado 1500\", \"1500\" and \"silverado\" might represent the same car model. If we use the values as they are now, they would be treated as different car models, which could impact our model (not car model :)) performance. To mitigate this issue, we would take the following steps:\n",
    "1. Transform all \"Model\" data into lower case for better matching.\n",
    "2. Strip out the words of individual car model for each record\n",
    "3. Find out the top most-frequent 150 words based on weighted frequency. (weights are assigned based on word sequence in a record (ex. \"silverado 1500\" - \"silverado\" would have more weights than \"1500\" because the further the word is to the front, the more likely the word represents the actual car model))(Here we are assuming a car model is only one word instead of a combination of words)\n",
    "4. Go through the 150 words, clean them up and end up with the most common derived car models.\n",
    "5. Map records to the most common derived \"car models\" and mark \"Others\" if cannot be mapped."
   ]
  },
  {
   "cell_type": "code",
   "execution_count": 21,
   "metadata": {},
   "outputs": [],
   "source": [
    "#Transform car models to lower case\n",
    "df['model'] = df['model'].str.lower()"
   ]
  },
  {
   "cell_type": "code",
   "execution_count": 22,
   "metadata": {},
   "outputs": [],
   "source": [
    "weighted_words = []\n",
    "for item in df['model']:\n",
    "    #split into words\n",
    "    words = item.split()\n",
    "    #create weighted words list\n",
    "    for word, weight in zip(words, (np.arange(len(words)) + 1)[::-1]):\n",
    "        weighted_words += [word] * weight"
   ]
  },
  {
   "cell_type": "code",
   "execution_count": 23,
   "metadata": {},
   "outputs": [],
   "source": [
    "#Find most frequent \"car models\"\n",
    "top_models = pd.Series(weighted_words).value_counts().head(150)"
   ]
  },
  {
   "cell_type": "code",
   "execution_count": 24,
   "metadata": {},
   "outputs": [
    {
     "data": {
      "text/plain": [
       "1500           45138\n",
       "silverado      43546\n",
       "sport          28960\n",
       "cab            27778\n",
       "sierra         23751\n",
       "super          22727\n",
       "f150           22274\n",
       "crew           21938\n",
       "grand          21091\n",
       "4x4            19352\n",
       "2500           16691\n",
       "f-150          15386\n",
       "se             14416\n",
       "lt             14405\n",
       "duty           13798\n",
       "sedan          13618\n",
       "wrangler       13173\n",
       "4d             10931\n",
       "tacoma         10724\n",
       "xlt            10301\n",
       "f-250          10241\n",
       "escape         10161\n",
       "cherokee        9843\n",
       "awd             9738\n",
       "coupe           9671\n",
       "s               9528\n",
       "civic           9430\n",
       "f250            9317\n",
       "tundra          9172\n",
       "limited         9116\n",
       "f-350           9062\n",
       "utility         8926\n",
       "accord          8804\n",
       "mustang         8764\n",
       "3500            8391\n",
       "supercrew       7978\n",
       "slt             7842\n",
       "equinox         7826\n",
       "rogue           7487\n",
       "altima          7458\n",
       "camry           7425\n",
       "lx              7084\n",
       "focus           7035\n",
       "4dr             6840\n",
       "explorer        6539\n",
       "fusion          6425\n",
       "2500hd          6250\n",
       "camaro          6195\n",
       "town            6161\n",
       "express         6024\n",
       "yukon           6002\n",
       "f350            5994\n",
       "4wd             5914\n",
       "premium         5624\n",
       "sv              5579\n",
       "series          5466\n",
       "corolla         5414\n",
       "frontier        5341\n",
       "ls              5269\n",
       "malibu          5246\n",
       "cruze           5244\n",
       "jetta           5231\n",
       "edge            4981\n",
       "benz            4927\n",
       "outback         4911\n",
       "tahoe           4842\n",
       "double          4842\n",
       "gas             4812\n",
       "xl              4703\n",
       "unlimited       4584\n",
       "ex              4486\n",
       "2d              4414\n",
       "caravan         4385\n",
       "lariat          4368\n",
       "impala          4361\n",
       "elantra         4328\n",
       "pickup          4257\n",
       "sentra          4195\n",
       "cr-v            4157\n",
       "3               4134\n",
       "sonata          4108\n",
       "santa           4060\n",
       "transit         4034\n",
       "cargo           3980\n",
       "rav4            3911\n",
       "gt              3890\n",
       "le              3870\n",
       "forester        3775\n",
       "sel             3770\n",
       "cooper          3670\n",
       "colorado        3622\n",
       "journey         3599\n",
       "hd              3546\n",
       "challenger      3498\n",
       "odyssey         3497\n",
       "sr5             3463\n",
       "suburban        3457\n",
       "porsche         3422\n",
       "4runner         3398\n",
       "terrain         3355\n",
       "prius           3336\n",
       "sorento         3324\n",
       "titan           3319\n",
       "ltz             3196\n",
       "convertible     3160\n",
       "expedition      3160\n",
       "passat          3156\n",
       "impreza         3140\n",
       "350             3108\n",
       "traverse        3098\n",
       "touring         3085\n",
       "encore          3078\n",
       "fwd             3053\n",
       "laramie         3026\n",
       "hatchback       3024\n",
       "ex-l            3008\n",
       "acadia          2999\n",
       "sienna          2996\n",
       "pilot           2944\n",
       "sle             2933\n",
       "lifted          2855\n",
       "sxt             2767\n",
       "versa           2761\n",
       "quad            2735\n",
       "highlander      2699\n",
       "2.5             2673\n",
       "fe              2666\n",
       "scion           2661\n",
       "van             2658\n",
       "diesel          2629\n",
       "optima          2609\n",
       "x5              2600\n",
       "ranger          2599\n",
       "300             2593\n",
       "charger         2589\n",
       "sl              2576\n",
       "taurus          2562\n",
       "escalade        2503\n",
       "tucson          2501\n",
       "compass         2461\n",
       "mx-5            2452\n",
       "rx              2429\n",
       "liberty         2399\n",
       "murano          2390\n",
       "2.0t            2387\n",
       "denali          2385\n",
       "2.5i            2368\n",
       "4               2368\n",
       "patriot         2364\n",
       "sportage        2327\n",
       "dtype: int64"
      ]
     },
     "execution_count": 24,
     "metadata": {},
     "output_type": "execute_result"
    }
   ],
   "source": [
    "#Now we would go through all the \"top models\" and clean the Series up\n",
    "pd.set_option('display.max_rows', None)\n",
    "top_models"
   ]
  },
  {
   "cell_type": "code",
   "execution_count": 25,
   "metadata": {},
   "outputs": [],
   "source": [
    "top_models.drop(['sport', 'cab', 'super', '4x4', 'se', 'lt', 'sedan',  '4d', 'xlt', 'lifted', \n",
    "                 'awd', 's',  'slt', 'lx', '4dr', '4wd', 'duty', 'limited', 'gas', 'unlimited',\n",
    "                'premium', 'sv',  'ls',  'xl',  'ex', 'utility', 'series', 'double', 'cargo', \n",
    "                '2d', 'pickup', '3', 'le', 'sel', 'gt', 'hd', 'ltz', 'fwd', 'ex-l', 'sle', 'hatchback',\n",
    "                 'sxt', '2.5', 'fe', '300', 'quad', 'diesel', 'sl', 'van', 'rx', '4', '2.0t', '2.5i'], inplace = True)"
   ]
  },
  {
   "cell_type": "code",
   "execution_count": 26,
   "metadata": {},
   "outputs": [],
   "source": [
    "pd.reset_option('display.max_rows')"
   ]
  },
  {
   "cell_type": "code",
   "execution_count": 27,
   "metadata": {},
   "outputs": [],
   "source": [
    "top_models = pd.Series(top_models.index)"
   ]
  },
  {
   "cell_type": "code",
   "execution_count": 28,
   "metadata": {
    "scrolled": false
   },
   "outputs": [
    {
     "data": {
      "text/plain": [
       "0          1500\n",
       "1     silverado\n",
       "2        sierra\n",
       "3          f150\n",
       "4          crew\n",
       "        ...    \n",
       "92      liberty\n",
       "93       murano\n",
       "94       denali\n",
       "95      patriot\n",
       "96     sportage\n",
       "Length: 97, dtype: object"
      ]
     },
     "execution_count": 28,
     "metadata": {},
     "output_type": "execute_result"
    }
   ],
   "source": [
    "top_models"
   ]
  },
  {
   "cell_type": "markdown",
   "metadata": {},
   "source": [
    "The list might not be perfect but it is as good as we can get, now finally we would like to map every record to one of the top_models."
   ]
  },
  {
   "cell_type": "code",
   "execution_count": 29,
   "metadata": {
    "scrolled": false
   },
   "outputs": [],
   "source": [
    "#First, we would like to assign \"Others\" to records that do not have words in top_models\n",
    "df.loc[~df['model'].str.contains('|'.join(top_models)), ['model']] = 'Others'"
   ]
  },
  {
   "cell_type": "code",
   "execution_count": 30,
   "metadata": {},
   "outputs": [
    {
     "name": "stderr",
     "output_type": "stream",
     "text": [
      "100%|██████████| 97/97 [00:04<00:00, 20.25it/s]\n"
     ]
    }
   ],
   "source": [
    "#map to top_models\n",
    "from tqdm import tqdm\n",
    "for item in tqdm(top_models):\n",
    "    df['model'] = df['model'].apply(lambda x: item if item in x else x)"
   ]
  },
  {
   "cell_type": "code",
   "execution_count": 31,
   "metadata": {},
   "outputs": [
    {
     "name": "stdout",
     "output_type": "stream",
     "text": [
      "We successfuly mapped 269258 records for car models out of total of 375408 records.\n"
     ]
    }
   ],
   "source": [
    "print(f\"We successfuly mapped {(df['model'] != 'Others').sum()} records for car models out of total of {len(df)} records.\")"
   ]
  },
  {
   "cell_type": "code",
   "execution_count": 32,
   "metadata": {
    "scrolled": true
   },
   "outputs": [
    {
     "name": "stdout",
     "output_type": "stream",
     "text": [
      "<class 'pandas.core.frame.DataFrame'>\n",
      "RangeIndex: 375408 entries, 0 to 375407\n",
      "Data columns (total 9 columns):\n",
      " #   Column        Non-Null Count   Dtype  \n",
      "---  ------        --------------   -----  \n",
      " 0   price         375408 non-null  int64  \n",
      " 1   year          375408 non-null  float64\n",
      " 2   manufacturer  375408 non-null  object \n",
      " 3   model         375408 non-null  object \n",
      " 4   fuel          375408 non-null  object \n",
      " 5   odometer      375408 non-null  float64\n",
      " 6   title_status  375408 non-null  object \n",
      " 7   transmission  375408 non-null  object \n",
      " 8   state         375408 non-null  object \n",
      "dtypes: float64(2), int64(1), object(6)\n",
      "memory usage: 25.8+ MB\n"
     ]
    }
   ],
   "source": [
    "df.info()"
   ]
  },
  {
   "cell_type": "markdown",
   "metadata": {},
   "source": [
    "**Odometer:**"
   ]
  },
  {
   "cell_type": "code",
   "execution_count": 33,
   "metadata": {},
   "outputs": [
    {
     "name": "stdout",
     "output_type": "stream",
     "text": [
      "The odometer ranges from 0.0 to 64809218.0.\n"
     ]
    }
   ],
   "source": [
    "print(f\"The odometer ranges from {df['odometer'].min()} to {df['odometer'].max()}.\")"
   ]
  },
  {
   "cell_type": "markdown",
   "metadata": {},
   "source": [
    "Odometer values between 10 and 250000 miles would be a reasonable range. So we would drop odometer values < 10 and > 250000"
   ]
  },
  {
   "cell_type": "code",
   "execution_count": 34,
   "metadata": {},
   "outputs": [],
   "source": [
    "df.drop(df.index[(df['odometer'] < 10) | (df['odometer'] > 250000)], inplace = True)\n",
    "df.reset_index(drop = True, inplace = True)"
   ]
  },
  {
   "cell_type": "code",
   "execution_count": 35,
   "metadata": {},
   "outputs": [
    {
     "name": "stdout",
     "output_type": "stream",
     "text": [
      "The odometer now ranges from 10.0 to 250000.0.\n"
     ]
    }
   ],
   "source": [
    "print(f\"The odometer now ranges from {df['odometer'].min()} to {df['odometer'].max()}.\")"
   ]
  },
  {
   "cell_type": "markdown",
   "metadata": {},
   "source": [
    "**Title_status:**"
   ]
  },
  {
   "cell_type": "code",
   "execution_count": 36,
   "metadata": {
    "scrolled": true
   },
   "outputs": [
    {
     "data": {
      "text/plain": [
       "clean         352850\n",
       "rebuilt         9608\n",
       "salvage         3713\n",
       "lien            2403\n",
       "missing           70\n",
       "parts only        34\n",
       "Name: title_status, dtype: int64"
      ]
     },
     "execution_count": 36,
     "metadata": {},
     "output_type": "execute_result"
    }
   ],
   "source": [
    "df['title_status'].value_counts()"
   ]
  },
  {
   "cell_type": "markdown",
   "metadata": {},
   "source": [
    "We would like to drop \"missing\" and \"parts only\" cause these two title status contain too few entries"
   ]
  },
  {
   "cell_type": "code",
   "execution_count": 37,
   "metadata": {},
   "outputs": [],
   "source": [
    "df.drop(df.index[df['title_status'].isin(['missing', 'parts only'])], inplace = True)\n",
    "df.reset_index(drop = True, inplace = True)"
   ]
  },
  {
   "cell_type": "code",
   "execution_count": 38,
   "metadata": {},
   "outputs": [
    {
     "name": "stdout",
     "output_type": "stream",
     "text": [
      "<class 'pandas.core.frame.DataFrame'>\n",
      "RangeIndex: 368574 entries, 0 to 368573\n",
      "Data columns (total 9 columns):\n",
      " #   Column        Non-Null Count   Dtype  \n",
      "---  ------        --------------   -----  \n",
      " 0   price         368574 non-null  int64  \n",
      " 1   year          368574 non-null  float64\n",
      " 2   manufacturer  368574 non-null  object \n",
      " 3   model         368574 non-null  object \n",
      " 4   fuel          368574 non-null  object \n",
      " 5   odometer      368574 non-null  float64\n",
      " 6   title_status  368574 non-null  object \n",
      " 7   transmission  368574 non-null  object \n",
      " 8   state         368574 non-null  object \n",
      "dtypes: float64(2), int64(1), object(6)\n",
      "memory usage: 25.3+ MB\n"
     ]
    }
   ],
   "source": [
    "df.info()"
   ]
  },
  {
   "cell_type": "markdown",
   "metadata": {},
   "source": [
    "#### Now all the data pre-processing is complete, we would save it as a new csv file for Part II of this analysis to use directly"
   ]
  },
  {
   "cell_type": "code",
   "execution_count": 39,
   "metadata": {},
   "outputs": [],
   "source": [
    "df.to_csv('Data/vehicles_pre-processed.csv', index = False)"
   ]
  },
  {
   "cell_type": "code",
   "execution_count": null,
   "metadata": {},
   "outputs": [],
   "source": []
  }
 ],
 "metadata": {
  "file_extension": ".py",
  "kernelspec": {
   "display_name": "Python 3",
   "language": "python",
   "name": "python3"
  },
  "language_info": {
   "codemirror_mode": {
    "name": "ipython",
    "version": 3
   },
   "file_extension": ".py",
   "mimetype": "text/x-python",
   "name": "python",
   "nbconvert_exporter": "python",
   "pygments_lexer": "ipython3",
   "version": "3.7.6"
  },
  "mimetype": "text/x-python",
  "name": "python",
  "npconvert_exporter": "python",
  "pygments_lexer": "ipython3",
  "version": 3
 },
 "nbformat": 4,
 "nbformat_minor": 2
}
