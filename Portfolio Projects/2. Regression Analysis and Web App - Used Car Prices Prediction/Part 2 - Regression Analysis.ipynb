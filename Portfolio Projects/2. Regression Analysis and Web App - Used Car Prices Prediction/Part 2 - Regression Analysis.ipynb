{
 "cells": [
  {
   "cell_type": "markdown",
   "metadata": {},
   "source": [
    "### In this project, we would explore regression analysis and make predictions on used car prices. After that, we would build a web app for user interactions and live predictions.\n",
    "---\n",
    "1. *In Part I of the project we pre-processed the data*\n",
    "2. #### This is PART II of the project where we focus on using regression method for used car prices prediction"
   ]
  },
  {
   "cell_type": "markdown",
   "metadata": {},
   "source": [
    "#### Highlights of this part:\n",
    "1.  Regression method - RandomForestRegressor\n",
    "2.  Building pipelines\n",
    "3.  Regression performance evaluation and improvements"
   ]
  },
  {
   "cell_type": "markdown",
   "metadata": {},
   "source": [
    "**Citations:**\n",
    "\n",
    "This dataset is from Kaggle - Used Cars Dataset\n",
    "\n",
    "URL: https://www.kaggle.com/austinreese/craigslist-carstrucks-data\n",
    "\n",
    "---\n",
    "\n",
    "The following description is from Kaggle:\n",
    "\n",
    "**Context**\n",
    "\n",
    "Craigslist is the world's largest collection of used vehicles for sale, yet it's very difficult to collect all of them in the same place. I built a scraper for a school project and expanded upon it later to create this dataset which includes every used vehicle entry within the United States on Craigslist.\n",
    "\n",
    "**Content**\n",
    "\n",
    "This data is scraped every few months, it contains most all relevant information that Craigslist provides on car sales including columns like price, condition, manufacturer, latitude/longitude, and 18 other categories. For ML projects, consider feature engineering on location columns such as long/lat. For previous listings, check older versions of the dataset.\n",
    "\n",
    "See https://github.com/AustinReese1998/craigslistFilter"
   ]
  },
  {
   "cell_type": "code",
   "execution_count": 1,
   "metadata": {},
   "outputs": [],
   "source": [
    "import numpy as np\n",
    "import pandas as pd\n",
    "import matplotlib.pyplot as plt\n",
    "import seaborn as sns"
   ]
  },
  {
   "cell_type": "code",
   "execution_count": 2,
   "metadata": {},
   "outputs": [],
   "source": [
    "#Load dataset generated from Part I\n",
    "df = pd.read_csv('Data/vehicles_pre-processed.csv')"
   ]
  },
  {
   "cell_type": "markdown",
   "metadata": {},
   "source": [
    "#### Here we would draw a sample of 100000 from the dataframe to decrease the processing time. After model performance evaluations and improvements, we can retrain the model on the entire dataset."
   ]
  },
  {
   "cell_type": "code",
   "execution_count": 3,
   "metadata": {},
   "outputs": [],
   "source": [
    "df_original = df.copy()\n",
    "df = df.sample(100000)\n",
    "df.reset_index(drop = True, inplace = True)"
   ]
  },
  {
   "cell_type": "code",
   "execution_count": 4,
   "metadata": {
    "scrolled": true
   },
   "outputs": [
    {
     "data": {
      "text/html": [
       "<div>\n",
       "<style scoped>\n",
       "    .dataframe tbody tr th:only-of-type {\n",
       "        vertical-align: middle;\n",
       "    }\n",
       "\n",
       "    .dataframe tbody tr th {\n",
       "        vertical-align: top;\n",
       "    }\n",
       "\n",
       "    .dataframe thead th {\n",
       "        text-align: right;\n",
       "    }\n",
       "</style>\n",
       "<table border=\"1\" class=\"dataframe\">\n",
       "  <thead>\n",
       "    <tr style=\"text-align: right;\">\n",
       "      <th></th>\n",
       "      <th>price</th>\n",
       "      <th>year</th>\n",
       "      <th>manufacturer</th>\n",
       "      <th>model</th>\n",
       "      <th>fuel</th>\n",
       "      <th>odometer</th>\n",
       "      <th>title_status</th>\n",
       "      <th>transmission</th>\n",
       "      <th>state</th>\n",
       "    </tr>\n",
       "  </thead>\n",
       "  <tbody>\n",
       "    <tr>\n",
       "      <th>0</th>\n",
       "      <td>5995</td>\n",
       "      <td>2011.0</td>\n",
       "      <td>chevrolet</td>\n",
       "      <td>traverse</td>\n",
       "      <td>gas</td>\n",
       "      <td>149453.0</td>\n",
       "      <td>clean</td>\n",
       "      <td>automatic</td>\n",
       "      <td>la</td>\n",
       "    </tr>\n",
       "    <tr>\n",
       "      <th>1</th>\n",
       "      <td>15000</td>\n",
       "      <td>2015.0</td>\n",
       "      <td>mazda</td>\n",
       "      <td>Others</td>\n",
       "      <td>gas</td>\n",
       "      <td>44000.0</td>\n",
       "      <td>clean</td>\n",
       "      <td>automatic</td>\n",
       "      <td>hi</td>\n",
       "    </tr>\n",
       "    <tr>\n",
       "      <th>2</th>\n",
       "      <td>7500</td>\n",
       "      <td>2012.0</td>\n",
       "      <td>honda</td>\n",
       "      <td>civic</td>\n",
       "      <td>diesel</td>\n",
       "      <td>166000.0</td>\n",
       "      <td>clean</td>\n",
       "      <td>automatic</td>\n",
       "      <td>ar</td>\n",
       "    </tr>\n",
       "    <tr>\n",
       "      <th>3</th>\n",
       "      <td>13500</td>\n",
       "      <td>2004.0</td>\n",
       "      <td>ford</td>\n",
       "      <td>f-250</td>\n",
       "      <td>gas</td>\n",
       "      <td>81717.0</td>\n",
       "      <td>clean</td>\n",
       "      <td>automatic</td>\n",
       "      <td>nj</td>\n",
       "    </tr>\n",
       "    <tr>\n",
       "      <th>4</th>\n",
       "      <td>16990</td>\n",
       "      <td>2015.0</td>\n",
       "      <td>ford</td>\n",
       "      <td>f-250</td>\n",
       "      <td>other</td>\n",
       "      <td>202615.0</td>\n",
       "      <td>clean</td>\n",
       "      <td>automatic</td>\n",
       "      <td>fl</td>\n",
       "    </tr>\n",
       "  </tbody>\n",
       "</table>\n",
       "</div>"
      ],
      "text/plain": [
       "   price    year manufacturer     model    fuel  odometer title_status  \\\n",
       "0   5995  2011.0    chevrolet  traverse     gas  149453.0        clean   \n",
       "1  15000  2015.0        mazda    Others     gas   44000.0        clean   \n",
       "2   7500  2012.0        honda     civic  diesel  166000.0        clean   \n",
       "3  13500  2004.0         ford     f-250     gas   81717.0        clean   \n",
       "4  16990  2015.0         ford     f-250   other  202615.0        clean   \n",
       "\n",
       "  transmission state  \n",
       "0    automatic    la  \n",
       "1    automatic    hi  \n",
       "2    automatic    ar  \n",
       "3    automatic    nj  \n",
       "4    automatic    fl  "
      ]
     },
     "execution_count": 4,
     "metadata": {},
     "output_type": "execute_result"
    }
   ],
   "source": [
    "df.head()"
   ]
  },
  {
   "cell_type": "markdown",
   "metadata": {},
   "source": [
    "We could do some visualizations on the data, for example the following. I would create another demonstration solely on data visualizations. For now, let's focus on the objective of predicting used car prices."
   ]
  },
  {
   "cell_type": "code",
   "execution_count": 5,
   "metadata": {},
   "outputs": [
    {
     "data": {
      "image/png": "[encoded data removed]",
      "text/plain": [
       "<Figure size 576x432 with 1 Axes>"
      ]
     },
     "metadata": {
      "needs_background": "light"
     },
     "output_type": "display_data"
    }
   ],
   "source": [
    "mc = df['manufacturer'].value_counts().head()\n",
    "plt.figure(figsize = (8, 6))\n",
    "sns.barplot(x = mc.index, y = mc.values)\n",
    "plt.title('Top 5 Manufacturers by Count from Listing')\n",
    "plt.xlabel('Manufacturers')\n",
    "plt.ylabel('Number of Instances')\n",
    "plt.show()"
   ]
  },
  {
   "cell_type": "markdown",
   "metadata": {},
   "source": [
    "#### Before we fit the data using regression models, we would like to standardize the numerical features and one-hot encode the categorical features. For detailed explanations on the methods, please refer to the Portfolio Project 1: Predictive Analysis Structure - Hotel Booking Classification"
   ]
  },
  {
   "cell_type": "code",
   "execution_count": 6,
   "metadata": {},
   "outputs": [],
   "source": [
    "from sklearn.base import BaseEstimator, TransformerMixin"
   ]
  },
  {
   "cell_type": "code",
   "execution_count": 7,
   "metadata": {},
   "outputs": [],
   "source": [
    "#Build Feature_Selector class\n",
    "class FeatureSelector(BaseEstimator, TransformerMixin):\n",
    "    '''\n",
    "    Select certain features from a Dataframe, return numpy array\n",
    "    '''\n",
    "    def __init__(self, columns):\n",
    "        '''\n",
    "        columns: list of columns\n",
    "        '''\n",
    "        self.columns = columns\n",
    "        \n",
    "    def fit(self, X, y = None):\n",
    "        return self\n",
    "    \n",
    "    def transform(self, X, y = None):\n",
    "        return X.loc[:, self.columns].values.reshape(-1, len(self.columns))"
   ]
  },
  {
   "cell_type": "code",
   "execution_count": 8,
   "metadata": {
    "scrolled": true
   },
   "outputs": [
    {
     "name": "stdout",
     "output_type": "stream",
     "text": [
      "<class 'pandas.core.frame.DataFrame'>\n",
      "RangeIndex: 100000 entries, 0 to 99999\n",
      "Data columns (total 9 columns):\n",
      " #   Column        Non-Null Count   Dtype  \n",
      "---  ------        --------------   -----  \n",
      " 0   price         100000 non-null  int64  \n",
      " 1   year          100000 non-null  float64\n",
      " 2   manufacturer  100000 non-null  object \n",
      " 3   model         100000 non-null  object \n",
      " 4   fuel          100000 non-null  object \n",
      " 5   odometer      100000 non-null  float64\n",
      " 6   title_status  100000 non-null  object \n",
      " 7   transmission  100000 non-null  object \n",
      " 8   state         100000 non-null  object \n",
      "dtypes: float64(2), int64(1), object(6)\n",
      "memory usage: 6.9+ MB\n"
     ]
    }
   ],
   "source": [
    "df.info()"
   ]
  },
  {
   "cell_type": "code",
   "execution_count": 9,
   "metadata": {},
   "outputs": [],
   "source": [
    "#StandardScaler and OneHotEncoder\n",
    "from sklearn.preprocessing import StandardScaler, OneHotEncoder\n",
    "#Build Transformer Pipelines\n",
    "from sklearn.pipeline import make_pipeline, make_union\n",
    "\n",
    "cat_fs = FeatureSelector(['manufacturer', 'model', 'fuel', 'title_status', 'transmission', 'state'])\n",
    "num_fs = FeatureSelector(['year', 'odometer']) # We treat year column as numeric\n",
    "\n",
    "cat_trans = make_pipeline(cat_fs, OneHotEncoder(drop = 'first', sparse = False))\n",
    "num_trans = make_pipeline(num_fs, StandardScaler())\n",
    "\n",
    "union_trans = make_union(cat_trans, num_trans)"
   ]
  },
  {
   "cell_type": "markdown",
   "metadata": {},
   "source": [
    "#### We would start from fitting a Random Forest Regression model. Again, all details on reasons behind each individual steps could be found in Portfolio Project 1: Predictive Analysis Structure - Hotel Booking Classification"
   ]
  },
  {
   "cell_type": "code",
   "execution_count": 10,
   "metadata": {},
   "outputs": [],
   "source": [
    "X = df.drop(['price'], axis = 1)\n",
    "y = df['price'].values"
   ]
  },
  {
   "cell_type": "code",
   "execution_count": 11,
   "metadata": {},
   "outputs": [],
   "source": [
    "from sklearn.model_selection import train_test_split\n",
    "\n",
    "X_train_all, X_test, y_train_all, y_test = train_test_split(X, y, test_size = 0.1)"
   ]
  },
  {
   "cell_type": "code",
   "execution_count": 12,
   "metadata": {},
   "outputs": [],
   "source": [
    "#Further split train_all into training and cross validation sets since we do not want to touch the test set yet\n",
    "X_train, X_cv, y_train, y_cv = train_test_split(X_train_all, y_train_all, test_size = 0.1)"
   ]
  },
  {
   "cell_type": "code",
   "execution_count": 13,
   "metadata": {},
   "outputs": [],
   "source": [
    "from sklearn.ensemble import RandomForestRegressor\n",
    "forest = RandomForestRegressor(n_jobs = -1)\n",
    "forest_pipe = make_pipeline(union_trans, forest)"
   ]
  },
  {
   "cell_type": "code",
   "execution_count": 14,
   "metadata": {},
   "outputs": [],
   "source": [
    "#Now fit the data and make predictions\n",
    "forest_pipe.fit(X_train, y_train)\n",
    "pred_cv = forest_pipe.predict(X_cv)"
   ]
  },
  {
   "cell_type": "markdown",
   "metadata": {},
   "source": [
    "#### *Note that the available selections of car models should be dependent upon the manufacturers. However, here for simplicity, we did not model the relationship directly - ex. merging manufacturers and car models columns to be one column*"
   ]
  },
  {
   "cell_type": "markdown",
   "metadata": {},
   "source": [
    "#### Now we can evaluate the model performance, for performance evaluation for regression, we could use the following methods:\n",
    "1. Residual plot\n",
    "2. Mean squared error (MSE)\n",
    "3. R-squared"
   ]
  },
  {
   "cell_type": "code",
   "execution_count": 15,
   "metadata": {},
   "outputs": [
    {
     "data": {
      "text/plain": [
       "Text(0.5, 1.0, 'Residual Plot')"
      ]
     },
     "execution_count": 15,
     "metadata": {},
     "output_type": "execute_result"
    },
    {
     "data": {
      "image/png": "[encoded data removed]",
      "text/plain": [
       "<Figure size 576x432 with 1 Axes>"
      ]
     },
     "metadata": {
      "needs_background": "light"
     },
     "output_type": "display_data"
    }
   ],
   "source": [
    "#Residual plot\n",
    "plt.figure(figsize = (8, 6))\n",
    "plt.scatter(pred_cv, pred_cv - y_cv, edgecolor = 'white')\n",
    "plt.hlines(y = 0, xmin = -10000, xmax = pred_cv.max() * 1.1, color = 'black', lw = 2)\n",
    "plt.xlim(-10000, pred_cv.max() * 1.1)\n",
    "plt.xlabel('Predicted values')\n",
    "plt.ylabel('Residuals')\n",
    "plt.title('Residual Plot')"
   ]
  },
  {
   "cell_type": "markdown",
   "metadata": {},
   "source": [
    "#### As we can see, although our model is ok in general, there are still rooms for improvement - first, the resuduals are not entirely randomly distributed, which means there are patterns not caught by our model. Second, there are some significant outliers which might have impacted the model performance. But before we move on to how we can improve this model, let's quickly check the other performance evaluation metrics."
   ]
  },
  {
   "cell_type": "code",
   "execution_count": 16,
   "metadata": {},
   "outputs": [
    {
     "name": "stdout",
     "output_type": "stream",
     "text": [
      "The MSE is 23791558.31.\n"
     ]
    }
   ],
   "source": [
    "#MSE\n",
    "mse = np.mean((y_cv - pred_cv)**2)\n",
    "print(f'The MSE is {round(mse, 3)}.')"
   ]
  },
  {
   "cell_type": "markdown",
   "metadata": {},
   "source": [
    "#### It is hard to evaluate the mean squared error metric unless we compare with the ones from other models. Thus, we can look at R-squared, which tells us how much of the variation in the response variable the model has captured."
   ]
  },
  {
   "cell_type": "code",
   "execution_count": 17,
   "metadata": {},
   "outputs": [
    {
     "name": "stdout",
     "output_type": "stream",
     "text": [
      "The R^2 score is 0.793\n"
     ]
    }
   ],
   "source": [
    "from sklearn.metrics import r2_score\n",
    "print(f'The R^2 score is {round(r2_score(y_cv, pred_cv), 3)}')"
   ]
  },
  {
   "cell_type": "markdown",
   "metadata": {},
   "source": [
    "#### So just based on the R-squared score, our model did not do that bad...\n",
    "#### Next, we would focus on how to improve model performance. Usually, we first have to find out if the model is suffering from high bias or high variance before we determine our next steps - and the method to do that is to plot the learning curve (see Portfolio Project 1 on plotting learning curve). However, here first of all because we have lots of data to work with, the variance should be reduced by some level. In addtion, because we are using Random Forest Algorithm (an ensemble method), variance would be further reduced. So what we really want to do here is to tackle the bias problem. We could use the following methods:\n",
    "1. Add additional features (e.g. feature engineering, adding polynomial features)\n",
    "2. Use a more complex model\n",
    "3. Tune Hyperparameters (might be related to #1 and/or #2 depending on situations)\n",
    "\n",
    "#### In this demostration, we would focus on methods #1 and #3 above."
   ]
  },
  {
   "cell_type": "markdown",
   "metadata": {},
   "source": [
    "#### First, we would try to add some polynomial features to introduce additional nonlinearity in the model training in order to reduce bias."
   ]
  },
  {
   "cell_type": "code",
   "execution_count": 18,
   "metadata": {
    "scrolled": true
   },
   "outputs": [],
   "source": [
    "#We would change the numerical pipeline\n",
    "from sklearn.preprocessing import PolynomialFeatures\n",
    "num_trans_poly = make_pipeline(num_fs, PolynomialFeatures(degree = 3), StandardScaler())\n",
    "union_trans_poly = make_union(cat_trans, num_trans_poly)\n",
    "\n",
    "forest_pipe_poly = make_pipeline(union_trans_poly, forest)\n",
    "\n",
    "#Now fit the data and make predictions\n",
    "forest_pipe_poly.fit(X_train, y_train)\n",
    "pred_cv_poly = forest_pipe_poly.predict(X_cv)"
   ]
  },
  {
   "cell_type": "code",
   "execution_count": 19,
   "metadata": {},
   "outputs": [
    {
     "name": "stdout",
     "output_type": "stream",
     "text": [
      "The MSE score after adding polynomial terms is 23437374.061\n",
      "The R^2 score after adding polynomial terms is 0.796\n"
     ]
    }
   ],
   "source": [
    "print(f'The MSE score after adding polynomial terms is {round(np.mean((y_cv - pred_cv_poly)**2), 3)}')\n",
    "print(f'The R^2 score after adding polynomial terms is {round(r2_score(y_cv, pred_cv_poly), 3)}')"
   ]
  },
  {
   "cell_type": "markdown",
   "metadata": {},
   "source": [
    "#### Unfortunately, adding polynomial terms does not seem to improve model performance"
   ]
  },
  {
   "cell_type": "markdown",
   "metadata": {},
   "source": [
    "#### Finally, let's use RandomizedSearchCV method to tune model hyperparameters. Comparing to Grid Search, Randomized Search could take less time while still finding relatively good model hyperparameters combinations."
   ]
  },
  {
   "cell_type": "code",
   "execution_count": 20,
   "metadata": {},
   "outputs": [
    {
     "data": {
      "text/plain": [
       "RandomizedSearchCV(cv=5, error_score=nan,\n",
       "                   estimator=Pipeline(memory=None,\n",
       "                                      steps=[('featureunion',\n",
       "                                              FeatureUnion(n_jobs=None,\n",
       "                                                           transformer_list=[('pipeline-1',\n",
       "                                                                              Pipeline(memory=None,\n",
       "                                                                                       steps=[('featureselector',\n",
       "                                                                                               FeatureSelector(columns=['manufacturer',\n",
       "                                                                                                                        'model',\n",
       "                                                                                                                        'fuel',\n",
       "                                                                                                                        'title_status',\n",
       "                                                                                                                        'transmission',\n",
       "                                                                                                                        'state'])),\n",
       "                                                                                              ('onehotencoder',\n",
       "                                                                                               OneHotEncoder(categories='auto',\n",
       "                                                                                                             drop='f...\n",
       "                                                                             100,\n",
       "                                                                             None],\n",
       "                                        'randomforestregressor__max_features': ['auto',\n",
       "                                                                                'sqrt',\n",
       "                                                                                'log2'],\n",
       "                                        'randomforestregressor__max_samples': <scipy.stats._distn_infrastructure.rv_frozen object at 0x0000020B94D36E48>,\n",
       "                                        'randomforestregressor__n_estimators': [25,\n",
       "                                                                                50,\n",
       "                                                                                100,\n",
       "                                                                                150]},\n",
       "                   pre_dispatch='2*n_jobs', random_state=None, refit=True,\n",
       "                   return_train_score=False, scoring=make_scorer(r2_score),\n",
       "                   verbose=0)"
      ]
     },
     "execution_count": 20,
     "metadata": {},
     "output_type": "execute_result"
    }
   ],
   "source": [
    "from sklearn.model_selection import RandomizedSearchCV\n",
    "from sklearn.metrics import make_scorer\n",
    "import scipy.stats as stats\n",
    "\n",
    "scorer = make_scorer(r2_score)\n",
    "param_dist = {'randomforestregressor__max_features': ['auto', 'sqrt', 'log2'],\n",
    "             'randomforestregressor__max_depth': [25, 50, 100, None],\n",
    "             'randomforestregressor__max_samples': stats.uniform(0, 1),\n",
    "              'randomforestregressor__n_estimators': [25, 50, 100, 150]\n",
    "             }\n",
    "\n",
    "rs = RandomizedSearchCV(estimator = forest_pipe, param_distributions = param_dist, \n",
    "                       n_iter = 20, scoring = scorer, n_jobs = -1, cv = 5)\n",
    "\n",
    "rs.fit(X_train, y_train)"
   ]
  },
  {
   "cell_type": "code",
   "execution_count": 21,
   "metadata": {
    "scrolled": true
   },
   "outputs": [
    {
     "name": "stdout",
     "output_type": "stream",
     "text": [
      "The best hyperparameter combination is: {'randomforestregressor__max_depth': 100, 'randomforestregressor__max_features': 'sqrt', 'randomforestregressor__max_samples': 0.9439543587792775, 'randomforestregressor__n_estimators': 100}.\n"
     ]
    }
   ],
   "source": [
    "print(f'The best hyperparameter combination is: {rs.best_params_}.')"
   ]
  },
  {
   "cell_type": "code",
   "execution_count": 22,
   "metadata": {},
   "outputs": [
    {
     "data": {
      "text/plain": [
       "Text(0.5, 1.0, 'Residual Plot')"
      ]
     },
     "execution_count": 22,
     "metadata": {},
     "output_type": "execute_result"
    },
    {
     "data": {
      "image/png": "[encoded data removed]",
      "text/plain": [
       "<Figure size 576x432 with 1 Axes>"
      ]
     },
     "metadata": {
      "needs_background": "light"
     },
     "output_type": "display_data"
    }
   ],
   "source": [
    "pred_cv = rs.predict(X_cv)\n",
    "\n",
    "#Residual plot\n",
    "plt.figure(figsize = (8, 6))\n",
    "plt.scatter(pred_cv, pred_cv - y_cv, c = 'limegreen', edgecolor = 'white')\n",
    "plt.hlines(y = 0, xmin = -10000, xmax = pred_cv.max() * 1.1, color = 'black', lw = 2)\n",
    "plt.xlim(-10000, pred_cv.max() * 1.1)\n",
    "plt.xlabel('Predicted values')\n",
    "plt.ylabel('Residuals')\n",
    "plt.title('Residual Plot')"
   ]
  },
  {
   "cell_type": "code",
   "execution_count": 23,
   "metadata": {
    "scrolled": true
   },
   "outputs": [
    {
     "name": "stdout",
     "output_type": "stream",
     "text": [
      "The MSE score after finding the best hyperparameter combination using RandomizedSearchCV is 23971487.002.\n",
      "The R^2 score after finding the best hyperparameter combination using RandomizedSearchCV is 0.791.\n"
     ]
    }
   ],
   "source": [
    "print(f'The MSE score after finding the best hyperparameter combination using RandomizedSearchCV is {round(np.mean((y_cv - pred_cv)**2), 3)}.')\n",
    "print(f'The R^2 score after finding the best hyperparameter combination using RandomizedSearchCV is {round(r2_score(y_cv, pred_cv), 3)}.')"
   ]
  },
  {
   "cell_type": "markdown",
   "metadata": {},
   "source": [
    "#### Again, there is no significant performance changes using RandomizedSearchCV. Anyway, let's finally use our test set to perform one last performance evaluation."
   ]
  },
  {
   "cell_type": "code",
   "execution_count": 24,
   "metadata": {},
   "outputs": [],
   "source": [
    "pred_test = rs.predict(X_test)"
   ]
  },
  {
   "cell_type": "code",
   "execution_count": 25,
   "metadata": {},
   "outputs": [
    {
     "data": {
      "text/plain": [
       "Text(0.5, 1.0, 'Residual Plot')"
      ]
     },
     "execution_count": 25,
     "metadata": {},
     "output_type": "execute_result"
    },
    {
     "data": {
      "image/png": "[encoded data removed]",
      "text/plain": [
       "<Figure size 576x432 with 1 Axes>"
      ]
     },
     "metadata": {
      "needs_background": "light"
     },
     "output_type": "display_data"
    }
   ],
   "source": [
    "#Residual plot\n",
    "plt.figure(figsize = (8, 6))\n",
    "plt.scatter(pred_test, pred_test - y_test, c = 'orange', edgecolor = 'white')\n",
    "plt.hlines(y = 0, xmin = -10000, xmax = pred_test.max() * 1.1, color = 'black', lw = 2)\n",
    "plt.xlim(-10000, pred_test.max() * 1.1)\n",
    "plt.xlabel('Predicted values')\n",
    "plt.ylabel('Residuals')\n",
    "plt.title('Residual Plot')"
   ]
  },
  {
   "cell_type": "markdown",
   "metadata": {},
   "source": [
    "#### The residual plot for the test set looks as good as the previous one from the cv set, that means we should have low variance, we can confirm it using R-squared score."
   ]
  },
  {
   "cell_type": "code",
   "execution_count": 26,
   "metadata": {},
   "outputs": [
    {
     "name": "stdout",
     "output_type": "stream",
     "text": [
      "The R^2 score for test set is 0.799.\n"
     ]
    }
   ],
   "source": [
    "print(f'The R^2 score for test set is {round(r2_score(y_test, pred_test), 3)}.')"
   ]
  },
  {
   "cell_type": "markdown",
   "metadata": {},
   "source": [
    "#### So indeed we have low variance here, unfortunately we are not able to improve performance much by tackling bias. Although not demonstrated here, we might be able to reduce bias by gathering more meaningful features or try more complex models, although that in turn might increase the computational complexity.\n",
    "#### Before we wrap up, remember that until now we only used a subset of all the data for analysis, so here we would like to use the model we got from RandomizedSearchCV to fit all the data we have."
   ]
  },
  {
   "cell_type": "code",
   "execution_count": 27,
   "metadata": {},
   "outputs": [],
   "source": [
    "X_original = df_original.drop(['price'], axis = 1)\n",
    "y_original = df_original['price'].values"
   ]
  },
  {
   "cell_type": "code",
   "execution_count": 28,
   "metadata": {},
   "outputs": [],
   "source": [
    "best_estimator = rs.best_estimator_"
   ]
  },
  {
   "cell_type": "code",
   "execution_count": 29,
   "metadata": {},
   "outputs": [
    {
     "data": {
      "text/plain": [
       "Pipeline(memory=None,\n",
       "         steps=[('featureunion',\n",
       "                 FeatureUnion(n_jobs=None,\n",
       "                              transformer_list=[('pipeline-1',\n",
       "                                                 Pipeline(memory=None,\n",
       "                                                          steps=[('featureselector',\n",
       "                                                                  FeatureSelector(columns=['manufacturer',\n",
       "                                                                                           'model',\n",
       "                                                                                           'fuel',\n",
       "                                                                                           'title_status',\n",
       "                                                                                           'transmission',\n",
       "                                                                                           'state'])),\n",
       "                                                                 ('onehotencoder',\n",
       "                                                                  OneHotEncoder(categories='auto',\n",
       "                                                                                drop='first',\n",
       "                                                                                dtype=<class 'numpy.float64'>,\n",
       "                                                                                handle_unknown=...\n",
       "                 RandomForestRegressor(bootstrap=True, ccp_alpha=0.0,\n",
       "                                       criterion='mse', max_depth=100,\n",
       "                                       max_features='sqrt', max_leaf_nodes=None,\n",
       "                                       max_samples=0.9439543587792775,\n",
       "                                       min_impurity_decrease=0.0,\n",
       "                                       min_impurity_split=None,\n",
       "                                       min_samples_leaf=1, min_samples_split=2,\n",
       "                                       min_weight_fraction_leaf=0.0,\n",
       "                                       n_estimators=100, n_jobs=-1,\n",
       "                                       oob_score=False, random_state=None,\n",
       "                                       verbose=0, warm_start=False))],\n",
       "         verbose=False)"
      ]
     },
     "execution_count": 29,
     "metadata": {},
     "output_type": "execute_result"
    }
   ],
   "source": [
    "best_estimator.fit(X_original, y_original)"
   ]
  },
  {
   "cell_type": "markdown",
   "metadata": {},
   "source": [
    "#### We can quickly check on the R-squared score."
   ]
  },
  {
   "cell_type": "code",
   "execution_count": 30,
   "metadata": {},
   "outputs": [
    {
     "name": "stdout",
     "output_type": "stream",
     "text": [
      "The R^2 score for fitting and predicting on the entire data available is 0.973.\n"
     ]
    }
   ],
   "source": [
    "print(f'The R^2 score for fitting and predicting on the entire data available \\\n",
    "is {round(r2_score(y_original, best_estimator.predict(X_original)), 3)}.')"
   ]
  },
  {
   "cell_type": "markdown",
   "metadata": {},
   "source": [
    "Below is an example of using our best_estimator to predict used car prices"
   ]
  },
  {
   "cell_type": "code",
   "execution_count": 31,
   "metadata": {},
   "outputs": [
    {
     "data": {
      "text/html": [
       "<div>\n",
       "<style scoped>\n",
       "    .dataframe tbody tr th:only-of-type {\n",
       "        vertical-align: middle;\n",
       "    }\n",
       "\n",
       "    .dataframe tbody tr th {\n",
       "        vertical-align: top;\n",
       "    }\n",
       "\n",
       "    .dataframe thead th {\n",
       "        text-align: right;\n",
       "    }\n",
       "</style>\n",
       "<table border=\"1\" class=\"dataframe\">\n",
       "  <thead>\n",
       "    <tr style=\"text-align: right;\">\n",
       "      <th></th>\n",
       "      <th>year</th>\n",
       "      <th>manufacturer</th>\n",
       "      <th>model</th>\n",
       "      <th>fuel</th>\n",
       "      <th>odometer</th>\n",
       "      <th>title_status</th>\n",
       "      <th>transmission</th>\n",
       "      <th>state</th>\n",
       "    </tr>\n",
       "  </thead>\n",
       "  <tbody>\n",
       "    <tr>\n",
       "      <th>0</th>\n",
       "      <td>2012</td>\n",
       "      <td>honda</td>\n",
       "      <td>civic</td>\n",
       "      <td>gas</td>\n",
       "      <td>75000</td>\n",
       "      <td>clean</td>\n",
       "      <td>automatic</td>\n",
       "      <td>il</td>\n",
       "    </tr>\n",
       "  </tbody>\n",
       "</table>\n",
       "</div>"
      ],
      "text/plain": [
       "   year manufacturer  model fuel  odometer title_status transmission state\n",
       "0  2012        honda  civic  gas     75000        clean    automatic    il"
      ]
     },
     "execution_count": 31,
     "metadata": {},
     "output_type": "execute_result"
    }
   ],
   "source": [
    "X_ex = pd.DataFrame({'year': [2012], 'manufacturer': ['honda'], 'model': ['civic'], \n",
    "                    'fuel': ['gas'], 'odometer': [75000], 'title_status': ['clean'],\n",
    "                    'transmission': ['automatic'], 'state': ['il']})\n",
    "X_ex"
   ]
  },
  {
   "cell_type": "code",
   "execution_count": 32,
   "metadata": {},
   "outputs": [
    {
     "name": "stdout",
     "output_type": "stream",
     "text": [
      "The predicted price of this used 2012 honda civic is 8278.77.\n"
     ]
    }
   ],
   "source": [
    "print(f'The predicted price of this used 2012 honda civic is {best_estimator.predict(X_ex)[0]}.')"
   ]
  },
  {
   "cell_type": "markdown",
   "metadata": {},
   "source": [
    "We can compare the predicted price we got with prices from online sources, the following is from Kelly Blue Book (https://www.kbb.com/) as of 3/31/2020\n",
    "<img src = \"Img/2012 Honda Civic Kbb Price.png\" width=\"600\">"
   ]
  },
  {
   "cell_type": "markdown",
   "metadata": {},
   "source": [
    "#### The last step is to store our trained best_estimator in a joblib file so that we can use it directly in our Web App, which we would develop next."
   ]
  },
  {
   "cell_type": "code",
   "execution_count": 33,
   "metadata": {},
   "outputs": [
    {
     "data": {
      "text/plain": [
       "['Web App\\\\Joblib_objects\\\\best_estimator.joblib']"
      ]
     },
     "execution_count": 33,
     "metadata": {},
     "output_type": "execute_result"
    }
   ],
   "source": [
    "from joblib import dump\n",
    "import os\n",
    "\n",
    "folder = 'Web App\\\\Joblib_objects'\n",
    "if not os.path.exists(folder):\n",
    "    os.makedirs(folder)\n",
    "    \n",
    "dump(best_estimator, os.path.join(folder, 'best_estimator.joblib'))"
   ]
  },
  {
   "cell_type": "markdown",
   "metadata": {},
   "source": [
    "#### All Set!"
   ]
  },
  {
   "cell_type": "code",
   "execution_count": null,
   "metadata": {},
   "outputs": [],
   "source": []
  }
 ],
 "metadata": {
  "kernelspec": {
   "display_name": "Python 3",
   "language": "python",
   "name": "python3"
  },
  "language_info": {
   "codemirror_mode": {
    "name": "ipython",
    "version": 3
   },
   "file_extension": ".py",
   "mimetype": "text/x-python",
   "name": "python",
   "nbconvert_exporter": "python",
   "pygments_lexer": "ipython3",
   "version": "3.7.6"
  }
 },
 "nbformat": 4,
 "nbformat_minor": 4
}
