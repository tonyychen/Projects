{
 "cells": [
  {
   "cell_type": "markdown",
   "metadata": {},
   "source": [
    "#### In the previous analysis, we explored the patterns within data and relationships between features other than the review texts themselves. In this notebook, we would focus on the review texts and try to derive meanful insights from them."
   ]
  },
  {
   "cell_type": "code",
   "execution_count": 1,
   "metadata": {},
   "outputs": [],
   "source": [
    "import numpy as np\n",
    "import pandas as pd\n",
    "import nltk\n",
    "import string"
   ]
  },
  {
   "cell_type": "markdown",
   "metadata": {},
   "source": [
    "Recalled that we saved the cleaned reviews at the end of last analysis, so we are going to load them directly here"
   ]
  },
  {
   "cell_type": "code",
   "execution_count": 2,
   "metadata": {},
   "outputs": [
    {
     "data": {
      "text/html": [
       "<div>\n",
       "<style scoped>\n",
       "    .dataframe tbody tr th:only-of-type {\n",
       "        vertical-align: middle;\n",
       "    }\n",
       "\n",
       "    .dataframe tbody tr th {\n",
       "        vertical-align: top;\n",
       "    }\n",
       "\n",
       "    .dataframe thead th {\n",
       "        text-align: right;\n",
       "    }\n",
       "</style>\n",
       "<table border=\"1\" class=\"dataframe\">\n",
       "  <thead>\n",
       "    <tr style=\"text-align: right;\">\n",
       "      <th></th>\n",
       "      <th>CreatedDate</th>\n",
       "      <th>PublishedDate</th>\n",
       "      <th>Username</th>\n",
       "      <th>Hometown</th>\n",
       "      <th>NumUserGeneratedContent</th>\n",
       "      <th>NumHelpfulVote</th>\n",
       "      <th>Review_Title</th>\n",
       "      <th>Review_TripDate</th>\n",
       "      <th>Review_TripType</th>\n",
       "      <th>Review_Text</th>\n",
       "      <th>Review_Rating</th>\n",
       "      <th>Review_HelpfulVotes</th>\n",
       "    </tr>\n",
       "  </thead>\n",
       "  <tbody>\n",
       "    <tr>\n",
       "      <th>0</th>\n",
       "      <td>2020-10-12</td>\n",
       "      <td>2020-10-12</td>\n",
       "      <td>mplegal</td>\n",
       "      <td>Orlando, Florida</td>\n",
       "      <td>227</td>\n",
       "      <td>46</td>\n",
       "      <td>Nature Lovers’ Shanghai-la!</td>\n",
       "      <td>2020-10-31</td>\n",
       "      <td>COUPLES</td>\n",
       "      <td>Visiting Acadia National Park specifically in ...</td>\n",
       "      <td>5</td>\n",
       "      <td>0</td>\n",
       "    </tr>\n",
       "    <tr>\n",
       "      <th>1</th>\n",
       "      <td>2020-10-11</td>\n",
       "      <td>2020-10-11</td>\n",
       "      <td>carolHjones</td>\n",
       "      <td>Columbus, Georgia</td>\n",
       "      <td>31</td>\n",
       "      <td>21</td>\n",
       "      <td>Great trip</td>\n",
       "      <td>2020-10-31</td>\n",
       "      <td>FAMILY</td>\n",
       "      <td>Beautiful park. Definitely rent bikes in Bar H...</td>\n",
       "      <td>5</td>\n",
       "      <td>0</td>\n",
       "    </tr>\n",
       "    <tr>\n",
       "      <th>2</th>\n",
       "      <td>2020-10-11</td>\n",
       "      <td>2020-10-11</td>\n",
       "      <td>rydharter</td>\n",
       "      <td>Austin, Texas</td>\n",
       "      <td>2</td>\n",
       "      <td>0</td>\n",
       "      <td>Amazing (Civid-Time) Road Trip</td>\n",
       "      <td>2020-10-31</td>\n",
       "      <td>NaN</td>\n",
       "      <td>Acadia was part of my first visit to New Engla...</td>\n",
       "      <td>5</td>\n",
       "      <td>0</td>\n",
       "    </tr>\n",
       "    <tr>\n",
       "      <th>3</th>\n",
       "      <td>2020-10-10</td>\n",
       "      <td>2020-10-10</td>\n",
       "      <td>JohnPatsi</td>\n",
       "      <td>Tullahoma, Tennessee</td>\n",
       "      <td>559</td>\n",
       "      <td>94</td>\n",
       "      <td>Beautiful piece of God’s nature</td>\n",
       "      <td>2020-10-31</td>\n",
       "      <td>COUPLES</td>\n",
       "      <td>Beautiful piece of God’s nature situated along...</td>\n",
       "      <td>5</td>\n",
       "      <td>0</td>\n",
       "    </tr>\n",
       "    <tr>\n",
       "      <th>4</th>\n",
       "      <td>2020-10-06</td>\n",
       "      <td>2020-10-06</td>\n",
       "      <td>384katiec</td>\n",
       "      <td>Indianapolis, Indiana</td>\n",
       "      <td>300</td>\n",
       "      <td>58</td>\n",
       "      <td>Great visit!</td>\n",
       "      <td>2020-09-30</td>\n",
       "      <td>NaN</td>\n",
       "      <td>As the park ranger explained, this is the swis...</td>\n",
       "      <td>5</td>\n",
       "      <td>0</td>\n",
       "    </tr>\n",
       "  </tbody>\n",
       "</table>\n",
       "</div>"
      ],
      "text/plain": [
       "  CreatedDate PublishedDate     Username               Hometown  \\\n",
       "0  2020-10-12    2020-10-12      mplegal       Orlando, Florida   \n",
       "1  2020-10-11    2020-10-11  carolHjones      Columbus, Georgia   \n",
       "2  2020-10-11    2020-10-11    rydharter          Austin, Texas   \n",
       "3  2020-10-10    2020-10-10    JohnPatsi   Tullahoma, Tennessee   \n",
       "4  2020-10-06    2020-10-06    384katiec  Indianapolis, Indiana   \n",
       "\n",
       "   NumUserGeneratedContent  NumHelpfulVote                     Review_Title  \\\n",
       "0                      227              46     Nature Lovers’ Shanghai-la!    \n",
       "1                       31              21                      Great trip    \n",
       "2                        2               0   Amazing (Civid-Time) Road Trip   \n",
       "3                      559              94  Beautiful piece of God’s nature   \n",
       "4                      300              58                     Great visit!   \n",
       "\n",
       "  Review_TripDate Review_TripType  \\\n",
       "0      2020-10-31         COUPLES   \n",
       "1      2020-10-31          FAMILY   \n",
       "2      2020-10-31             NaN   \n",
       "3      2020-10-31         COUPLES   \n",
       "4      2020-09-30             NaN   \n",
       "\n",
       "                                         Review_Text  Review_Rating  \\\n",
       "0  Visiting Acadia National Park specifically in ...              5   \n",
       "1  Beautiful park. Definitely rent bikes in Bar H...              5   \n",
       "2  Acadia was part of my first visit to New Engla...              5   \n",
       "3  Beautiful piece of God’s nature situated along...              5   \n",
       "4  As the park ranger explained, this is the swis...              5   \n",
       "\n",
       "   Review_HelpfulVotes  \n",
       "0                    0  \n",
       "1                    0  \n",
       "2                    0  \n",
       "3                    0  \n",
       "4                    0  "
      ]
     },
     "execution_count": 2,
     "metadata": {},
     "output_type": "execute_result"
    }
   ],
   "source": [
    "reviews = pd.read_csv('../Data/Cleaned_Arcadia_Reviews.csv')\n",
    "reviews.head()"
   ]
  },
  {
   "cell_type": "code",
   "execution_count": 3,
   "metadata": {},
   "outputs": [],
   "source": [
    "review_texts = reviews.loc[:, ['Review_Title', 'Review_Text']]"
   ]
  },
  {
   "cell_type": "code",
   "execution_count": 4,
   "metadata": {},
   "outputs": [
    {
     "name": "stdout",
     "output_type": "stream",
     "text": [
      "<class 'pandas.core.frame.DataFrame'>\n",
      "RangeIndex: 1757 entries, 0 to 1756\n",
      "Data columns (total 2 columns):\n",
      " #   Column        Non-Null Count  Dtype \n",
      "---  ------        --------------  ----- \n",
      " 0   Review_Title  1757 non-null   object\n",
      " 1   Review_Text   1757 non-null   object\n",
      "dtypes: object(2)\n",
      "memory usage: 27.6+ KB\n"
     ]
    }
   ],
   "source": [
    "review_texts.info()"
   ]
  },
  {
   "cell_type": "markdown",
   "metadata": {},
   "source": [
    "#### We would like to start our analysis by checking out the most frequently appearing words and see if there are interesting findings"
   ]
  },
  {
   "cell_type": "markdown",
   "metadata": {},
   "source": [
    "First, let's remove punctuations since we only need words here"
   ]
  },
  {
   "cell_type": "code",
   "execution_count": 5,
   "metadata": {},
   "outputs": [],
   "source": [
    "def RemovePunctuation(text):\n",
    "    table = ''.maketrans('', '', string.punctuation)\n",
    "    text = text.translate(table)\n",
    "    text = text.replace('’', '')\n",
    "    return text"
   ]
  },
  {
   "cell_type": "code",
   "execution_count": 6,
   "metadata": {},
   "outputs": [],
   "source": [
    "review_words = review_texts.copy()\n",
    "review_words['Review_Title'] = review_words['Review_Title'].map(RemovePunctuation)\n",
    "review_words['Review_Text'] = review_words['Review_Text'].map(RemovePunctuation)"
   ]
  },
  {
   "cell_type": "code",
   "execution_count": 7,
   "metadata": {},
   "outputs": [
    {
     "data": {
      "text/html": [
       "<div>\n",
       "<style scoped>\n",
       "    .dataframe tbody tr th:only-of-type {\n",
       "        vertical-align: middle;\n",
       "    }\n",
       "\n",
       "    .dataframe tbody tr th {\n",
       "        vertical-align: top;\n",
       "    }\n",
       "\n",
       "    .dataframe thead th {\n",
       "        text-align: right;\n",
       "    }\n",
       "</style>\n",
       "<table border=\"1\" class=\"dataframe\">\n",
       "  <thead>\n",
       "    <tr style=\"text-align: right;\">\n",
       "      <th></th>\n",
       "      <th>Review_Title</th>\n",
       "      <th>Review_Text</th>\n",
       "    </tr>\n",
       "  </thead>\n",
       "  <tbody>\n",
       "    <tr>\n",
       "      <th>0</th>\n",
       "      <td>Nature Lovers Shanghaila</td>\n",
       "      <td>Visiting Acadia National Park specifically in ...</td>\n",
       "    </tr>\n",
       "    <tr>\n",
       "      <th>1</th>\n",
       "      <td>Great trip</td>\n",
       "      <td>Beautiful park Definitely rent bikes in Bar Ha...</td>\n",
       "    </tr>\n",
       "    <tr>\n",
       "      <th>2</th>\n",
       "      <td>Amazing CividTime Road Trip</td>\n",
       "      <td>Acadia was part of my first visit to New Engla...</td>\n",
       "    </tr>\n",
       "    <tr>\n",
       "      <th>3</th>\n",
       "      <td>Beautiful piece of Gods nature</td>\n",
       "      <td>Beautiful piece of Gods nature situated along ...</td>\n",
       "    </tr>\n",
       "    <tr>\n",
       "      <th>4</th>\n",
       "      <td>Great visit</td>\n",
       "      <td>As the park ranger explained this is the swiss...</td>\n",
       "    </tr>\n",
       "  </tbody>\n",
       "</table>\n",
       "</div>"
      ],
      "text/plain": [
       "                     Review_Title  \\\n",
       "0       Nature Lovers Shanghaila    \n",
       "1                     Great trip    \n",
       "2     Amazing CividTime Road Trip   \n",
       "3  Beautiful piece of Gods nature   \n",
       "4                     Great visit   \n",
       "\n",
       "                                         Review_Text  \n",
       "0  Visiting Acadia National Park specifically in ...  \n",
       "1  Beautiful park Definitely rent bikes in Bar Ha...  \n",
       "2  Acadia was part of my first visit to New Engla...  \n",
       "3  Beautiful piece of Gods nature situated along ...  \n",
       "4  As the park ranger explained this is the swiss...  "
      ]
     },
     "execution_count": 7,
     "metadata": {},
     "output_type": "execute_result"
    }
   ],
   "source": [
    "review_words.head()"
   ]
  },
  {
   "cell_type": "markdown",
   "metadata": {},
   "source": [
    "Next, let's remove stopwords. Stopwords are common words that bear little information."
   ]
  },
  {
   "cell_type": "code",
   "execution_count": 8,
   "metadata": {},
   "outputs": [
    {
     "name": "stdout",
     "output_type": "stream",
     "text": [
      "['i', 'me', 'my', 'myself', 'we', 'our', 'ours', 'ourselves', 'you', \"you're\"]\n"
     ]
    },
    {
     "name": "stderr",
     "output_type": "stream",
     "text": [
      "[nltk_data] Downloading package stopwords to\n",
      "[nltk_data]     C:\\Users\\Tony\\AppData\\Roaming\\nltk_data...\n",
      "[nltk_data]   Package stopwords is already up-to-date!\n"
     ]
    }
   ],
   "source": [
    "nltk.download('stopwords')\n",
    "from nltk.corpus import stopwords\n",
    "\n",
    "stop = stopwords.words('english')\n",
    "print(stop[:10])"
   ]
  },
  {
   "cell_type": "code",
   "execution_count": null,
   "metadata": {},
   "outputs": [],
   "source": []
  }
 ],
 "metadata": {
  "kernelspec": {
   "display_name": "Python 3",
   "language": "python",
   "name": "python3"
  },
  "language_info": {
   "codemirror_mode": {
    "name": "ipython",
    "version": 3
   },
   "file_extension": ".py",
   "mimetype": "text/x-python",
   "name": "python",
   "nbconvert_exporter": "python",
   "pygments_lexer": "ipython3",
   "version": "3.8.5"
  }
 },
 "nbformat": 4,
 "nbformat_minor": 4
}
