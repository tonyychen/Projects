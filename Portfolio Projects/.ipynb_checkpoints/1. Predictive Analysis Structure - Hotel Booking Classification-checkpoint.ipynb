{
 "cells": [
  {
   "cell_type": "markdown",
   "metadata": {},
   "source": [
    "### As the first portfolio project, we would focus on the workflow structure of predictive analysis"
   ]
  },
  {
   "cell_type": "markdown",
   "metadata": {},
   "source": [
    "#### Highlights of this project:\n",
    "0. **Structured** problem solving\n",
    "1. **DETAILS on background thought process** start to finish\n",
    "2. Data preparation\n",
    "3. Methods of performance evaluation\n",
    "4. Methods of performance comparison and improvements"
   ]
  },
  {
   "cell_type": "markdown",
   "metadata": {},
   "source": [
    "#### Citation:\n",
    "The dataset is from Kaggle - Hotel booking demand\n",
    "\n",
    "url: https://www.kaggle.com/jessemostipak/hotel-booking-demand/metadata\n",
    "\n",
    "\n",
    "Original Sources: Hotel Booking Demand Datasets: Nuno Antonio, Ana Almeida, Luis Nunes, Data in Brief, 2019"
   ]
  },
  {
   "cell_type": "code",
   "execution_count": 1,
   "metadata": {},
   "outputs": [],
   "source": [
    "#Load Libraries\n",
    "import numpy as np\n",
    "import pandas as pd\n",
    "import matplotlib.pyplot as plt"
   ]
  },
  {
   "cell_type": "code",
   "execution_count": 2,
   "metadata": {},
   "outputs": [
    {
     "data": {
      "text/html": [
       "<div>\n",
       "<style scoped>\n",
       "    .dataframe tbody tr th:only-of-type {\n",
       "        vertical-align: middle;\n",
       "    }\n",
       "\n",
       "    .dataframe tbody tr th {\n",
       "        vertical-align: top;\n",
       "    }\n",
       "\n",
       "    .dataframe thead th {\n",
       "        text-align: right;\n",
       "    }\n",
       "</style>\n",
       "<table border=\"1\" class=\"dataframe\">\n",
       "  <thead>\n",
       "    <tr style=\"text-align: right;\">\n",
       "      <th></th>\n",
       "      <th>hotel</th>\n",
       "      <th>is_canceled</th>\n",
       "      <th>lead_time</th>\n",
       "      <th>arrival_date_year</th>\n",
       "      <th>arrival_date_month</th>\n",
       "      <th>arrival_date_week_number</th>\n",
       "      <th>arrival_date_day_of_month</th>\n",
       "      <th>stays_in_weekend_nights</th>\n",
       "      <th>stays_in_week_nights</th>\n",
       "      <th>adults</th>\n",
       "      <th>children</th>\n",
       "      <th>babies</th>\n",
       "      <th>meal</th>\n",
       "      <th>country</th>\n",
       "      <th>market_segment</th>\n",
       "      <th>distribution_channel</th>\n",
       "      <th>is_repeated_guest</th>\n",
       "      <th>previous_cancellations</th>\n",
       "      <th>previous_bookings_not_canceled</th>\n",
       "      <th>reserved_room_type</th>\n",
       "      <th>assigned_room_type</th>\n",
       "      <th>booking_changes</th>\n",
       "      <th>deposit_type</th>\n",
       "      <th>agent</th>\n",
       "      <th>company</th>\n",
       "      <th>days_in_waiting_list</th>\n",
       "      <th>customer_type</th>\n",
       "      <th>adr</th>\n",
       "      <th>required_car_parking_spaces</th>\n",
       "      <th>total_of_special_requests</th>\n",
       "      <th>reservation_status</th>\n",
       "      <th>reservation_status_date</th>\n",
       "    </tr>\n",
       "  </thead>\n",
       "  <tbody>\n",
       "    <tr>\n",
       "      <td>0</td>\n",
       "      <td>Resort Hotel</td>\n",
       "      <td>0</td>\n",
       "      <td>342</td>\n",
       "      <td>2015</td>\n",
       "      <td>July</td>\n",
       "      <td>27</td>\n",
       "      <td>1</td>\n",
       "      <td>0</td>\n",
       "      <td>0</td>\n",
       "      <td>2</td>\n",
       "      <td>0.0</td>\n",
       "      <td>0</td>\n",
       "      <td>BB</td>\n",
       "      <td>PRT</td>\n",
       "      <td>Direct</td>\n",
       "      <td>Direct</td>\n",
       "      <td>0</td>\n",
       "      <td>0</td>\n",
       "      <td>0</td>\n",
       "      <td>C</td>\n",
       "      <td>C</td>\n",
       "      <td>3</td>\n",
       "      <td>No Deposit</td>\n",
       "      <td>NaN</td>\n",
       "      <td>NaN</td>\n",
       "      <td>0</td>\n",
       "      <td>Transient</td>\n",
       "      <td>0.0</td>\n",
       "      <td>0</td>\n",
       "      <td>0</td>\n",
       "      <td>Check-Out</td>\n",
       "      <td>2015-07-01</td>\n",
       "    </tr>\n",
       "    <tr>\n",
       "      <td>1</td>\n",
       "      <td>Resort Hotel</td>\n",
       "      <td>0</td>\n",
       "      <td>737</td>\n",
       "      <td>2015</td>\n",
       "      <td>July</td>\n",
       "      <td>27</td>\n",
       "      <td>1</td>\n",
       "      <td>0</td>\n",
       "      <td>0</td>\n",
       "      <td>2</td>\n",
       "      <td>0.0</td>\n",
       "      <td>0</td>\n",
       "      <td>BB</td>\n",
       "      <td>PRT</td>\n",
       "      <td>Direct</td>\n",
       "      <td>Direct</td>\n",
       "      <td>0</td>\n",
       "      <td>0</td>\n",
       "      <td>0</td>\n",
       "      <td>C</td>\n",
       "      <td>C</td>\n",
       "      <td>4</td>\n",
       "      <td>No Deposit</td>\n",
       "      <td>NaN</td>\n",
       "      <td>NaN</td>\n",
       "      <td>0</td>\n",
       "      <td>Transient</td>\n",
       "      <td>0.0</td>\n",
       "      <td>0</td>\n",
       "      <td>0</td>\n",
       "      <td>Check-Out</td>\n",
       "      <td>2015-07-01</td>\n",
       "    </tr>\n",
       "    <tr>\n",
       "      <td>2</td>\n",
       "      <td>Resort Hotel</td>\n",
       "      <td>0</td>\n",
       "      <td>7</td>\n",
       "      <td>2015</td>\n",
       "      <td>July</td>\n",
       "      <td>27</td>\n",
       "      <td>1</td>\n",
       "      <td>0</td>\n",
       "      <td>1</td>\n",
       "      <td>1</td>\n",
       "      <td>0.0</td>\n",
       "      <td>0</td>\n",
       "      <td>BB</td>\n",
       "      <td>GBR</td>\n",
       "      <td>Direct</td>\n",
       "      <td>Direct</td>\n",
       "      <td>0</td>\n",
       "      <td>0</td>\n",
       "      <td>0</td>\n",
       "      <td>A</td>\n",
       "      <td>C</td>\n",
       "      <td>0</td>\n",
       "      <td>No Deposit</td>\n",
       "      <td>NaN</td>\n",
       "      <td>NaN</td>\n",
       "      <td>0</td>\n",
       "      <td>Transient</td>\n",
       "      <td>75.0</td>\n",
       "      <td>0</td>\n",
       "      <td>0</td>\n",
       "      <td>Check-Out</td>\n",
       "      <td>2015-07-02</td>\n",
       "    </tr>\n",
       "    <tr>\n",
       "      <td>3</td>\n",
       "      <td>Resort Hotel</td>\n",
       "      <td>0</td>\n",
       "      <td>13</td>\n",
       "      <td>2015</td>\n",
       "      <td>July</td>\n",
       "      <td>27</td>\n",
       "      <td>1</td>\n",
       "      <td>0</td>\n",
       "      <td>1</td>\n",
       "      <td>1</td>\n",
       "      <td>0.0</td>\n",
       "      <td>0</td>\n",
       "      <td>BB</td>\n",
       "      <td>GBR</td>\n",
       "      <td>Corporate</td>\n",
       "      <td>Corporate</td>\n",
       "      <td>0</td>\n",
       "      <td>0</td>\n",
       "      <td>0</td>\n",
       "      <td>A</td>\n",
       "      <td>A</td>\n",
       "      <td>0</td>\n",
       "      <td>No Deposit</td>\n",
       "      <td>304.0</td>\n",
       "      <td>NaN</td>\n",
       "      <td>0</td>\n",
       "      <td>Transient</td>\n",
       "      <td>75.0</td>\n",
       "      <td>0</td>\n",
       "      <td>0</td>\n",
       "      <td>Check-Out</td>\n",
       "      <td>2015-07-02</td>\n",
       "    </tr>\n",
       "    <tr>\n",
       "      <td>4</td>\n",
       "      <td>Resort Hotel</td>\n",
       "      <td>0</td>\n",
       "      <td>14</td>\n",
       "      <td>2015</td>\n",
       "      <td>July</td>\n",
       "      <td>27</td>\n",
       "      <td>1</td>\n",
       "      <td>0</td>\n",
       "      <td>2</td>\n",
       "      <td>2</td>\n",
       "      <td>0.0</td>\n",
       "      <td>0</td>\n",
       "      <td>BB</td>\n",
       "      <td>GBR</td>\n",
       "      <td>Online TA</td>\n",
       "      <td>TA/TO</td>\n",
       "      <td>0</td>\n",
       "      <td>0</td>\n",
       "      <td>0</td>\n",
       "      <td>A</td>\n",
       "      <td>A</td>\n",
       "      <td>0</td>\n",
       "      <td>No Deposit</td>\n",
       "      <td>240.0</td>\n",
       "      <td>NaN</td>\n",
       "      <td>0</td>\n",
       "      <td>Transient</td>\n",
       "      <td>98.0</td>\n",
       "      <td>0</td>\n",
       "      <td>1</td>\n",
       "      <td>Check-Out</td>\n",
       "      <td>2015-07-03</td>\n",
       "    </tr>\n",
       "  </tbody>\n",
       "</table>\n",
       "</div>"
      ],
      "text/plain": [
       "          hotel  is_canceled  lead_time  arrival_date_year arrival_date_month  \\\n",
       "0  Resort Hotel            0        342               2015               July   \n",
       "1  Resort Hotel            0        737               2015               July   \n",
       "2  Resort Hotel            0          7               2015               July   \n",
       "3  Resort Hotel            0         13               2015               July   \n",
       "4  Resort Hotel            0         14               2015               July   \n",
       "\n",
       "   arrival_date_week_number  arrival_date_day_of_month  \\\n",
       "0                        27                          1   \n",
       "1                        27                          1   \n",
       "2                        27                          1   \n",
       "3                        27                          1   \n",
       "4                        27                          1   \n",
       "\n",
       "   stays_in_weekend_nights  stays_in_week_nights  adults  children  babies  \\\n",
       "0                        0                     0       2       0.0       0   \n",
       "1                        0                     0       2       0.0       0   \n",
       "2                        0                     1       1       0.0       0   \n",
       "3                        0                     1       1       0.0       0   \n",
       "4                        0                     2       2       0.0       0   \n",
       "\n",
       "  meal country market_segment distribution_channel  is_repeated_guest  \\\n",
       "0   BB     PRT         Direct               Direct                  0   \n",
       "1   BB     PRT         Direct               Direct                  0   \n",
       "2   BB     GBR         Direct               Direct                  0   \n",
       "3   BB     GBR      Corporate            Corporate                  0   \n",
       "4   BB     GBR      Online TA                TA/TO                  0   \n",
       "\n",
       "   previous_cancellations  previous_bookings_not_canceled reserved_room_type  \\\n",
       "0                       0                               0                  C   \n",
       "1                       0                               0                  C   \n",
       "2                       0                               0                  A   \n",
       "3                       0                               0                  A   \n",
       "4                       0                               0                  A   \n",
       "\n",
       "  assigned_room_type  booking_changes deposit_type  agent  company  \\\n",
       "0                  C                3   No Deposit    NaN      NaN   \n",
       "1                  C                4   No Deposit    NaN      NaN   \n",
       "2                  C                0   No Deposit    NaN      NaN   \n",
       "3                  A                0   No Deposit  304.0      NaN   \n",
       "4                  A                0   No Deposit  240.0      NaN   \n",
       "\n",
       "   days_in_waiting_list customer_type   adr  required_car_parking_spaces  \\\n",
       "0                     0     Transient   0.0                            0   \n",
       "1                     0     Transient   0.0                            0   \n",
       "2                     0     Transient  75.0                            0   \n",
       "3                     0     Transient  75.0                            0   \n",
       "4                     0     Transient  98.0                            0   \n",
       "\n",
       "   total_of_special_requests reservation_status reservation_status_date  \n",
       "0                          0          Check-Out              2015-07-01  \n",
       "1                          0          Check-Out              2015-07-01  \n",
       "2                          0          Check-Out              2015-07-02  \n",
       "3                          0          Check-Out              2015-07-02  \n",
       "4                          1          Check-Out              2015-07-03  "
      ]
     },
     "execution_count": 2,
     "metadata": {},
     "output_type": "execute_result"
    }
   ],
   "source": [
    "#Import the data\n",
    "hotel = pd.read_csv('Data/hotel_bookings.csv')\n",
    "pd.set_option('display.max_columns', None)\n",
    "\n",
    "hotel.head()"
   ]
  },
  {
   "cell_type": "markdown",
   "metadata": {},
   "source": [
    "#### Let's determine our GOAL first: our goal is trying to predict whether the booking is for a resort hotel or a city hotel given the other data for the same booking. I chose this goal because I am expecting to find differences in booking patterns for the two different hotels, and hopefully those patterns are distinctive enough to separate types of hotels booked."
   ]
  },
  {
   "cell_type": "code",
   "execution_count": 3,
   "metadata": {},
   "outputs": [
    {
     "name": "stdout",
     "output_type": "stream",
     "text": [
      "<class 'pandas.core.frame.DataFrame'>\n",
      "RangeIndex: 119390 entries, 0 to 119389\n",
      "Data columns (total 32 columns):\n",
      "hotel                             119390 non-null object\n",
      "is_canceled                       119390 non-null int64\n",
      "lead_time                         119390 non-null int64\n",
      "arrival_date_year                 119390 non-null int64\n",
      "arrival_date_month                119390 non-null object\n",
      "arrival_date_week_number          119390 non-null int64\n",
      "arrival_date_day_of_month         119390 non-null int64\n",
      "stays_in_weekend_nights           119390 non-null int64\n",
      "stays_in_week_nights              119390 non-null int64\n",
      "adults                            119390 non-null int64\n",
      "children                          119386 non-null float64\n",
      "babies                            119390 non-null int64\n",
      "meal                              119390 non-null object\n",
      "country                           118902 non-null object\n",
      "market_segment                    119390 non-null object\n",
      "distribution_channel              119390 non-null object\n",
      "is_repeated_guest                 119390 non-null int64\n",
      "previous_cancellations            119390 non-null int64\n",
      "previous_bookings_not_canceled    119390 non-null int64\n",
      "reserved_room_type                119390 non-null object\n",
      "assigned_room_type                119390 non-null object\n",
      "booking_changes                   119390 non-null int64\n",
      "deposit_type                      119390 non-null object\n",
      "agent                             103050 non-null float64\n",
      "company                           6797 non-null float64\n",
      "days_in_waiting_list              119390 non-null int64\n",
      "customer_type                     119390 non-null object\n",
      "adr                               119390 non-null float64\n",
      "required_car_parking_spaces       119390 non-null int64\n",
      "total_of_special_requests         119390 non-null int64\n",
      "reservation_status                119390 non-null object\n",
      "reservation_status_date           119390 non-null object\n",
      "dtypes: float64(4), int64(16), object(12)\n",
      "memory usage: 29.1+ MB\n"
     ]
    }
   ],
   "source": [
    "#Let's take a look at column infos\n",
    "hotel.info()"
   ]
  },
  {
   "cell_type": "markdown",
   "metadata": {},
   "source": [
    "#### Here, I would like to drop some columns that we are not going to use in this analysis. The columns dropped have perceived low usuability - for example, the columns contain a lot of Null values. For another example, considering the time series data, eventhough we might be able to perform some trend analysis on those data, given a new datetime that is not in this dataset, it is hard for some classification models to predict the outcomes."
   ]
  },
  {
   "cell_type": "code",
   "execution_count": 4,
   "metadata": {},
   "outputs": [],
   "source": [
    "#Drop Columns\n",
    "hotel.drop(['arrival_date_year', 'arrival_date_month', 'arrival_date_week_number', 'arrival_date_day_of_month', \n",
    "           'company', 'reservation_status_date'], axis = 1, inplace = True)"
   ]
  },
  {
   "cell_type": "markdown",
   "metadata": {},
   "source": [
    "#### Before we move on, let's do one more thing to find out how many unique values for each column"
   ]
  },
  {
   "cell_type": "code",
   "execution_count": 5,
   "metadata": {},
   "outputs": [
    {
     "data": {
      "text/plain": [
       "hotel                                2\n",
       "is_canceled                          2\n",
       "lead_time                          479\n",
       "stays_in_weekend_nights             17\n",
       "stays_in_week_nights                35\n",
       "adults                              14\n",
       "children                             5\n",
       "babies                               5\n",
       "meal                                 5\n",
       "country                            177\n",
       "market_segment                       8\n",
       "distribution_channel                 5\n",
       "is_repeated_guest                    2\n",
       "previous_cancellations              15\n",
       "previous_bookings_not_canceled      73\n",
       "reserved_room_type                  10\n",
       "assigned_room_type                  12\n",
       "booking_changes                     21\n",
       "deposit_type                         3\n",
       "agent                              333\n",
       "days_in_waiting_list               128\n",
       "customer_type                        4\n",
       "adr                               8879\n",
       "required_car_parking_spaces          5\n",
       "total_of_special_requests            6\n",
       "reservation_status                   3\n",
       "dtype: int64"
      ]
     },
     "execution_count": 5,
     "metadata": {},
     "output_type": "execute_result"
    }
   ],
   "source": [
    "hotel.nunique()"
   ]
  },
  {
   "cell_type": "markdown",
   "metadata": {},
   "source": [
    "#### If we focus just on the categorical variables, we found that columns \"country\" and \"agent\" have lots of categories. So I decide to remove them from our analysis for the following reasons:\n",
    "1. Simplicity: if we were to one-hot encode those categorical variables, we would end up with hundreds of features, which might be okay for production use but it would add complexity to this demonstration\n",
    "2. Feature Balance: take \"country\" as an example - if one country only have few matching booking records, then the predictive power of models on that country might be limited"
   ]
  },
  {
   "cell_type": "code",
   "execution_count": 6,
   "metadata": {},
   "outputs": [],
   "source": [
    "hotel.drop(['country', 'agent'], axis = 1, inplace = True)"
   ]
  },
  {
   "cell_type": "code",
   "execution_count": 7,
   "metadata": {},
   "outputs": [
    {
     "name": "stdout",
     "output_type": "stream",
     "text": [
      "<class 'pandas.core.frame.DataFrame'>\n",
      "RangeIndex: 119390 entries, 0 to 119389\n",
      "Data columns (total 24 columns):\n",
      "hotel                             119390 non-null object\n",
      "is_canceled                       119390 non-null int64\n",
      "lead_time                         119390 non-null int64\n",
      "stays_in_weekend_nights           119390 non-null int64\n",
      "stays_in_week_nights              119390 non-null int64\n",
      "adults                            119390 non-null int64\n",
      "children                          119386 non-null float64\n",
      "babies                            119390 non-null int64\n",
      "meal                              119390 non-null object\n",
      "market_segment                    119390 non-null object\n",
      "distribution_channel              119390 non-null object\n",
      "is_repeated_guest                 119390 non-null int64\n",
      "previous_cancellations            119390 non-null int64\n",
      "previous_bookings_not_canceled    119390 non-null int64\n",
      "reserved_room_type                119390 non-null object\n",
      "assigned_room_type                119390 non-null object\n",
      "booking_changes                   119390 non-null int64\n",
      "deposit_type                      119390 non-null object\n",
      "days_in_waiting_list              119390 non-null int64\n",
      "customer_type                     119390 non-null object\n",
      "adr                               119390 non-null float64\n",
      "required_car_parking_spaces       119390 non-null int64\n",
      "total_of_special_requests         119390 non-null int64\n",
      "reservation_status                119390 non-null object\n",
      "dtypes: float64(2), int64(13), object(9)\n",
      "memory usage: 21.9+ MB\n"
     ]
    }
   ],
   "source": [
    "hotel.info()"
   ]
  },
  {
   "cell_type": "markdown",
   "metadata": {},
   "source": [
    "#### Next, it seems \"children\" column has 4 NA values, we can easily fill with its mean here"
   ]
  },
  {
   "cell_type": "code",
   "execution_count": 8,
   "metadata": {},
   "outputs": [],
   "source": [
    "hotel.fillna({'children': np.mean(hotel['children'])}, inplace = True)"
   ]
  },
  {
   "cell_type": "code",
   "execution_count": 9,
   "metadata": {},
   "outputs": [
    {
     "data": {
      "text/plain": [
       "False"
      ]
     },
     "execution_count": 9,
     "metadata": {},
     "output_type": "execute_result"
    }
   ],
   "source": [
    "#Check if there are NA values in the entire dataframe\n",
    "hotel.isna().any().any()"
   ]
  },
  {
   "cell_type": "markdown",
   "metadata": {},
   "source": [
    "#### The following is added proactively based on later logic - there are some features which contain categories that have too few instances that could impact data tranformation. Here we would choose to delete instances with those categories since we have enough instances to work with. (Otherwise, we might do something like reassign majority labels for those instances)"
   ]
  },
  {
   "cell_type": "code",
   "execution_count": 10,
   "metadata": {},
   "outputs": [
    {
     "name": "stdout",
     "output_type": "stream",
     "text": [
      "A    85994\n",
      "D    19201\n",
      "E     6535\n",
      "F     2897\n",
      "G     2094\n",
      "B     1118\n",
      "C      932\n",
      "H      601\n",
      "P       12\n",
      "L        6\n",
      "Name: reserved_room_type, dtype: int64\n",
      "A    74053\n",
      "D    25322\n",
      "E     7806\n",
      "F     3751\n",
      "G     2553\n",
      "C     2375\n",
      "B     2163\n",
      "H      712\n",
      "I      363\n",
      "K      279\n",
      "P       12\n",
      "L        1\n",
      "Name: assigned_room_type, dtype: int64\n",
      "\n",
      " \n",
      " After Drop - \n",
      " \n",
      "\n",
      "A    85994\n",
      "D    19201\n",
      "E     6535\n",
      "F     2897\n",
      "G     2094\n",
      "B     1118\n",
      "C      932\n",
      "H      601\n",
      "Name: reserved_room_type, dtype: int64\n",
      "A    74052\n",
      "D    25322\n",
      "E     7806\n",
      "F     3750\n",
      "G     2553\n",
      "C     2374\n",
      "B     2162\n",
      "H      711\n",
      "I      363\n",
      "K      279\n",
      "Name: assigned_room_type, dtype: int64\n"
     ]
    }
   ],
   "source": [
    "print(hotel['reserved_room_type'].value_counts())\n",
    "print(hotel['assigned_room_type'].value_counts())\n",
    "hotel.drop(hotel['reserved_room_type'].isin(['P', 'L']).to_numpy().nonzero()[0], inplace = True)\n",
    "hotel.reset_index(drop = True, inplace = True)\n",
    "hotel.drop(hotel['assigned_room_type'].isin(['P', 'L']).to_numpy().nonzero()[0], inplace = True)\n",
    "hotel.reset_index(drop = True, inplace = True)\n",
    "print('\\n \\n After Drop - \\n \\n')\n",
    "print(hotel['reserved_room_type'].value_counts())\n",
    "print(hotel['assigned_room_type'].value_counts())"
   ]
  },
  {
   "cell_type": "code",
   "execution_count": 11,
   "metadata": {},
   "outputs": [
    {
     "name": "stdout",
     "output_type": "stream",
     "text": [
      "Online TA        56475\n",
      "Offline TA/TO    24217\n",
      "Groups           19811\n",
      "Direct           12600\n",
      "Corporate         5294\n",
      "Complementary      736\n",
      "Aviation           237\n",
      "Undefined            2\n",
      "Name: market_segment, dtype: int64\n",
      "\n",
      " \n",
      " After Drop - \n",
      " \n",
      "\n",
      "Online TA        56475\n",
      "Offline TA/TO    24217\n",
      "Groups           19811\n",
      "Direct           12600\n",
      "Corporate         5294\n",
      "Complementary      736\n",
      "Aviation           237\n",
      "Name: market_segment, dtype: int64\n",
      "\n",
      " \n",
      "\n",
      "TA/TO        97866\n",
      "Direct       14638\n",
      "Corporate     6670\n",
      "GDS            193\n",
      "Undefined        3\n",
      "Name: distribution_channel, dtype: int64\n",
      "\n",
      " \n",
      " After Drop - \n",
      " \n",
      "\n",
      "TA/TO        97866\n",
      "Direct       14638\n",
      "Corporate     6670\n",
      "GDS            193\n",
      "Name: distribution_channel, dtype: int64\n"
     ]
    }
   ],
   "source": [
    "print(hotel['market_segment'].value_counts())\n",
    "hotel.drop(hotel['market_segment'].isin(['Undefined']).to_numpy().nonzero()[0], inplace = True)\n",
    "hotel.reset_index(drop = True, inplace = True)\n",
    "print('\\n \\n After Drop - \\n \\n')\n",
    "print(hotel['market_segment'].value_counts())\n",
    "\n",
    "print('\\n \\n')\n",
    "\n",
    "print(hotel['distribution_channel'].value_counts())\n",
    "hotel.drop(hotel['distribution_channel'].isin(['Undefined']).to_numpy().nonzero()[0], inplace = True)\n",
    "hotel.reset_index(drop = True, inplace = True)\n",
    "print('\\n \\n After Drop - \\n \\n')\n",
    "print(hotel['distribution_channel'].value_counts())"
   ]
  },
  {
   "cell_type": "markdown",
   "metadata": {},
   "source": [
    "#### The general data cleaning phase is now complete, for the data ready to be used by models, we usually have two more steps to do:\n",
    "1. One-hot encode non-ordinal categorical features\n",
    "2. Standardize numerical features and features have large scale\n",
    "\n",
    "#### As for the reason why we need to perform the transformations above:\n",
    "1. One-hot encoding: We need one-hot encoding because we do not want our model to assume innate natural orders for non-ordinal categorical variables. Without one-hot encoding it could lead to poorer model performance as the model might \"think\" the order matters.\n",
    "2. Standardization: Standardization could help with multiple things, for example, it could help gradient descent to converge faster. In addition, a lot of models that use distance between data points for training have to use standardized dataset because we do not want features with larger scale dominate the model training. There are other reasons as to why to standardize but the general rule of thumb is: when unsure, always standardize."
   ]
  },
  {
   "cell_type": "code",
   "execution_count": 12,
   "metadata": {},
   "outputs": [],
   "source": [
    "#Get all columns of the dataset\n",
    "all_columns = hotel.columns.tolist()\n",
    "\n",
    "#Define columns need one-hot encoding and columns need standardization\n",
    "enc_cols = ['meal', 'market_segment', 'distribution_channel', 'reserved_room_type', 'assigned_room_type', 'deposit_type', \n",
    "            'customer_type', 'reservation_status']\n",
    "std_cols = ['lead_time', 'stays_in_weekend_nights', 'stays_in_week_nights', 'adults', 'children', 'babies', \n",
    "            'previous_cancellations', 'previous_bookings_not_canceled', 'booking_changes', 'days_in_waiting_list',\n",
    "           'adr', 'required_car_parking_spaces', 'total_of_special_requests']\n",
    "#Remaining columns that do not need transformation\n",
    "rem_cols = ['is_canceled', 'is_repeated_guest']"
   ]
  },
  {
   "cell_type": "code",
   "execution_count": 13,
   "metadata": {},
   "outputs": [],
   "source": [
    "#Next we get the indices of the columns need one-hot encoding and columns need standardization\n",
    "enc_idx = np.isin(all_columns, enc_cols).nonzero()[0]\n",
    "std_idx = np.isin(all_columns, std_cols).nonzero()[0]\n",
    "#Remaining idx\n",
    "rem_idx = np.isin(all_columns, rem_cols).nonzero()[0]\n",
    "#Define index of the response variable\n",
    "res_idx = [0] #hotel"
   ]
  },
  {
   "cell_type": "code",
   "execution_count": 14,
   "metadata": {},
   "outputs": [],
   "source": [
    "from sklearn.preprocessing import OneHotEncoder, LabelEncoder, StandardScaler"
   ]
  },
  {
   "cell_type": "code",
   "execution_count": 15,
   "metadata": {},
   "outputs": [
    {
     "name": "stdout",
     "output_type": "stream",
     "text": [
      "One-Hot Encoder: \n",
      " [[0. 0. 0. 0.]\n",
      " [0. 0. 0. 0.]\n",
      " [0. 0. 0. 0.]\n",
      " ...\n",
      " [0. 0. 0. 0.]\n",
      " [0. 0. 0. 0.]\n",
      " [0. 1. 0. 0.]]\n",
      "Label Encoder: \n",
      " [1 1 1 ... 0 0 0]\n",
      "Standard Scaler: \n",
      " [[ 2.22685052]\n",
      " [ 5.92314745]\n",
      " [-0.90798359]\n",
      " ...\n",
      " [-0.65532532]\n",
      " [ 0.04650321]\n",
      " [ 0.94484373]]\n"
     ]
    }
   ],
   "source": [
    "#Here is a demonstration of how each encoder works\n",
    "ohe = OneHotEncoder(drop = 'first', sparse = False)\n",
    "print('One-Hot Encoder: \\n', ohe.fit_transform(hotel.loc[:, ['meal']]))\n",
    "\n",
    "le = LabelEncoder()\n",
    "print('Label Encoder: \\n', le.fit_transform(hotel['hotel']))\n",
    "\n",
    "ss = StandardScaler()\n",
    "print('Standard Scaler: \\n', ss.fit_transform(hotel.loc[:, ['lead_time']]))"
   ]
  },
  {
   "cell_type": "markdown",
   "metadata": {},
   "source": [
    "#### But what we actually would like to do here is to create a pipeline of those transformers as well as the estimator for ease of use later, here is a snapshot of the pipleline we are going to build (here we only focus on the section in red):"
   ]
  },
  {
   "cell_type": "markdown",
   "metadata": {},
   "source": [
    "<img src=\"Img/Portfolio 1 Pipeline Flow.png\">"
   ]
  },
  {
   "cell_type": "code",
   "execution_count": 16,
   "metadata": {},
   "outputs": [],
   "source": [
    "#Import necessary packages\n",
    "from sklearn.base import TransformerMixin, BaseEstimator\n",
    "from sklearn.pipeline import make_pipeline, FeatureUnion"
   ]
  },
  {
   "cell_type": "code",
   "execution_count": 17,
   "metadata": {},
   "outputs": [],
   "source": [
    "#FeatureSelector Class\n",
    "class FeatureSelector(TransformerMixin, BaseEstimator):\n",
    "    '''\n",
    "    Select subset of features based on feature_idx\n",
    "    '''\n",
    "    def __init__(self, feature_idx):\n",
    "        self.feature_idx = feature_idx\n",
    "        \n",
    "    def fit(self, X, y = None):\n",
    "        return self\n",
    "    \n",
    "    def transform( self, X, y = None ):\n",
    "        return X[:, self.feature_idx].reshape(-1, len(self.feature_idx)) #make sure to return 2d array"
   ]
  },
  {
   "cell_type": "code",
   "execution_count": 18,
   "metadata": {},
   "outputs": [],
   "source": [
    "#Make CustomLabelEncoder so that fit_transform accepts 3 arguments instead of 2 for pipeline use\n",
    "class CustomLabelEncoder(TransformerMixin, BaseEstimator):\n",
    "    def __init__(self, *args, **kwargs):\n",
    "        self.le = LabelEncoder(*args, **kwargs)\n",
    "        \n",
    "    def fit(self, X, y = None):\n",
    "        self.le.fit(X.ravel()) #use .ravel() to return 1d array for LabelEncoder\n",
    "        return self\n",
    "    \n",
    "    def transform(self, X, y = None):\n",
    "        return self.le.transform(X.ravel())"
   ]
  },
  {
   "cell_type": "code",
   "execution_count": 19,
   "metadata": {},
   "outputs": [],
   "source": [
    "enc_pipe = make_pipeline(FeatureSelector(enc_idx), OneHotEncoder(drop = 'first', sparse = False))\n",
    "std_pipe = make_pipeline(FeatureSelector(std_idx), StandardScaler())\n",
    "rem_pipe = FeatureSelector(rem_idx)\n",
    "\n",
    "res_pipe = make_pipeline(FeatureSelector(res_idx), CustomLabelEncoder())\n",
    "\n",
    "#Concatenate the pipelines using FeatureUnion\n",
    "trans_pipe = FeatureUnion([('enc_pipe', enc_pipe), ('std_pipe', std_pipe), ('rem_pipe', rem_pipe)], n_jobs = -1)"
   ]
  },
  {
   "cell_type": "markdown",
   "metadata": {},
   "source": [
    "#### One last thing, we would use numpy array instead of pandas dataframe from this time on, so we need to change hotel data to numpy array format"
   ]
  },
  {
   "cell_type": "code",
   "execution_count": 20,
   "metadata": {},
   "outputs": [],
   "source": [
    "hotel_df = hotel.copy() #take a backup\n",
    "hotel = np.asarray(hotel)"
   ]
  },
  {
   "cell_type": "markdown",
   "metadata": {},
   "source": [
    "#### Now let's test if our pipelines (trans_pipe and res_pipe) are working properly"
   ]
  },
  {
   "cell_type": "code",
   "execution_count": 21,
   "metadata": {},
   "outputs": [],
   "source": [
    "X = trans_pipe.fit_transform(hotel)\n",
    "y = res_pipe.fit_transform(hotel)"
   ]
  },
  {
   "cell_type": "code",
   "execution_count": 22,
   "metadata": {},
   "outputs": [
    {
     "name": "stdout",
     "output_type": "stream",
     "text": [
      "The shape of the original dataset is (119367, 24); the shape of transformed X is (119367, 51); the shape of transformed y is (119367,)\n"
     ]
    }
   ],
   "source": [
    "print(f'The shape of the original dataset is {hotel.shape}; the shape of transformed X is {X.shape}; \\\n",
    "the shape of transformed y is {y.shape}')"
   ]
  },
  {
   "cell_type": "markdown",
   "metadata": {},
   "source": [
    "#### Now all the data pre-processing is complete, we would like to train a simple model and make predictions on the types of hotel for individual bookings. After that, we would evaluate model performance and take actions to improve it."
   ]
  },
  {
   "cell_type": "markdown",
   "metadata": {},
   "source": [
    "#### First, we would like to split our dataset for training and testing, the spliting strategy is:\n",
    "1. First split the entire dataset into train_all and test set\n",
    "2. Further split train_all set into train and cv (cross-validation) set using Stratified K-Fold Cross-Validation\n",
    "\n",
    "As a result, we would end up with train(k-fold), cv(k-fold) and test (holdout for final testing) sets.\n",
    "\n",
    "The reason we would like to use cross-validation set for model evaluation is that we would like to see how well the model's generalized performance is while preventing the test set information from \"leaking\" into the model selection process. In addition, Stratified K-Fold CV makes the generalized performance evaluation more robust and give us more confidence on the model's true performance for unknown data."
   ]
  },
  {
   "cell_type": "code",
   "execution_count": 23,
   "metadata": {},
   "outputs": [],
   "source": [
    "from sklearn.model_selection import train_test_split, StratifiedKFold"
   ]
  },
  {
   "cell_type": "code",
   "execution_count": 24,
   "metadata": {},
   "outputs": [],
   "source": [
    "#Here we would revert X back into its original state because for demonstration purpose,\n",
    "#we would build the entire pipeline later containing both the transformers as well as the model so that we can fit on original X directly\n",
    "X = np.asarray(hotel_df)"
   ]
  },
  {
   "cell_type": "code",
   "execution_count": 25,
   "metadata": {},
   "outputs": [],
   "source": [
    "#Split the entire set into train_all and test set\n",
    "X_train_all, X_test, y_train_all, y_test = train_test_split(X, y, test_size = 0.1, random_state = 1, stratify = y) \n",
    "#We chose test_size 10% because we have 100k+ instances to work with so 10% of those instances are large enough for testing"
   ]
  },
  {
   "cell_type": "code",
   "execution_count": 26,
   "metadata": {},
   "outputs": [],
   "source": [
    "#Split the train_all set into train and cv sets (actually indices) using Stratified K-Fold CV\n",
    "skf = StratifiedKFold(n_splits = 10, random_state = 1)\n",
    "train_cv_idx = skf.split(X_train_all, y_train_all)"
   ]
  },
  {
   "cell_type": "markdown",
   "metadata": {},
   "source": [
    "#### Second, we select our model - we would start with a simple model first before we add complexity to model selection after we evaluate our results. Here, we would use Logistic Regression"
   ]
  },
  {
   "cell_type": "code",
   "execution_count": 27,
   "metadata": {},
   "outputs": [],
   "source": [
    "from sklearn.linear_model import LogisticRegression"
   ]
  },
  {
   "cell_type": "code",
   "execution_count": 28,
   "metadata": {},
   "outputs": [],
   "source": [
    "lr = LogisticRegression(random_state = 1, solver = 'lbfgs') #We would leave other hyper-parameters as default since we would tune them later"
   ]
  },
  {
   "cell_type": "markdown",
   "metadata": {},
   "source": [
    "#### Third, before we start training our model, we need to decide on our evaluation metrics here. The reason is that since we are using k-folds, essentially we would train the model k times and we would like to store the evaluation metric for each epoch/iteration through the process.\n",
    "\n",
    "#### The most common evaluation metric is the accuracy score, however, accuracy score is reasonable only if we have balanced classes (for the response variable) - so here we would quickly check the class distribution."
   ]
  },
  {
   "cell_type": "code",
   "execution_count": 29,
   "metadata": {},
   "outputs": [],
   "source": [
    "class_distribution = hotel_df['hotel'].value_counts()"
   ]
  },
  {
   "cell_type": "code",
   "execution_count": 30,
   "metadata": {},
   "outputs": [
    {
     "data": {
      "image/png": "[encoded data removed]",
      "text/plain": [
       "<Figure size 432x288 with 1 Axes>"
      ]
     },
     "metadata": {
      "needs_background": "light"
     },
     "output_type": "display_data"
    }
   ],
   "source": [
    "plt.bar(class_distribution.index, class_distribution.values)\n",
    "plt.xlabel('Hotel Type')\n",
    "plt.ylabel('Class Count')\n",
    "plt.show()"
   ]
  },
  {
   "cell_type": "markdown",
   "metadata": {},
   "source": [
    "#### From the graph above, obviously City Hotel has a lot more instances than the number of instances for the Resort Hotel in the dataset. As a result, we would like to select a metric other than accuracy score since the classes are unbalanced. One such common metric is the F1 score which is calculated based on precision and recall values. We would use F1 score here for our evaluation metric."
   ]
  },
  {
   "cell_type": "markdown",
   "metadata": {},
   "source": [
    "#### Now we would like to train our model"
   ]
  },
  {
   "cell_type": "code",
   "execution_count": 31,
   "metadata": {},
   "outputs": [],
   "source": [
    "#Import F1 score metric\n",
    "from sklearn.metrics import f1_score, accuracy_score"
   ]
  },
  {
   "cell_type": "code",
   "execution_count": 32,
   "metadata": {
    "scrolled": false
   },
   "outputs": [
    {
     "name": "stderr",
     "output_type": "stream",
     "text": [
      "C:\\Users\\Tony\\Anaconda3\\lib\\site-packages\\sklearn\\linear_model\\logistic.py:947: ConvergenceWarning: lbfgs failed to converge. Increase the number of iterations.\n",
      "  \"of iterations.\", ConvergenceWarning)\n",
      "C:\\Users\\Tony\\Anaconda3\\lib\\site-packages\\sklearn\\linear_model\\logistic.py:947: ConvergenceWarning: lbfgs failed to converge. Increase the number of iterations.\n",
      "  \"of iterations.\", ConvergenceWarning)\n",
      "C:\\Users\\Tony\\Anaconda3\\lib\\site-packages\\sklearn\\linear_model\\logistic.py:947: ConvergenceWarning: lbfgs failed to converge. Increase the number of iterations.\n",
      "  \"of iterations.\", ConvergenceWarning)\n",
      "C:\\Users\\Tony\\Anaconda3\\lib\\site-packages\\sklearn\\linear_model\\logistic.py:947: ConvergenceWarning: lbfgs failed to converge. Increase the number of iterations.\n",
      "  \"of iterations.\", ConvergenceWarning)\n",
      "C:\\Users\\Tony\\Anaconda3\\lib\\site-packages\\sklearn\\linear_model\\logistic.py:947: ConvergenceWarning: lbfgs failed to converge. Increase the number of iterations.\n",
      "  \"of iterations.\", ConvergenceWarning)\n",
      "C:\\Users\\Tony\\Anaconda3\\lib\\site-packages\\sklearn\\linear_model\\logistic.py:947: ConvergenceWarning: lbfgs failed to converge. Increase the number of iterations.\n",
      "  \"of iterations.\", ConvergenceWarning)\n",
      "C:\\Users\\Tony\\Anaconda3\\lib\\site-packages\\sklearn\\linear_model\\logistic.py:947: ConvergenceWarning: lbfgs failed to converge. Increase the number of iterations.\n",
      "  \"of iterations.\", ConvergenceWarning)\n",
      "C:\\Users\\Tony\\Anaconda3\\lib\\site-packages\\sklearn\\linear_model\\logistic.py:947: ConvergenceWarning: lbfgs failed to converge. Increase the number of iterations.\n",
      "  \"of iterations.\", ConvergenceWarning)\n",
      "C:\\Users\\Tony\\Anaconda3\\lib\\site-packages\\sklearn\\linear_model\\logistic.py:947: ConvergenceWarning: lbfgs failed to converge. Increase the number of iterations.\n",
      "  \"of iterations.\", ConvergenceWarning)\n",
      "C:\\Users\\Tony\\Anaconda3\\lib\\site-packages\\sklearn\\linear_model\\logistic.py:947: ConvergenceWarning: lbfgs failed to converge. Increase the number of iterations.\n",
      "  \"of iterations.\", ConvergenceWarning)\n"
     ]
    }
   ],
   "source": [
    "#First, we complete our entire pipeline\n",
    "pipe_lr = make_pipeline(trans_pipe, lr)\n",
    "\n",
    "#Then for each epoch from 1 to k, we train the model and store the evaluation score - F1 score\n",
    "scores = []\n",
    "scores_2 = []\n",
    "#Just curious about the accuracy score\n",
    "scores_acc = []\n",
    "\n",
    "for train_idx, cv_idx in train_cv_idx:\n",
    "    X_train = X_train_all[train_idx]\n",
    "    X_cv = X_train_all[cv_idx]\n",
    "    y_train = y_train_all[train_idx]\n",
    "    y_cv = y_train_all[cv_idx]\n",
    "    \n",
    "    pipe_lr.fit(X_train, y_train)\n",
    "    y_pred = pipe_lr.predict(X_cv)\n",
    "    #Here we store two versions of F1 score with positive label = 1 and 0 respectively\n",
    "    score = f1_score(y_cv, y_pred)\n",
    "    score_2 = f1_score(y_cv, y_pred, pos_label = 0)\n",
    "    \n",
    "    scores.append(score)\n",
    "    scores_2.append(score_2)\n",
    "    \n",
    "    score_acc = accuracy_score(y_cv, y_pred) \n",
    "    scores_acc.append(score_acc)"
   ]
  },
  {
   "cell_type": "markdown",
   "metadata": {},
   "source": [
    "#### The logistic regression model might fail to converge after default 100 iterations. Anyway, now let's look at the result: we have two sets of F1 score based on which hotel we denote as \"positive\" label, to get a single result, we would just take the average of the combined sets of F1 scores as we are not particularly interested in predicting one type of hotel over another."
   ]
  },
  {
   "cell_type": "code",
   "execution_count": 33,
   "metadata": {},
   "outputs": [],
   "source": [
    "#we would just use scores to store both sets of F1 Score\n",
    "scores += scores_2 #Note the + append list elements instead of adding them up"
   ]
  },
  {
   "cell_type": "code",
   "execution_count": 34,
   "metadata": {},
   "outputs": [
    {
     "name": "stdout",
     "output_type": "stream",
     "text": [
      "The average F1 Score is 0.805.\n"
     ]
    }
   ],
   "source": [
    "print(f'The average F1 Score is {round(np.mean(scores), 3)}.')"
   ]
  },
  {
   "cell_type": "markdown",
   "metadata": {},
   "source": [
    "#### We know the average F1 score we get is a relatively high score since the F1 score is between 0 and 1 but it is hard to interpret it. So we would just check our accuracy score quickly just for better interpretation."
   ]
  },
  {
   "cell_type": "code",
   "execution_count": 35,
   "metadata": {},
   "outputs": [
    {
     "name": "stdout",
     "output_type": "stream",
     "text": [
      "The average accuracy score is 0.835.\n"
     ]
    }
   ],
   "source": [
    "print(f'The average accuracy score is {round(np.mean(scores_acc), 3)}.') #How many instances we predicted correctly out of all instances"
   ]
  },
  {
   "cell_type": "markdown",
   "metadata": {},
   "source": [
    "#### Again, accuracy score is not our evaluation metric, so it is hard for us to comment directly whether the accuracy score means good or bad performance of the model. However, we can use it to compare with a \"baseline\" accuracy score, which is generated by always predicting the majority class label."
   ]
  },
  {
   "cell_type": "code",
   "execution_count": 36,
   "metadata": {},
   "outputs": [
    {
     "name": "stdout",
     "output_type": "stream",
     "text": [
      "City Hotel      79316\n",
      "Resort Hotel    40051\n",
      "Name: hotel, dtype: int64\n",
      "\n",
      "\n",
      "The City Hotel percentage of the entire dataset is: 0.664.\n",
      "\n",
      "\n",
      "The baseline accuracy score is 0.664.\n"
     ]
    }
   ],
   "source": [
    "#First, let's take a look at the class distribution for types of hotel for the entire dataset\n",
    "vc = hotel_df['hotel'].value_counts()\n",
    "print(vc)\n",
    "print('\\n')\n",
    "\n",
    "#Here, we have more instances for City Hotel than Resort Hotel\n",
    "print(f\"The City Hotel percentage of the entire dataset is: {round(vc['City Hotel']/vc.sum(), 3)}.\")\n",
    "print('\\n')\n",
    "\n",
    "#Because we stratified by class proportion when we performed the train-test split, so the City Hotel percentage of the train_all set should stay the same\n",
    "vc = np.unique(y_train_all, return_counts = True)[1]\n",
    "pc = vc.max()/vc.sum()\n",
    "print(f'The baseline accuracy score is {round(pc, 3)}.')"
   ]
  },
  {
   "cell_type": "markdown",
   "metadata": {},
   "source": [
    "#### As a result, we know that the resulting accuracy score from our logistic regression model is at least better than the baseline we defined"
   ]
  },
  {
   "cell_type": "markdown",
   "metadata": {},
   "source": [
    "#### One shortcut for scoring metrics is that instead of manually calculating score using StratifiedKFold, we could use cross_val_score from sklearn, which performs the stratified k-fold for you."
   ]
  },
  {
   "cell_type": "code",
   "execution_count": 37,
   "metadata": {},
   "outputs": [],
   "source": [
    "from sklearn.model_selection import cross_val_score\n",
    "from sklearn.metrics import make_scorer\n",
    "scorer = make_scorer(f1_score)\n",
    "cvs = cross_val_score(estimator = pipe_lr, X = X_train_all, y = y_train_all, scoring = scorer, cv = 10, n_jobs = -1)"
   ]
  },
  {
   "cell_type": "code",
   "execution_count": 38,
   "metadata": {},
   "outputs": [
    {
     "name": "stdout",
     "output_type": "stream",
     "text": [
      "[0.7271603  0.73142332 0.7208589  0.71682797 0.72346326 0.72072907\n",
      " 0.73378213 0.72595337 0.73653432 0.73948294]\n"
     ]
    }
   ],
   "source": [
    "print(cvs) #Note the F1 score we get here is only for positive label = 1"
   ]
  },
  {
   "cell_type": "markdown",
   "metadata": {},
   "source": [
    "#### Another way for evaluation is plotting the ROC (Receiver Operating Characteristic) curve and measuring the AUC (Area Under Curve), both are shown below for positive label = 1."
   ]
  },
  {
   "cell_type": "code",
   "execution_count": 39,
   "metadata": {},
   "outputs": [
    {
     "name": "stderr",
     "output_type": "stream",
     "text": [
      "C:\\Users\\Tony\\Anaconda3\\lib\\site-packages\\sklearn\\linear_model\\logistic.py:947: ConvergenceWarning: lbfgs failed to converge. Increase the number of iterations.\n",
      "  \"of iterations.\", ConvergenceWarning)\n",
      "C:\\Users\\Tony\\Anaconda3\\lib\\site-packages\\sklearn\\linear_model\\logistic.py:947: ConvergenceWarning: lbfgs failed to converge. Increase the number of iterations.\n",
      "  \"of iterations.\", ConvergenceWarning)\n",
      "C:\\Users\\Tony\\Anaconda3\\lib\\site-packages\\sklearn\\linear_model\\logistic.py:947: ConvergenceWarning: lbfgs failed to converge. Increase the number of iterations.\n",
      "  \"of iterations.\", ConvergenceWarning)\n",
      "C:\\Users\\Tony\\Anaconda3\\lib\\site-packages\\sklearn\\linear_model\\logistic.py:947: ConvergenceWarning: lbfgs failed to converge. Increase the number of iterations.\n",
      "  \"of iterations.\", ConvergenceWarning)\n",
      "C:\\Users\\Tony\\Anaconda3\\lib\\site-packages\\sklearn\\linear_model\\logistic.py:947: ConvergenceWarning: lbfgs failed to converge. Increase the number of iterations.\n",
      "  \"of iterations.\", ConvergenceWarning)\n",
      "C:\\Users\\Tony\\Anaconda3\\lib\\site-packages\\sklearn\\linear_model\\logistic.py:947: ConvergenceWarning: lbfgs failed to converge. Increase the number of iterations.\n",
      "  \"of iterations.\", ConvergenceWarning)\n",
      "C:\\Users\\Tony\\Anaconda3\\lib\\site-packages\\sklearn\\linear_model\\logistic.py:947: ConvergenceWarning: lbfgs failed to converge. Increase the number of iterations.\n",
      "  \"of iterations.\", ConvergenceWarning)\n",
      "C:\\Users\\Tony\\Anaconda3\\lib\\site-packages\\sklearn\\linear_model\\logistic.py:947: ConvergenceWarning: lbfgs failed to converge. Increase the number of iterations.\n",
      "  \"of iterations.\", ConvergenceWarning)\n",
      "C:\\Users\\Tony\\Anaconda3\\lib\\site-packages\\sklearn\\linear_model\\logistic.py:947: ConvergenceWarning: lbfgs failed to converge. Increase the number of iterations.\n",
      "  \"of iterations.\", ConvergenceWarning)\n",
      "C:\\Users\\Tony\\Anaconda3\\lib\\site-packages\\sklearn\\linear_model\\logistic.py:947: ConvergenceWarning: lbfgs failed to converge. Increase the number of iterations.\n",
      "  \"of iterations.\", ConvergenceWarning)\n"
     ]
    }
   ],
   "source": [
    "#We are still using StratifiedKFold cross-validation\n",
    "y_cvs = []\n",
    "y_probas = []\n",
    "y_preds = []\n",
    "\n",
    "train_cv_idx = skf.split(X_train_all, y_train_all)\n",
    "\n",
    "for train_idx, cv_idx in train_cv_idx:\n",
    "    X_train = X_train_all[train_idx]\n",
    "    X_cv = X_train_all[cv_idx]\n",
    "    y_train = y_train_all[train_idx]\n",
    "    y_cv = y_train_all[cv_idx]\n",
    "    \n",
    "    pipe_lr.fit(X_train, y_train)\n",
    "    y_proba = pipe_lr.predict_proba(X_cv) #Note that we are predicting probabilities here\n",
    "    class_1_idx = pipe_lr.classes_.nonzero()[0][0]\n",
    "    y_proba = y_proba[:, class_1_idx] #One sided probability: get the probability for class 1\n",
    "    \n",
    "    y_pred = pipe_lr.predict(X_cv)\n",
    "    \n",
    "    #Store y_cv and y_proba in y_cvs and y_probas\n",
    "    y_cvs.append(y_cv)\n",
    "    y_probas.append(y_proba)\n",
    "    y_preds.append(y_pred)"
   ]
  },
  {
   "cell_type": "code",
   "execution_count": 40,
   "metadata": {},
   "outputs": [],
   "source": [
    "#Calculate metrics to draw the ROC curve\n",
    "from sklearn.metrics import roc_curve, auc\n",
    "\n",
    "fpr_ip = np.linspace(0, 1, 51)\n",
    "tprs = []\n",
    "\n",
    "for y_cv, y_proba in zip(y_cvs, y_probas):\n",
    "    fpr, tpr, _ = roc_curve(y_cv, y_proba)\n",
    "    tpr_ip = np.interp(fpr_ip, fpr, tpr) #linear interpolation\n",
    "    tprs.append(tpr_ip)\n",
    "    \n",
    "#reset variables so that we do not end up with so many different variables\n",
    "fpr = fpr_ip\n",
    "tpr = np.mean(tprs, axis = 0) #Average over k-fold\n",
    "#calculate AUC score\n",
    "auc_score = auc(fpr, tpr)"
   ]
  },
  {
   "cell_type": "code",
   "execution_count": 41,
   "metadata": {},
   "outputs": [
    {
     "data": {
      "image/png": "[encoded data removed]",
      "text/plain": [
       "<Figure size 576x432 with 1 Axes>"
      ]
     },
     "metadata": {
      "needs_background": "light"
     },
     "output_type": "display_data"
    }
   ],
   "source": [
    "import matplotlib.pyplot as plt\n",
    "fig, ax = plt.subplots(figsize = (8, 6))\n",
    "ax.plot(fpr, tpr, c = 'r', lw = 2, label = f'mean ROC (AUC = {round(auc_score, 3)})')\n",
    "ax.plot([0, 1], [0, 1], '--', c = 'black', label = 'Random Guessing')\n",
    "ax.plot([0, 0, 1], [0, 1, 1], '-.', c = 'g', label = 'Perfect Performance')\n",
    "ax.set_xlabel('fpr')\n",
    "ax.set_ylabel('tpr')\n",
    "ax.set_title('ROC Curve')\n",
    "ax.legend()\n",
    "plt.show()"
   ]
  },
  {
   "cell_type": "markdown",
   "metadata": {},
   "source": [
    "The AUC score we got is good enough comparing with random guessing benchmark of AUC = 0.5, note again the evaluation above is based on positive label = 1"
   ]
  },
  {
   "cell_type": "markdown",
   "metadata": {},
   "source": [
    "#### Before we move on, let's recap what we have done - we started from some simple data cleaning, then moving on to gradually building a pipeline including both the transformers and the model. After that, we run the pipeline for predictions and picked appropriate evaluation methods for evaluations. So far so good, but we still have not tried our best on the performance side...\n",
    "\n",
    "#### So next, we would like to work on improving the predictive performance to get more accurate predictions. There are many ways that might help to improve performance depending on the situations. One thing always good to start with is to find out whether the model suffers high bias/variance or not, and one useful tool to accomplish that is the learning curve. Once we find out about the bias/variance of the current model, we would have a clearer idea on what methods to use to improve performance.\n",
    "\n",
    "For better demonstration, from this point on we would only use the F1 score with positive label = 1 for evaluation instead of averaging the F1 scores with postivie labels = 1 and 0"
   ]
  },
  {
   "cell_type": "code",
   "execution_count": 59,
   "metadata": {},
   "outputs": [],
   "source": [
    "from sklearn.model_selection import learning_curve #learning_curve is able to implement StratifiedKFold internally \n",
    "\n",
    "train_sizes_abs, train_scores, cv_scores = \\\n",
    "    learning_curve(estimator = pipe_lr, X = X_train_all, y = y_train_all, train_sizes = np.linspace(0.1, 1, 10),\n",
    "                   cv = 10, scoring = scorer, n_jobs = -1, random_state = 1)"
   ]
  },
  {
   "cell_type": "code",
   "execution_count": 70,
   "metadata": {},
   "outputs": [
    {
     "data": {
      "image/png": "[encoded data removed]",
      "text/plain": [
       "<Figure size 576x432 with 1 Axes>"
      ]
     },
     "metadata": {
      "needs_background": "light"
     },
     "output_type": "display_data"
    }
   ],
   "source": [
    "#Plot the Learning Curve\n",
    "mean_train_scores = np.mean(train_scores, axis = 1)\n",
    "std_train_scores = np.std(train_scores, axis = 1)\n",
    "mean_cv_scores = np.mean(cv_scores, axis = 1)\n",
    "std_cv_scores = np.std(cv_scores, axis = 1)\n",
    "\n",
    "fig, ax = plt.subplots(figsize = (8, 6))\n",
    "ax.plot(train_sizes_abs, mean_train_scores, 'o-', c = 'g', lw = 2, label = 'Train')\n",
    "ax.plot(train_sizes_abs, mean_cv_scores, 'o-', c = 'r', lw = 2, label = 'CV')\n",
    "ax.fill_between(train_sizes_abs, mean_train_scores + std_train_scores, mean_train_scores - std_train_scores, color = 'g', alpha = 0.1)\n",
    "ax.fill_between(train_sizes_abs, mean_cv_scores + std_cv_scores, mean_cv_scores - std_cv_scores, color = 'r', alpha = 0.1)\n",
    "ax.set_ylim(0.6, 0.8) #Note here that the ylim is between 0.6 and 0.8\n",
    "ax.set_title('Learning Curve')\n",
    "ax.set_xlabel('# of Training Examples')\n",
    "ax.set_ylabel('F1 Score')\n",
    "ax.legend(loc = 'lower right')\n",
    "plt.show()"
   ]
  },
  {
   "cell_type": "code",
   "execution_count": null,
   "metadata": {},
   "outputs": [],
   "source": [
    "#Training Scale\n",
    "#Convergence issue\n",
    "#Y limit"
   ]
  }
 ],
 "metadata": {
  "kernelspec": {
   "display_name": "Python 3",
   "language": "python",
   "name": "python3"
  },
  "language_info": {
   "codemirror_mode": {
    "name": "ipython",
    "version": 3
   },
   "file_extension": ".py",
   "mimetype": "text/x-python",
   "name": "python",
   "nbconvert_exporter": "python",
   "pygments_lexer": "ipython3",
   "version": "3.7.4"
  }
 },
 "nbformat": 4,
 "nbformat_minor": 2
}
